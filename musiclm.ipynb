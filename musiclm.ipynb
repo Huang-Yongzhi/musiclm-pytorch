{
  "nbformat": 4,
  "nbformat_minor": 0,
  "metadata": {
    "colab": {
      "provenance": [],
      "gpuType": "T4",
      "mount_file_id": "1Ku0u0w7pNVD7XDqdpa0CxjJk5o5-kSv5",
      "authorship_tag": "ABX9TyN4IqzDXR9yGtuhu27vnYQU",
      "include_colab_link": true
    },
    "kernelspec": {
      "name": "python3",
      "display_name": "Python 3"
    },
    "language_info": {
      "name": "python"
    },
    "accelerator": "GPU",
    "widgets": {
      "application/vnd.jupyter.widget-state+json": {
        "008e0646895c475f9d7722d63aa574dd": {
          "model_module": "@jupyter-widgets/controls",
          "model_name": "HBoxModel",
          "model_module_version": "1.5.0",
          "state": {
            "_dom_classes": [],
            "_model_module": "@jupyter-widgets/controls",
            "_model_module_version": "1.5.0",
            "_model_name": "HBoxModel",
            "_view_count": null,
            "_view_module": "@jupyter-widgets/controls",
            "_view_module_version": "1.5.0",
            "_view_name": "HBoxView",
            "box_style": "",
            "children": [
              "IPY_MODEL_1e9ceca20c8742a5a062088c3cf46c48",
              "IPY_MODEL_db962659460442bcaf97571df3027d03",
              "IPY_MODEL_4bf7c745bf4540169db8de8e833659d0"
            ],
            "layout": "IPY_MODEL_42ab567ac2eb4f10a90c85427f9e7b29"
          }
        },
        "1e9ceca20c8742a5a062088c3cf46c48": {
          "model_module": "@jupyter-widgets/controls",
          "model_name": "HTMLModel",
          "model_module_version": "1.5.0",
          "state": {
            "_dom_classes": [],
            "_model_module": "@jupyter-widgets/controls",
            "_model_module_version": "1.5.0",
            "_model_name": "HTMLModel",
            "_view_count": null,
            "_view_module": "@jupyter-widgets/controls",
            "_view_module_version": "1.5.0",
            "_view_name": "HTMLView",
            "description": "",
            "description_tooltip": null,
            "layout": "IPY_MODEL_499e06ef050e4c108fe8402f9741816c",
            "placeholder": "​",
            "style": "IPY_MODEL_6bf59b8e4d8a47e7ad326a9747f6a080",
            "value": "Downloading (…)lve/main/config.json: 100%"
          }
        },
        "db962659460442bcaf97571df3027d03": {
          "model_module": "@jupyter-widgets/controls",
          "model_name": "FloatProgressModel",
          "model_module_version": "1.5.0",
          "state": {
            "_dom_classes": [],
            "_model_module": "@jupyter-widgets/controls",
            "_model_module_version": "1.5.0",
            "_model_name": "FloatProgressModel",
            "_view_count": null,
            "_view_module": "@jupyter-widgets/controls",
            "_view_module_version": "1.5.0",
            "_view_name": "ProgressView",
            "bar_style": "success",
            "description": "",
            "description_tooltip": null,
            "layout": "IPY_MODEL_5779d55e8f4847579c50e33939c9797e",
            "max": 605,
            "min": 0,
            "orientation": "horizontal",
            "style": "IPY_MODEL_f1e55be6d13e42d7961aae0f875098c0",
            "value": 605
          }
        },
        "4bf7c745bf4540169db8de8e833659d0": {
          "model_module": "@jupyter-widgets/controls",
          "model_name": "HTMLModel",
          "model_module_version": "1.5.0",
          "state": {
            "_dom_classes": [],
            "_model_module": "@jupyter-widgets/controls",
            "_model_module_version": "1.5.0",
            "_model_name": "HTMLModel",
            "_view_count": null,
            "_view_module": "@jupyter-widgets/controls",
            "_view_module_version": "1.5.0",
            "_view_name": "HTMLView",
            "description": "",
            "description_tooltip": null,
            "layout": "IPY_MODEL_325e1166db12413e9d813cc2395c7b22",
            "placeholder": "​",
            "style": "IPY_MODEL_15023960d46a422ca99cd4ae1be0ecf0",
            "value": " 605/605 [00:00&lt;00:00, 45.7kB/s]"
          }
        },
        "42ab567ac2eb4f10a90c85427f9e7b29": {
          "model_module": "@jupyter-widgets/base",
          "model_name": "LayoutModel",
          "model_module_version": "1.2.0",
          "state": {
            "_model_module": "@jupyter-widgets/base",
            "_model_module_version": "1.2.0",
            "_model_name": "LayoutModel",
            "_view_count": null,
            "_view_module": "@jupyter-widgets/base",
            "_view_module_version": "1.2.0",
            "_view_name": "LayoutView",
            "align_content": null,
            "align_items": null,
            "align_self": null,
            "border": null,
            "bottom": null,
            "display": null,
            "flex": null,
            "flex_flow": null,
            "grid_area": null,
            "grid_auto_columns": null,
            "grid_auto_flow": null,
            "grid_auto_rows": null,
            "grid_column": null,
            "grid_gap": null,
            "grid_row": null,
            "grid_template_areas": null,
            "grid_template_columns": null,
            "grid_template_rows": null,
            "height": null,
            "justify_content": null,
            "justify_items": null,
            "left": null,
            "margin": null,
            "max_height": null,
            "max_width": null,
            "min_height": null,
            "min_width": null,
            "object_fit": null,
            "object_position": null,
            "order": null,
            "overflow": null,
            "overflow_x": null,
            "overflow_y": null,
            "padding": null,
            "right": null,
            "top": null,
            "visibility": null,
            "width": null
          }
        },
        "499e06ef050e4c108fe8402f9741816c": {
          "model_module": "@jupyter-widgets/base",
          "model_name": "LayoutModel",
          "model_module_version": "1.2.0",
          "state": {
            "_model_module": "@jupyter-widgets/base",
            "_model_module_version": "1.2.0",
            "_model_name": "LayoutModel",
            "_view_count": null,
            "_view_module": "@jupyter-widgets/base",
            "_view_module_version": "1.2.0",
            "_view_name": "LayoutView",
            "align_content": null,
            "align_items": null,
            "align_self": null,
            "border": null,
            "bottom": null,
            "display": null,
            "flex": null,
            "flex_flow": null,
            "grid_area": null,
            "grid_auto_columns": null,
            "grid_auto_flow": null,
            "grid_auto_rows": null,
            "grid_column": null,
            "grid_gap": null,
            "grid_row": null,
            "grid_template_areas": null,
            "grid_template_columns": null,
            "grid_template_rows": null,
            "height": null,
            "justify_content": null,
            "justify_items": null,
            "left": null,
            "margin": null,
            "max_height": null,
            "max_width": null,
            "min_height": null,
            "min_width": null,
            "object_fit": null,
            "object_position": null,
            "order": null,
            "overflow": null,
            "overflow_x": null,
            "overflow_y": null,
            "padding": null,
            "right": null,
            "top": null,
            "visibility": null,
            "width": null
          }
        },
        "6bf59b8e4d8a47e7ad326a9747f6a080": {
          "model_module": "@jupyter-widgets/controls",
          "model_name": "DescriptionStyleModel",
          "model_module_version": "1.5.0",
          "state": {
            "_model_module": "@jupyter-widgets/controls",
            "_model_module_version": "1.5.0",
            "_model_name": "DescriptionStyleModel",
            "_view_count": null,
            "_view_module": "@jupyter-widgets/base",
            "_view_module_version": "1.2.0",
            "_view_name": "StyleView",
            "description_width": ""
          }
        },
        "5779d55e8f4847579c50e33939c9797e": {
          "model_module": "@jupyter-widgets/base",
          "model_name": "LayoutModel",
          "model_module_version": "1.2.0",
          "state": {
            "_model_module": "@jupyter-widgets/base",
            "_model_module_version": "1.2.0",
            "_model_name": "LayoutModel",
            "_view_count": null,
            "_view_module": "@jupyter-widgets/base",
            "_view_module_version": "1.2.0",
            "_view_name": "LayoutView",
            "align_content": null,
            "align_items": null,
            "align_self": null,
            "border": null,
            "bottom": null,
            "display": null,
            "flex": null,
            "flex_flow": null,
            "grid_area": null,
            "grid_auto_columns": null,
            "grid_auto_flow": null,
            "grid_auto_rows": null,
            "grid_column": null,
            "grid_gap": null,
            "grid_row": null,
            "grid_template_areas": null,
            "grid_template_columns": null,
            "grid_template_rows": null,
            "height": null,
            "justify_content": null,
            "justify_items": null,
            "left": null,
            "margin": null,
            "max_height": null,
            "max_width": null,
            "min_height": null,
            "min_width": null,
            "object_fit": null,
            "object_position": null,
            "order": null,
            "overflow": null,
            "overflow_x": null,
            "overflow_y": null,
            "padding": null,
            "right": null,
            "top": null,
            "visibility": null,
            "width": null
          }
        },
        "f1e55be6d13e42d7961aae0f875098c0": {
          "model_module": "@jupyter-widgets/controls",
          "model_name": "ProgressStyleModel",
          "model_module_version": "1.5.0",
          "state": {
            "_model_module": "@jupyter-widgets/controls",
            "_model_module_version": "1.5.0",
            "_model_name": "ProgressStyleModel",
            "_view_count": null,
            "_view_module": "@jupyter-widgets/base",
            "_view_module_version": "1.2.0",
            "_view_name": "StyleView",
            "bar_color": null,
            "description_width": ""
          }
        },
        "325e1166db12413e9d813cc2395c7b22": {
          "model_module": "@jupyter-widgets/base",
          "model_name": "LayoutModel",
          "model_module_version": "1.2.0",
          "state": {
            "_model_module": "@jupyter-widgets/base",
            "_model_module_version": "1.2.0",
            "_model_name": "LayoutModel",
            "_view_count": null,
            "_view_module": "@jupyter-widgets/base",
            "_view_module_version": "1.2.0",
            "_view_name": "LayoutView",
            "align_content": null,
            "align_items": null,
            "align_self": null,
            "border": null,
            "bottom": null,
            "display": null,
            "flex": null,
            "flex_flow": null,
            "grid_area": null,
            "grid_auto_columns": null,
            "grid_auto_flow": null,
            "grid_auto_rows": null,
            "grid_column": null,
            "grid_gap": null,
            "grid_row": null,
            "grid_template_areas": null,
            "grid_template_columns": null,
            "grid_template_rows": null,
            "height": null,
            "justify_content": null,
            "justify_items": null,
            "left": null,
            "margin": null,
            "max_height": null,
            "max_width": null,
            "min_height": null,
            "min_width": null,
            "object_fit": null,
            "object_position": null,
            "order": null,
            "overflow": null,
            "overflow_x": null,
            "overflow_y": null,
            "padding": null,
            "right": null,
            "top": null,
            "visibility": null,
            "width": null
          }
        },
        "15023960d46a422ca99cd4ae1be0ecf0": {
          "model_module": "@jupyter-widgets/controls",
          "model_name": "DescriptionStyleModel",
          "model_module_version": "1.5.0",
          "state": {
            "_model_module": "@jupyter-widgets/controls",
            "_model_module_version": "1.5.0",
            "_model_name": "DescriptionStyleModel",
            "_view_count": null,
            "_view_module": "@jupyter-widgets/base",
            "_view_module_version": "1.2.0",
            "_view_name": "StyleView",
            "description_width": ""
          }
        }
      }
    }
  },
  "cells": [
    {
      "cell_type": "markdown",
      "metadata": {
        "id": "view-in-github",
        "colab_type": "text"
      },
      "source": [
        "<a href=\"https://colab.research.google.com/github/Huang-Yongzhi/musiclm-pytorch/blob/main/musiclm.ipynb\" target=\"_parent\"><img src=\"https://colab.research.google.com/assets/colab-badge.svg\" alt=\"Open In Colab\"/></a>"
      ]
    },
    {
      "cell_type": "code",
      "source": [
        "!pip install musiclm-pytorch"
      ],
      "metadata": {
        "colab": {
          "base_uri": "https://localhost:8080/"
        },
        "id": "KSVTEQPWu5qB",
        "outputId": "4b5779ae-504a-43e4-8b17-0728a51d83ea"
      },
      "execution_count": 22,
      "outputs": [
        {
          "output_type": "stream",
          "name": "stdout",
          "text": [
            "Collecting musiclm-pytorch\n",
            "  Downloading musiclm_pytorch-0.2.8-py3-none-any.whl (14 kB)\n",
            "Collecting accelerate (from musiclm-pytorch)\n",
            "  Downloading accelerate-0.24.1-py3-none-any.whl (261 kB)\n",
            "\u001b[2K     \u001b[90m━━━━━━━━━━━━━━━━━━━━━━━━━━━━━━━━━━━━━━━━\u001b[0m \u001b[32m261.4/261.4 kB\u001b[0m \u001b[31m5.6 MB/s\u001b[0m eta \u001b[36m0:00:00\u001b[0m\n",
            "\u001b[?25hCollecting audiolm-pytorch>=0.17.0 (from musiclm-pytorch)\n",
            "  Downloading audiolm_pytorch-1.7.6-py3-none-any.whl (42 kB)\n",
            "\u001b[2K     \u001b[90m━━━━━━━━━━━━━━━━━━━━━━━━━━━━━━━━━━━━━━━━\u001b[0m \u001b[32m42.7/42.7 kB\u001b[0m \u001b[31m6.1 MB/s\u001b[0m eta \u001b[36m0:00:00\u001b[0m\n",
            "\u001b[?25hCollecting beartype (from musiclm-pytorch)\n",
            "  Downloading beartype-0.16.4-py3-none-any.whl (819 kB)\n",
            "\u001b[2K     \u001b[90m━━━━━━━━━━━━━━━━━━━━━━━━━━━━━━━━━━━━━━━━\u001b[0m \u001b[32m819.1/819.1 kB\u001b[0m \u001b[31m34.9 MB/s\u001b[0m eta \u001b[36m0:00:00\u001b[0m\n",
            "\u001b[?25hCollecting einops>=0.6 (from musiclm-pytorch)\n",
            "  Downloading einops-0.7.0-py3-none-any.whl (44 kB)\n",
            "\u001b[2K     \u001b[90m━━━━━━━━━━━━━━━━━━━━━━━━━━━━━━━━━━━━━━━━\u001b[0m \u001b[32m44.6/44.6 kB\u001b[0m \u001b[31m5.7 MB/s\u001b[0m eta \u001b[36m0:00:00\u001b[0m\n",
            "\u001b[?25hCollecting lion-pytorch (from musiclm-pytorch)\n",
            "  Downloading lion_pytorch-0.1.2-py3-none-any.whl (4.4 kB)\n",
            "Collecting vector-quantize-pytorch>=1.0.0 (from musiclm-pytorch)\n",
            "  Downloading vector_quantize_pytorch-1.11.7-py3-none-any.whl (24 kB)\n",
            "Collecting x-clip (from musiclm-pytorch)\n",
            "  Downloading x_clip-0.14.4-py3-none-any.whl (1.4 MB)\n",
            "\u001b[2K     \u001b[90m━━━━━━━━━━━━━━━━━━━━━━━━━━━━━━━━━━━━━━━━\u001b[0m \u001b[32m1.4/1.4 MB\u001b[0m \u001b[31m67.0 MB/s\u001b[0m eta \u001b[36m0:00:00\u001b[0m\n",
            "\u001b[?25hRequirement already satisfied: torch>=1.12 in /usr/local/lib/python3.10/dist-packages (from musiclm-pytorch) (2.1.0+cu118)\n",
            "Requirement already satisfied: torchaudio in /usr/local/lib/python3.10/dist-packages (from musiclm-pytorch) (2.1.0+cu118)\n",
            "Collecting ema-pytorch>=0.2.2 (from audiolm-pytorch>=0.17.0->musiclm-pytorch)\n",
            "  Downloading ema_pytorch-0.3.0-py3-none-any.whl (4.7 kB)\n",
            "Collecting encodec (from audiolm-pytorch>=0.17.0->musiclm-pytorch)\n",
            "  Downloading encodec-0.1.1.tar.gz (3.7 MB)\n",
            "\u001b[2K     \u001b[90m━━━━━━━━━━━━━━━━━━━━━━━━━━━━━━━━━━━━━━━━\u001b[0m \u001b[32m3.7/3.7 MB\u001b[0m \u001b[31m125.3 MB/s\u001b[0m eta \u001b[36m0:00:00\u001b[0m\n",
            "\u001b[?25h  Preparing metadata (setup.py) ... \u001b[?25l\u001b[?25hdone\n",
            "Collecting fairseq (from audiolm-pytorch>=0.17.0->musiclm-pytorch)\n",
            "  Downloading fairseq-0.12.2.tar.gz (9.6 MB)\n",
            "\u001b[2K     \u001b[90m━━━━━━━━━━━━━━━━━━━━━━━━━━━━━━━━━━━━━━━━\u001b[0m \u001b[32m9.6/9.6 MB\u001b[0m \u001b[31m125.2 MB/s\u001b[0m eta \u001b[36m0:00:00\u001b[0m\n",
            "\u001b[?25h  Installing build dependencies ... \u001b[?25l\u001b[?25hdone\n",
            "  Getting requirements to build wheel ... \u001b[?25l\u001b[?25hdone\n",
            "  Installing backend dependencies ... \u001b[?25l\u001b[?25hdone\n",
            "  Preparing metadata (pyproject.toml) ... \u001b[?25l\u001b[?25hdone\n",
            "Requirement already satisfied: joblib in /usr/local/lib/python3.10/dist-packages (from audiolm-pytorch>=0.17.0->musiclm-pytorch) (1.3.2)\n",
            "Collecting local-attention>=1.9.0 (from audiolm-pytorch>=0.17.0->musiclm-pytorch)\n",
            "  Downloading local_attention-1.9.0-py3-none-any.whl (8.2 kB)\n",
            "Requirement already satisfied: scikit-learn in /usr/local/lib/python3.10/dist-packages (from audiolm-pytorch>=0.17.0->musiclm-pytorch) (1.2.2)\n",
            "Collecting sentencepiece (from audiolm-pytorch>=0.17.0->musiclm-pytorch)\n",
            "  Downloading sentencepiece-0.1.99-cp310-cp310-manylinux_2_17_x86_64.manylinux2014_x86_64.whl (1.3 MB)\n",
            "\u001b[2K     \u001b[90m━━━━━━━━━━━━━━━━━━━━━━━━━━━━━━━━━━━━━━━━\u001b[0m \u001b[32m1.3/1.3 MB\u001b[0m \u001b[31m86.1 MB/s\u001b[0m eta \u001b[36m0:00:00\u001b[0m\n",
            "\u001b[?25hCollecting transformers (from audiolm-pytorch>=0.17.0->musiclm-pytorch)\n",
            "  Downloading transformers-4.35.0-py3-none-any.whl (7.9 MB)\n",
            "\u001b[2K     \u001b[90m━━━━━━━━━━━━━━━━━━━━━━━━━━━━━━━━━━━━━━━━\u001b[0m \u001b[32m7.9/7.9 MB\u001b[0m \u001b[31m109.0 MB/s\u001b[0m eta \u001b[36m0:00:00\u001b[0m\n",
            "\u001b[?25hRequirement already satisfied: tqdm in /usr/local/lib/python3.10/dist-packages (from audiolm-pytorch>=0.17.0->musiclm-pytorch) (4.66.1)\n",
            "Requirement already satisfied: numpy>=1.17 in /usr/local/lib/python3.10/dist-packages (from accelerate->musiclm-pytorch) (1.23.5)\n",
            "Requirement already satisfied: packaging>=20.0 in /usr/local/lib/python3.10/dist-packages (from accelerate->musiclm-pytorch) (23.2)\n",
            "Requirement already satisfied: psutil in /usr/local/lib/python3.10/dist-packages (from accelerate->musiclm-pytorch) (5.9.5)\n",
            "Requirement already satisfied: pyyaml in /usr/local/lib/python3.10/dist-packages (from accelerate->musiclm-pytorch) (6.0.1)\n",
            "Collecting huggingface-hub (from accelerate->musiclm-pytorch)\n",
            "  Downloading huggingface_hub-0.19.0-py3-none-any.whl (311 kB)\n",
            "\u001b[2K     \u001b[90m━━━━━━━━━━━━━━━━━━━━━━━━━━━━━━━━━━━━━━━━\u001b[0m \u001b[32m311.2/311.2 kB\u001b[0m \u001b[31m32.5 MB/s\u001b[0m eta \u001b[36m0:00:00\u001b[0m\n",
            "\u001b[?25hRequirement already satisfied: filelock in /usr/local/lib/python3.10/dist-packages (from torch>=1.12->musiclm-pytorch) (3.13.1)\n",
            "Requirement already satisfied: typing-extensions in /usr/local/lib/python3.10/dist-packages (from torch>=1.12->musiclm-pytorch) (4.5.0)\n",
            "Requirement already satisfied: sympy in /usr/local/lib/python3.10/dist-packages (from torch>=1.12->musiclm-pytorch) (1.12)\n",
            "Requirement already satisfied: networkx in /usr/local/lib/python3.10/dist-packages (from torch>=1.12->musiclm-pytorch) (3.2.1)\n",
            "Requirement already satisfied: jinja2 in /usr/local/lib/python3.10/dist-packages (from torch>=1.12->musiclm-pytorch) (3.1.2)\n",
            "Requirement already satisfied: fsspec in /usr/local/lib/python3.10/dist-packages (from torch>=1.12->musiclm-pytorch) (2023.6.0)\n",
            "Requirement already satisfied: triton==2.1.0 in /usr/local/lib/python3.10/dist-packages (from torch>=1.12->musiclm-pytorch) (2.1.0)\n",
            "Collecting ftfy (from x-clip->musiclm-pytorch)\n",
            "  Downloading ftfy-6.1.1-py3-none-any.whl (53 kB)\n",
            "\u001b[2K     \u001b[90m━━━━━━━━━━━━━━━━━━━━━━━━━━━━━━━━━━━━━━━━\u001b[0m \u001b[32m53.1/53.1 kB\u001b[0m \u001b[31m5.8 MB/s\u001b[0m eta \u001b[36m0:00:00\u001b[0m\n",
            "\u001b[?25hRequirement already satisfied: regex in /usr/local/lib/python3.10/dist-packages (from x-clip->musiclm-pytorch) (2023.6.3)\n",
            "Requirement already satisfied: torchvision in /usr/local/lib/python3.10/dist-packages (from x-clip->musiclm-pytorch) (0.16.0+cu118)\n",
            "Requirement already satisfied: cffi in /usr/local/lib/python3.10/dist-packages (from fairseq->audiolm-pytorch>=0.17.0->musiclm-pytorch) (1.16.0)\n",
            "Requirement already satisfied: cython in /usr/local/lib/python3.10/dist-packages (from fairseq->audiolm-pytorch>=0.17.0->musiclm-pytorch) (3.0.5)\n",
            "Collecting hydra-core<1.1,>=1.0.7 (from fairseq->audiolm-pytorch>=0.17.0->musiclm-pytorch)\n",
            "  Downloading hydra_core-1.0.7-py3-none-any.whl (123 kB)\n",
            "\u001b[2K     \u001b[90m━━━━━━━━━━━━━━━━━━━━━━━━━━━━━━━━━━━━━━━━\u001b[0m \u001b[32m123.8/123.8 kB\u001b[0m \u001b[31m16.0 MB/s\u001b[0m eta \u001b[36m0:00:00\u001b[0m\n",
            "\u001b[?25hCollecting omegaconf<2.1 (from fairseq->audiolm-pytorch>=0.17.0->musiclm-pytorch)\n",
            "  Downloading omegaconf-2.0.6-py3-none-any.whl (36 kB)\n",
            "Collecting sacrebleu>=1.4.12 (from fairseq->audiolm-pytorch>=0.17.0->musiclm-pytorch)\n",
            "  Downloading sacrebleu-2.3.2-py3-none-any.whl (119 kB)\n",
            "\u001b[2K     \u001b[90m━━━━━━━━━━━━━━━━━━━━━━━━━━━━━━━━━━━━━━━━\u001b[0m \u001b[32m119.7/119.7 kB\u001b[0m \u001b[31m18.2 MB/s\u001b[0m eta \u001b[36m0:00:00\u001b[0m\n",
            "\u001b[?25hCollecting bitarray (from fairseq->audiolm-pytorch>=0.17.0->musiclm-pytorch)\n",
            "  Downloading bitarray-2.8.3-cp310-cp310-manylinux_2_17_x86_64.manylinux2014_x86_64.whl (287 kB)\n",
            "\u001b[2K     \u001b[90m━━━━━━━━━━━━━━━━━━━━━━━━━━━━━━━━━━━━━━━━\u001b[0m \u001b[32m287.4/287.4 kB\u001b[0m \u001b[31m37.7 MB/s\u001b[0m eta \u001b[36m0:00:00\u001b[0m\n",
            "\u001b[?25hRequirement already satisfied: wcwidth>=0.2.5 in /usr/local/lib/python3.10/dist-packages (from ftfy->x-clip->musiclm-pytorch) (0.2.9)\n",
            "Requirement already satisfied: requests in /usr/local/lib/python3.10/dist-packages (from huggingface-hub->accelerate->musiclm-pytorch) (2.31.0)\n",
            "Requirement already satisfied: MarkupSafe>=2.0 in /usr/local/lib/python3.10/dist-packages (from jinja2->torch>=1.12->musiclm-pytorch) (2.1.3)\n",
            "Requirement already satisfied: scipy>=1.3.2 in /usr/local/lib/python3.10/dist-packages (from scikit-learn->audiolm-pytorch>=0.17.0->musiclm-pytorch) (1.11.3)\n",
            "Requirement already satisfied: threadpoolctl>=2.0.0 in /usr/local/lib/python3.10/dist-packages (from scikit-learn->audiolm-pytorch>=0.17.0->musiclm-pytorch) (3.2.0)\n",
            "Requirement already satisfied: mpmath>=0.19 in /usr/local/lib/python3.10/dist-packages (from sympy->torch>=1.12->musiclm-pytorch) (1.3.0)\n",
            "Requirement already satisfied: pillow!=8.3.*,>=5.3.0 in /usr/local/lib/python3.10/dist-packages (from torchvision->x-clip->musiclm-pytorch) (9.4.0)\n",
            "Collecting tokenizers<0.15,>=0.14 (from transformers->audiolm-pytorch>=0.17.0->musiclm-pytorch)\n",
            "  Downloading tokenizers-0.14.1-cp310-cp310-manylinux_2_17_x86_64.manylinux2014_x86_64.whl (3.8 MB)\n",
            "\u001b[2K     \u001b[90m━━━━━━━━━━━━━━━━━━━━━━━━━━━━━━━━━━━━━━━━\u001b[0m \u001b[32m3.8/3.8 MB\u001b[0m \u001b[31m71.2 MB/s\u001b[0m eta \u001b[36m0:00:00\u001b[0m\n",
            "\u001b[?25hCollecting safetensors>=0.3.1 (from transformers->audiolm-pytorch>=0.17.0->musiclm-pytorch)\n",
            "  Downloading safetensors-0.4.0-cp310-cp310-manylinux_2_17_x86_64.manylinux2014_x86_64.whl (1.3 MB)\n",
            "\u001b[2K     \u001b[90m━━━━━━━━━━━━━━━━━━━━━━━━━━━━━━━━━━━━━━━━\u001b[0m \u001b[32m1.3/1.3 MB\u001b[0m \u001b[31m88.6 MB/s\u001b[0m eta \u001b[36m0:00:00\u001b[0m\n",
            "\u001b[?25hCollecting antlr4-python3-runtime==4.8 (from hydra-core<1.1,>=1.0.7->fairseq->audiolm-pytorch>=0.17.0->musiclm-pytorch)\n",
            "  Downloading antlr4-python3-runtime-4.8.tar.gz (112 kB)\n",
            "\u001b[2K     \u001b[90m━━━━━━━━━━━━━━━━━━━━━━━━━━━━━━━━━━━━━━━━\u001b[0m \u001b[32m112.4/112.4 kB\u001b[0m \u001b[31m16.6 MB/s\u001b[0m eta \u001b[36m0:00:00\u001b[0m\n",
            "\u001b[?25h  Preparing metadata (setup.py) ... \u001b[?25l\u001b[?25hdone\n",
            "Collecting portalocker (from sacrebleu>=1.4.12->fairseq->audiolm-pytorch>=0.17.0->musiclm-pytorch)\n",
            "  Downloading portalocker-2.8.2-py3-none-any.whl (17 kB)\n",
            "Requirement already satisfied: tabulate>=0.8.9 in /usr/local/lib/python3.10/dist-packages (from sacrebleu>=1.4.12->fairseq->audiolm-pytorch>=0.17.0->musiclm-pytorch) (0.9.0)\n",
            "Collecting colorama (from sacrebleu>=1.4.12->fairseq->audiolm-pytorch>=0.17.0->musiclm-pytorch)\n",
            "  Downloading colorama-0.4.6-py2.py3-none-any.whl (25 kB)\n",
            "Requirement already satisfied: lxml in /usr/local/lib/python3.10/dist-packages (from sacrebleu>=1.4.12->fairseq->audiolm-pytorch>=0.17.0->musiclm-pytorch) (4.9.3)\n",
            "Collecting huggingface-hub (from accelerate->musiclm-pytorch)\n",
            "  Downloading huggingface_hub-0.17.3-py3-none-any.whl (295 kB)\n",
            "\u001b[2K     \u001b[90m━━━━━━━━━━━━━━━━━━━━━━━━━━━━━━━━━━━━━━━━\u001b[0m \u001b[32m295.0/295.0 kB\u001b[0m \u001b[31m4.6 MB/s\u001b[0m eta \u001b[36m0:00:00\u001b[0m\n",
            "\u001b[?25hRequirement already satisfied: pycparser in /usr/local/lib/python3.10/dist-packages (from cffi->fairseq->audiolm-pytorch>=0.17.0->musiclm-pytorch) (2.21)\n",
            "Requirement already satisfied: charset-normalizer<4,>=2 in /usr/local/lib/python3.10/dist-packages (from requests->huggingface-hub->accelerate->musiclm-pytorch) (3.3.2)\n",
            "Requirement already satisfied: idna<4,>=2.5 in /usr/local/lib/python3.10/dist-packages (from requests->huggingface-hub->accelerate->musiclm-pytorch) (3.4)\n",
            "Requirement already satisfied: urllib3<3,>=1.21.1 in /usr/local/lib/python3.10/dist-packages (from requests->huggingface-hub->accelerate->musiclm-pytorch) (2.0.7)\n",
            "Requirement already satisfied: certifi>=2017.4.17 in /usr/local/lib/python3.10/dist-packages (from requests->huggingface-hub->accelerate->musiclm-pytorch) (2023.7.22)\n",
            "Building wheels for collected packages: encodec, fairseq, antlr4-python3-runtime\n",
            "  Building wheel for encodec (setup.py) ... \u001b[?25l\u001b[?25hdone\n",
            "  Created wheel for encodec: filename=encodec-0.1.1-py3-none-any.whl size=45759 sha256=a4d0bae6260e104f6e51c3071555d1bd77951cda49b267b7a0faedecb5093602\n",
            "  Stored in directory: /root/.cache/pip/wheels/fc/36/cb/81af8b985a5f5e0815312d5e52b41263237af07b977e6bcbf3\n",
            "  Building wheel for fairseq (pyproject.toml) ... \u001b[?25l\u001b[?25hdone\n",
            "  Created wheel for fairseq: filename=fairseq-0.12.2-cp310-cp310-linux_x86_64.whl size=11291638 sha256=9ef45439a74226441e5ef0bda0b09127dca3ebc4ad2a18e4ee47bbe11475a637\n",
            "  Stored in directory: /root/.cache/pip/wheels/e4/35/55/9c66f65ec7c83fd6fbc2b9502a0ac81b2448a1196159dacc32\n",
            "  Building wheel for antlr4-python3-runtime (setup.py) ... \u001b[?25l\u001b[?25hdone\n",
            "  Created wheel for antlr4-python3-runtime: filename=antlr4_python3_runtime-4.8-py3-none-any.whl size=141210 sha256=403063d0c17132623f9ab3f848d1cb6564359b29d90ee46fd3960635e547bc24\n",
            "  Stored in directory: /root/.cache/pip/wheels/a7/20/bd/e1477d664f22d99989fd28ee1a43d6633dddb5cb9e801350d5\n",
            "Successfully built encodec fairseq antlr4-python3-runtime\n",
            "Installing collected packages: sentencepiece, bitarray, antlr4-python3-runtime, safetensors, portalocker, omegaconf, ftfy, einops, colorama, beartype, sacrebleu, hydra-core, huggingface-hub, vector-quantize-pytorch, tokenizers, local-attention, lion-pytorch, ema-pytorch, accelerate, x-clip, transformers, fairseq, encodec, audiolm-pytorch, musiclm-pytorch\n",
            "Successfully installed accelerate-0.24.1 antlr4-python3-runtime-4.8 audiolm-pytorch-1.7.6 beartype-0.16.4 bitarray-2.8.3 colorama-0.4.6 einops-0.7.0 ema-pytorch-0.3.0 encodec-0.1.1 fairseq-0.12.2 ftfy-6.1.1 huggingface-hub-0.17.3 hydra-core-1.0.7 lion-pytorch-0.1.2 local-attention-1.9.0 musiclm-pytorch-0.2.8 omegaconf-2.0.6 portalocker-2.8.2 sacrebleu-2.3.2 safetensors-0.4.0 sentencepiece-0.1.99 tokenizers-0.14.1 transformers-4.35.0 vector-quantize-pytorch-1.11.7 x-clip-0.14.4\n"
          ]
        }
      ]
    },
    {
      "cell_type": "markdown",
      "source": [
        "# Usage\n",
        "`MuLaN` first needs to be trained"
      ],
      "metadata": {
        "id": "tHqjcLn9RZwS"
      }
    },
    {
      "cell_type": "code",
      "source": [
        "import torch\n",
        "from musiclm_pytorch import MuLaN, AudioSpectrogramTransformer, TextTransformer\n",
        "\n",
        "audio_transformer = AudioSpectrogramTransformer(\n",
        "    dim = 512,\n",
        "    depth = 6,\n",
        "    heads = 8,\n",
        "    dim_head = 64,\n",
        "    spec_n_fft = 128,\n",
        "    spec_win_length = 24,\n",
        "    spec_aug_stretch_factor = 0.8\n",
        ")\n",
        "\n",
        "text_transformer = TextTransformer(\n",
        "    dim = 512,\n",
        "    depth = 6,\n",
        "    heads = 8,\n",
        "    dim_head = 64\n",
        ")\n",
        "\n",
        "mulan = MuLaN(\n",
        "    audio_transformer = audio_transformer,\n",
        "    text_transformer = text_transformer\n",
        ")\n",
        "\n",
        "# get a ton of <sound, text> pairs and train\n",
        "\n",
        "wavs = torch.randn(2, 1024)\n",
        "texts = torch.randint(0, 20000, (2, 256))\n",
        "\n",
        "loss = mulan(wavs, texts)\n",
        "loss.backward()\n",
        "\n",
        "# after much training, you can embed sounds and text into a joint embedding space\n",
        "# for conditioning the audio LM\n",
        "\n",
        "embeds = mulan.get_audio_latents(wavs)  # during training\n",
        "\n",
        "embeds = mulan.get_text_latents(texts)  # during inference"
      ],
      "metadata": {
        "colab": {
          "base_uri": "https://localhost:8080/"
        },
        "id": "24y5bccQu9XA",
        "outputId": "438176f0-1ed5-4737-a97e-aa0b77b7d6f2"
      },
      "execution_count": 23,
      "outputs": [
        {
          "output_type": "stream",
          "name": "stdout",
          "text": [
            "spectrogram yielded shape of (65, 86), but had to be cropped to (64, 80) to be patchified for transformer\n"
          ]
        }
      ]
    },
    {
      "cell_type": "markdown",
      "source": [
        "To obtain the conditioning embeddings for the three transformers that are a part of AudioLM, you must use the `MuLaNEmbedQuantizer` as so"
      ],
      "metadata": {
        "id": "7lzG0rfhRgia"
      }
    },
    {
      "cell_type": "code",
      "source": [
        "from musiclm_pytorch import MuLaNEmbedQuantizer\n",
        "\n",
        "# setup the quantizer with the namespaced conditioning embeddings, unique per quantizer as well as namespace (per transformer)\n",
        "\n",
        "quantizer = MuLaNEmbedQuantizer(\n",
        "    mulan = mulan,                          # pass in trained mulan from above\n",
        "    conditioning_dims = (1024, 1024, 1024), # say all three transformers have model dimensions of 1024\n",
        "    namespaces = ('semantic', 'coarse', 'fine')\n",
        ")\n",
        "\n",
        "# now say you want the conditioning embeddings for semantic transformer\n",
        "\n",
        "wavs = torch.randn(2, 1024)\n",
        "conds = quantizer(wavs = wavs, namespace = 'semantic') # (2, 8, 1024) - 8 is number of quantizers"
      ],
      "metadata": {
        "id": "1mPZ82TAvFDQ"
      },
      "execution_count": 24,
      "outputs": []
    },
    {
      "cell_type": "code",
      "source": [
        "!pip install audiolm_pytorch"
      ],
      "metadata": {
        "colab": {
          "base_uri": "https://localhost:8080/"
        },
        "id": "5klgPWlswISC",
        "outputId": "75751638-c2ba-4588-cbe4-7de9594fed55"
      },
      "execution_count": 25,
      "outputs": [
        {
          "output_type": "stream",
          "name": "stdout",
          "text": [
            "Requirement already satisfied: audiolm_pytorch in /usr/local/lib/python3.10/dist-packages (1.7.6)\n",
            "Requirement already satisfied: accelerate>=0.24.0 in /usr/local/lib/python3.10/dist-packages (from audiolm_pytorch) (0.24.1)\n",
            "Requirement already satisfied: beartype>=0.16.1 in /usr/local/lib/python3.10/dist-packages (from audiolm_pytorch) (0.16.4)\n",
            "Requirement already satisfied: einops>=0.7.0 in /usr/local/lib/python3.10/dist-packages (from audiolm_pytorch) (0.7.0)\n",
            "Requirement already satisfied: ema-pytorch>=0.2.2 in /usr/local/lib/python3.10/dist-packages (from audiolm_pytorch) (0.3.0)\n",
            "Requirement already satisfied: encodec in /usr/local/lib/python3.10/dist-packages (from audiolm_pytorch) (0.1.1)\n",
            "Requirement already satisfied: fairseq in /usr/local/lib/python3.10/dist-packages (from audiolm_pytorch) (0.12.2)\n",
            "Requirement already satisfied: joblib in /usr/local/lib/python3.10/dist-packages (from audiolm_pytorch) (1.3.2)\n",
            "Requirement already satisfied: lion-pytorch in /usr/local/lib/python3.10/dist-packages (from audiolm_pytorch) (0.1.2)\n",
            "Requirement already satisfied: local-attention>=1.9.0 in /usr/local/lib/python3.10/dist-packages (from audiolm_pytorch) (1.9.0)\n",
            "Requirement already satisfied: scikit-learn in /usr/local/lib/python3.10/dist-packages (from audiolm_pytorch) (1.2.2)\n",
            "Requirement already satisfied: sentencepiece in /usr/local/lib/python3.10/dist-packages (from audiolm_pytorch) (0.1.99)\n",
            "Requirement already satisfied: torch>=1.12 in /usr/local/lib/python3.10/dist-packages (from audiolm_pytorch) (2.1.0+cu118)\n",
            "Requirement already satisfied: torchaudio in /usr/local/lib/python3.10/dist-packages (from audiolm_pytorch) (2.1.0+cu118)\n",
            "Requirement already satisfied: transformers in /usr/local/lib/python3.10/dist-packages (from audiolm_pytorch) (4.35.0)\n",
            "Requirement already satisfied: tqdm in /usr/local/lib/python3.10/dist-packages (from audiolm_pytorch) (4.66.1)\n",
            "Requirement already satisfied: vector-quantize-pytorch>=1.11.3 in /usr/local/lib/python3.10/dist-packages (from audiolm_pytorch) (1.11.7)\n",
            "Requirement already satisfied: numpy>=1.17 in /usr/local/lib/python3.10/dist-packages (from accelerate>=0.24.0->audiolm_pytorch) (1.23.5)\n",
            "Requirement already satisfied: packaging>=20.0 in /usr/local/lib/python3.10/dist-packages (from accelerate>=0.24.0->audiolm_pytorch) (23.2)\n",
            "Requirement already satisfied: psutil in /usr/local/lib/python3.10/dist-packages (from accelerate>=0.24.0->audiolm_pytorch) (5.9.5)\n",
            "Requirement already satisfied: pyyaml in /usr/local/lib/python3.10/dist-packages (from accelerate>=0.24.0->audiolm_pytorch) (6.0.1)\n",
            "Requirement already satisfied: huggingface-hub in /usr/local/lib/python3.10/dist-packages (from accelerate>=0.24.0->audiolm_pytorch) (0.17.3)\n",
            "Requirement already satisfied: filelock in /usr/local/lib/python3.10/dist-packages (from torch>=1.12->audiolm_pytorch) (3.13.1)\n",
            "Requirement already satisfied: typing-extensions in /usr/local/lib/python3.10/dist-packages (from torch>=1.12->audiolm_pytorch) (4.5.0)\n",
            "Requirement already satisfied: sympy in /usr/local/lib/python3.10/dist-packages (from torch>=1.12->audiolm_pytorch) (1.12)\n",
            "Requirement already satisfied: networkx in /usr/local/lib/python3.10/dist-packages (from torch>=1.12->audiolm_pytorch) (3.2.1)\n",
            "Requirement already satisfied: jinja2 in /usr/local/lib/python3.10/dist-packages (from torch>=1.12->audiolm_pytorch) (3.1.2)\n",
            "Requirement already satisfied: fsspec in /usr/local/lib/python3.10/dist-packages (from torch>=1.12->audiolm_pytorch) (2023.6.0)\n",
            "Requirement already satisfied: triton==2.1.0 in /usr/local/lib/python3.10/dist-packages (from torch>=1.12->audiolm_pytorch) (2.1.0)\n",
            "Requirement already satisfied: cffi in /usr/local/lib/python3.10/dist-packages (from fairseq->audiolm_pytorch) (1.16.0)\n",
            "Requirement already satisfied: cython in /usr/local/lib/python3.10/dist-packages (from fairseq->audiolm_pytorch) (3.0.5)\n",
            "Requirement already satisfied: hydra-core<1.1,>=1.0.7 in /usr/local/lib/python3.10/dist-packages (from fairseq->audiolm_pytorch) (1.0.7)\n",
            "Requirement already satisfied: omegaconf<2.1 in /usr/local/lib/python3.10/dist-packages (from fairseq->audiolm_pytorch) (2.0.6)\n",
            "Requirement already satisfied: regex in /usr/local/lib/python3.10/dist-packages (from fairseq->audiolm_pytorch) (2023.6.3)\n",
            "Requirement already satisfied: sacrebleu>=1.4.12 in /usr/local/lib/python3.10/dist-packages (from fairseq->audiolm_pytorch) (2.3.2)\n",
            "Requirement already satisfied: bitarray in /usr/local/lib/python3.10/dist-packages (from fairseq->audiolm_pytorch) (2.8.3)\n",
            "Requirement already satisfied: scipy>=1.3.2 in /usr/local/lib/python3.10/dist-packages (from scikit-learn->audiolm_pytorch) (1.11.3)\n",
            "Requirement already satisfied: threadpoolctl>=2.0.0 in /usr/local/lib/python3.10/dist-packages (from scikit-learn->audiolm_pytorch) (3.2.0)\n",
            "Requirement already satisfied: requests in /usr/local/lib/python3.10/dist-packages (from transformers->audiolm_pytorch) (2.31.0)\n",
            "Requirement already satisfied: tokenizers<0.15,>=0.14 in /usr/local/lib/python3.10/dist-packages (from transformers->audiolm_pytorch) (0.14.1)\n",
            "Requirement already satisfied: safetensors>=0.3.1 in /usr/local/lib/python3.10/dist-packages (from transformers->audiolm_pytorch) (0.4.0)\n",
            "Requirement already satisfied: antlr4-python3-runtime==4.8 in /usr/local/lib/python3.10/dist-packages (from hydra-core<1.1,>=1.0.7->fairseq->audiolm_pytorch) (4.8)\n",
            "Requirement already satisfied: portalocker in /usr/local/lib/python3.10/dist-packages (from sacrebleu>=1.4.12->fairseq->audiolm_pytorch) (2.8.2)\n",
            "Requirement already satisfied: tabulate>=0.8.9 in /usr/local/lib/python3.10/dist-packages (from sacrebleu>=1.4.12->fairseq->audiolm_pytorch) (0.9.0)\n",
            "Requirement already satisfied: colorama in /usr/local/lib/python3.10/dist-packages (from sacrebleu>=1.4.12->fairseq->audiolm_pytorch) (0.4.6)\n",
            "Requirement already satisfied: lxml in /usr/local/lib/python3.10/dist-packages (from sacrebleu>=1.4.12->fairseq->audiolm_pytorch) (4.9.3)\n",
            "Requirement already satisfied: pycparser in /usr/local/lib/python3.10/dist-packages (from cffi->fairseq->audiolm_pytorch) (2.21)\n",
            "Requirement already satisfied: MarkupSafe>=2.0 in /usr/local/lib/python3.10/dist-packages (from jinja2->torch>=1.12->audiolm_pytorch) (2.1.3)\n",
            "Requirement already satisfied: charset-normalizer<4,>=2 in /usr/local/lib/python3.10/dist-packages (from requests->transformers->audiolm_pytorch) (3.3.2)\n",
            "Requirement already satisfied: idna<4,>=2.5 in /usr/local/lib/python3.10/dist-packages (from requests->transformers->audiolm_pytorch) (3.4)\n",
            "Requirement already satisfied: urllib3<3,>=1.21.1 in /usr/local/lib/python3.10/dist-packages (from requests->transformers->audiolm_pytorch) (2.0.7)\n",
            "Requirement already satisfied: certifi>=2017.4.17 in /usr/local/lib/python3.10/dist-packages (from requests->transformers->audiolm_pytorch) (2023.7.22)\n",
            "Requirement already satisfied: mpmath>=0.19 in /usr/local/lib/python3.10/dist-packages (from sympy->torch>=1.12->audiolm_pytorch) (1.3.0)\n"
          ]
        }
      ]
    },
    {
      "cell_type": "markdown",
      "source": [
        "# 加载数据集\n",
        "\n",
        "1.数据集内容\n",
        "\n",
        "调用的.csv文件内容如下\n",
        "```\n",
        "ytid,start_s,end_s,audioset_positive_labels,aspect_list,caption,author_id,is_balanced_subset,is_audioset_eval\n",
        "-0Gj8-vB1q4,30,40,\"/m/0140xf,/m/02cjck,/m/04rlf\",\"['low quality', 'sustained strings melody', 'soft female vocal', 'mellow piano melody', 'sad', 'soulful', 'ballad']\",\"The low quality recording features a ballad song that contains sustained strings, mellow piano melody and soft female vocal singing over it. It sounds sad and soulful, like something you would hear at Sunday services.\",4,False,True\n",
        "...\n",
        "```"
      ],
      "metadata": {
        "id": "8tuFD0_Z-1AG"
      }
    },
    {
      "cell_type": "markdown",
      "source": [
        "**解释**：\n",
        "数据集是一个包含音频信息和描述的元数据文件，格式类似于 CSV。每行包含一个 YouTube 音频的标识符（ytid），音频的开始和结束时间（start_s 和 end_s），音频标签（audioset_positive_labels）和其他相关信息。"
      ],
      "metadata": {
        "id": "cmEZ4Rk2-8g-"
      }
    },
    {
      "cell_type": "markdown",
      "source": [
        "使用如 youtube-dl 这类工具来下载视频，然后使用音频处理库（例如 librosa 或 pydub）来裁剪音频。以下是一个大致的步骤指南：\n",
        "\n",
        "# 1. 使用 youtube-dl\n",
        "下载 YouTube 音频\n",
        "首先，您需要安装 youtube-dl。在 Colab 中，您可以使用以下命令安装："
      ],
      "metadata": {
        "id": "puuachnT_ymu"
      }
    },
    {
      "cell_type": "code",
      "source": [
        "# !pip install youtube-dl\n"
      ],
      "metadata": {
        "colab": {
          "base_uri": "https://localhost:8080/"
        },
        "id": "akiYezB6-FY8",
        "outputId": "9391d52f-bd94-47de-9f5a-6ff2f51562b3"
      },
      "execution_count": 8,
      "outputs": [
        {
          "output_type": "stream",
          "name": "stdout",
          "text": [
            "Collecting youtube-dl\n",
            "  Downloading youtube_dl-2021.12.17-py2.py3-none-any.whl (1.9 MB)\n",
            "\u001b[2K     \u001b[90m━━━━━━━━━━━━━━━━━━━━━━━━━━━━━━━━━━━━━━━━\u001b[0m \u001b[32m1.9/1.9 MB\u001b[0m \u001b[31m15.6 MB/s\u001b[0m eta \u001b[36m0:00:00\u001b[0m\n",
            "\u001b[?25hInstalling collected packages: youtube-dl\n",
            "Successfully installed youtube-dl-2021.12.17\n"
          ]
        }
      ]
    },
    {
      "cell_type": "code",
      "source": [
        "# !pip install --upgrade youtube-dl\n"
      ],
      "metadata": {
        "colab": {
          "base_uri": "https://localhost:8080/"
        },
        "id": "IdBtqhr6A5xU",
        "outputId": "e00bae8c-5118-4610-d2d8-e65fdfa69f1d"
      },
      "execution_count": 13,
      "outputs": [
        {
          "output_type": "stream",
          "name": "stdout",
          "text": [
            "Requirement already satisfied: youtube-dl in /usr/local/lib/python3.10/dist-packages (2021.12.17)\n"
          ]
        }
      ]
    },
    {
      "cell_type": "code",
      "source": [
        "# import librosa\n",
        "# import soundfile as sf\n",
        "# import os\n",
        "# import pandas as pd\n",
        "# from youtube_dl import YoutubeDL\n",
        "\n",
        "# def trim_audio(file_path, start_time, end_time, output_path):\n",
        "#     y, sr = librosa.load(file_path, sr=None, offset=start_time, duration=end_time - start_time)\n",
        "#     sf.write(output_path, y, sr)\n",
        "\n",
        "# def download_youtube_audio(ytid, output_dir):\n",
        "#     ydl_opts = {\n",
        "#         'format': 'bestaudio/best',\n",
        "#         'postprocessors': [{\n",
        "#             'key': 'FFmpegExtractAudio',\n",
        "#             'preferredcodec': 'wav',\n",
        "#             'preferredquality': '192',\n",
        "\n",
        "#         }],\n",
        "#         'verbose': True,\n",
        "#         'outtmpl': os.path.join(output_dir, '%(id)s.%(ext)s')\n",
        "#     }\n",
        "\n",
        "#     try:\n",
        "#         with YoutubeDL(ydl_opts) as ydl:\n",
        "#             ydl.download([f'http://www.youtube.com/watch?v={ytid}'])\n",
        "#     except Exception as e:\n",
        "#         print(f\"Error downloading video {ytid}: {e}\")\n",
        "#         return False  # Indicate failure\n",
        "#     return True  # Indicate success\n",
        "\n",
        "\n",
        "# # 加载CSV文件\n",
        "# csv_file = 'musiccaps-public.csv'\n",
        "# df = pd.read_csv(csv_file)\n",
        "\n",
        "# # 遍历CSV文件，下载并裁剪音频\n",
        "# for index, row in df.iterrows():\n",
        "#     ytid = row['ytid']\n",
        "#     start_s = row['start_s']\n",
        "#     end_s = row['end_s']\n",
        "#     if download_youtube_audio(ytid, 'downloaded_audios'):\n",
        "#         try:\n",
        "#             trim_audio(f'downloaded_audios/{ytid}.wav', start_s, end_s, f'trimmed_audios/{ytid}.wav')\n",
        "#         except Exception as e:\n",
        "#             print(f\"Error trimming audio for video {ytid}: {e}\")"
      ],
      "metadata": {
        "colab": {
          "base_uri": "https://localhost:8080/",
          "height": 1000
        },
        "id": "_Y8siM-O7JwO",
        "outputId": "be13ecaf-ec5f-4438-94a0-887f8ba9cb77"
      },
      "execution_count": 22,
      "outputs": [
        {
          "output_type": "stream",
          "name": "stderr",
          "text": [
            "[debug] Encodings: locale UTF-8, fs utf-8, out UTF-8, pref UTF-8\n",
            "[debug] youtube-dl version 2021.12.17\n",
            "[debug] Python version 3.10.12 (CPython) - Linux-5.15.120+-x86_64-with-glibc2.35\n",
            "[debug] exe versions: ffmpeg 4.4.2, ffprobe 4.4.2\n",
            "[debug] Proxy map: {'colab_language_server': '/usr/colab/bin/language_service'}\n"
          ]
        },
        {
          "output_type": "stream",
          "name": "stdout",
          "text": [
            "[youtube] -0Gj8-vB1q4: Downloading webpage\n"
          ]
        },
        {
          "output_type": "stream",
          "name": "stderr",
          "text": [
            "ERROR: Unable to extract uploader id; please report this issue on https://yt-dl.org/bug . Make sure you are using the latest version; see  https://yt-dl.org/update  on how to update. Be sure to call youtube-dl with the --verbose flag and include its complete output.\n",
            "Traceback (most recent call last):\n",
            "  File \"/usr/local/lib/python3.10/dist-packages/youtube_dl/YoutubeDL.py\", line 815, in wrapper\n",
            "    return func(self, *args, **kwargs)\n",
            "  File \"/usr/local/lib/python3.10/dist-packages/youtube_dl/YoutubeDL.py\", line 836, in __extract_info\n",
            "    ie_result = ie.extract(url)\n",
            "  File \"/usr/local/lib/python3.10/dist-packages/youtube_dl/extractor/common.py\", line 534, in extract\n",
            "    ie_result = self._real_extract(url)\n",
            "  File \"/usr/local/lib/python3.10/dist-packages/youtube_dl/extractor/youtube.py\", line 1794, in _real_extract\n",
            "    'uploader_id': self._search_regex(r'/(?:channel|user)/([^/?&#]+)', owner_profile_url, 'uploader id') if owner_profile_url else None,\n",
            "  File \"/usr/local/lib/python3.10/dist-packages/youtube_dl/extractor/common.py\", line 1012, in _search_regex\n",
            "    raise RegexNotFoundError('Unable to extract %s' % _name)\n",
            "youtube_dl.utils.RegexNotFoundError: Unable to extract uploader id; please report this issue on https://yt-dl.org/bug . Make sure you are using the latest version; see  https://yt-dl.org/update  on how to update. Be sure to call youtube-dl with the --verbose flag and include its complete output.\n",
            "\n",
            "[debug] Encodings: locale UTF-8, fs utf-8, out UTF-8, pref UTF-8\n",
            "[debug] youtube-dl version 2021.12.17\n",
            "[debug] Python version 3.10.12 (CPython) - Linux-5.15.120+-x86_64-with-glibc2.35\n",
            "[debug] exe versions: ffmpeg 4.4.2, ffprobe 4.4.2\n",
            "[debug] Proxy map: {'colab_language_server': '/usr/colab/bin/language_service'}\n"
          ]
        },
        {
          "output_type": "stream",
          "name": "stdout",
          "text": [
            "Error downloading video -0Gj8-vB1q4: ERROR: Unable to extract uploader id; please report this issue on https://yt-dl.org/bug . Make sure you are using the latest version; see  https://yt-dl.org/update  on how to update. Be sure to call youtube-dl with the --verbose flag and include its complete output.\n",
            "[youtube] -0SdAVK79lg: Downloading webpage\n"
          ]
        },
        {
          "output_type": "stream",
          "name": "stderr",
          "text": [
            "ERROR: Unable to extract uploader id; please report this issue on https://yt-dl.org/bug . Make sure you are using the latest version; see  https://yt-dl.org/update  on how to update. Be sure to call youtube-dl with the --verbose flag and include its complete output.\n",
            "Traceback (most recent call last):\n",
            "  File \"/usr/local/lib/python3.10/dist-packages/youtube_dl/YoutubeDL.py\", line 815, in wrapper\n",
            "    return func(self, *args, **kwargs)\n",
            "  File \"/usr/local/lib/python3.10/dist-packages/youtube_dl/YoutubeDL.py\", line 836, in __extract_info\n",
            "    ie_result = ie.extract(url)\n",
            "  File \"/usr/local/lib/python3.10/dist-packages/youtube_dl/extractor/common.py\", line 534, in extract\n",
            "    ie_result = self._real_extract(url)\n",
            "  File \"/usr/local/lib/python3.10/dist-packages/youtube_dl/extractor/youtube.py\", line 1794, in _real_extract\n",
            "    'uploader_id': self._search_regex(r'/(?:channel|user)/([^/?&#]+)', owner_profile_url, 'uploader id') if owner_profile_url else None,\n",
            "  File \"/usr/local/lib/python3.10/dist-packages/youtube_dl/extractor/common.py\", line 1012, in _search_regex\n",
            "    raise RegexNotFoundError('Unable to extract %s' % _name)\n",
            "youtube_dl.utils.RegexNotFoundError: Unable to extract uploader id; please report this issue on https://yt-dl.org/bug . Make sure you are using the latest version; see  https://yt-dl.org/update  on how to update. Be sure to call youtube-dl with the --verbose flag and include its complete output.\n",
            "\n",
            "[debug] Encodings: locale UTF-8, fs utf-8, out UTF-8, pref UTF-8\n",
            "[debug] youtube-dl version 2021.12.17\n",
            "[debug] Python version 3.10.12 (CPython) - Linux-5.15.120+-x86_64-with-glibc2.35\n",
            "[debug] exe versions: ffmpeg 4.4.2, ffprobe 4.4.2\n",
            "[debug] Proxy map: {'colab_language_server': '/usr/colab/bin/language_service'}\n"
          ]
        },
        {
          "output_type": "stream",
          "name": "stdout",
          "text": [
            "Error downloading video -0SdAVK79lg: ERROR: Unable to extract uploader id; please report this issue on https://yt-dl.org/bug . Make sure you are using the latest version; see  https://yt-dl.org/update  on how to update. Be sure to call youtube-dl with the --verbose flag and include its complete output.\n",
            "[youtube] -0vPFx-wRRI: Downloading webpage\n",
            "[youtube] -0vPFx-wRRI: Downloading player 5bdfe6d5\n"
          ]
        },
        {
          "output_type": "stream",
          "name": "stderr",
          "text": [
            "ERROR: Unable to extract uploader id; please report this issue on https://yt-dl.org/bug . Make sure you are using the latest version; see  https://yt-dl.org/update  on how to update. Be sure to call youtube-dl with the --verbose flag and include its complete output.\n",
            "Traceback (most recent call last):\n",
            "  File \"/usr/local/lib/python3.10/dist-packages/youtube_dl/YoutubeDL.py\", line 815, in wrapper\n",
            "    return func(self, *args, **kwargs)\n",
            "  File \"/usr/local/lib/python3.10/dist-packages/youtube_dl/YoutubeDL.py\", line 836, in __extract_info\n",
            "    ie_result = ie.extract(url)\n",
            "  File \"/usr/local/lib/python3.10/dist-packages/youtube_dl/extractor/common.py\", line 534, in extract\n",
            "    ie_result = self._real_extract(url)\n",
            "  File \"/usr/local/lib/python3.10/dist-packages/youtube_dl/extractor/youtube.py\", line 1794, in _real_extract\n",
            "    'uploader_id': self._search_regex(r'/(?:channel|user)/([^/?&#]+)', owner_profile_url, 'uploader id') if owner_profile_url else None,\n",
            "  File \"/usr/local/lib/python3.10/dist-packages/youtube_dl/extractor/common.py\", line 1012, in _search_regex\n",
            "    raise RegexNotFoundError('Unable to extract %s' % _name)\n",
            "youtube_dl.utils.RegexNotFoundError: Unable to extract uploader id; please report this issue on https://yt-dl.org/bug . Make sure you are using the latest version; see  https://yt-dl.org/update  on how to update. Be sure to call youtube-dl with the --verbose flag and include its complete output.\n",
            "\n",
            "[debug] Encodings: locale UTF-8, fs utf-8, out UTF-8, pref UTF-8\n",
            "[debug] youtube-dl version 2021.12.17\n",
            "[debug] Python version 3.10.12 (CPython) - Linux-5.15.120+-x86_64-with-glibc2.35\n"
          ]
        },
        {
          "output_type": "stream",
          "name": "stdout",
          "text": [
            "Error downloading video -0vPFx-wRRI: ERROR: Unable to extract uploader id; please report this issue on https://yt-dl.org/bug . Make sure you are using the latest version; see  https://yt-dl.org/update  on how to update. Be sure to call youtube-dl with the --verbose flag and include its complete output.\n"
          ]
        },
        {
          "output_type": "stream",
          "name": "stderr",
          "text": [
            "[debug] exe versions: ffmpeg 4.4.2, ffprobe 4.4.2\n",
            "[debug] Proxy map: {'colab_language_server': '/usr/colab/bin/language_service'}\n"
          ]
        },
        {
          "output_type": "stream",
          "name": "stdout",
          "text": [
            "[youtube] -0xzrMun0Rs: Downloading webpage\n"
          ]
        },
        {
          "output_type": "stream",
          "name": "stderr",
          "text": [
            "ERROR: Unable to extract uploader id; please report this issue on https://yt-dl.org/bug . Make sure you are using the latest version; see  https://yt-dl.org/update  on how to update. Be sure to call youtube-dl with the --verbose flag and include its complete output.\n",
            "Traceback (most recent call last):\n",
            "  File \"/usr/local/lib/python3.10/dist-packages/youtube_dl/YoutubeDL.py\", line 815, in wrapper\n",
            "    return func(self, *args, **kwargs)\n",
            "  File \"/usr/local/lib/python3.10/dist-packages/youtube_dl/YoutubeDL.py\", line 836, in __extract_info\n",
            "    ie_result = ie.extract(url)\n",
            "  File \"/usr/local/lib/python3.10/dist-packages/youtube_dl/extractor/common.py\", line 534, in extract\n",
            "    ie_result = self._real_extract(url)\n",
            "  File \"/usr/local/lib/python3.10/dist-packages/youtube_dl/extractor/youtube.py\", line 1794, in _real_extract\n",
            "    'uploader_id': self._search_regex(r'/(?:channel|user)/([^/?&#]+)', owner_profile_url, 'uploader id') if owner_profile_url else None,\n",
            "  File \"/usr/local/lib/python3.10/dist-packages/youtube_dl/extractor/common.py\", line 1012, in _search_regex\n",
            "    raise RegexNotFoundError('Unable to extract %s' % _name)\n",
            "youtube_dl.utils.RegexNotFoundError: Unable to extract uploader id; please report this issue on https://yt-dl.org/bug . Make sure you are using the latest version; see  https://yt-dl.org/update  on how to update. Be sure to call youtube-dl with the --verbose flag and include its complete output.\n",
            "\n",
            "[debug] Encodings: locale UTF-8, fs utf-8, out UTF-8, pref UTF-8\n",
            "[debug] youtube-dl version 2021.12.17\n",
            "[debug] Python version 3.10.12 (CPython) - Linux-5.15.120+-x86_64-with-glibc2.35\n"
          ]
        },
        {
          "output_type": "stream",
          "name": "stdout",
          "text": [
            "Error downloading video -0xzrMun0Rs: ERROR: Unable to extract uploader id; please report this issue on https://yt-dl.org/bug . Make sure you are using the latest version; see  https://yt-dl.org/update  on how to update. Be sure to call youtube-dl with the --verbose flag and include its complete output.\n"
          ]
        },
        {
          "output_type": "stream",
          "name": "stderr",
          "text": [
            "[debug] exe versions: ffmpeg 4.4.2, ffprobe 4.4.2\n",
            "[debug] Proxy map: {'colab_language_server': '/usr/colab/bin/language_service'}\n"
          ]
        },
        {
          "output_type": "stream",
          "name": "stdout",
          "text": [
            "[youtube] -1LrH01Ei1w: Downloading webpage\n"
          ]
        },
        {
          "output_type": "stream",
          "name": "stderr",
          "text": [
            "ERROR: Unable to extract uploader id; please report this issue on https://yt-dl.org/bug . Make sure you are using the latest version; see  https://yt-dl.org/update  on how to update. Be sure to call youtube-dl with the --verbose flag and include its complete output.\n",
            "Traceback (most recent call last):\n",
            "  File \"/usr/local/lib/python3.10/dist-packages/youtube_dl/YoutubeDL.py\", line 815, in wrapper\n",
            "    return func(self, *args, **kwargs)\n",
            "  File \"/usr/local/lib/python3.10/dist-packages/youtube_dl/YoutubeDL.py\", line 836, in __extract_info\n",
            "    ie_result = ie.extract(url)\n",
            "  File \"/usr/local/lib/python3.10/dist-packages/youtube_dl/extractor/common.py\", line 534, in extract\n",
            "    ie_result = self._real_extract(url)\n",
            "  File \"/usr/local/lib/python3.10/dist-packages/youtube_dl/extractor/youtube.py\", line 1794, in _real_extract\n",
            "    'uploader_id': self._search_regex(r'/(?:channel|user)/([^/?&#]+)', owner_profile_url, 'uploader id') if owner_profile_url else None,\n",
            "  File \"/usr/local/lib/python3.10/dist-packages/youtube_dl/extractor/common.py\", line 1012, in _search_regex\n",
            "    raise RegexNotFoundError('Unable to extract %s' % _name)\n",
            "youtube_dl.utils.RegexNotFoundError: Unable to extract uploader id; please report this issue on https://yt-dl.org/bug . Make sure you are using the latest version; see  https://yt-dl.org/update  on how to update. Be sure to call youtube-dl with the --verbose flag and include its complete output.\n",
            "\n",
            "[debug] Encodings: locale UTF-8, fs utf-8, out UTF-8, pref UTF-8\n",
            "[debug] youtube-dl version 2021.12.17\n",
            "[debug] Python version 3.10.12 (CPython) - Linux-5.15.120+-x86_64-with-glibc2.35\n"
          ]
        },
        {
          "output_type": "stream",
          "name": "stdout",
          "text": [
            "Error downloading video -1LrH01Ei1w: ERROR: Unable to extract uploader id; please report this issue on https://yt-dl.org/bug . Make sure you are using the latest version; see  https://yt-dl.org/update  on how to update. Be sure to call youtube-dl with the --verbose flag and include its complete output.\n"
          ]
        },
        {
          "output_type": "stream",
          "name": "stderr",
          "text": [
            "[debug] exe versions: ffmpeg 4.4.2, ffprobe 4.4.2\n",
            "[debug] Proxy map: {'colab_language_server': '/usr/colab/bin/language_service'}\n"
          ]
        },
        {
          "output_type": "stream",
          "name": "stdout",
          "text": [
            "[youtube] -1OlgJWehn8: Downloading webpage\n",
            "[youtube] -1OlgJWehn8: Downloading MPD manifest\n"
          ]
        },
        {
          "output_type": "stream",
          "name": "stderr",
          "text": [
            "ERROR: Unable to extract uploader id; please report this issue on https://yt-dl.org/bug . Make sure you are using the latest version; see  https://yt-dl.org/update  on how to update. Be sure to call youtube-dl with the --verbose flag and include its complete output.\n",
            "Traceback (most recent call last):\n",
            "  File \"/usr/local/lib/python3.10/dist-packages/youtube_dl/YoutubeDL.py\", line 815, in wrapper\n",
            "    return func(self, *args, **kwargs)\n",
            "  File \"/usr/local/lib/python3.10/dist-packages/youtube_dl/YoutubeDL.py\", line 836, in __extract_info\n",
            "    ie_result = ie.extract(url)\n",
            "  File \"/usr/local/lib/python3.10/dist-packages/youtube_dl/extractor/common.py\", line 534, in extract\n",
            "    ie_result = self._real_extract(url)\n",
            "  File \"/usr/local/lib/python3.10/dist-packages/youtube_dl/extractor/youtube.py\", line 1794, in _real_extract\n",
            "    'uploader_id': self._search_regex(r'/(?:channel|user)/([^/?&#]+)', owner_profile_url, 'uploader id') if owner_profile_url else None,\n",
            "  File \"/usr/local/lib/python3.10/dist-packages/youtube_dl/extractor/common.py\", line 1012, in _search_regex\n",
            "    raise RegexNotFoundError('Unable to extract %s' % _name)\n",
            "youtube_dl.utils.RegexNotFoundError: Unable to extract uploader id; please report this issue on https://yt-dl.org/bug . Make sure you are using the latest version; see  https://yt-dl.org/update  on how to update. Be sure to call youtube-dl with the --verbose flag and include its complete output.\n",
            "\n",
            "[debug] Encodings: locale UTF-8, fs utf-8, out UTF-8, pref UTF-8\n",
            "[debug] youtube-dl version 2021.12.17\n",
            "[debug] Python version 3.10.12 (CPython) - Linux-5.15.120+-x86_64-with-glibc2.35\n"
          ]
        },
        {
          "output_type": "stream",
          "name": "stdout",
          "text": [
            "Error downloading video -1OlgJWehn8: ERROR: Unable to extract uploader id; please report this issue on https://yt-dl.org/bug . Make sure you are using the latest version; see  https://yt-dl.org/update  on how to update. Be sure to call youtube-dl with the --verbose flag and include its complete output.\n"
          ]
        },
        {
          "output_type": "stream",
          "name": "stderr",
          "text": [
            "[debug] exe versions: ffmpeg 4.4.2, ffprobe 4.4.2\n",
            "[debug] Proxy map: {'colab_language_server': '/usr/colab/bin/language_service'}\n"
          ]
        },
        {
          "output_type": "stream",
          "name": "stdout",
          "text": [
            "[youtube] -1UWSisR2zo: Downloading webpage\n"
          ]
        },
        {
          "output_type": "stream",
          "name": "stderr",
          "text": [
            "ERROR: Unable to extract uploader id; please report this issue on https://yt-dl.org/bug . Make sure you are using the latest version; see  https://yt-dl.org/update  on how to update. Be sure to call youtube-dl with the --verbose flag and include its complete output.\n",
            "Traceback (most recent call last):\n",
            "  File \"/usr/local/lib/python3.10/dist-packages/youtube_dl/YoutubeDL.py\", line 815, in wrapper\n",
            "    return func(self, *args, **kwargs)\n",
            "  File \"/usr/local/lib/python3.10/dist-packages/youtube_dl/YoutubeDL.py\", line 836, in __extract_info\n",
            "    ie_result = ie.extract(url)\n",
            "  File \"/usr/local/lib/python3.10/dist-packages/youtube_dl/extractor/common.py\", line 534, in extract\n",
            "    ie_result = self._real_extract(url)\n",
            "  File \"/usr/local/lib/python3.10/dist-packages/youtube_dl/extractor/youtube.py\", line 1794, in _real_extract\n",
            "    'uploader_id': self._search_regex(r'/(?:channel|user)/([^/?&#]+)', owner_profile_url, 'uploader id') if owner_profile_url else None,\n",
            "  File \"/usr/local/lib/python3.10/dist-packages/youtube_dl/extractor/common.py\", line 1012, in _search_regex\n",
            "    raise RegexNotFoundError('Unable to extract %s' % _name)\n",
            "youtube_dl.utils.RegexNotFoundError: Unable to extract uploader id; please report this issue on https://yt-dl.org/bug . Make sure you are using the latest version; see  https://yt-dl.org/update  on how to update. Be sure to call youtube-dl with the --verbose flag and include its complete output.\n",
            "\n",
            "[debug] Encodings: locale UTF-8, fs utf-8, out UTF-8, pref UTF-8\n",
            "[debug] youtube-dl version 2021.12.17\n",
            "[debug] Python version 3.10.12 (CPython) - Linux-5.15.120+-x86_64-with-glibc2.35\n"
          ]
        },
        {
          "output_type": "stream",
          "name": "stdout",
          "text": [
            "Error downloading video -1UWSisR2zo: ERROR: Unable to extract uploader id; please report this issue on https://yt-dl.org/bug . Make sure you are using the latest version; see  https://yt-dl.org/update  on how to update. Be sure to call youtube-dl with the --verbose flag and include its complete output.\n"
          ]
        },
        {
          "output_type": "stream",
          "name": "stderr",
          "text": [
            "[debug] exe versions: ffmpeg 4.4.2, ffprobe 4.4.2\n",
            "[debug] Proxy map: {'colab_language_server': '/usr/colab/bin/language_service'}\n"
          ]
        },
        {
          "output_type": "stream",
          "name": "stdout",
          "text": [
            "[youtube] -3Kv4fdm7Uk: Downloading webpage\n"
          ]
        },
        {
          "output_type": "stream",
          "name": "stderr",
          "text": [
            "ERROR: Unable to extract uploader id; please report this issue on https://yt-dl.org/bug . Make sure you are using the latest version; see  https://yt-dl.org/update  on how to update. Be sure to call youtube-dl with the --verbose flag and include its complete output.\n",
            "Traceback (most recent call last):\n",
            "  File \"/usr/local/lib/python3.10/dist-packages/youtube_dl/YoutubeDL.py\", line 815, in wrapper\n",
            "    return func(self, *args, **kwargs)\n",
            "  File \"/usr/local/lib/python3.10/dist-packages/youtube_dl/YoutubeDL.py\", line 836, in __extract_info\n",
            "    ie_result = ie.extract(url)\n",
            "  File \"/usr/local/lib/python3.10/dist-packages/youtube_dl/extractor/common.py\", line 534, in extract\n",
            "    ie_result = self._real_extract(url)\n",
            "  File \"/usr/local/lib/python3.10/dist-packages/youtube_dl/extractor/youtube.py\", line 1794, in _real_extract\n",
            "    'uploader_id': self._search_regex(r'/(?:channel|user)/([^/?&#]+)', owner_profile_url, 'uploader id') if owner_profile_url else None,\n",
            "  File \"/usr/local/lib/python3.10/dist-packages/youtube_dl/extractor/common.py\", line 1012, in _search_regex\n",
            "    raise RegexNotFoundError('Unable to extract %s' % _name)\n",
            "youtube_dl.utils.RegexNotFoundError: Unable to extract uploader id; please report this issue on https://yt-dl.org/bug . Make sure you are using the latest version; see  https://yt-dl.org/update  on how to update. Be sure to call youtube-dl with the --verbose flag and include its complete output.\n",
            "\n",
            "[debug] Encodings: locale UTF-8, fs utf-8, out UTF-8, pref UTF-8\n",
            "[debug] youtube-dl version 2021.12.17\n",
            "[debug] Python version 3.10.12 (CPython) - Linux-5.15.120+-x86_64-with-glibc2.35\n",
            "[debug] exe versions: ffmpeg 4.4.2, ffprobe 4.4.2\n",
            "[debug] Proxy map: {'colab_language_server': '/usr/colab/bin/language_service'}\n"
          ]
        },
        {
          "output_type": "stream",
          "name": "stdout",
          "text": [
            "Error downloading video -3Kv4fdm7Uk: ERROR: Unable to extract uploader id; please report this issue on https://yt-dl.org/bug . Make sure you are using the latest version; see  https://yt-dl.org/update  on how to update. Be sure to call youtube-dl with the --verbose flag and include its complete output.\n",
            "[youtube] -4NLarMj4xU: Downloading webpage\n"
          ]
        },
        {
          "output_type": "stream",
          "name": "stderr",
          "text": [
            "ERROR: Unable to extract uploader id; please report this issue on https://yt-dl.org/bug . Make sure you are using the latest version; see  https://yt-dl.org/update  on how to update. Be sure to call youtube-dl with the --verbose flag and include its complete output.\n",
            "Traceback (most recent call last):\n",
            "  File \"/usr/local/lib/python3.10/dist-packages/youtube_dl/YoutubeDL.py\", line 815, in wrapper\n",
            "    return func(self, *args, **kwargs)\n",
            "  File \"/usr/local/lib/python3.10/dist-packages/youtube_dl/YoutubeDL.py\", line 836, in __extract_info\n",
            "    ie_result = ie.extract(url)\n",
            "  File \"/usr/local/lib/python3.10/dist-packages/youtube_dl/extractor/common.py\", line 534, in extract\n",
            "    ie_result = self._real_extract(url)\n",
            "  File \"/usr/local/lib/python3.10/dist-packages/youtube_dl/extractor/youtube.py\", line 1794, in _real_extract\n",
            "    'uploader_id': self._search_regex(r'/(?:channel|user)/([^/?&#]+)', owner_profile_url, 'uploader id') if owner_profile_url else None,\n",
            "  File \"/usr/local/lib/python3.10/dist-packages/youtube_dl/extractor/common.py\", line 1012, in _search_regex\n",
            "    raise RegexNotFoundError('Unable to extract %s' % _name)\n",
            "youtube_dl.utils.RegexNotFoundError: Unable to extract uploader id; please report this issue on https://yt-dl.org/bug . Make sure you are using the latest version; see  https://yt-dl.org/update  on how to update. Be sure to call youtube-dl with the --verbose flag and include its complete output.\n",
            "\n",
            "[debug] Encodings: locale UTF-8, fs utf-8, out UTF-8, pref UTF-8\n",
            "[debug] youtube-dl version 2021.12.17\n",
            "[debug] Python version 3.10.12 (CPython) - Linux-5.15.120+-x86_64-with-glibc2.35\n",
            "[debug] exe versions: ffmpeg 4.4.2, ffprobe 4.4.2\n",
            "[debug] Proxy map: {'colab_language_server': '/usr/colab/bin/language_service'}\n"
          ]
        },
        {
          "output_type": "stream",
          "name": "stdout",
          "text": [
            "Error downloading video -4NLarMj4xU: ERROR: Unable to extract uploader id; please report this issue on https://yt-dl.org/bug . Make sure you are using the latest version; see  https://yt-dl.org/update  on how to update. Be sure to call youtube-dl with the --verbose flag and include its complete output.\n",
            "[youtube] -4SYC2YgzL8: Downloading webpage\n",
            "[youtube] -4SYC2YgzL8: Downloading MPD manifest\n"
          ]
        },
        {
          "output_type": "stream",
          "name": "stderr",
          "text": [
            "ERROR: Unable to extract uploader id; please report this issue on https://yt-dl.org/bug . Make sure you are using the latest version; see  https://yt-dl.org/update  on how to update. Be sure to call youtube-dl with the --verbose flag and include its complete output.\n",
            "Traceback (most recent call last):\n",
            "  File \"/usr/local/lib/python3.10/dist-packages/youtube_dl/YoutubeDL.py\", line 815, in wrapper\n",
            "    return func(self, *args, **kwargs)\n",
            "  File \"/usr/local/lib/python3.10/dist-packages/youtube_dl/YoutubeDL.py\", line 836, in __extract_info\n",
            "    ie_result = ie.extract(url)\n",
            "  File \"/usr/local/lib/python3.10/dist-packages/youtube_dl/extractor/common.py\", line 534, in extract\n",
            "    ie_result = self._real_extract(url)\n",
            "  File \"/usr/local/lib/python3.10/dist-packages/youtube_dl/extractor/youtube.py\", line 1794, in _real_extract\n",
            "    'uploader_id': self._search_regex(r'/(?:channel|user)/([^/?&#]+)', owner_profile_url, 'uploader id') if owner_profile_url else None,\n",
            "  File \"/usr/local/lib/python3.10/dist-packages/youtube_dl/extractor/common.py\", line 1012, in _search_regex\n",
            "    raise RegexNotFoundError('Unable to extract %s' % _name)\n",
            "youtube_dl.utils.RegexNotFoundError: Unable to extract uploader id; please report this issue on https://yt-dl.org/bug . Make sure you are using the latest version; see  https://yt-dl.org/update  on how to update. Be sure to call youtube-dl with the --verbose flag and include its complete output.\n",
            "\n",
            "[debug] Encodings: locale UTF-8, fs utf-8, out UTF-8, pref UTF-8\n",
            "[debug] youtube-dl version 2021.12.17\n",
            "[debug] Python version 3.10.12 (CPython) - Linux-5.15.120+-x86_64-with-glibc2.35\n",
            "[debug] exe versions: ffmpeg 4.4.2, ffprobe 4.4.2\n",
            "[debug] Proxy map: {'colab_language_server': '/usr/colab/bin/language_service'}\n"
          ]
        },
        {
          "output_type": "stream",
          "name": "stdout",
          "text": [
            "Error downloading video -4SYC2YgzL8: ERROR: Unable to extract uploader id; please report this issue on https://yt-dl.org/bug . Make sure you are using the latest version; see  https://yt-dl.org/update  on how to update. Be sure to call youtube-dl with the --verbose flag and include its complete output.\n",
            "[youtube] -5FoeegAgvU: Downloading webpage\n"
          ]
        },
        {
          "output_type": "stream",
          "name": "stderr",
          "text": [
            "ERROR: Unable to extract uploader id; please report this issue on https://yt-dl.org/bug . Make sure you are using the latest version; see  https://yt-dl.org/update  on how to update. Be sure to call youtube-dl with the --verbose flag and include its complete output.\n",
            "Traceback (most recent call last):\n",
            "  File \"/usr/local/lib/python3.10/dist-packages/youtube_dl/YoutubeDL.py\", line 815, in wrapper\n",
            "    return func(self, *args, **kwargs)\n",
            "  File \"/usr/local/lib/python3.10/dist-packages/youtube_dl/YoutubeDL.py\", line 836, in __extract_info\n",
            "    ie_result = ie.extract(url)\n",
            "  File \"/usr/local/lib/python3.10/dist-packages/youtube_dl/extractor/common.py\", line 534, in extract\n",
            "    ie_result = self._real_extract(url)\n",
            "  File \"/usr/local/lib/python3.10/dist-packages/youtube_dl/extractor/youtube.py\", line 1794, in _real_extract\n",
            "    'uploader_id': self._search_regex(r'/(?:channel|user)/([^/?&#]+)', owner_profile_url, 'uploader id') if owner_profile_url else None,\n",
            "  File \"/usr/local/lib/python3.10/dist-packages/youtube_dl/extractor/common.py\", line 1012, in _search_regex\n",
            "    raise RegexNotFoundError('Unable to extract %s' % _name)\n",
            "youtube_dl.utils.RegexNotFoundError: Unable to extract uploader id; please report this issue on https://yt-dl.org/bug . Make sure you are using the latest version; see  https://yt-dl.org/update  on how to update. Be sure to call youtube-dl with the --verbose flag and include its complete output.\n",
            "\n",
            "[debug] Encodings: locale UTF-8, fs utf-8, out UTF-8, pref UTF-8\n",
            "[debug] youtube-dl version 2021.12.17\n",
            "[debug] Python version 3.10.12 (CPython) - Linux-5.15.120+-x86_64-with-glibc2.35\n",
            "[debug] exe versions: ffmpeg 4.4.2, ffprobe 4.4.2\n",
            "[debug] Proxy map: {'colab_language_server': '/usr/colab/bin/language_service'}\n"
          ]
        },
        {
          "output_type": "stream",
          "name": "stdout",
          "text": [
            "Error downloading video -5FoeegAgvU: ERROR: Unable to extract uploader id; please report this issue on https://yt-dl.org/bug . Make sure you are using the latest version; see  https://yt-dl.org/update  on how to update. Be sure to call youtube-dl with the --verbose flag and include its complete output.\n",
            "[youtube] -5f6hjZf9Yw: Downloading webpage\n"
          ]
        },
        {
          "output_type": "stream",
          "name": "stderr",
          "text": [
            "ERROR: Unable to extract uploader id; please report this issue on https://yt-dl.org/bug . Make sure you are using the latest version; see  https://yt-dl.org/update  on how to update. Be sure to call youtube-dl with the --verbose flag and include its complete output.\n",
            "Traceback (most recent call last):\n",
            "  File \"/usr/local/lib/python3.10/dist-packages/youtube_dl/YoutubeDL.py\", line 815, in wrapper\n",
            "    return func(self, *args, **kwargs)\n",
            "  File \"/usr/local/lib/python3.10/dist-packages/youtube_dl/YoutubeDL.py\", line 836, in __extract_info\n",
            "    ie_result = ie.extract(url)\n",
            "  File \"/usr/local/lib/python3.10/dist-packages/youtube_dl/extractor/common.py\", line 534, in extract\n",
            "    ie_result = self._real_extract(url)\n",
            "  File \"/usr/local/lib/python3.10/dist-packages/youtube_dl/extractor/youtube.py\", line 1794, in _real_extract\n",
            "    'uploader_id': self._search_regex(r'/(?:channel|user)/([^/?&#]+)', owner_profile_url, 'uploader id') if owner_profile_url else None,\n",
            "  File \"/usr/local/lib/python3.10/dist-packages/youtube_dl/extractor/common.py\", line 1012, in _search_regex\n",
            "    raise RegexNotFoundError('Unable to extract %s' % _name)\n",
            "youtube_dl.utils.RegexNotFoundError: Unable to extract uploader id; please report this issue on https://yt-dl.org/bug . Make sure you are using the latest version; see  https://yt-dl.org/update  on how to update. Be sure to call youtube-dl with the --verbose flag and include its complete output.\n",
            "\n",
            "[debug] Encodings: locale UTF-8, fs utf-8, out UTF-8, pref UTF-8\n",
            "[debug] youtube-dl version 2021.12.17\n",
            "[debug] Python version 3.10.12 (CPython) - Linux-5.15.120+-x86_64-with-glibc2.35\n",
            "[debug] exe versions: ffmpeg 4.4.2, ffprobe 4.4.2\n",
            "[debug] Proxy map: {'colab_language_server': '/usr/colab/bin/language_service'}\n"
          ]
        },
        {
          "output_type": "stream",
          "name": "stdout",
          "text": [
            "Error downloading video -5f6hjZf9Yw: ERROR: Unable to extract uploader id; please report this issue on https://yt-dl.org/bug . Make sure you are using the latest version; see  https://yt-dl.org/update  on how to update. Be sure to call youtube-dl with the --verbose flag and include its complete output.\n",
            "[youtube] -5xOcMJpTUk: Downloading webpage\n"
          ]
        },
        {
          "output_type": "stream",
          "name": "stderr",
          "text": [
            "ERROR: Unable to extract uploader id; please report this issue on https://yt-dl.org/bug . Make sure you are using the latest version; see  https://yt-dl.org/update  on how to update. Be sure to call youtube-dl with the --verbose flag and include its complete output.\n",
            "Traceback (most recent call last):\n",
            "  File \"/usr/local/lib/python3.10/dist-packages/youtube_dl/YoutubeDL.py\", line 815, in wrapper\n",
            "    return func(self, *args, **kwargs)\n",
            "  File \"/usr/local/lib/python3.10/dist-packages/youtube_dl/YoutubeDL.py\", line 836, in __extract_info\n",
            "    ie_result = ie.extract(url)\n",
            "  File \"/usr/local/lib/python3.10/dist-packages/youtube_dl/extractor/common.py\", line 534, in extract\n",
            "    ie_result = self._real_extract(url)\n",
            "  File \"/usr/local/lib/python3.10/dist-packages/youtube_dl/extractor/youtube.py\", line 1794, in _real_extract\n",
            "    'uploader_id': self._search_regex(r'/(?:channel|user)/([^/?&#]+)', owner_profile_url, 'uploader id') if owner_profile_url else None,\n",
            "  File \"/usr/local/lib/python3.10/dist-packages/youtube_dl/extractor/common.py\", line 1012, in _search_regex\n",
            "    raise RegexNotFoundError('Unable to extract %s' % _name)\n",
            "youtube_dl.utils.RegexNotFoundError: Unable to extract uploader id; please report this issue on https://yt-dl.org/bug . Make sure you are using the latest version; see  https://yt-dl.org/update  on how to update. Be sure to call youtube-dl with the --verbose flag and include its complete output.\n",
            "\n",
            "[debug] Encodings: locale UTF-8, fs utf-8, out UTF-8, pref UTF-8\n",
            "[debug] youtube-dl version 2021.12.17\n",
            "[debug] Python version 3.10.12 (CPython) - Linux-5.15.120+-x86_64-with-glibc2.35\n",
            "[debug] exe versions: ffmpeg 4.4.2, ffprobe 4.4.2\n",
            "[debug] Proxy map: {'colab_language_server': '/usr/colab/bin/language_service'}\n"
          ]
        },
        {
          "output_type": "stream",
          "name": "stdout",
          "text": [
            "Error downloading video -5xOcMJpTUk: ERROR: Unable to extract uploader id; please report this issue on https://yt-dl.org/bug . Make sure you are using the latest version; see  https://yt-dl.org/update  on how to update. Be sure to call youtube-dl with the --verbose flag and include its complete output.\n",
            "[youtube] -6HBGg1cAI0: Downloading webpage\n"
          ]
        },
        {
          "output_type": "stream",
          "name": "stderr",
          "text": [
            "ERROR: Unable to extract uploader id; please report this issue on https://yt-dl.org/bug . Make sure you are using the latest version; see  https://yt-dl.org/update  on how to update. Be sure to call youtube-dl with the --verbose flag and include its complete output.\n",
            "Traceback (most recent call last):\n",
            "  File \"/usr/local/lib/python3.10/dist-packages/youtube_dl/YoutubeDL.py\", line 815, in wrapper\n",
            "    return func(self, *args, **kwargs)\n",
            "  File \"/usr/local/lib/python3.10/dist-packages/youtube_dl/YoutubeDL.py\", line 836, in __extract_info\n",
            "    ie_result = ie.extract(url)\n",
            "  File \"/usr/local/lib/python3.10/dist-packages/youtube_dl/extractor/common.py\", line 534, in extract\n",
            "    ie_result = self._real_extract(url)\n",
            "  File \"/usr/local/lib/python3.10/dist-packages/youtube_dl/extractor/youtube.py\", line 1794, in _real_extract\n",
            "    'uploader_id': self._search_regex(r'/(?:channel|user)/([^/?&#]+)', owner_profile_url, 'uploader id') if owner_profile_url else None,\n",
            "  File \"/usr/local/lib/python3.10/dist-packages/youtube_dl/extractor/common.py\", line 1012, in _search_regex\n",
            "    raise RegexNotFoundError('Unable to extract %s' % _name)\n",
            "youtube_dl.utils.RegexNotFoundError: Unable to extract uploader id; please report this issue on https://yt-dl.org/bug . Make sure you are using the latest version; see  https://yt-dl.org/update  on how to update. Be sure to call youtube-dl with the --verbose flag and include its complete output.\n",
            "\n",
            "[debug] Encodings: locale UTF-8, fs utf-8, out UTF-8, pref UTF-8\n",
            "[debug] youtube-dl version 2021.12.17\n",
            "[debug] Python version 3.10.12 (CPython) - Linux-5.15.120+-x86_64-with-glibc2.35\n",
            "[debug] exe versions: ffmpeg 4.4.2, ffprobe 4.4.2\n",
            "[debug] Proxy map: {'colab_language_server': '/usr/colab/bin/language_service'}\n"
          ]
        },
        {
          "output_type": "stream",
          "name": "stdout",
          "text": [
            "Error downloading video -6HBGg1cAI0: ERROR: Unable to extract uploader id; please report this issue on https://yt-dl.org/bug . Make sure you are using the latest version; see  https://yt-dl.org/update  on how to update. Be sure to call youtube-dl with the --verbose flag and include its complete output.\n",
            "[youtube] -6QGvxvaTkI: Downloading webpage\n"
          ]
        },
        {
          "output_type": "stream",
          "name": "stderr",
          "text": [
            "ERROR: Unable to extract uploader id; please report this issue on https://yt-dl.org/bug . Make sure you are using the latest version; see  https://yt-dl.org/update  on how to update. Be sure to call youtube-dl with the --verbose flag and include its complete output.\n",
            "Traceback (most recent call last):\n",
            "  File \"/usr/local/lib/python3.10/dist-packages/youtube_dl/YoutubeDL.py\", line 815, in wrapper\n",
            "    return func(self, *args, **kwargs)\n",
            "  File \"/usr/local/lib/python3.10/dist-packages/youtube_dl/YoutubeDL.py\", line 836, in __extract_info\n",
            "    ie_result = ie.extract(url)\n",
            "  File \"/usr/local/lib/python3.10/dist-packages/youtube_dl/extractor/common.py\", line 534, in extract\n",
            "    ie_result = self._real_extract(url)\n",
            "  File \"/usr/local/lib/python3.10/dist-packages/youtube_dl/extractor/youtube.py\", line 1794, in _real_extract\n",
            "    'uploader_id': self._search_regex(r'/(?:channel|user)/([^/?&#]+)', owner_profile_url, 'uploader id') if owner_profile_url else None,\n",
            "  File \"/usr/local/lib/python3.10/dist-packages/youtube_dl/extractor/common.py\", line 1012, in _search_regex\n",
            "    raise RegexNotFoundError('Unable to extract %s' % _name)\n",
            "youtube_dl.utils.RegexNotFoundError: Unable to extract uploader id; please report this issue on https://yt-dl.org/bug . Make sure you are using the latest version; see  https://yt-dl.org/update  on how to update. Be sure to call youtube-dl with the --verbose flag and include its complete output.\n",
            "\n",
            "[debug] Encodings: locale UTF-8, fs utf-8, out UTF-8, pref UTF-8\n",
            "[debug] youtube-dl version 2021.12.17\n",
            "[debug] Python version 3.10.12 (CPython) - Linux-5.15.120+-x86_64-with-glibc2.35\n",
            "[debug] exe versions: ffmpeg 4.4.2, ffprobe 4.4.2\n",
            "[debug] Proxy map: {'colab_language_server': '/usr/colab/bin/language_service'}\n"
          ]
        },
        {
          "output_type": "stream",
          "name": "stdout",
          "text": [
            "Error downloading video -6QGvxvaTkI: ERROR: Unable to extract uploader id; please report this issue on https://yt-dl.org/bug . Make sure you are using the latest version; see  https://yt-dl.org/update  on how to update. Be sure to call youtube-dl with the --verbose flag and include its complete output.\n",
            "[youtube] -6pcgdLfb_A: Downloading webpage\n"
          ]
        },
        {
          "output_type": "stream",
          "name": "stderr",
          "text": [
            "ERROR: Unable to extract uploader id; please report this issue on https://yt-dl.org/bug . Make sure you are using the latest version; see  https://yt-dl.org/update  on how to update. Be sure to call youtube-dl with the --verbose flag and include its complete output.\n",
            "Traceback (most recent call last):\n",
            "  File \"/usr/local/lib/python3.10/dist-packages/youtube_dl/YoutubeDL.py\", line 815, in wrapper\n",
            "    return func(self, *args, **kwargs)\n",
            "  File \"/usr/local/lib/python3.10/dist-packages/youtube_dl/YoutubeDL.py\", line 836, in __extract_info\n",
            "    ie_result = ie.extract(url)\n",
            "  File \"/usr/local/lib/python3.10/dist-packages/youtube_dl/extractor/common.py\", line 534, in extract\n",
            "    ie_result = self._real_extract(url)\n",
            "  File \"/usr/local/lib/python3.10/dist-packages/youtube_dl/extractor/youtube.py\", line 1794, in _real_extract\n",
            "    'uploader_id': self._search_regex(r'/(?:channel|user)/([^/?&#]+)', owner_profile_url, 'uploader id') if owner_profile_url else None,\n",
            "  File \"/usr/local/lib/python3.10/dist-packages/youtube_dl/extractor/common.py\", line 1012, in _search_regex\n",
            "    raise RegexNotFoundError('Unable to extract %s' % _name)\n",
            "youtube_dl.utils.RegexNotFoundError: Unable to extract uploader id; please report this issue on https://yt-dl.org/bug . Make sure you are using the latest version; see  https://yt-dl.org/update  on how to update. Be sure to call youtube-dl with the --verbose flag and include its complete output.\n",
            "\n",
            "[debug] Encodings: locale UTF-8, fs utf-8, out UTF-8, pref UTF-8\n",
            "[debug] youtube-dl version 2021.12.17\n",
            "[debug] Python version 3.10.12 (CPython) - Linux-5.15.120+-x86_64-with-glibc2.35\n",
            "[debug] exe versions: ffmpeg 4.4.2, ffprobe 4.4.2\n",
            "[debug] Proxy map: {'colab_language_server': '/usr/colab/bin/language_service'}\n"
          ]
        },
        {
          "output_type": "stream",
          "name": "stdout",
          "text": [
            "Error downloading video -6pcgdLfb_A: ERROR: Unable to extract uploader id; please report this issue on https://yt-dl.org/bug . Make sure you are using the latest version; see  https://yt-dl.org/update  on how to update. Be sure to call youtube-dl with the --verbose flag and include its complete output.\n",
            "[youtube] -7B9tPuIP-w: Downloading webpage\n"
          ]
        },
        {
          "output_type": "stream",
          "name": "stderr",
          "text": [
            "ERROR: Unable to extract uploader id; please report this issue on https://yt-dl.org/bug . Make sure you are using the latest version; see  https://yt-dl.org/update  on how to update. Be sure to call youtube-dl with the --verbose flag and include its complete output.\n",
            "Traceback (most recent call last):\n",
            "  File \"/usr/local/lib/python3.10/dist-packages/youtube_dl/YoutubeDL.py\", line 815, in wrapper\n",
            "    return func(self, *args, **kwargs)\n",
            "  File \"/usr/local/lib/python3.10/dist-packages/youtube_dl/YoutubeDL.py\", line 836, in __extract_info\n",
            "    ie_result = ie.extract(url)\n",
            "  File \"/usr/local/lib/python3.10/dist-packages/youtube_dl/extractor/common.py\", line 534, in extract\n",
            "    ie_result = self._real_extract(url)\n",
            "  File \"/usr/local/lib/python3.10/dist-packages/youtube_dl/extractor/youtube.py\", line 1794, in _real_extract\n",
            "    'uploader_id': self._search_regex(r'/(?:channel|user)/([^/?&#]+)', owner_profile_url, 'uploader id') if owner_profile_url else None,\n",
            "  File \"/usr/local/lib/python3.10/dist-packages/youtube_dl/extractor/common.py\", line 1012, in _search_regex\n",
            "    raise RegexNotFoundError('Unable to extract %s' % _name)\n",
            "youtube_dl.utils.RegexNotFoundError: Unable to extract uploader id; please report this issue on https://yt-dl.org/bug . Make sure you are using the latest version; see  https://yt-dl.org/update  on how to update. Be sure to call youtube-dl with the --verbose flag and include its complete output.\n",
            "\n",
            "[debug] Encodings: locale UTF-8, fs utf-8, out UTF-8, pref UTF-8\n",
            "[debug] youtube-dl version 2021.12.17\n",
            "[debug] Python version 3.10.12 (CPython) - Linux-5.15.120+-x86_64-with-glibc2.35\n",
            "[debug] exe versions: ffmpeg 4.4.2, ffprobe 4.4.2\n",
            "[debug] Proxy map: {'colab_language_server': '/usr/colab/bin/language_service'}\n"
          ]
        },
        {
          "output_type": "stream",
          "name": "stdout",
          "text": [
            "Error downloading video -7B9tPuIP-w: ERROR: Unable to extract uploader id; please report this issue on https://yt-dl.org/bug . Make sure you are using the latest version; see  https://yt-dl.org/update  on how to update. Be sure to call youtube-dl with the --verbose flag and include its complete output.\n",
            "[youtube] -7wUQP6G5EQ: Downloading webpage\n"
          ]
        },
        {
          "output_type": "stream",
          "name": "stderr",
          "text": [
            "ERROR: Unable to extract uploader id; please report this issue on https://yt-dl.org/bug . Make sure you are using the latest version; see  https://yt-dl.org/update  on how to update. Be sure to call youtube-dl with the --verbose flag and include its complete output.\n",
            "Traceback (most recent call last):\n",
            "  File \"/usr/local/lib/python3.10/dist-packages/youtube_dl/YoutubeDL.py\", line 815, in wrapper\n",
            "    return func(self, *args, **kwargs)\n",
            "  File \"/usr/local/lib/python3.10/dist-packages/youtube_dl/YoutubeDL.py\", line 836, in __extract_info\n",
            "    ie_result = ie.extract(url)\n",
            "  File \"/usr/local/lib/python3.10/dist-packages/youtube_dl/extractor/common.py\", line 534, in extract\n",
            "    ie_result = self._real_extract(url)\n",
            "  File \"/usr/local/lib/python3.10/dist-packages/youtube_dl/extractor/youtube.py\", line 1794, in _real_extract\n",
            "    'uploader_id': self._search_regex(r'/(?:channel|user)/([^/?&#]+)', owner_profile_url, 'uploader id') if owner_profile_url else None,\n",
            "  File \"/usr/local/lib/python3.10/dist-packages/youtube_dl/extractor/common.py\", line 1012, in _search_regex\n",
            "    raise RegexNotFoundError('Unable to extract %s' % _name)\n",
            "youtube_dl.utils.RegexNotFoundError: Unable to extract uploader id; please report this issue on https://yt-dl.org/bug . Make sure you are using the latest version; see  https://yt-dl.org/update  on how to update. Be sure to call youtube-dl with the --verbose flag and include its complete output.\n",
            "\n",
            "[debug] Encodings: locale UTF-8, fs utf-8, out UTF-8, pref UTF-8\n",
            "[debug] youtube-dl version 2021.12.17\n",
            "[debug] Python version 3.10.12 (CPython) - Linux-5.15.120+-x86_64-with-glibc2.35\n",
            "[debug] exe versions: ffmpeg 4.4.2, ffprobe 4.4.2\n",
            "[debug] Proxy map: {'colab_language_server': '/usr/colab/bin/language_service'}\n"
          ]
        },
        {
          "output_type": "stream",
          "name": "stdout",
          "text": [
            "Error downloading video -7wUQP6G5EQ: ERROR: Unable to extract uploader id; please report this issue on https://yt-dl.org/bug . Make sure you are using the latest version; see  https://yt-dl.org/update  on how to update. Be sure to call youtube-dl with the --verbose flag and include its complete output.\n",
            "[youtube] -88me9bBzrk: Downloading webpage\n",
            "[youtube] -88me9bBzrk: Downloading MPD manifest\n"
          ]
        },
        {
          "output_type": "stream",
          "name": "stderr",
          "text": [
            "ERROR: Unable to extract uploader id; please report this issue on https://yt-dl.org/bug . Make sure you are using the latest version; see  https://yt-dl.org/update  on how to update. Be sure to call youtube-dl with the --verbose flag and include its complete output.\n",
            "Traceback (most recent call last):\n",
            "  File \"/usr/local/lib/python3.10/dist-packages/youtube_dl/YoutubeDL.py\", line 815, in wrapper\n",
            "    return func(self, *args, **kwargs)\n",
            "  File \"/usr/local/lib/python3.10/dist-packages/youtube_dl/YoutubeDL.py\", line 836, in __extract_info\n",
            "    ie_result = ie.extract(url)\n",
            "  File \"/usr/local/lib/python3.10/dist-packages/youtube_dl/extractor/common.py\", line 534, in extract\n",
            "    ie_result = self._real_extract(url)\n",
            "  File \"/usr/local/lib/python3.10/dist-packages/youtube_dl/extractor/youtube.py\", line 1794, in _real_extract\n",
            "    'uploader_id': self._search_regex(r'/(?:channel|user)/([^/?&#]+)', owner_profile_url, 'uploader id') if owner_profile_url else None,\n",
            "  File \"/usr/local/lib/python3.10/dist-packages/youtube_dl/extractor/common.py\", line 1012, in _search_regex\n",
            "    raise RegexNotFoundError('Unable to extract %s' % _name)\n",
            "youtube_dl.utils.RegexNotFoundError: Unable to extract uploader id; please report this issue on https://yt-dl.org/bug . Make sure you are using the latest version; see  https://yt-dl.org/update  on how to update. Be sure to call youtube-dl with the --verbose flag and include its complete output.\n",
            "\n",
            "[debug] Encodings: locale UTF-8, fs utf-8, out UTF-8, pref UTF-8\n",
            "[debug] youtube-dl version 2021.12.17\n",
            "[debug] Python version 3.10.12 (CPython) - Linux-5.15.120+-x86_64-with-glibc2.35\n"
          ]
        },
        {
          "output_type": "stream",
          "name": "stdout",
          "text": [
            "Error downloading video -88me9bBzrk: ERROR: Unable to extract uploader id; please report this issue on https://yt-dl.org/bug . Make sure you are using the latest version; see  https://yt-dl.org/update  on how to update. Be sure to call youtube-dl with the --verbose flag and include its complete output.\n"
          ]
        },
        {
          "output_type": "stream",
          "name": "stderr",
          "text": [
            "[debug] exe versions: ffmpeg 4.4.2, ffprobe 4.4.2\n",
            "[debug] Proxy map: {'colab_language_server': '/usr/colab/bin/language_service'}\n"
          ]
        },
        {
          "output_type": "stream",
          "name": "stdout",
          "text": [
            "[youtube] -8C-gydUbR8: Downloading webpage\n"
          ]
        },
        {
          "output_type": "stream",
          "name": "stderr",
          "text": [
            "ERROR: Unable to extract uploader id; please report this issue on https://yt-dl.org/bug . Make sure you are using the latest version; see  https://yt-dl.org/update  on how to update. Be sure to call youtube-dl with the --verbose flag and include its complete output.\n",
            "Traceback (most recent call last):\n",
            "  File \"/usr/local/lib/python3.10/dist-packages/youtube_dl/YoutubeDL.py\", line 815, in wrapper\n",
            "    return func(self, *args, **kwargs)\n",
            "  File \"/usr/local/lib/python3.10/dist-packages/youtube_dl/YoutubeDL.py\", line 836, in __extract_info\n",
            "    ie_result = ie.extract(url)\n",
            "  File \"/usr/local/lib/python3.10/dist-packages/youtube_dl/extractor/common.py\", line 534, in extract\n",
            "    ie_result = self._real_extract(url)\n",
            "  File \"/usr/local/lib/python3.10/dist-packages/youtube_dl/extractor/youtube.py\", line 1794, in _real_extract\n",
            "    'uploader_id': self._search_regex(r'/(?:channel|user)/([^/?&#]+)', owner_profile_url, 'uploader id') if owner_profile_url else None,\n",
            "  File \"/usr/local/lib/python3.10/dist-packages/youtube_dl/extractor/common.py\", line 1012, in _search_regex\n",
            "    raise RegexNotFoundError('Unable to extract %s' % _name)\n",
            "youtube_dl.utils.RegexNotFoundError: Unable to extract uploader id; please report this issue on https://yt-dl.org/bug . Make sure you are using the latest version; see  https://yt-dl.org/update  on how to update. Be sure to call youtube-dl with the --verbose flag and include its complete output.\n",
            "\n",
            "[debug] Encodings: locale UTF-8, fs utf-8, out UTF-8, pref UTF-8\n",
            "[debug] youtube-dl version 2021.12.17\n",
            "[debug] Python version 3.10.12 (CPython) - Linux-5.15.120+-x86_64-with-glibc2.35\n"
          ]
        },
        {
          "output_type": "stream",
          "name": "stdout",
          "text": [
            "Error downloading video -8C-gydUbR8: ERROR: Unable to extract uploader id; please report this issue on https://yt-dl.org/bug . Make sure you are using the latest version; see  https://yt-dl.org/update  on how to update. Be sure to call youtube-dl with the --verbose flag and include its complete output.\n"
          ]
        },
        {
          "output_type": "stream",
          "name": "stderr",
          "text": [
            "[debug] exe versions: ffmpeg 4.4.2, ffprobe 4.4.2\n",
            "[debug] Proxy map: {'colab_language_server': '/usr/colab/bin/language_service'}\n"
          ]
        },
        {
          "output_type": "stream",
          "name": "stdout",
          "text": [
            "[youtube] -8cgbhIR_pw: Downloading webpage\n"
          ]
        },
        {
          "output_type": "stream",
          "name": "stderr",
          "text": [
            "ERROR: Unable to extract uploader id; please report this issue on https://yt-dl.org/bug . Make sure you are using the latest version; see  https://yt-dl.org/update  on how to update. Be sure to call youtube-dl with the --verbose flag and include its complete output.\n",
            "Traceback (most recent call last):\n",
            "  File \"/usr/local/lib/python3.10/dist-packages/youtube_dl/YoutubeDL.py\", line 815, in wrapper\n",
            "    return func(self, *args, **kwargs)\n",
            "  File \"/usr/local/lib/python3.10/dist-packages/youtube_dl/YoutubeDL.py\", line 836, in __extract_info\n",
            "    ie_result = ie.extract(url)\n",
            "  File \"/usr/local/lib/python3.10/dist-packages/youtube_dl/extractor/common.py\", line 534, in extract\n",
            "    ie_result = self._real_extract(url)\n",
            "  File \"/usr/local/lib/python3.10/dist-packages/youtube_dl/extractor/youtube.py\", line 1794, in _real_extract\n",
            "    'uploader_id': self._search_regex(r'/(?:channel|user)/([^/?&#]+)', owner_profile_url, 'uploader id') if owner_profile_url else None,\n",
            "  File \"/usr/local/lib/python3.10/dist-packages/youtube_dl/extractor/common.py\", line 1012, in _search_regex\n",
            "    raise RegexNotFoundError('Unable to extract %s' % _name)\n",
            "youtube_dl.utils.RegexNotFoundError: Unable to extract uploader id; please report this issue on https://yt-dl.org/bug . Make sure you are using the latest version; see  https://yt-dl.org/update  on how to update. Be sure to call youtube-dl with the --verbose flag and include its complete output.\n",
            "\n",
            "[debug] Encodings: locale UTF-8, fs utf-8, out UTF-8, pref UTF-8\n",
            "[debug] youtube-dl version 2021.12.17\n",
            "[debug] Python version 3.10.12 (CPython) - Linux-5.15.120+-x86_64-with-glibc2.35\n"
          ]
        },
        {
          "output_type": "stream",
          "name": "stdout",
          "text": [
            "Error downloading video -8cgbhIR_pw: ERROR: Unable to extract uploader id; please report this issue on https://yt-dl.org/bug . Make sure you are using the latest version; see  https://yt-dl.org/update  on how to update. Be sure to call youtube-dl with the --verbose flag and include its complete output.\n"
          ]
        },
        {
          "output_type": "stream",
          "name": "stderr",
          "text": [
            "[debug] exe versions: ffmpeg 4.4.2, ffprobe 4.4.2\n",
            "[debug] Proxy map: {'colab_language_server': '/usr/colab/bin/language_service'}\n"
          ]
        },
        {
          "output_type": "stream",
          "name": "stdout",
          "text": [
            "[youtube] -BHPu-dPmWQ: Downloading webpage\n"
          ]
        },
        {
          "output_type": "stream",
          "name": "stderr",
          "text": [
            "ERROR: Unable to extract uploader id; please report this issue on https://yt-dl.org/bug . Make sure you are using the latest version; see  https://yt-dl.org/update  on how to update. Be sure to call youtube-dl with the --verbose flag and include its complete output.\n",
            "Traceback (most recent call last):\n",
            "  File \"/usr/local/lib/python3.10/dist-packages/youtube_dl/YoutubeDL.py\", line 815, in wrapper\n",
            "    return func(self, *args, **kwargs)\n",
            "  File \"/usr/local/lib/python3.10/dist-packages/youtube_dl/YoutubeDL.py\", line 836, in __extract_info\n",
            "    ie_result = ie.extract(url)\n",
            "  File \"/usr/local/lib/python3.10/dist-packages/youtube_dl/extractor/common.py\", line 534, in extract\n",
            "    ie_result = self._real_extract(url)\n",
            "  File \"/usr/local/lib/python3.10/dist-packages/youtube_dl/extractor/youtube.py\", line 1794, in _real_extract\n",
            "    'uploader_id': self._search_regex(r'/(?:channel|user)/([^/?&#]+)', owner_profile_url, 'uploader id') if owner_profile_url else None,\n",
            "  File \"/usr/local/lib/python3.10/dist-packages/youtube_dl/extractor/common.py\", line 1012, in _search_regex\n",
            "    raise RegexNotFoundError('Unable to extract %s' % _name)\n",
            "youtube_dl.utils.RegexNotFoundError: Unable to extract uploader id; please report this issue on https://yt-dl.org/bug . Make sure you are using the latest version; see  https://yt-dl.org/update  on how to update. Be sure to call youtube-dl with the --verbose flag and include its complete output.\n",
            "\n",
            "[debug] Encodings: locale UTF-8, fs utf-8, out UTF-8, pref UTF-8\n",
            "[debug] youtube-dl version 2021.12.17\n",
            "[debug] Python version 3.10.12 (CPython) - Linux-5.15.120+-x86_64-with-glibc2.35\n"
          ]
        },
        {
          "output_type": "stream",
          "name": "stdout",
          "text": [
            "Error downloading video -BHPu-dPmWQ: ERROR: Unable to extract uploader id; please report this issue on https://yt-dl.org/bug . Make sure you are using the latest version; see  https://yt-dl.org/update  on how to update. Be sure to call youtube-dl with the --verbose flag and include its complete output.\n"
          ]
        },
        {
          "output_type": "stream",
          "name": "stderr",
          "text": [
            "[debug] exe versions: ffmpeg 4.4.2, ffprobe 4.4.2\n",
            "[debug] Proxy map: {'colab_language_server': '/usr/colab/bin/language_service'}\n"
          ]
        },
        {
          "output_type": "stream",
          "name": "stdout",
          "text": [
            "[youtube] -BIMKnb3tlo: Downloading webpage\n"
          ]
        },
        {
          "output_type": "stream",
          "name": "stderr",
          "text": [
            "ERROR: Unable to extract uploader id; please report this issue on https://yt-dl.org/bug . Make sure you are using the latest version; see  https://yt-dl.org/update  on how to update. Be sure to call youtube-dl with the --verbose flag and include its complete output.\n",
            "Traceback (most recent call last):\n",
            "  File \"/usr/local/lib/python3.10/dist-packages/youtube_dl/YoutubeDL.py\", line 815, in wrapper\n",
            "    return func(self, *args, **kwargs)\n",
            "  File \"/usr/local/lib/python3.10/dist-packages/youtube_dl/YoutubeDL.py\", line 836, in __extract_info\n",
            "    ie_result = ie.extract(url)\n",
            "  File \"/usr/local/lib/python3.10/dist-packages/youtube_dl/extractor/common.py\", line 534, in extract\n",
            "    ie_result = self._real_extract(url)\n",
            "  File \"/usr/local/lib/python3.10/dist-packages/youtube_dl/extractor/youtube.py\", line 1794, in _real_extract\n",
            "    'uploader_id': self._search_regex(r'/(?:channel|user)/([^/?&#]+)', owner_profile_url, 'uploader id') if owner_profile_url else None,\n",
            "  File \"/usr/local/lib/python3.10/dist-packages/youtube_dl/extractor/common.py\", line 1012, in _search_regex\n",
            "    raise RegexNotFoundError('Unable to extract %s' % _name)\n",
            "youtube_dl.utils.RegexNotFoundError: Unable to extract uploader id; please report this issue on https://yt-dl.org/bug . Make sure you are using the latest version; see  https://yt-dl.org/update  on how to update. Be sure to call youtube-dl with the --verbose flag and include its complete output.\n",
            "\n",
            "[debug] Encodings: locale UTF-8, fs utf-8, out UTF-8, pref UTF-8\n",
            "[debug] youtube-dl version 2021.12.17\n",
            "[debug] Python version 3.10.12 (CPython) - Linux-5.15.120+-x86_64-with-glibc2.35\n"
          ]
        },
        {
          "output_type": "stream",
          "name": "stdout",
          "text": [
            "Error downloading video -BIMKnb3tlo: ERROR: Unable to extract uploader id; please report this issue on https://yt-dl.org/bug . Make sure you are using the latest version; see  https://yt-dl.org/update  on how to update. Be sure to call youtube-dl with the --verbose flag and include its complete output.\n"
          ]
        },
        {
          "output_type": "stream",
          "name": "stderr",
          "text": [
            "[debug] exe versions: ffmpeg 4.4.2, ffprobe 4.4.2\n",
            "[debug] Proxy map: {'colab_language_server': '/usr/colab/bin/language_service'}\n"
          ]
        },
        {
          "output_type": "stream",
          "name": "stdout",
          "text": [
            "[youtube] -Bu7YaslRW0: Downloading webpage\n"
          ]
        },
        {
          "output_type": "stream",
          "name": "stderr",
          "text": [
            "ERROR: Unable to extract uploader id; please report this issue on https://yt-dl.org/bug . Make sure you are using the latest version; see  https://yt-dl.org/update  on how to update. Be sure to call youtube-dl with the --verbose flag and include its complete output.\n",
            "Traceback (most recent call last):\n",
            "  File \"/usr/local/lib/python3.10/dist-packages/youtube_dl/YoutubeDL.py\", line 815, in wrapper\n",
            "    return func(self, *args, **kwargs)\n",
            "  File \"/usr/local/lib/python3.10/dist-packages/youtube_dl/YoutubeDL.py\", line 836, in __extract_info\n",
            "    ie_result = ie.extract(url)\n",
            "  File \"/usr/local/lib/python3.10/dist-packages/youtube_dl/extractor/common.py\", line 534, in extract\n",
            "    ie_result = self._real_extract(url)\n",
            "  File \"/usr/local/lib/python3.10/dist-packages/youtube_dl/extractor/youtube.py\", line 1794, in _real_extract\n",
            "    'uploader_id': self._search_regex(r'/(?:channel|user)/([^/?&#]+)', owner_profile_url, 'uploader id') if owner_profile_url else None,\n",
            "  File \"/usr/local/lib/python3.10/dist-packages/youtube_dl/extractor/common.py\", line 1012, in _search_regex\n",
            "    raise RegexNotFoundError('Unable to extract %s' % _name)\n",
            "youtube_dl.utils.RegexNotFoundError: Unable to extract uploader id; please report this issue on https://yt-dl.org/bug . Make sure you are using the latest version; see  https://yt-dl.org/update  on how to update. Be sure to call youtube-dl with the --verbose flag and include its complete output.\n",
            "\n",
            "[debug] Encodings: locale UTF-8, fs utf-8, out UTF-8, pref UTF-8\n",
            "[debug] youtube-dl version 2021.12.17\n",
            "[debug] Python version 3.10.12 (CPython) - Linux-5.15.120+-x86_64-with-glibc2.35\n"
          ]
        },
        {
          "output_type": "stream",
          "name": "stdout",
          "text": [
            "Error downloading video -Bu7YaslRW0: ERROR: Unable to extract uploader id; please report this issue on https://yt-dl.org/bug . Make sure you are using the latest version; see  https://yt-dl.org/update  on how to update. Be sure to call youtube-dl with the --verbose flag and include its complete output.\n"
          ]
        },
        {
          "output_type": "stream",
          "name": "stderr",
          "text": [
            "[debug] exe versions: ffmpeg 4.4.2, ffprobe 4.4.2\n",
            "[debug] Proxy map: {'colab_language_server': '/usr/colab/bin/language_service'}\n"
          ]
        },
        {
          "output_type": "stream",
          "name": "stdout",
          "text": [
            "[youtube] -ByoSbgzr4M: Downloading webpage\n"
          ]
        },
        {
          "output_type": "stream",
          "name": "stderr",
          "text": [
            "ERROR: Unable to extract uploader id; please report this issue on https://yt-dl.org/bug . Make sure you are using the latest version; see  https://yt-dl.org/update  on how to update. Be sure to call youtube-dl with the --verbose flag and include its complete output.\n",
            "Traceback (most recent call last):\n",
            "  File \"/usr/local/lib/python3.10/dist-packages/youtube_dl/YoutubeDL.py\", line 815, in wrapper\n",
            "    return func(self, *args, **kwargs)\n",
            "  File \"/usr/local/lib/python3.10/dist-packages/youtube_dl/YoutubeDL.py\", line 836, in __extract_info\n",
            "    ie_result = ie.extract(url)\n",
            "  File \"/usr/local/lib/python3.10/dist-packages/youtube_dl/extractor/common.py\", line 534, in extract\n",
            "    ie_result = self._real_extract(url)\n",
            "  File \"/usr/local/lib/python3.10/dist-packages/youtube_dl/extractor/youtube.py\", line 1794, in _real_extract\n",
            "    'uploader_id': self._search_regex(r'/(?:channel|user)/([^/?&#]+)', owner_profile_url, 'uploader id') if owner_profile_url else None,\n",
            "  File \"/usr/local/lib/python3.10/dist-packages/youtube_dl/extractor/common.py\", line 1012, in _search_regex\n",
            "    raise RegexNotFoundError('Unable to extract %s' % _name)\n",
            "youtube_dl.utils.RegexNotFoundError: Unable to extract uploader id; please report this issue on https://yt-dl.org/bug . Make sure you are using the latest version; see  https://yt-dl.org/update  on how to update. Be sure to call youtube-dl with the --verbose flag and include its complete output.\n",
            "\n",
            "[debug] Encodings: locale UTF-8, fs utf-8, out UTF-8, pref UTF-8\n",
            "[debug] youtube-dl version 2021.12.17\n",
            "[debug] Python version 3.10.12 (CPython) - Linux-5.15.120+-x86_64-with-glibc2.35\n",
            "[debug] exe versions: ffmpeg 4.4.2, ffprobe 4.4.2\n",
            "[debug] Proxy map: {'colab_language_server': '/usr/colab/bin/language_service'}\n"
          ]
        },
        {
          "output_type": "stream",
          "name": "stdout",
          "text": [
            "Error downloading video -ByoSbgzr4M: ERROR: Unable to extract uploader id; please report this issue on https://yt-dl.org/bug . Make sure you are using the latest version; see  https://yt-dl.org/update  on how to update. Be sure to call youtube-dl with the --verbose flag and include its complete output.\n",
            "[youtube] -CUp_Tmg2Y0: Downloading webpage\n"
          ]
        },
        {
          "output_type": "stream",
          "name": "stderr",
          "text": [
            "ERROR: Unable to extract uploader id; please report this issue on https://yt-dl.org/bug . Make sure you are using the latest version; see  https://yt-dl.org/update  on how to update. Be sure to call youtube-dl with the --verbose flag and include its complete output.\n",
            "Traceback (most recent call last):\n",
            "  File \"/usr/local/lib/python3.10/dist-packages/youtube_dl/YoutubeDL.py\", line 815, in wrapper\n",
            "    return func(self, *args, **kwargs)\n",
            "  File \"/usr/local/lib/python3.10/dist-packages/youtube_dl/YoutubeDL.py\", line 836, in __extract_info\n",
            "    ie_result = ie.extract(url)\n",
            "  File \"/usr/local/lib/python3.10/dist-packages/youtube_dl/extractor/common.py\", line 534, in extract\n",
            "    ie_result = self._real_extract(url)\n",
            "  File \"/usr/local/lib/python3.10/dist-packages/youtube_dl/extractor/youtube.py\", line 1794, in _real_extract\n",
            "    'uploader_id': self._search_regex(r'/(?:channel|user)/([^/?&#]+)', owner_profile_url, 'uploader id') if owner_profile_url else None,\n",
            "  File \"/usr/local/lib/python3.10/dist-packages/youtube_dl/extractor/common.py\", line 1012, in _search_regex\n",
            "    raise RegexNotFoundError('Unable to extract %s' % _name)\n",
            "youtube_dl.utils.RegexNotFoundError: Unable to extract uploader id; please report this issue on https://yt-dl.org/bug . Make sure you are using the latest version; see  https://yt-dl.org/update  on how to update. Be sure to call youtube-dl with the --verbose flag and include its complete output.\n",
            "\n",
            "[debug] Encodings: locale UTF-8, fs utf-8, out UTF-8, pref UTF-8\n",
            "[debug] youtube-dl version 2021.12.17\n",
            "[debug] Python version 3.10.12 (CPython) - Linux-5.15.120+-x86_64-with-glibc2.35\n",
            "[debug] exe versions: ffmpeg 4.4.2, ffprobe 4.4.2\n",
            "[debug] Proxy map: {'colab_language_server': '/usr/colab/bin/language_service'}\n"
          ]
        },
        {
          "output_type": "stream",
          "name": "stdout",
          "text": [
            "Error downloading video -CUp_Tmg2Y0: ERROR: Unable to extract uploader id; please report this issue on https://yt-dl.org/bug . Make sure you are using the latest version; see  https://yt-dl.org/update  on how to update. Be sure to call youtube-dl with the --verbose flag and include its complete output.\n",
            "[youtube] -DeAdhYKbGE: Downloading webpage\n"
          ]
        },
        {
          "output_type": "stream",
          "name": "stderr",
          "text": [
            "ERROR: Unable to extract uploader id; please report this issue on https://yt-dl.org/bug . Make sure you are using the latest version; see  https://yt-dl.org/update  on how to update. Be sure to call youtube-dl with the --verbose flag and include its complete output.\n",
            "Traceback (most recent call last):\n",
            "  File \"/usr/local/lib/python3.10/dist-packages/youtube_dl/YoutubeDL.py\", line 815, in wrapper\n",
            "    return func(self, *args, **kwargs)\n",
            "  File \"/usr/local/lib/python3.10/dist-packages/youtube_dl/YoutubeDL.py\", line 836, in __extract_info\n",
            "    ie_result = ie.extract(url)\n",
            "  File \"/usr/local/lib/python3.10/dist-packages/youtube_dl/extractor/common.py\", line 534, in extract\n",
            "    ie_result = self._real_extract(url)\n",
            "  File \"/usr/local/lib/python3.10/dist-packages/youtube_dl/extractor/youtube.py\", line 1794, in _real_extract\n",
            "    'uploader_id': self._search_regex(r'/(?:channel|user)/([^/?&#]+)', owner_profile_url, 'uploader id') if owner_profile_url else None,\n",
            "  File \"/usr/local/lib/python3.10/dist-packages/youtube_dl/extractor/common.py\", line 1012, in _search_regex\n",
            "    raise RegexNotFoundError('Unable to extract %s' % _name)\n",
            "youtube_dl.utils.RegexNotFoundError: Unable to extract uploader id; please report this issue on https://yt-dl.org/bug . Make sure you are using the latest version; see  https://yt-dl.org/update  on how to update. Be sure to call youtube-dl with the --verbose flag and include its complete output.\n",
            "\n",
            "[debug] Encodings: locale UTF-8, fs utf-8, out UTF-8, pref UTF-8\n",
            "[debug] youtube-dl version 2021.12.17\n",
            "[debug] Python version 3.10.12 (CPython) - Linux-5.15.120+-x86_64-with-glibc2.35\n",
            "[debug] exe versions: ffmpeg 4.4.2, ffprobe 4.4.2\n",
            "[debug] Proxy map: {'colab_language_server': '/usr/colab/bin/language_service'}\n"
          ]
        },
        {
          "output_type": "stream",
          "name": "stdout",
          "text": [
            "Error downloading video -DeAdhYKbGE: ERROR: Unable to extract uploader id; please report this issue on https://yt-dl.org/bug . Make sure you are using the latest version; see  https://yt-dl.org/update  on how to update. Be sure to call youtube-dl with the --verbose flag and include its complete output.\n",
            "[youtube] -Dtir74TiUM: Downloading webpage\n"
          ]
        },
        {
          "output_type": "stream",
          "name": "stderr",
          "text": [
            "ERROR: Unable to extract uploader id; please report this issue on https://yt-dl.org/bug . Make sure you are using the latest version; see  https://yt-dl.org/update  on how to update. Be sure to call youtube-dl with the --verbose flag and include its complete output.\n",
            "Traceback (most recent call last):\n",
            "  File \"/usr/local/lib/python3.10/dist-packages/youtube_dl/YoutubeDL.py\", line 815, in wrapper\n",
            "    return func(self, *args, **kwargs)\n",
            "  File \"/usr/local/lib/python3.10/dist-packages/youtube_dl/YoutubeDL.py\", line 836, in __extract_info\n",
            "    ie_result = ie.extract(url)\n",
            "  File \"/usr/local/lib/python3.10/dist-packages/youtube_dl/extractor/common.py\", line 534, in extract\n",
            "    ie_result = self._real_extract(url)\n",
            "  File \"/usr/local/lib/python3.10/dist-packages/youtube_dl/extractor/youtube.py\", line 1794, in _real_extract\n",
            "    'uploader_id': self._search_regex(r'/(?:channel|user)/([^/?&#]+)', owner_profile_url, 'uploader id') if owner_profile_url else None,\n",
            "  File \"/usr/local/lib/python3.10/dist-packages/youtube_dl/extractor/common.py\", line 1012, in _search_regex\n",
            "    raise RegexNotFoundError('Unable to extract %s' % _name)\n",
            "youtube_dl.utils.RegexNotFoundError: Unable to extract uploader id; please report this issue on https://yt-dl.org/bug . Make sure you are using the latest version; see  https://yt-dl.org/update  on how to update. Be sure to call youtube-dl with the --verbose flag and include its complete output.\n",
            "\n",
            "[debug] Encodings: locale UTF-8, fs utf-8, out UTF-8, pref UTF-8\n",
            "[debug] youtube-dl version 2021.12.17\n",
            "[debug] Python version 3.10.12 (CPython) - Linux-5.15.120+-x86_64-with-glibc2.35\n"
          ]
        },
        {
          "output_type": "stream",
          "name": "stdout",
          "text": [
            "Error downloading video -Dtir74TiUM: ERROR: Unable to extract uploader id; please report this issue on https://yt-dl.org/bug . Make sure you are using the latest version; see  https://yt-dl.org/update  on how to update. Be sure to call youtube-dl with the --verbose flag and include its complete output.\n"
          ]
        },
        {
          "output_type": "stream",
          "name": "stderr",
          "text": [
            "[debug] exe versions: ffmpeg 4.4.2, ffprobe 4.4.2\n",
            "[debug] Proxy map: {'colab_language_server': '/usr/colab/bin/language_service'}\n"
          ]
        },
        {
          "output_type": "stream",
          "name": "stdout",
          "text": [
            "[youtube] -EVRXQpt1-8: Downloading webpage\n"
          ]
        },
        {
          "output_type": "stream",
          "name": "stderr",
          "text": [
            "ERROR: Unable to extract uploader id; please report this issue on https://yt-dl.org/bug . Make sure you are using the latest version; see  https://yt-dl.org/update  on how to update. Be sure to call youtube-dl with the --verbose flag and include its complete output.\n",
            "Traceback (most recent call last):\n",
            "  File \"/usr/local/lib/python3.10/dist-packages/youtube_dl/YoutubeDL.py\", line 815, in wrapper\n",
            "    return func(self, *args, **kwargs)\n",
            "  File \"/usr/local/lib/python3.10/dist-packages/youtube_dl/YoutubeDL.py\", line 836, in __extract_info\n",
            "    ie_result = ie.extract(url)\n",
            "  File \"/usr/local/lib/python3.10/dist-packages/youtube_dl/extractor/common.py\", line 534, in extract\n",
            "    ie_result = self._real_extract(url)\n",
            "  File \"/usr/local/lib/python3.10/dist-packages/youtube_dl/extractor/youtube.py\", line 1794, in _real_extract\n",
            "    'uploader_id': self._search_regex(r'/(?:channel|user)/([^/?&#]+)', owner_profile_url, 'uploader id') if owner_profile_url else None,\n",
            "  File \"/usr/local/lib/python3.10/dist-packages/youtube_dl/extractor/common.py\", line 1012, in _search_regex\n",
            "    raise RegexNotFoundError('Unable to extract %s' % _name)\n",
            "youtube_dl.utils.RegexNotFoundError: Unable to extract uploader id; please report this issue on https://yt-dl.org/bug . Make sure you are using the latest version; see  https://yt-dl.org/update  on how to update. Be sure to call youtube-dl with the --verbose flag and include its complete output.\n",
            "\n",
            "[debug] Encodings: locale UTF-8, fs utf-8, out UTF-8, pref UTF-8\n",
            "[debug] youtube-dl version 2021.12.17\n",
            "[debug] Python version 3.10.12 (CPython) - Linux-5.15.120+-x86_64-with-glibc2.35\n",
            "[debug] exe versions: ffmpeg 4.4.2, ffprobe 4.4.2\n",
            "[debug] Proxy map: {'colab_language_server': '/usr/colab/bin/language_service'}\n"
          ]
        },
        {
          "output_type": "stream",
          "name": "stdout",
          "text": [
            "Error downloading video -EVRXQpt1-8: ERROR: Unable to extract uploader id; please report this issue on https://yt-dl.org/bug . Make sure you are using the latest version; see  https://yt-dl.org/update  on how to update. Be sure to call youtube-dl with the --verbose flag and include its complete output.\n",
            "[youtube] -FEPOSP7ay0: Downloading webpage\n"
          ]
        },
        {
          "output_type": "stream",
          "name": "stderr",
          "text": [
            "ERROR: Unable to extract uploader id; please report this issue on https://yt-dl.org/bug . Make sure you are using the latest version; see  https://yt-dl.org/update  on how to update. Be sure to call youtube-dl with the --verbose flag and include its complete output.\n",
            "Traceback (most recent call last):\n",
            "  File \"/usr/local/lib/python3.10/dist-packages/youtube_dl/YoutubeDL.py\", line 815, in wrapper\n",
            "    return func(self, *args, **kwargs)\n",
            "  File \"/usr/local/lib/python3.10/dist-packages/youtube_dl/YoutubeDL.py\", line 836, in __extract_info\n",
            "    ie_result = ie.extract(url)\n",
            "  File \"/usr/local/lib/python3.10/dist-packages/youtube_dl/extractor/common.py\", line 534, in extract\n",
            "    ie_result = self._real_extract(url)\n",
            "  File \"/usr/local/lib/python3.10/dist-packages/youtube_dl/extractor/youtube.py\", line 1794, in _real_extract\n",
            "    'uploader_id': self._search_regex(r'/(?:channel|user)/([^/?&#]+)', owner_profile_url, 'uploader id') if owner_profile_url else None,\n",
            "  File \"/usr/local/lib/python3.10/dist-packages/youtube_dl/extractor/common.py\", line 1012, in _search_regex\n",
            "    raise RegexNotFoundError('Unable to extract %s' % _name)\n",
            "youtube_dl.utils.RegexNotFoundError: Unable to extract uploader id; please report this issue on https://yt-dl.org/bug . Make sure you are using the latest version; see  https://yt-dl.org/update  on how to update. Be sure to call youtube-dl with the --verbose flag and include its complete output.\n",
            "\n",
            "[debug] Encodings: locale UTF-8, fs utf-8, out UTF-8, pref UTF-8\n",
            "[debug] youtube-dl version 2021.12.17\n",
            "[debug] Python version 3.10.12 (CPython) - Linux-5.15.120+-x86_64-with-glibc2.35\n",
            "[debug] exe versions: ffmpeg 4.4.2, ffprobe 4.4.2\n",
            "[debug] Proxy map: {'colab_language_server': '/usr/colab/bin/language_service'}\n"
          ]
        },
        {
          "output_type": "stream",
          "name": "stdout",
          "text": [
            "Error downloading video -FEPOSP7ay0: ERROR: Unable to extract uploader id; please report this issue on https://yt-dl.org/bug . Make sure you are using the latest version; see  https://yt-dl.org/update  on how to update. Be sure to call youtube-dl with the --verbose flag and include its complete output.\n",
            "[youtube] -FFx68qSAuY: Downloading webpage\n"
          ]
        },
        {
          "output_type": "stream",
          "name": "stderr",
          "text": [
            "ERROR: Unable to extract uploader id; please report this issue on https://yt-dl.org/bug . Make sure you are using the latest version; see  https://yt-dl.org/update  on how to update. Be sure to call youtube-dl with the --verbose flag and include its complete output.\n",
            "Traceback (most recent call last):\n",
            "  File \"/usr/local/lib/python3.10/dist-packages/youtube_dl/YoutubeDL.py\", line 815, in wrapper\n",
            "    return func(self, *args, **kwargs)\n",
            "  File \"/usr/local/lib/python3.10/dist-packages/youtube_dl/YoutubeDL.py\", line 836, in __extract_info\n",
            "    ie_result = ie.extract(url)\n",
            "  File \"/usr/local/lib/python3.10/dist-packages/youtube_dl/extractor/common.py\", line 534, in extract\n",
            "    ie_result = self._real_extract(url)\n",
            "  File \"/usr/local/lib/python3.10/dist-packages/youtube_dl/extractor/youtube.py\", line 1794, in _real_extract\n",
            "    'uploader_id': self._search_regex(r'/(?:channel|user)/([^/?&#]+)', owner_profile_url, 'uploader id') if owner_profile_url else None,\n",
            "  File \"/usr/local/lib/python3.10/dist-packages/youtube_dl/extractor/common.py\", line 1012, in _search_regex\n",
            "    raise RegexNotFoundError('Unable to extract %s' % _name)\n",
            "youtube_dl.utils.RegexNotFoundError: Unable to extract uploader id; please report this issue on https://yt-dl.org/bug . Make sure you are using the latest version; see  https://yt-dl.org/update  on how to update. Be sure to call youtube-dl with the --verbose flag and include its complete output.\n",
            "\n",
            "[debug] Encodings: locale UTF-8, fs utf-8, out UTF-8, pref UTF-8\n",
            "[debug] youtube-dl version 2021.12.17\n",
            "[debug] Python version 3.10.12 (CPython) - Linux-5.15.120+-x86_64-with-glibc2.35\n",
            "[debug] exe versions: ffmpeg 4.4.2, ffprobe 4.4.2\n",
            "[debug] Proxy map: {'colab_language_server': '/usr/colab/bin/language_service'}\n"
          ]
        },
        {
          "output_type": "stream",
          "name": "stdout",
          "text": [
            "Error downloading video -FFx68qSAuY: ERROR: Unable to extract uploader id; please report this issue on https://yt-dl.org/bug . Make sure you are using the latest version; see  https://yt-dl.org/update  on how to update. Be sure to call youtube-dl with the --verbose flag and include its complete output.\n",
            "[youtube] -FlvaZQOr2I: Downloading webpage\n"
          ]
        },
        {
          "output_type": "stream",
          "name": "stderr",
          "text": [
            "ERROR: Unable to extract uploader id; please report this issue on https://yt-dl.org/bug . Make sure you are using the latest version; see  https://yt-dl.org/update  on how to update. Be sure to call youtube-dl with the --verbose flag and include its complete output.\n",
            "Traceback (most recent call last):\n",
            "  File \"/usr/local/lib/python3.10/dist-packages/youtube_dl/YoutubeDL.py\", line 815, in wrapper\n",
            "    return func(self, *args, **kwargs)\n",
            "  File \"/usr/local/lib/python3.10/dist-packages/youtube_dl/YoutubeDL.py\", line 836, in __extract_info\n",
            "    ie_result = ie.extract(url)\n",
            "  File \"/usr/local/lib/python3.10/dist-packages/youtube_dl/extractor/common.py\", line 534, in extract\n",
            "    ie_result = self._real_extract(url)\n",
            "  File \"/usr/local/lib/python3.10/dist-packages/youtube_dl/extractor/youtube.py\", line 1794, in _real_extract\n",
            "    'uploader_id': self._search_regex(r'/(?:channel|user)/([^/?&#]+)', owner_profile_url, 'uploader id') if owner_profile_url else None,\n",
            "  File \"/usr/local/lib/python3.10/dist-packages/youtube_dl/extractor/common.py\", line 1012, in _search_regex\n",
            "    raise RegexNotFoundError('Unable to extract %s' % _name)\n",
            "youtube_dl.utils.RegexNotFoundError: Unable to extract uploader id; please report this issue on https://yt-dl.org/bug . Make sure you are using the latest version; see  https://yt-dl.org/update  on how to update. Be sure to call youtube-dl with the --verbose flag and include its complete output.\n",
            "\n",
            "[debug] Encodings: locale UTF-8, fs utf-8, out UTF-8, pref UTF-8\n",
            "[debug] youtube-dl version 2021.12.17\n",
            "[debug] Python version 3.10.12 (CPython) - Linux-5.15.120+-x86_64-with-glibc2.35\n",
            "[debug] exe versions: ffmpeg 4.4.2, ffprobe 4.4.2\n",
            "[debug] Proxy map: {'colab_language_server': '/usr/colab/bin/language_service'}\n"
          ]
        },
        {
          "output_type": "stream",
          "name": "stdout",
          "text": [
            "Error downloading video -FlvaZQOr2I: ERROR: Unable to extract uploader id; please report this issue on https://yt-dl.org/bug . Make sure you are using the latest version; see  https://yt-dl.org/update  on how to update. Be sure to call youtube-dl with the --verbose flag and include its complete output.\n",
            "[youtube] -Gf4Ihv1zwc: Downloading webpage\n"
          ]
        },
        {
          "output_type": "stream",
          "name": "stderr",
          "text": [
            "ERROR: Unable to extract uploader id; please report this issue on https://yt-dl.org/bug . Make sure you are using the latest version; see  https://yt-dl.org/update  on how to update. Be sure to call youtube-dl with the --verbose flag and include its complete output.\n",
            "Traceback (most recent call last):\n",
            "  File \"/usr/local/lib/python3.10/dist-packages/youtube_dl/YoutubeDL.py\", line 815, in wrapper\n",
            "    return func(self, *args, **kwargs)\n",
            "  File \"/usr/local/lib/python3.10/dist-packages/youtube_dl/YoutubeDL.py\", line 836, in __extract_info\n",
            "    ie_result = ie.extract(url)\n",
            "  File \"/usr/local/lib/python3.10/dist-packages/youtube_dl/extractor/common.py\", line 534, in extract\n",
            "    ie_result = self._real_extract(url)\n",
            "  File \"/usr/local/lib/python3.10/dist-packages/youtube_dl/extractor/youtube.py\", line 1794, in _real_extract\n",
            "    'uploader_id': self._search_regex(r'/(?:channel|user)/([^/?&#]+)', owner_profile_url, 'uploader id') if owner_profile_url else None,\n",
            "  File \"/usr/local/lib/python3.10/dist-packages/youtube_dl/extractor/common.py\", line 1012, in _search_regex\n",
            "    raise RegexNotFoundError('Unable to extract %s' % _name)\n",
            "youtube_dl.utils.RegexNotFoundError: Unable to extract uploader id; please report this issue on https://yt-dl.org/bug . Make sure you are using the latest version; see  https://yt-dl.org/update  on how to update. Be sure to call youtube-dl with the --verbose flag and include its complete output.\n",
            "\n",
            "[debug] Encodings: locale UTF-8, fs utf-8, out UTF-8, pref UTF-8\n",
            "[debug] youtube-dl version 2021.12.17\n",
            "[debug] Python version 3.10.12 (CPython) - Linux-5.15.120+-x86_64-with-glibc2.35\n",
            "[debug] exe versions: ffmpeg 4.4.2, ffprobe 4.4.2\n",
            "[debug] Proxy map: {'colab_language_server': '/usr/colab/bin/language_service'}\n"
          ]
        },
        {
          "output_type": "stream",
          "name": "stdout",
          "text": [
            "Error downloading video -Gf4Ihv1zwc: ERROR: Unable to extract uploader id; please report this issue on https://yt-dl.org/bug . Make sure you are using the latest version; see  https://yt-dl.org/update  on how to update. Be sure to call youtube-dl with the --verbose flag and include its complete output.\n",
            "[youtube] -IZbvEO9wzU: Downloading webpage\n"
          ]
        },
        {
          "output_type": "stream",
          "name": "stderr",
          "text": [
            "ERROR: Unable to extract uploader id; please report this issue on https://yt-dl.org/bug . Make sure you are using the latest version; see  https://yt-dl.org/update  on how to update. Be sure to call youtube-dl with the --verbose flag and include its complete output.\n",
            "Traceback (most recent call last):\n",
            "  File \"/usr/local/lib/python3.10/dist-packages/youtube_dl/YoutubeDL.py\", line 815, in wrapper\n",
            "    return func(self, *args, **kwargs)\n",
            "  File \"/usr/local/lib/python3.10/dist-packages/youtube_dl/YoutubeDL.py\", line 836, in __extract_info\n",
            "    ie_result = ie.extract(url)\n",
            "  File \"/usr/local/lib/python3.10/dist-packages/youtube_dl/extractor/common.py\", line 534, in extract\n",
            "    ie_result = self._real_extract(url)\n",
            "  File \"/usr/local/lib/python3.10/dist-packages/youtube_dl/extractor/youtube.py\", line 1794, in _real_extract\n",
            "    'uploader_id': self._search_regex(r'/(?:channel|user)/([^/?&#]+)', owner_profile_url, 'uploader id') if owner_profile_url else None,\n",
            "  File \"/usr/local/lib/python3.10/dist-packages/youtube_dl/extractor/common.py\", line 1012, in _search_regex\n",
            "    raise RegexNotFoundError('Unable to extract %s' % _name)\n",
            "youtube_dl.utils.RegexNotFoundError: Unable to extract uploader id; please report this issue on https://yt-dl.org/bug . Make sure you are using the latest version; see  https://yt-dl.org/update  on how to update. Be sure to call youtube-dl with the --verbose flag and include its complete output.\n",
            "\n",
            "[debug] Encodings: locale UTF-8, fs utf-8, out UTF-8, pref UTF-8\n",
            "[debug] youtube-dl version 2021.12.17\n",
            "[debug] Python version 3.10.12 (CPython) - Linux-5.15.120+-x86_64-with-glibc2.35\n",
            "[debug] exe versions: ffmpeg 4.4.2, ffprobe 4.4.2\n",
            "[debug] Proxy map: {'colab_language_server': '/usr/colab/bin/language_service'}\n"
          ]
        },
        {
          "output_type": "stream",
          "name": "stdout",
          "text": [
            "Error downloading video -IZbvEO9wzU: ERROR: Unable to extract uploader id; please report this issue on https://yt-dl.org/bug . Make sure you are using the latest version; see  https://yt-dl.org/update  on how to update. Be sure to call youtube-dl with the --verbose flag and include its complete output.\n",
            "[youtube] -JVWfFPBl84: Downloading webpage\n"
          ]
        },
        {
          "output_type": "stream",
          "name": "stderr",
          "text": [
            "ERROR: Unable to extract uploader id; please report this issue on https://yt-dl.org/bug . Make sure you are using the latest version; see  https://yt-dl.org/update  on how to update. Be sure to call youtube-dl with the --verbose flag and include its complete output.\n",
            "Traceback (most recent call last):\n",
            "  File \"/usr/local/lib/python3.10/dist-packages/youtube_dl/YoutubeDL.py\", line 815, in wrapper\n",
            "    return func(self, *args, **kwargs)\n",
            "  File \"/usr/local/lib/python3.10/dist-packages/youtube_dl/YoutubeDL.py\", line 836, in __extract_info\n",
            "    ie_result = ie.extract(url)\n",
            "  File \"/usr/local/lib/python3.10/dist-packages/youtube_dl/extractor/common.py\", line 534, in extract\n",
            "    ie_result = self._real_extract(url)\n",
            "  File \"/usr/local/lib/python3.10/dist-packages/youtube_dl/extractor/youtube.py\", line 1794, in _real_extract\n",
            "    'uploader_id': self._search_regex(r'/(?:channel|user)/([^/?&#]+)', owner_profile_url, 'uploader id') if owner_profile_url else None,\n",
            "  File \"/usr/local/lib/python3.10/dist-packages/youtube_dl/extractor/common.py\", line 1012, in _search_regex\n",
            "    raise RegexNotFoundError('Unable to extract %s' % _name)\n",
            "youtube_dl.utils.RegexNotFoundError: Unable to extract uploader id; please report this issue on https://yt-dl.org/bug . Make sure you are using the latest version; see  https://yt-dl.org/update  on how to update. Be sure to call youtube-dl with the --verbose flag and include its complete output.\n",
            "\n",
            "[debug] Encodings: locale UTF-8, fs utf-8, out UTF-8, pref UTF-8\n",
            "[debug] youtube-dl version 2021.12.17\n",
            "[debug] Python version 3.10.12 (CPython) - Linux-5.15.120+-x86_64-with-glibc2.35\n",
            "[debug] exe versions: ffmpeg 4.4.2, ffprobe 4.4.2\n",
            "[debug] Proxy map: {'colab_language_server': '/usr/colab/bin/language_service'}\n"
          ]
        },
        {
          "output_type": "stream",
          "name": "stdout",
          "text": [
            "Error downloading video -JVWfFPBl84: ERROR: Unable to extract uploader id; please report this issue on https://yt-dl.org/bug . Make sure you are using the latest version; see  https://yt-dl.org/update  on how to update. Be sure to call youtube-dl with the --verbose flag and include its complete output.\n",
            "[youtube] -JvB5AL59fM: Downloading webpage\n"
          ]
        },
        {
          "output_type": "stream",
          "name": "stderr",
          "text": [
            "ERROR: Unable to extract uploader id; please report this issue on https://yt-dl.org/bug . Make sure you are using the latest version; see  https://yt-dl.org/update  on how to update. Be sure to call youtube-dl with the --verbose flag and include its complete output.\n",
            "Traceback (most recent call last):\n",
            "  File \"/usr/local/lib/python3.10/dist-packages/youtube_dl/YoutubeDL.py\", line 815, in wrapper\n",
            "    return func(self, *args, **kwargs)\n",
            "  File \"/usr/local/lib/python3.10/dist-packages/youtube_dl/YoutubeDL.py\", line 836, in __extract_info\n",
            "    ie_result = ie.extract(url)\n",
            "  File \"/usr/local/lib/python3.10/dist-packages/youtube_dl/extractor/common.py\", line 534, in extract\n",
            "    ie_result = self._real_extract(url)\n",
            "  File \"/usr/local/lib/python3.10/dist-packages/youtube_dl/extractor/youtube.py\", line 1794, in _real_extract\n",
            "    'uploader_id': self._search_regex(r'/(?:channel|user)/([^/?&#]+)', owner_profile_url, 'uploader id') if owner_profile_url else None,\n",
            "  File \"/usr/local/lib/python3.10/dist-packages/youtube_dl/extractor/common.py\", line 1012, in _search_regex\n",
            "    raise RegexNotFoundError('Unable to extract %s' % _name)\n",
            "youtube_dl.utils.RegexNotFoundError: Unable to extract uploader id; please report this issue on https://yt-dl.org/bug . Make sure you are using the latest version; see  https://yt-dl.org/update  on how to update. Be sure to call youtube-dl with the --verbose flag and include its complete output.\n",
            "\n",
            "[debug] Encodings: locale UTF-8, fs utf-8, out UTF-8, pref UTF-8\n",
            "[debug] youtube-dl version 2021.12.17\n",
            "[debug] Python version 3.10.12 (CPython) - Linux-5.15.120+-x86_64-with-glibc2.35\n"
          ]
        },
        {
          "output_type": "stream",
          "name": "stdout",
          "text": [
            "Error downloading video -JvB5AL59fM: ERROR: Unable to extract uploader id; please report this issue on https://yt-dl.org/bug . Make sure you are using the latest version; see  https://yt-dl.org/update  on how to update. Be sure to call youtube-dl with the --verbose flag and include its complete output.\n"
          ]
        },
        {
          "output_type": "stream",
          "name": "stderr",
          "text": [
            "[debug] exe versions: ffmpeg 4.4.2, ffprobe 4.4.2\n",
            "[debug] Proxy map: {'colab_language_server': '/usr/colab/bin/language_service'}\n"
          ]
        },
        {
          "output_type": "stream",
          "name": "stdout",
          "text": [
            "[youtube] -M-6VinyMiY: Downloading webpage\n"
          ]
        },
        {
          "output_type": "stream",
          "name": "stderr",
          "text": [
            "ERROR: Unable to extract uploader id; please report this issue on https://yt-dl.org/bug . Make sure you are using the latest version; see  https://yt-dl.org/update  on how to update. Be sure to call youtube-dl with the --verbose flag and include its complete output.\n",
            "Traceback (most recent call last):\n",
            "  File \"/usr/local/lib/python3.10/dist-packages/youtube_dl/YoutubeDL.py\", line 815, in wrapper\n",
            "    return func(self, *args, **kwargs)\n",
            "  File \"/usr/local/lib/python3.10/dist-packages/youtube_dl/YoutubeDL.py\", line 836, in __extract_info\n",
            "    ie_result = ie.extract(url)\n",
            "  File \"/usr/local/lib/python3.10/dist-packages/youtube_dl/extractor/common.py\", line 534, in extract\n",
            "    ie_result = self._real_extract(url)\n",
            "  File \"/usr/local/lib/python3.10/dist-packages/youtube_dl/extractor/youtube.py\", line 1794, in _real_extract\n",
            "    'uploader_id': self._search_regex(r'/(?:channel|user)/([^/?&#]+)', owner_profile_url, 'uploader id') if owner_profile_url else None,\n",
            "  File \"/usr/local/lib/python3.10/dist-packages/youtube_dl/extractor/common.py\", line 1012, in _search_regex\n",
            "    raise RegexNotFoundError('Unable to extract %s' % _name)\n",
            "youtube_dl.utils.RegexNotFoundError: Unable to extract uploader id; please report this issue on https://yt-dl.org/bug . Make sure you are using the latest version; see  https://yt-dl.org/update  on how to update. Be sure to call youtube-dl with the --verbose flag and include its complete output.\n",
            "\n",
            "[debug] Encodings: locale UTF-8, fs utf-8, out UTF-8, pref UTF-8\n",
            "[debug] youtube-dl version 2021.12.17\n",
            "[debug] Python version 3.10.12 (CPython) - Linux-5.15.120+-x86_64-with-glibc2.35\n"
          ]
        },
        {
          "output_type": "stream",
          "name": "stdout",
          "text": [
            "Error downloading video -M-6VinyMiY: ERROR: Unable to extract uploader id; please report this issue on https://yt-dl.org/bug . Make sure you are using the latest version; see  https://yt-dl.org/update  on how to update. Be sure to call youtube-dl with the --verbose flag and include its complete output.\n"
          ]
        },
        {
          "output_type": "stream",
          "name": "stderr",
          "text": [
            "[debug] exe versions: ffmpeg 4.4.2, ffprobe 4.4.2\n",
            "[debug] Proxy map: {'colab_language_server': '/usr/colab/bin/language_service'}\n"
          ]
        },
        {
          "output_type": "stream",
          "name": "stdout",
          "text": [
            "[youtube] -M6K3QoHh40: Downloading webpage\n"
          ]
        },
        {
          "output_type": "stream",
          "name": "stderr",
          "text": [
            "ERROR: Unable to extract uploader id; please report this issue on https://yt-dl.org/bug . Make sure you are using the latest version; see  https://yt-dl.org/update  on how to update. Be sure to call youtube-dl with the --verbose flag and include its complete output.\n",
            "Traceback (most recent call last):\n",
            "  File \"/usr/local/lib/python3.10/dist-packages/youtube_dl/YoutubeDL.py\", line 815, in wrapper\n",
            "    return func(self, *args, **kwargs)\n",
            "  File \"/usr/local/lib/python3.10/dist-packages/youtube_dl/YoutubeDL.py\", line 836, in __extract_info\n",
            "    ie_result = ie.extract(url)\n",
            "  File \"/usr/local/lib/python3.10/dist-packages/youtube_dl/extractor/common.py\", line 534, in extract\n",
            "    ie_result = self._real_extract(url)\n",
            "  File \"/usr/local/lib/python3.10/dist-packages/youtube_dl/extractor/youtube.py\", line 1794, in _real_extract\n",
            "    'uploader_id': self._search_regex(r'/(?:channel|user)/([^/?&#]+)', owner_profile_url, 'uploader id') if owner_profile_url else None,\n",
            "  File \"/usr/local/lib/python3.10/dist-packages/youtube_dl/extractor/common.py\", line 1012, in _search_regex\n",
            "    raise RegexNotFoundError('Unable to extract %s' % _name)\n",
            "youtube_dl.utils.RegexNotFoundError: Unable to extract uploader id; please report this issue on https://yt-dl.org/bug . Make sure you are using the latest version; see  https://yt-dl.org/update  on how to update. Be sure to call youtube-dl with the --verbose flag and include its complete output.\n",
            "\n",
            "[debug] Encodings: locale UTF-8, fs utf-8, out UTF-8, pref UTF-8\n",
            "[debug] youtube-dl version 2021.12.17\n",
            "[debug] Python version 3.10.12 (CPython) - Linux-5.15.120+-x86_64-with-glibc2.35\n"
          ]
        },
        {
          "output_type": "stream",
          "name": "stdout",
          "text": [
            "Error downloading video -M6K3QoHh40: ERROR: Unable to extract uploader id; please report this issue on https://yt-dl.org/bug . Make sure you are using the latest version; see  https://yt-dl.org/update  on how to update. Be sure to call youtube-dl with the --verbose flag and include its complete output.\n"
          ]
        },
        {
          "output_type": "stream",
          "name": "stderr",
          "text": [
            "[debug] exe versions: ffmpeg 4.4.2, ffprobe 4.4.2\n",
            "[debug] Proxy map: {'colab_language_server': '/usr/colab/bin/language_service'}\n"
          ]
        },
        {
          "output_type": "stream",
          "name": "stdout",
          "text": [
            "[youtube] -NmjCyqIavI: Downloading webpage\n",
            "[youtube] -NmjCyqIavI: Downloading MPD manifest\n"
          ]
        },
        {
          "output_type": "stream",
          "name": "stderr",
          "text": [
            "ERROR: Unable to extract uploader id; please report this issue on https://yt-dl.org/bug . Make sure you are using the latest version; see  https://yt-dl.org/update  on how to update. Be sure to call youtube-dl with the --verbose flag and include its complete output.\n",
            "Traceback (most recent call last):\n",
            "  File \"/usr/local/lib/python3.10/dist-packages/youtube_dl/YoutubeDL.py\", line 815, in wrapper\n",
            "    return func(self, *args, **kwargs)\n",
            "  File \"/usr/local/lib/python3.10/dist-packages/youtube_dl/YoutubeDL.py\", line 836, in __extract_info\n",
            "    ie_result = ie.extract(url)\n",
            "  File \"/usr/local/lib/python3.10/dist-packages/youtube_dl/extractor/common.py\", line 534, in extract\n",
            "    ie_result = self._real_extract(url)\n",
            "  File \"/usr/local/lib/python3.10/dist-packages/youtube_dl/extractor/youtube.py\", line 1794, in _real_extract\n",
            "    'uploader_id': self._search_regex(r'/(?:channel|user)/([^/?&#]+)', owner_profile_url, 'uploader id') if owner_profile_url else None,\n",
            "  File \"/usr/local/lib/python3.10/dist-packages/youtube_dl/extractor/common.py\", line 1012, in _search_regex\n",
            "    raise RegexNotFoundError('Unable to extract %s' % _name)\n",
            "youtube_dl.utils.RegexNotFoundError: Unable to extract uploader id; please report this issue on https://yt-dl.org/bug . Make sure you are using the latest version; see  https://yt-dl.org/update  on how to update. Be sure to call youtube-dl with the --verbose flag and include its complete output.\n",
            "\n",
            "[debug] Encodings: locale UTF-8, fs utf-8, out UTF-8, pref UTF-8\n",
            "[debug] youtube-dl version 2021.12.17\n",
            "[debug] Python version 3.10.12 (CPython) - Linux-5.15.120+-x86_64-with-glibc2.35\n"
          ]
        },
        {
          "output_type": "stream",
          "name": "stdout",
          "text": [
            "Error downloading video -NmjCyqIavI: ERROR: Unable to extract uploader id; please report this issue on https://yt-dl.org/bug . Make sure you are using the latest version; see  https://yt-dl.org/update  on how to update. Be sure to call youtube-dl with the --verbose flag and include its complete output.\n"
          ]
        },
        {
          "output_type": "stream",
          "name": "stderr",
          "text": [
            "[debug] exe versions: ffmpeg 4.4.2, ffprobe 4.4.2\n",
            "[debug] Proxy map: {'colab_language_server': '/usr/colab/bin/language_service'}\n"
          ]
        },
        {
          "output_type": "stream",
          "name": "stdout",
          "text": [
            "[youtube] -O9mnfC61Ac: Downloading webpage\n"
          ]
        },
        {
          "output_type": "stream",
          "name": "stderr",
          "text": [
            "ERROR: Unable to extract uploader id; please report this issue on https://yt-dl.org/bug . Make sure you are using the latest version; see  https://yt-dl.org/update  on how to update. Be sure to call youtube-dl with the --verbose flag and include its complete output.\n",
            "Traceback (most recent call last):\n",
            "  File \"/usr/local/lib/python3.10/dist-packages/youtube_dl/YoutubeDL.py\", line 815, in wrapper\n",
            "    return func(self, *args, **kwargs)\n",
            "  File \"/usr/local/lib/python3.10/dist-packages/youtube_dl/YoutubeDL.py\", line 836, in __extract_info\n",
            "    ie_result = ie.extract(url)\n",
            "  File \"/usr/local/lib/python3.10/dist-packages/youtube_dl/extractor/common.py\", line 534, in extract\n",
            "    ie_result = self._real_extract(url)\n",
            "  File \"/usr/local/lib/python3.10/dist-packages/youtube_dl/extractor/youtube.py\", line 1794, in _real_extract\n",
            "    'uploader_id': self._search_regex(r'/(?:channel|user)/([^/?&#]+)', owner_profile_url, 'uploader id') if owner_profile_url else None,\n",
            "  File \"/usr/local/lib/python3.10/dist-packages/youtube_dl/extractor/common.py\", line 1012, in _search_regex\n",
            "    raise RegexNotFoundError('Unable to extract %s' % _name)\n",
            "youtube_dl.utils.RegexNotFoundError: Unable to extract uploader id; please report this issue on https://yt-dl.org/bug . Make sure you are using the latest version; see  https://yt-dl.org/update  on how to update. Be sure to call youtube-dl with the --verbose flag and include its complete output.\n",
            "\n",
            "[debug] Encodings: locale UTF-8, fs utf-8, out UTF-8, pref UTF-8\n",
            "[debug] youtube-dl version 2021.12.17\n",
            "[debug] Python version 3.10.12 (CPython) - Linux-5.15.120+-x86_64-with-glibc2.35\n"
          ]
        },
        {
          "output_type": "stream",
          "name": "stdout",
          "text": [
            "Error downloading video -O9mnfC61Ac: ERROR: Unable to extract uploader id; please report this issue on https://yt-dl.org/bug . Make sure you are using the latest version; see  https://yt-dl.org/update  on how to update. Be sure to call youtube-dl with the --verbose flag and include its complete output.\n"
          ]
        },
        {
          "output_type": "stream",
          "name": "stderr",
          "text": [
            "[debug] exe versions: ffmpeg 4.4.2, ffprobe 4.4.2\n",
            "[debug] Proxy map: {'colab_language_server': '/usr/colab/bin/language_service'}\n"
          ]
        },
        {
          "output_type": "stream",
          "name": "stdout",
          "text": [
            "[youtube] -OAyRsvFGgc: Downloading webpage\n"
          ]
        },
        {
          "output_type": "stream",
          "name": "stderr",
          "text": [
            "ERROR: Unable to extract uploader id; please report this issue on https://yt-dl.org/bug . Make sure you are using the latest version; see  https://yt-dl.org/update  on how to update. Be sure to call youtube-dl with the --verbose flag and include its complete output.\n",
            "Traceback (most recent call last):\n",
            "  File \"/usr/local/lib/python3.10/dist-packages/youtube_dl/YoutubeDL.py\", line 815, in wrapper\n",
            "    return func(self, *args, **kwargs)\n",
            "  File \"/usr/local/lib/python3.10/dist-packages/youtube_dl/YoutubeDL.py\", line 836, in __extract_info\n",
            "    ie_result = ie.extract(url)\n",
            "  File \"/usr/local/lib/python3.10/dist-packages/youtube_dl/extractor/common.py\", line 534, in extract\n",
            "    ie_result = self._real_extract(url)\n",
            "  File \"/usr/local/lib/python3.10/dist-packages/youtube_dl/extractor/youtube.py\", line 1794, in _real_extract\n",
            "    'uploader_id': self._search_regex(r'/(?:channel|user)/([^/?&#]+)', owner_profile_url, 'uploader id') if owner_profile_url else None,\n",
            "  File \"/usr/local/lib/python3.10/dist-packages/youtube_dl/extractor/common.py\", line 1012, in _search_regex\n",
            "    raise RegexNotFoundError('Unable to extract %s' % _name)\n",
            "youtube_dl.utils.RegexNotFoundError: Unable to extract uploader id; please report this issue on https://yt-dl.org/bug . Make sure you are using the latest version; see  https://yt-dl.org/update  on how to update. Be sure to call youtube-dl with the --verbose flag and include its complete output.\n",
            "\n",
            "[debug] Encodings: locale UTF-8, fs utf-8, out UTF-8, pref UTF-8\n",
            "[debug] youtube-dl version 2021.12.17\n",
            "[debug] Python version 3.10.12 (CPython) - Linux-5.15.120+-x86_64-with-glibc2.35\n",
            "[debug] exe versions: ffmpeg 4.4.2, ffprobe 4.4.2\n",
            "[debug] Proxy map: {'colab_language_server': '/usr/colab/bin/language_service'}\n"
          ]
        },
        {
          "output_type": "stream",
          "name": "stdout",
          "text": [
            "Error downloading video -OAyRsvFGgc: ERROR: Unable to extract uploader id; please report this issue on https://yt-dl.org/bug . Make sure you are using the latest version; see  https://yt-dl.org/update  on how to update. Be sure to call youtube-dl with the --verbose flag and include its complete output.\n",
            "[youtube] -OUIEnuNd1I: Downloading webpage\n"
          ]
        },
        {
          "output_type": "stream",
          "name": "stderr",
          "text": [
            "ERROR: Unable to extract uploader id; please report this issue on https://yt-dl.org/bug . Make sure you are using the latest version; see  https://yt-dl.org/update  on how to update. Be sure to call youtube-dl with the --verbose flag and include its complete output.\n",
            "Traceback (most recent call last):\n",
            "  File \"/usr/local/lib/python3.10/dist-packages/youtube_dl/YoutubeDL.py\", line 815, in wrapper\n",
            "    return func(self, *args, **kwargs)\n",
            "  File \"/usr/local/lib/python3.10/dist-packages/youtube_dl/YoutubeDL.py\", line 836, in __extract_info\n",
            "    ie_result = ie.extract(url)\n",
            "  File \"/usr/local/lib/python3.10/dist-packages/youtube_dl/extractor/common.py\", line 534, in extract\n",
            "    ie_result = self._real_extract(url)\n",
            "  File \"/usr/local/lib/python3.10/dist-packages/youtube_dl/extractor/youtube.py\", line 1794, in _real_extract\n",
            "    'uploader_id': self._search_regex(r'/(?:channel|user)/([^/?&#]+)', owner_profile_url, 'uploader id') if owner_profile_url else None,\n",
            "  File \"/usr/local/lib/python3.10/dist-packages/youtube_dl/extractor/common.py\", line 1012, in _search_regex\n",
            "    raise RegexNotFoundError('Unable to extract %s' % _name)\n",
            "youtube_dl.utils.RegexNotFoundError: Unable to extract uploader id; please report this issue on https://yt-dl.org/bug . Make sure you are using the latest version; see  https://yt-dl.org/update  on how to update. Be sure to call youtube-dl with the --verbose flag and include its complete output.\n",
            "\n",
            "[debug] Encodings: locale UTF-8, fs utf-8, out UTF-8, pref UTF-8\n",
            "[debug] youtube-dl version 2021.12.17\n",
            "[debug] Python version 3.10.12 (CPython) - Linux-5.15.120+-x86_64-with-glibc2.35\n",
            "[debug] exe versions: ffmpeg 4.4.2, ffprobe 4.4.2\n",
            "[debug] Proxy map: {'colab_language_server': '/usr/colab/bin/language_service'}\n"
          ]
        },
        {
          "output_type": "stream",
          "name": "stdout",
          "text": [
            "Error downloading video -OUIEnuNd1I: ERROR: Unable to extract uploader id; please report this issue on https://yt-dl.org/bug . Make sure you are using the latest version; see  https://yt-dl.org/update  on how to update. Be sure to call youtube-dl with the --verbose flag and include its complete output.\n",
            "[youtube] -Q9MTRXS4bE: Downloading webpage\n"
          ]
        },
        {
          "output_type": "stream",
          "name": "stderr",
          "text": [
            "ERROR: Unable to extract uploader id; please report this issue on https://yt-dl.org/bug . Make sure you are using the latest version; see  https://yt-dl.org/update  on how to update. Be sure to call youtube-dl with the --verbose flag and include its complete output.\n",
            "Traceback (most recent call last):\n",
            "  File \"/usr/local/lib/python3.10/dist-packages/youtube_dl/YoutubeDL.py\", line 815, in wrapper\n",
            "    return func(self, *args, **kwargs)\n",
            "  File \"/usr/local/lib/python3.10/dist-packages/youtube_dl/YoutubeDL.py\", line 836, in __extract_info\n",
            "    ie_result = ie.extract(url)\n",
            "  File \"/usr/local/lib/python3.10/dist-packages/youtube_dl/extractor/common.py\", line 534, in extract\n",
            "    ie_result = self._real_extract(url)\n",
            "  File \"/usr/local/lib/python3.10/dist-packages/youtube_dl/extractor/youtube.py\", line 1794, in _real_extract\n",
            "    'uploader_id': self._search_regex(r'/(?:channel|user)/([^/?&#]+)', owner_profile_url, 'uploader id') if owner_profile_url else None,\n",
            "  File \"/usr/local/lib/python3.10/dist-packages/youtube_dl/extractor/common.py\", line 1012, in _search_regex\n",
            "    raise RegexNotFoundError('Unable to extract %s' % _name)\n",
            "youtube_dl.utils.RegexNotFoundError: Unable to extract uploader id; please report this issue on https://yt-dl.org/bug . Make sure you are using the latest version; see  https://yt-dl.org/update  on how to update. Be sure to call youtube-dl with the --verbose flag and include its complete output.\n",
            "\n",
            "[debug] Encodings: locale UTF-8, fs utf-8, out UTF-8, pref UTF-8\n",
            "[debug] youtube-dl version 2021.12.17\n",
            "[debug] Python version 3.10.12 (CPython) - Linux-5.15.120+-x86_64-with-glibc2.35\n",
            "[debug] exe versions: ffmpeg 4.4.2, ffprobe 4.4.2\n",
            "[debug] Proxy map: {'colab_language_server': '/usr/colab/bin/language_service'}\n"
          ]
        },
        {
          "output_type": "stream",
          "name": "stdout",
          "text": [
            "Error downloading video -Q9MTRXS4bE: ERROR: Unable to extract uploader id; please report this issue on https://yt-dl.org/bug . Make sure you are using the latest version; see  https://yt-dl.org/update  on how to update. Be sure to call youtube-dl with the --verbose flag and include its complete output.\n",
            "[youtube] -QuWdnmn-kM: Downloading webpage\n"
          ]
        },
        {
          "output_type": "stream",
          "name": "stderr",
          "text": [
            "ERROR: Unable to extract uploader id; please report this issue on https://yt-dl.org/bug . Make sure you are using the latest version; see  https://yt-dl.org/update  on how to update. Be sure to call youtube-dl with the --verbose flag and include its complete output.\n",
            "Traceback (most recent call last):\n",
            "  File \"/usr/local/lib/python3.10/dist-packages/youtube_dl/YoutubeDL.py\", line 815, in wrapper\n",
            "    return func(self, *args, **kwargs)\n",
            "  File \"/usr/local/lib/python3.10/dist-packages/youtube_dl/YoutubeDL.py\", line 836, in __extract_info\n",
            "    ie_result = ie.extract(url)\n",
            "  File \"/usr/local/lib/python3.10/dist-packages/youtube_dl/extractor/common.py\", line 534, in extract\n",
            "    ie_result = self._real_extract(url)\n",
            "  File \"/usr/local/lib/python3.10/dist-packages/youtube_dl/extractor/youtube.py\", line 1794, in _real_extract\n",
            "    'uploader_id': self._search_regex(r'/(?:channel|user)/([^/?&#]+)', owner_profile_url, 'uploader id') if owner_profile_url else None,\n",
            "  File \"/usr/local/lib/python3.10/dist-packages/youtube_dl/extractor/common.py\", line 1012, in _search_regex\n",
            "    raise RegexNotFoundError('Unable to extract %s' % _name)\n",
            "youtube_dl.utils.RegexNotFoundError: Unable to extract uploader id; please report this issue on https://yt-dl.org/bug . Make sure you are using the latest version; see  https://yt-dl.org/update  on how to update. Be sure to call youtube-dl with the --verbose flag and include its complete output.\n",
            "\n",
            "[debug] Encodings: locale UTF-8, fs utf-8, out UTF-8, pref UTF-8\n",
            "[debug] youtube-dl version 2021.12.17\n",
            "[debug] Python version 3.10.12 (CPython) - Linux-5.15.120+-x86_64-with-glibc2.35\n",
            "[debug] exe versions: ffmpeg 4.4.2, ffprobe 4.4.2\n",
            "[debug] Proxy map: {'colab_language_server': '/usr/colab/bin/language_service'}\n"
          ]
        },
        {
          "output_type": "stream",
          "name": "stdout",
          "text": [
            "Error downloading video -QuWdnmn-kM: ERROR: Unable to extract uploader id; please report this issue on https://yt-dl.org/bug . Make sure you are using the latest version; see  https://yt-dl.org/update  on how to update. Be sure to call youtube-dl with the --verbose flag and include its complete output.\n",
            "[youtube] -R0267o4lLk: Downloading webpage\n"
          ]
        },
        {
          "output_type": "stream",
          "name": "stderr",
          "text": [
            "ERROR: Unable to extract uploader id; please report this issue on https://yt-dl.org/bug . Make sure you are using the latest version; see  https://yt-dl.org/update  on how to update. Be sure to call youtube-dl with the --verbose flag and include its complete output.\n",
            "Traceback (most recent call last):\n",
            "  File \"/usr/local/lib/python3.10/dist-packages/youtube_dl/YoutubeDL.py\", line 815, in wrapper\n",
            "    return func(self, *args, **kwargs)\n",
            "  File \"/usr/local/lib/python3.10/dist-packages/youtube_dl/YoutubeDL.py\", line 836, in __extract_info\n",
            "    ie_result = ie.extract(url)\n",
            "  File \"/usr/local/lib/python3.10/dist-packages/youtube_dl/extractor/common.py\", line 534, in extract\n",
            "    ie_result = self._real_extract(url)\n",
            "  File \"/usr/local/lib/python3.10/dist-packages/youtube_dl/extractor/youtube.py\", line 1794, in _real_extract\n",
            "    'uploader_id': self._search_regex(r'/(?:channel|user)/([^/?&#]+)', owner_profile_url, 'uploader id') if owner_profile_url else None,\n",
            "  File \"/usr/local/lib/python3.10/dist-packages/youtube_dl/extractor/common.py\", line 1012, in _search_regex\n",
            "    raise RegexNotFoundError('Unable to extract %s' % _name)\n",
            "youtube_dl.utils.RegexNotFoundError: Unable to extract uploader id; please report this issue on https://yt-dl.org/bug . Make sure you are using the latest version; see  https://yt-dl.org/update  on how to update. Be sure to call youtube-dl with the --verbose flag and include its complete output.\n",
            "\n",
            "[debug] Encodings: locale UTF-8, fs utf-8, out UTF-8, pref UTF-8\n",
            "[debug] youtube-dl version 2021.12.17\n",
            "[debug] Python version 3.10.12 (CPython) - Linux-5.15.120+-x86_64-with-glibc2.35\n",
            "[debug] exe versions: ffmpeg 4.4.2, ffprobe 4.4.2\n",
            "[debug] Proxy map: {'colab_language_server': '/usr/colab/bin/language_service'}\n"
          ]
        },
        {
          "output_type": "stream",
          "name": "stdout",
          "text": [
            "Error downloading video -R0267o4lLk: ERROR: Unable to extract uploader id; please report this issue on https://yt-dl.org/bug . Make sure you are using the latest version; see  https://yt-dl.org/update  on how to update. Be sure to call youtube-dl with the --verbose flag and include its complete output.\n",
            "[youtube] -RYtUAsNhF0: Downloading webpage\n"
          ]
        },
        {
          "output_type": "stream",
          "name": "stderr",
          "text": [
            "ERROR: Unable to extract uploader id; please report this issue on https://yt-dl.org/bug . Make sure you are using the latest version; see  https://yt-dl.org/update  on how to update. Be sure to call youtube-dl with the --verbose flag and include its complete output.\n",
            "Traceback (most recent call last):\n",
            "  File \"/usr/local/lib/python3.10/dist-packages/youtube_dl/YoutubeDL.py\", line 815, in wrapper\n",
            "    return func(self, *args, **kwargs)\n",
            "  File \"/usr/local/lib/python3.10/dist-packages/youtube_dl/YoutubeDL.py\", line 836, in __extract_info\n",
            "    ie_result = ie.extract(url)\n",
            "  File \"/usr/local/lib/python3.10/dist-packages/youtube_dl/extractor/common.py\", line 534, in extract\n",
            "    ie_result = self._real_extract(url)\n",
            "  File \"/usr/local/lib/python3.10/dist-packages/youtube_dl/extractor/youtube.py\", line 1794, in _real_extract\n",
            "    'uploader_id': self._search_regex(r'/(?:channel|user)/([^/?&#]+)', owner_profile_url, 'uploader id') if owner_profile_url else None,\n",
            "  File \"/usr/local/lib/python3.10/dist-packages/youtube_dl/extractor/common.py\", line 1012, in _search_regex\n",
            "    raise RegexNotFoundError('Unable to extract %s' % _name)\n",
            "youtube_dl.utils.RegexNotFoundError: Unable to extract uploader id; please report this issue on https://yt-dl.org/bug . Make sure you are using the latest version; see  https://yt-dl.org/update  on how to update. Be sure to call youtube-dl with the --verbose flag and include its complete output.\n",
            "\n",
            "[debug] Encodings: locale UTF-8, fs utf-8, out UTF-8, pref UTF-8\n",
            "[debug] youtube-dl version 2021.12.17\n",
            "[debug] Python version 3.10.12 (CPython) - Linux-5.15.120+-x86_64-with-glibc2.35\n",
            "[debug] exe versions: ffmpeg 4.4.2, ffprobe 4.4.2\n",
            "[debug] Proxy map: {'colab_language_server': '/usr/colab/bin/language_service'}\n"
          ]
        },
        {
          "output_type": "stream",
          "name": "stdout",
          "text": [
            "Error downloading video -RYtUAsNhF0: ERROR: Unable to extract uploader id; please report this issue on https://yt-dl.org/bug . Make sure you are using the latest version; see  https://yt-dl.org/update  on how to update. Be sure to call youtube-dl with the --verbose flag and include its complete output.\n",
            "[youtube] -SD43H5B5hE: Downloading webpage\n"
          ]
        },
        {
          "output_type": "stream",
          "name": "stderr",
          "text": [
            "ERROR: Unable to extract uploader id; please report this issue on https://yt-dl.org/bug . Make sure you are using the latest version; see  https://yt-dl.org/update  on how to update. Be sure to call youtube-dl with the --verbose flag and include its complete output.\n",
            "Traceback (most recent call last):\n",
            "  File \"/usr/local/lib/python3.10/dist-packages/youtube_dl/YoutubeDL.py\", line 815, in wrapper\n",
            "    return func(self, *args, **kwargs)\n",
            "  File \"/usr/local/lib/python3.10/dist-packages/youtube_dl/YoutubeDL.py\", line 836, in __extract_info\n",
            "    ie_result = ie.extract(url)\n",
            "  File \"/usr/local/lib/python3.10/dist-packages/youtube_dl/extractor/common.py\", line 534, in extract\n",
            "    ie_result = self._real_extract(url)\n",
            "  File \"/usr/local/lib/python3.10/dist-packages/youtube_dl/extractor/youtube.py\", line 1794, in _real_extract\n",
            "    'uploader_id': self._search_regex(r'/(?:channel|user)/([^/?&#]+)', owner_profile_url, 'uploader id') if owner_profile_url else None,\n",
            "  File \"/usr/local/lib/python3.10/dist-packages/youtube_dl/extractor/common.py\", line 1012, in _search_regex\n",
            "    raise RegexNotFoundError('Unable to extract %s' % _name)\n",
            "youtube_dl.utils.RegexNotFoundError: Unable to extract uploader id; please report this issue on https://yt-dl.org/bug . Make sure you are using the latest version; see  https://yt-dl.org/update  on how to update. Be sure to call youtube-dl with the --verbose flag and include its complete output.\n",
            "\n",
            "[debug] Encodings: locale UTF-8, fs utf-8, out UTF-8, pref UTF-8\n",
            "[debug] youtube-dl version 2021.12.17\n",
            "[debug] Python version 3.10.12 (CPython) - Linux-5.15.120+-x86_64-with-glibc2.35\n",
            "[debug] exe versions: ffmpeg 4.4.2, ffprobe 4.4.2\n",
            "[debug] Proxy map: {'colab_language_server': '/usr/colab/bin/language_service'}\n"
          ]
        },
        {
          "output_type": "stream",
          "name": "stdout",
          "text": [
            "Error downloading video -SD43H5B5hE: ERROR: Unable to extract uploader id; please report this issue on https://yt-dl.org/bug . Make sure you are using the latest version; see  https://yt-dl.org/update  on how to update. Be sure to call youtube-dl with the --verbose flag and include its complete output.\n",
            "[youtube] -SWaCArvQug: Downloading webpage\n"
          ]
        },
        {
          "output_type": "stream",
          "name": "stderr",
          "text": [
            "ERROR: Unable to extract uploader id; please report this issue on https://yt-dl.org/bug . Make sure you are using the latest version; see  https://yt-dl.org/update  on how to update. Be sure to call youtube-dl with the --verbose flag and include its complete output.\n",
            "Traceback (most recent call last):\n",
            "  File \"/usr/local/lib/python3.10/dist-packages/youtube_dl/YoutubeDL.py\", line 815, in wrapper\n",
            "    return func(self, *args, **kwargs)\n",
            "  File \"/usr/local/lib/python3.10/dist-packages/youtube_dl/YoutubeDL.py\", line 836, in __extract_info\n",
            "    ie_result = ie.extract(url)\n",
            "  File \"/usr/local/lib/python3.10/dist-packages/youtube_dl/extractor/common.py\", line 534, in extract\n",
            "    ie_result = self._real_extract(url)\n",
            "  File \"/usr/local/lib/python3.10/dist-packages/youtube_dl/extractor/youtube.py\", line 1794, in _real_extract\n",
            "    'uploader_id': self._search_regex(r'/(?:channel|user)/([^/?&#]+)', owner_profile_url, 'uploader id') if owner_profile_url else None,\n",
            "  File \"/usr/local/lib/python3.10/dist-packages/youtube_dl/extractor/common.py\", line 1012, in _search_regex\n",
            "    raise RegexNotFoundError('Unable to extract %s' % _name)\n",
            "youtube_dl.utils.RegexNotFoundError: Unable to extract uploader id; please report this issue on https://yt-dl.org/bug . Make sure you are using the latest version; see  https://yt-dl.org/update  on how to update. Be sure to call youtube-dl with the --verbose flag and include its complete output.\n",
            "\n",
            "[debug] Encodings: locale UTF-8, fs utf-8, out UTF-8, pref UTF-8\n",
            "[debug] youtube-dl version 2021.12.17\n",
            "[debug] Python version 3.10.12 (CPython) - Linux-5.15.120+-x86_64-with-glibc2.35\n",
            "[debug] exe versions: ffmpeg 4.4.2, ffprobe 4.4.2\n",
            "[debug] Proxy map: {'colab_language_server': '/usr/colab/bin/language_service'}\n"
          ]
        },
        {
          "output_type": "stream",
          "name": "stdout",
          "text": [
            "Error downloading video -SWaCArvQug: ERROR: Unable to extract uploader id; please report this issue on https://yt-dl.org/bug . Make sure you are using the latest version; see  https://yt-dl.org/update  on how to update. Be sure to call youtube-dl with the --verbose flag and include its complete output.\n",
            "[youtube] -T4GeTHKtJQ: Downloading webpage\n"
          ]
        },
        {
          "output_type": "stream",
          "name": "stderr",
          "text": [
            "ERROR: Unable to extract uploader id; please report this issue on https://yt-dl.org/bug . Make sure you are using the latest version; see  https://yt-dl.org/update  on how to update. Be sure to call youtube-dl with the --verbose flag and include its complete output.\n",
            "Traceback (most recent call last):\n",
            "  File \"/usr/local/lib/python3.10/dist-packages/youtube_dl/YoutubeDL.py\", line 815, in wrapper\n",
            "    return func(self, *args, **kwargs)\n",
            "  File \"/usr/local/lib/python3.10/dist-packages/youtube_dl/YoutubeDL.py\", line 836, in __extract_info\n",
            "    ie_result = ie.extract(url)\n",
            "  File \"/usr/local/lib/python3.10/dist-packages/youtube_dl/extractor/common.py\", line 534, in extract\n",
            "    ie_result = self._real_extract(url)\n",
            "  File \"/usr/local/lib/python3.10/dist-packages/youtube_dl/extractor/youtube.py\", line 1794, in _real_extract\n",
            "    'uploader_id': self._search_regex(r'/(?:channel|user)/([^/?&#]+)', owner_profile_url, 'uploader id') if owner_profile_url else None,\n",
            "  File \"/usr/local/lib/python3.10/dist-packages/youtube_dl/extractor/common.py\", line 1012, in _search_regex\n",
            "    raise RegexNotFoundError('Unable to extract %s' % _name)\n",
            "youtube_dl.utils.RegexNotFoundError: Unable to extract uploader id; please report this issue on https://yt-dl.org/bug . Make sure you are using the latest version; see  https://yt-dl.org/update  on how to update. Be sure to call youtube-dl with the --verbose flag and include its complete output.\n",
            "\n",
            "[debug] Encodings: locale UTF-8, fs utf-8, out UTF-8, pref UTF-8\n",
            "[debug] youtube-dl version 2021.12.17\n",
            "[debug] Python version 3.10.12 (CPython) - Linux-5.15.120+-x86_64-with-glibc2.35\n",
            "[debug] exe versions: ffmpeg 4.4.2, ffprobe 4.4.2\n",
            "[debug] Proxy map: {'colab_language_server': '/usr/colab/bin/language_service'}\n"
          ]
        },
        {
          "output_type": "stream",
          "name": "stdout",
          "text": [
            "Error downloading video -T4GeTHKtJQ: ERROR: Unable to extract uploader id; please report this issue on https://yt-dl.org/bug . Make sure you are using the latest version; see  https://yt-dl.org/update  on how to update. Be sure to call youtube-dl with the --verbose flag and include its complete output.\n",
            "[youtube] -U16iKiXGuY: Downloading webpage\n"
          ]
        },
        {
          "output_type": "stream",
          "name": "stderr",
          "text": [
            "ERROR: Unable to extract uploader id; please report this issue on https://yt-dl.org/bug . Make sure you are using the latest version; see  https://yt-dl.org/update  on how to update. Be sure to call youtube-dl with the --verbose flag and include its complete output.\n",
            "Traceback (most recent call last):\n",
            "  File \"/usr/local/lib/python3.10/dist-packages/youtube_dl/YoutubeDL.py\", line 815, in wrapper\n",
            "    return func(self, *args, **kwargs)\n",
            "  File \"/usr/local/lib/python3.10/dist-packages/youtube_dl/YoutubeDL.py\", line 836, in __extract_info\n",
            "    ie_result = ie.extract(url)\n",
            "  File \"/usr/local/lib/python3.10/dist-packages/youtube_dl/extractor/common.py\", line 534, in extract\n",
            "    ie_result = self._real_extract(url)\n",
            "  File \"/usr/local/lib/python3.10/dist-packages/youtube_dl/extractor/youtube.py\", line 1794, in _real_extract\n",
            "    'uploader_id': self._search_regex(r'/(?:channel|user)/([^/?&#]+)', owner_profile_url, 'uploader id') if owner_profile_url else None,\n",
            "  File \"/usr/local/lib/python3.10/dist-packages/youtube_dl/extractor/common.py\", line 1012, in _search_regex\n",
            "    raise RegexNotFoundError('Unable to extract %s' % _name)\n",
            "youtube_dl.utils.RegexNotFoundError: Unable to extract uploader id; please report this issue on https://yt-dl.org/bug . Make sure you are using the latest version; see  https://yt-dl.org/update  on how to update. Be sure to call youtube-dl with the --verbose flag and include its complete output.\n",
            "\n",
            "[debug] Encodings: locale UTF-8, fs utf-8, out UTF-8, pref UTF-8\n",
            "[debug] youtube-dl version 2021.12.17\n",
            "[debug] Python version 3.10.12 (CPython) - Linux-5.15.120+-x86_64-with-glibc2.35\n",
            "[debug] exe versions: ffmpeg 4.4.2, ffprobe 4.4.2\n",
            "[debug] Proxy map: {'colab_language_server': '/usr/colab/bin/language_service'}\n"
          ]
        },
        {
          "output_type": "stream",
          "name": "stdout",
          "text": [
            "Error downloading video -U16iKiXGuY: ERROR: Unable to extract uploader id; please report this issue on https://yt-dl.org/bug . Make sure you are using the latest version; see  https://yt-dl.org/update  on how to update. Be sure to call youtube-dl with the --verbose flag and include its complete output.\n",
            "[youtube] -Umconw-CRE: Downloading webpage\n"
          ]
        },
        {
          "output_type": "stream",
          "name": "stderr",
          "text": [
            "ERROR: Unable to extract uploader id; please report this issue on https://yt-dl.org/bug . Make sure you are using the latest version; see  https://yt-dl.org/update  on how to update. Be sure to call youtube-dl with the --verbose flag and include its complete output.\n",
            "Traceback (most recent call last):\n",
            "  File \"/usr/local/lib/python3.10/dist-packages/youtube_dl/YoutubeDL.py\", line 815, in wrapper\n",
            "    return func(self, *args, **kwargs)\n",
            "  File \"/usr/local/lib/python3.10/dist-packages/youtube_dl/YoutubeDL.py\", line 836, in __extract_info\n",
            "    ie_result = ie.extract(url)\n",
            "  File \"/usr/local/lib/python3.10/dist-packages/youtube_dl/extractor/common.py\", line 534, in extract\n",
            "    ie_result = self._real_extract(url)\n",
            "  File \"/usr/local/lib/python3.10/dist-packages/youtube_dl/extractor/youtube.py\", line 1794, in _real_extract\n",
            "    'uploader_id': self._search_regex(r'/(?:channel|user)/([^/?&#]+)', owner_profile_url, 'uploader id') if owner_profile_url else None,\n",
            "  File \"/usr/local/lib/python3.10/dist-packages/youtube_dl/extractor/common.py\", line 1012, in _search_regex\n",
            "    raise RegexNotFoundError('Unable to extract %s' % _name)\n",
            "youtube_dl.utils.RegexNotFoundError: Unable to extract uploader id; please report this issue on https://yt-dl.org/bug . Make sure you are using the latest version; see  https://yt-dl.org/update  on how to update. Be sure to call youtube-dl with the --verbose flag and include its complete output.\n",
            "\n",
            "[debug] Encodings: locale UTF-8, fs utf-8, out UTF-8, pref UTF-8\n",
            "[debug] youtube-dl version 2021.12.17\n",
            "[debug] Python version 3.10.12 (CPython) - Linux-5.15.120+-x86_64-with-glibc2.35\n",
            "[debug] exe versions: ffmpeg 4.4.2, ffprobe 4.4.2\n",
            "[debug] Proxy map: {'colab_language_server': '/usr/colab/bin/language_service'}\n"
          ]
        },
        {
          "output_type": "stream",
          "name": "stdout",
          "text": [
            "Error downloading video -Umconw-CRE: ERROR: Unable to extract uploader id; please report this issue on https://yt-dl.org/bug . Make sure you are using the latest version; see  https://yt-dl.org/update  on how to update. Be sure to call youtube-dl with the --verbose flag and include its complete output.\n",
            "[youtube] -UuEBhule84: Downloading webpage\n"
          ]
        },
        {
          "output_type": "stream",
          "name": "stderr",
          "text": [
            "ERROR: Unable to extract uploader id; please report this issue on https://yt-dl.org/bug . Make sure you are using the latest version; see  https://yt-dl.org/update  on how to update. Be sure to call youtube-dl with the --verbose flag and include its complete output.\n",
            "Traceback (most recent call last):\n",
            "  File \"/usr/local/lib/python3.10/dist-packages/youtube_dl/YoutubeDL.py\", line 815, in wrapper\n",
            "    return func(self, *args, **kwargs)\n",
            "  File \"/usr/local/lib/python3.10/dist-packages/youtube_dl/YoutubeDL.py\", line 836, in __extract_info\n",
            "    ie_result = ie.extract(url)\n",
            "  File \"/usr/local/lib/python3.10/dist-packages/youtube_dl/extractor/common.py\", line 534, in extract\n",
            "    ie_result = self._real_extract(url)\n",
            "  File \"/usr/local/lib/python3.10/dist-packages/youtube_dl/extractor/youtube.py\", line 1794, in _real_extract\n",
            "    'uploader_id': self._search_regex(r'/(?:channel|user)/([^/?&#]+)', owner_profile_url, 'uploader id') if owner_profile_url else None,\n",
            "  File \"/usr/local/lib/python3.10/dist-packages/youtube_dl/extractor/common.py\", line 1012, in _search_regex\n",
            "    raise RegexNotFoundError('Unable to extract %s' % _name)\n",
            "youtube_dl.utils.RegexNotFoundError: Unable to extract uploader id; please report this issue on https://yt-dl.org/bug . Make sure you are using the latest version; see  https://yt-dl.org/update  on how to update. Be sure to call youtube-dl with the --verbose flag and include its complete output.\n",
            "\n",
            "[debug] Encodings: locale UTF-8, fs utf-8, out UTF-8, pref UTF-8\n",
            "[debug] youtube-dl version 2021.12.17\n",
            "[debug] Python version 3.10.12 (CPython) - Linux-5.15.120+-x86_64-with-glibc2.35\n"
          ]
        },
        {
          "output_type": "stream",
          "name": "stdout",
          "text": [
            "Error downloading video -UuEBhule84: ERROR: Unable to extract uploader id; please report this issue on https://yt-dl.org/bug . Make sure you are using the latest version; see  https://yt-dl.org/update  on how to update. Be sure to call youtube-dl with the --verbose flag and include its complete output.\n"
          ]
        },
        {
          "output_type": "stream",
          "name": "stderr",
          "text": [
            "[debug] exe versions: ffmpeg 4.4.2, ffprobe 4.4.2\n",
            "[debug] Proxy map: {'colab_language_server': '/usr/colab/bin/language_service'}\n"
          ]
        },
        {
          "output_type": "stream",
          "name": "stdout",
          "text": [
            "[youtube] -VI2IRq17rs: Downloading webpage\n"
          ]
        },
        {
          "output_type": "stream",
          "name": "stderr",
          "text": [
            "ERROR: Unable to extract uploader id; please report this issue on https://yt-dl.org/bug . Make sure you are using the latest version; see  https://yt-dl.org/update  on how to update. Be sure to call youtube-dl with the --verbose flag and include its complete output.\n",
            "Traceback (most recent call last):\n",
            "  File \"/usr/local/lib/python3.10/dist-packages/youtube_dl/YoutubeDL.py\", line 815, in wrapper\n",
            "    return func(self, *args, **kwargs)\n",
            "  File \"/usr/local/lib/python3.10/dist-packages/youtube_dl/YoutubeDL.py\", line 836, in __extract_info\n",
            "    ie_result = ie.extract(url)\n",
            "  File \"/usr/local/lib/python3.10/dist-packages/youtube_dl/extractor/common.py\", line 534, in extract\n",
            "    ie_result = self._real_extract(url)\n",
            "  File \"/usr/local/lib/python3.10/dist-packages/youtube_dl/extractor/youtube.py\", line 1794, in _real_extract\n",
            "    'uploader_id': self._search_regex(r'/(?:channel|user)/([^/?&#]+)', owner_profile_url, 'uploader id') if owner_profile_url else None,\n",
            "  File \"/usr/local/lib/python3.10/dist-packages/youtube_dl/extractor/common.py\", line 1012, in _search_regex\n",
            "    raise RegexNotFoundError('Unable to extract %s' % _name)\n",
            "youtube_dl.utils.RegexNotFoundError: Unable to extract uploader id; please report this issue on https://yt-dl.org/bug . Make sure you are using the latest version; see  https://yt-dl.org/update  on how to update. Be sure to call youtube-dl with the --verbose flag and include its complete output.\n",
            "\n",
            "[debug] Encodings: locale UTF-8, fs utf-8, out UTF-8, pref UTF-8\n",
            "[debug] youtube-dl version 2021.12.17\n",
            "[debug] Python version 3.10.12 (CPython) - Linux-5.15.120+-x86_64-with-glibc2.35\n"
          ]
        },
        {
          "output_type": "stream",
          "name": "stdout",
          "text": [
            "Error downloading video -VI2IRq17rs: ERROR: Unable to extract uploader id; please report this issue on https://yt-dl.org/bug . Make sure you are using the latest version; see  https://yt-dl.org/update  on how to update. Be sure to call youtube-dl with the --verbose flag and include its complete output.\n"
          ]
        },
        {
          "output_type": "stream",
          "name": "stderr",
          "text": [
            "[debug] exe versions: ffmpeg 4.4.2, ffprobe 4.4.2\n",
            "[debug] Proxy map: {'colab_language_server': '/usr/colab/bin/language_service'}\n"
          ]
        },
        {
          "output_type": "stream",
          "name": "stdout",
          "text": [
            "[youtube] -VclCul6FrI: Downloading webpage\n"
          ]
        },
        {
          "output_type": "stream",
          "name": "stderr",
          "text": [
            "ERROR: Unable to extract uploader id; please report this issue on https://yt-dl.org/bug . Make sure you are using the latest version; see  https://yt-dl.org/update  on how to update. Be sure to call youtube-dl with the --verbose flag and include its complete output.\n",
            "Traceback (most recent call last):\n",
            "  File \"/usr/local/lib/python3.10/dist-packages/youtube_dl/YoutubeDL.py\", line 815, in wrapper\n",
            "    return func(self, *args, **kwargs)\n",
            "  File \"/usr/local/lib/python3.10/dist-packages/youtube_dl/YoutubeDL.py\", line 836, in __extract_info\n",
            "    ie_result = ie.extract(url)\n",
            "  File \"/usr/local/lib/python3.10/dist-packages/youtube_dl/extractor/common.py\", line 534, in extract\n",
            "    ie_result = self._real_extract(url)\n",
            "  File \"/usr/local/lib/python3.10/dist-packages/youtube_dl/extractor/youtube.py\", line 1794, in _real_extract\n",
            "    'uploader_id': self._search_regex(r'/(?:channel|user)/([^/?&#]+)', owner_profile_url, 'uploader id') if owner_profile_url else None,\n",
            "  File \"/usr/local/lib/python3.10/dist-packages/youtube_dl/extractor/common.py\", line 1012, in _search_regex\n",
            "    raise RegexNotFoundError('Unable to extract %s' % _name)\n",
            "youtube_dl.utils.RegexNotFoundError: Unable to extract uploader id; please report this issue on https://yt-dl.org/bug . Make sure you are using the latest version; see  https://yt-dl.org/update  on how to update. Be sure to call youtube-dl with the --verbose flag and include its complete output.\n",
            "\n",
            "[debug] Encodings: locale UTF-8, fs utf-8, out UTF-8, pref UTF-8\n",
            "[debug] youtube-dl version 2021.12.17\n",
            "[debug] Python version 3.10.12 (CPython) - Linux-5.15.120+-x86_64-with-glibc2.35\n"
          ]
        },
        {
          "output_type": "stream",
          "name": "stdout",
          "text": [
            "Error downloading video -VclCul6FrI: ERROR: Unable to extract uploader id; please report this issue on https://yt-dl.org/bug . Make sure you are using the latest version; see  https://yt-dl.org/update  on how to update. Be sure to call youtube-dl with the --verbose flag and include its complete output.\n"
          ]
        },
        {
          "output_type": "stream",
          "name": "stderr",
          "text": [
            "[debug] exe versions: ffmpeg 4.4.2, ffprobe 4.4.2\n",
            "[debug] Proxy map: {'colab_language_server': '/usr/colab/bin/language_service'}\n"
          ]
        },
        {
          "output_type": "stream",
          "name": "stdout",
          "text": [
            "[youtube] -Vo4CAMX26U: Downloading webpage\n"
          ]
        },
        {
          "output_type": "stream",
          "name": "stderr",
          "text": [
            "ERROR: Unable to extract uploader id; please report this issue on https://yt-dl.org/bug . Make sure you are using the latest version; see  https://yt-dl.org/update  on how to update. Be sure to call youtube-dl with the --verbose flag and include its complete output.\n",
            "Traceback (most recent call last):\n",
            "  File \"/usr/local/lib/python3.10/dist-packages/youtube_dl/YoutubeDL.py\", line 815, in wrapper\n",
            "    return func(self, *args, **kwargs)\n",
            "  File \"/usr/local/lib/python3.10/dist-packages/youtube_dl/YoutubeDL.py\", line 836, in __extract_info\n",
            "    ie_result = ie.extract(url)\n",
            "  File \"/usr/local/lib/python3.10/dist-packages/youtube_dl/extractor/common.py\", line 534, in extract\n",
            "    ie_result = self._real_extract(url)\n",
            "  File \"/usr/local/lib/python3.10/dist-packages/youtube_dl/extractor/youtube.py\", line 1794, in _real_extract\n",
            "    'uploader_id': self._search_regex(r'/(?:channel|user)/([^/?&#]+)', owner_profile_url, 'uploader id') if owner_profile_url else None,\n",
            "  File \"/usr/local/lib/python3.10/dist-packages/youtube_dl/extractor/common.py\", line 1012, in _search_regex\n",
            "    raise RegexNotFoundError('Unable to extract %s' % _name)\n",
            "youtube_dl.utils.RegexNotFoundError: Unable to extract uploader id; please report this issue on https://yt-dl.org/bug . Make sure you are using the latest version; see  https://yt-dl.org/update  on how to update. Be sure to call youtube-dl with the --verbose flag and include its complete output.\n",
            "\n",
            "[debug] Encodings: locale UTF-8, fs utf-8, out UTF-8, pref UTF-8\n",
            "[debug] youtube-dl version 2021.12.17\n",
            "[debug] Python version 3.10.12 (CPython) - Linux-5.15.120+-x86_64-with-glibc2.35\n"
          ]
        },
        {
          "output_type": "stream",
          "name": "stdout",
          "text": [
            "Error downloading video -Vo4CAMX26U: ERROR: Unable to extract uploader id; please report this issue on https://yt-dl.org/bug . Make sure you are using the latest version; see  https://yt-dl.org/update  on how to update. Be sure to call youtube-dl with the --verbose flag and include its complete output.\n"
          ]
        },
        {
          "output_type": "stream",
          "name": "stderr",
          "text": [
            "[debug] exe versions: ffmpeg 4.4.2, ffprobe 4.4.2\n",
            "[debug] Proxy map: {'colab_language_server': '/usr/colab/bin/language_service'}\n"
          ]
        },
        {
          "output_type": "stream",
          "name": "stdout",
          "text": [
            "[youtube] -W5c6CeUMPE: Downloading webpage\n"
          ]
        },
        {
          "output_type": "stream",
          "name": "stderr",
          "text": [
            "ERROR: Unable to extract uploader id; please report this issue on https://yt-dl.org/bug . Make sure you are using the latest version; see  https://yt-dl.org/update  on how to update. Be sure to call youtube-dl with the --verbose flag and include its complete output.\n",
            "Traceback (most recent call last):\n",
            "  File \"/usr/local/lib/python3.10/dist-packages/youtube_dl/YoutubeDL.py\", line 815, in wrapper\n",
            "    return func(self, *args, **kwargs)\n",
            "  File \"/usr/local/lib/python3.10/dist-packages/youtube_dl/YoutubeDL.py\", line 836, in __extract_info\n",
            "    ie_result = ie.extract(url)\n",
            "  File \"/usr/local/lib/python3.10/dist-packages/youtube_dl/extractor/common.py\", line 534, in extract\n",
            "    ie_result = self._real_extract(url)\n",
            "  File \"/usr/local/lib/python3.10/dist-packages/youtube_dl/extractor/youtube.py\", line 1794, in _real_extract\n",
            "    'uploader_id': self._search_regex(r'/(?:channel|user)/([^/?&#]+)', owner_profile_url, 'uploader id') if owner_profile_url else None,\n",
            "  File \"/usr/local/lib/python3.10/dist-packages/youtube_dl/extractor/common.py\", line 1012, in _search_regex\n",
            "    raise RegexNotFoundError('Unable to extract %s' % _name)\n",
            "youtube_dl.utils.RegexNotFoundError: Unable to extract uploader id; please report this issue on https://yt-dl.org/bug . Make sure you are using the latest version; see  https://yt-dl.org/update  on how to update. Be sure to call youtube-dl with the --verbose flag and include its complete output.\n",
            "\n",
            "[debug] Encodings: locale UTF-8, fs utf-8, out UTF-8, pref UTF-8\n",
            "[debug] youtube-dl version 2021.12.17\n",
            "[debug] Python version 3.10.12 (CPython) - Linux-5.15.120+-x86_64-with-glibc2.35\n"
          ]
        },
        {
          "output_type": "stream",
          "name": "stdout",
          "text": [
            "Error downloading video -W5c6CeUMPE: ERROR: Unable to extract uploader id; please report this issue on https://yt-dl.org/bug . Make sure you are using the latest version; see  https://yt-dl.org/update  on how to update. Be sure to call youtube-dl with the --verbose flag and include its complete output.\n"
          ]
        },
        {
          "output_type": "stream",
          "name": "stderr",
          "text": [
            "[debug] exe versions: ffmpeg 4.4.2, ffprobe 4.4.2\n",
            "[debug] Proxy map: {'colab_language_server': '/usr/colab/bin/language_service'}\n"
          ]
        },
        {
          "output_type": "stream",
          "name": "stdout",
          "text": [
            "[youtube] -WvVG0wHcTc: Downloading webpage\n"
          ]
        },
        {
          "output_type": "stream",
          "name": "stderr",
          "text": [
            "ERROR: Unable to extract uploader id; please report this issue on https://yt-dl.org/bug . Make sure you are using the latest version; see  https://yt-dl.org/update  on how to update. Be sure to call youtube-dl with the --verbose flag and include its complete output.\n",
            "Traceback (most recent call last):\n",
            "  File \"/usr/local/lib/python3.10/dist-packages/youtube_dl/YoutubeDL.py\", line 815, in wrapper\n",
            "    return func(self, *args, **kwargs)\n",
            "  File \"/usr/local/lib/python3.10/dist-packages/youtube_dl/YoutubeDL.py\", line 836, in __extract_info\n",
            "    ie_result = ie.extract(url)\n",
            "  File \"/usr/local/lib/python3.10/dist-packages/youtube_dl/extractor/common.py\", line 534, in extract\n",
            "    ie_result = self._real_extract(url)\n",
            "  File \"/usr/local/lib/python3.10/dist-packages/youtube_dl/extractor/youtube.py\", line 1794, in _real_extract\n",
            "    'uploader_id': self._search_regex(r'/(?:channel|user)/([^/?&#]+)', owner_profile_url, 'uploader id') if owner_profile_url else None,\n",
            "  File \"/usr/local/lib/python3.10/dist-packages/youtube_dl/extractor/common.py\", line 1012, in _search_regex\n",
            "    raise RegexNotFoundError('Unable to extract %s' % _name)\n",
            "youtube_dl.utils.RegexNotFoundError: Unable to extract uploader id; please report this issue on https://yt-dl.org/bug . Make sure you are using the latest version; see  https://yt-dl.org/update  on how to update. Be sure to call youtube-dl with the --verbose flag and include its complete output.\n",
            "\n",
            "[debug] Encodings: locale UTF-8, fs utf-8, out UTF-8, pref UTF-8\n",
            "[debug] youtube-dl version 2021.12.17\n",
            "[debug] Python version 3.10.12 (CPython) - Linux-5.15.120+-x86_64-with-glibc2.35\n"
          ]
        },
        {
          "output_type": "stream",
          "name": "stdout",
          "text": [
            "Error downloading video -WvVG0wHcTc: ERROR: Unable to extract uploader id; please report this issue on https://yt-dl.org/bug . Make sure you are using the latest version; see  https://yt-dl.org/update  on how to update. Be sure to call youtube-dl with the --verbose flag and include its complete output.\n"
          ]
        },
        {
          "output_type": "stream",
          "name": "stderr",
          "text": [
            "[debug] exe versions: ffmpeg 4.4.2, ffprobe 4.4.2\n",
            "[debug] Proxy map: {'colab_language_server': '/usr/colab/bin/language_service'}\n"
          ]
        },
        {
          "output_type": "stream",
          "name": "stdout",
          "text": [
            "[youtube] -XN0NtrnfMY: Downloading webpage\n"
          ]
        },
        {
          "output_type": "stream",
          "name": "stderr",
          "text": [
            "ERROR: Unable to extract uploader id; please report this issue on https://yt-dl.org/bug . Make sure you are using the latest version; see  https://yt-dl.org/update  on how to update. Be sure to call youtube-dl with the --verbose flag and include its complete output.\n",
            "Traceback (most recent call last):\n",
            "  File \"/usr/local/lib/python3.10/dist-packages/youtube_dl/YoutubeDL.py\", line 815, in wrapper\n",
            "    return func(self, *args, **kwargs)\n",
            "  File \"/usr/local/lib/python3.10/dist-packages/youtube_dl/YoutubeDL.py\", line 836, in __extract_info\n",
            "    ie_result = ie.extract(url)\n",
            "  File \"/usr/local/lib/python3.10/dist-packages/youtube_dl/extractor/common.py\", line 534, in extract\n",
            "    ie_result = self._real_extract(url)\n",
            "  File \"/usr/local/lib/python3.10/dist-packages/youtube_dl/extractor/youtube.py\", line 1794, in _real_extract\n",
            "    'uploader_id': self._search_regex(r'/(?:channel|user)/([^/?&#]+)', owner_profile_url, 'uploader id') if owner_profile_url else None,\n",
            "  File \"/usr/local/lib/python3.10/dist-packages/youtube_dl/extractor/common.py\", line 1012, in _search_regex\n",
            "    raise RegexNotFoundError('Unable to extract %s' % _name)\n",
            "youtube_dl.utils.RegexNotFoundError: Unable to extract uploader id; please report this issue on https://yt-dl.org/bug . Make sure you are using the latest version; see  https://yt-dl.org/update  on how to update. Be sure to call youtube-dl with the --verbose flag and include its complete output.\n",
            "\n",
            "[debug] Encodings: locale UTF-8, fs utf-8, out UTF-8, pref UTF-8\n",
            "[debug] youtube-dl version 2021.12.17\n",
            "[debug] Python version 3.10.12 (CPython) - Linux-5.15.120+-x86_64-with-glibc2.35\n",
            "[debug] exe versions: ffmpeg 4.4.2, ffprobe 4.4.2\n",
            "[debug] Proxy map: {'colab_language_server': '/usr/colab/bin/language_service'}\n"
          ]
        },
        {
          "output_type": "stream",
          "name": "stdout",
          "text": [
            "Error downloading video -XN0NtrnfMY: ERROR: Unable to extract uploader id; please report this issue on https://yt-dl.org/bug . Make sure you are using the latest version; see  https://yt-dl.org/update  on how to update. Be sure to call youtube-dl with the --verbose flag and include its complete output.\n",
            "[youtube] -XkbErI_7EU: Downloading webpage\n"
          ]
        },
        {
          "output_type": "stream",
          "name": "stderr",
          "text": [
            "ERROR: Unable to extract uploader id; please report this issue on https://yt-dl.org/bug . Make sure you are using the latest version; see  https://yt-dl.org/update  on how to update. Be sure to call youtube-dl with the --verbose flag and include its complete output.\n",
            "Traceback (most recent call last):\n",
            "  File \"/usr/local/lib/python3.10/dist-packages/youtube_dl/YoutubeDL.py\", line 815, in wrapper\n",
            "    return func(self, *args, **kwargs)\n",
            "  File \"/usr/local/lib/python3.10/dist-packages/youtube_dl/YoutubeDL.py\", line 836, in __extract_info\n",
            "    ie_result = ie.extract(url)\n",
            "  File \"/usr/local/lib/python3.10/dist-packages/youtube_dl/extractor/common.py\", line 534, in extract\n",
            "    ie_result = self._real_extract(url)\n",
            "  File \"/usr/local/lib/python3.10/dist-packages/youtube_dl/extractor/youtube.py\", line 1794, in _real_extract\n",
            "    'uploader_id': self._search_regex(r'/(?:channel|user)/([^/?&#]+)', owner_profile_url, 'uploader id') if owner_profile_url else None,\n",
            "  File \"/usr/local/lib/python3.10/dist-packages/youtube_dl/extractor/common.py\", line 1012, in _search_regex\n",
            "    raise RegexNotFoundError('Unable to extract %s' % _name)\n",
            "youtube_dl.utils.RegexNotFoundError: Unable to extract uploader id; please report this issue on https://yt-dl.org/bug . Make sure you are using the latest version; see  https://yt-dl.org/update  on how to update. Be sure to call youtube-dl with the --verbose flag and include its complete output.\n",
            "\n",
            "[debug] Encodings: locale UTF-8, fs utf-8, out UTF-8, pref UTF-8\n",
            "[debug] youtube-dl version 2021.12.17\n",
            "[debug] Python version 3.10.12 (CPython) - Linux-5.15.120+-x86_64-with-glibc2.35\n",
            "[debug] exe versions: ffmpeg 4.4.2, ffprobe 4.4.2\n",
            "[debug] Proxy map: {'colab_language_server': '/usr/colab/bin/language_service'}\n"
          ]
        },
        {
          "output_type": "stream",
          "name": "stdout",
          "text": [
            "Error downloading video -XkbErI_7EU: ERROR: Unable to extract uploader id; please report this issue on https://yt-dl.org/bug . Make sure you are using the latest version; see  https://yt-dl.org/update  on how to update. Be sure to call youtube-dl with the --verbose flag and include its complete output.\n",
            "[youtube] -YATTKBtmRA: Downloading webpage\n"
          ]
        },
        {
          "output_type": "stream",
          "name": "stderr",
          "text": [
            "ERROR: Unable to extract uploader id; please report this issue on https://yt-dl.org/bug . Make sure you are using the latest version; see  https://yt-dl.org/update  on how to update. Be sure to call youtube-dl with the --verbose flag and include its complete output.\n",
            "Traceback (most recent call last):\n",
            "  File \"/usr/local/lib/python3.10/dist-packages/youtube_dl/YoutubeDL.py\", line 815, in wrapper\n",
            "    return func(self, *args, **kwargs)\n",
            "  File \"/usr/local/lib/python3.10/dist-packages/youtube_dl/YoutubeDL.py\", line 836, in __extract_info\n",
            "    ie_result = ie.extract(url)\n",
            "  File \"/usr/local/lib/python3.10/dist-packages/youtube_dl/extractor/common.py\", line 534, in extract\n",
            "    ie_result = self._real_extract(url)\n",
            "  File \"/usr/local/lib/python3.10/dist-packages/youtube_dl/extractor/youtube.py\", line 1794, in _real_extract\n",
            "    'uploader_id': self._search_regex(r'/(?:channel|user)/([^/?&#]+)', owner_profile_url, 'uploader id') if owner_profile_url else None,\n",
            "  File \"/usr/local/lib/python3.10/dist-packages/youtube_dl/extractor/common.py\", line 1012, in _search_regex\n",
            "    raise RegexNotFoundError('Unable to extract %s' % _name)\n",
            "youtube_dl.utils.RegexNotFoundError: Unable to extract uploader id; please report this issue on https://yt-dl.org/bug . Make sure you are using the latest version; see  https://yt-dl.org/update  on how to update. Be sure to call youtube-dl with the --verbose flag and include its complete output.\n",
            "\n",
            "[debug] Encodings: locale UTF-8, fs utf-8, out UTF-8, pref UTF-8\n",
            "[debug] youtube-dl version 2021.12.17\n",
            "[debug] Python version 3.10.12 (CPython) - Linux-5.15.120+-x86_64-with-glibc2.35\n",
            "[debug] exe versions: ffmpeg 4.4.2, ffprobe 4.4.2\n",
            "[debug] Proxy map: {'colab_language_server': '/usr/colab/bin/language_service'}\n"
          ]
        },
        {
          "output_type": "stream",
          "name": "stdout",
          "text": [
            "Error downloading video -YATTKBtmRA: ERROR: Unable to extract uploader id; please report this issue on https://yt-dl.org/bug . Make sure you are using the latest version; see  https://yt-dl.org/update  on how to update. Be sure to call youtube-dl with the --verbose flag and include its complete output.\n",
            "[youtube] -YIT4HBM__g: Downloading webpage\n"
          ]
        },
        {
          "output_type": "stream",
          "name": "stderr",
          "text": [
            "ERROR: Unable to extract uploader id; please report this issue on https://yt-dl.org/bug . Make sure you are using the latest version; see  https://yt-dl.org/update  on how to update. Be sure to call youtube-dl with the --verbose flag and include its complete output.\n",
            "Traceback (most recent call last):\n",
            "  File \"/usr/local/lib/python3.10/dist-packages/youtube_dl/YoutubeDL.py\", line 815, in wrapper\n",
            "    return func(self, *args, **kwargs)\n",
            "  File \"/usr/local/lib/python3.10/dist-packages/youtube_dl/YoutubeDL.py\", line 836, in __extract_info\n",
            "    ie_result = ie.extract(url)\n",
            "  File \"/usr/local/lib/python3.10/dist-packages/youtube_dl/extractor/common.py\", line 534, in extract\n",
            "    ie_result = self._real_extract(url)\n",
            "  File \"/usr/local/lib/python3.10/dist-packages/youtube_dl/extractor/youtube.py\", line 1794, in _real_extract\n",
            "    'uploader_id': self._search_regex(r'/(?:channel|user)/([^/?&#]+)', owner_profile_url, 'uploader id') if owner_profile_url else None,\n",
            "  File \"/usr/local/lib/python3.10/dist-packages/youtube_dl/extractor/common.py\", line 1012, in _search_regex\n",
            "    raise RegexNotFoundError('Unable to extract %s' % _name)\n",
            "youtube_dl.utils.RegexNotFoundError: Unable to extract uploader id; please report this issue on https://yt-dl.org/bug . Make sure you are using the latest version; see  https://yt-dl.org/update  on how to update. Be sure to call youtube-dl with the --verbose flag and include its complete output.\n",
            "\n",
            "[debug] Encodings: locale UTF-8, fs utf-8, out UTF-8, pref UTF-8\n",
            "[debug] youtube-dl version 2021.12.17\n",
            "[debug] Python version 3.10.12 (CPython) - Linux-5.15.120+-x86_64-with-glibc2.35\n",
            "[debug] exe versions: ffmpeg 4.4.2, ffprobe 4.4.2\n",
            "[debug] Proxy map: {'colab_language_server': '/usr/colab/bin/language_service'}\n"
          ]
        },
        {
          "output_type": "stream",
          "name": "stdout",
          "text": [
            "Error downloading video -YIT4HBM__g: ERROR: Unable to extract uploader id; please report this issue on https://yt-dl.org/bug . Make sure you are using the latest version; see  https://yt-dl.org/update  on how to update. Be sure to call youtube-dl with the --verbose flag and include its complete output.\n",
            "[youtube] -ZHpNr_KRXU: Downloading webpage\n"
          ]
        },
        {
          "output_type": "stream",
          "name": "stderr",
          "text": [
            "ERROR: Unable to extract uploader id; please report this issue on https://yt-dl.org/bug . Make sure you are using the latest version; see  https://yt-dl.org/update  on how to update. Be sure to call youtube-dl with the --verbose flag and include its complete output.\n",
            "Traceback (most recent call last):\n",
            "  File \"/usr/local/lib/python3.10/dist-packages/youtube_dl/YoutubeDL.py\", line 815, in wrapper\n",
            "    return func(self, *args, **kwargs)\n",
            "  File \"/usr/local/lib/python3.10/dist-packages/youtube_dl/YoutubeDL.py\", line 836, in __extract_info\n",
            "    ie_result = ie.extract(url)\n",
            "  File \"/usr/local/lib/python3.10/dist-packages/youtube_dl/extractor/common.py\", line 534, in extract\n",
            "    ie_result = self._real_extract(url)\n",
            "  File \"/usr/local/lib/python3.10/dist-packages/youtube_dl/extractor/youtube.py\", line 1794, in _real_extract\n",
            "    'uploader_id': self._search_regex(r'/(?:channel|user)/([^/?&#]+)', owner_profile_url, 'uploader id') if owner_profile_url else None,\n",
            "  File \"/usr/local/lib/python3.10/dist-packages/youtube_dl/extractor/common.py\", line 1012, in _search_regex\n",
            "    raise RegexNotFoundError('Unable to extract %s' % _name)\n",
            "youtube_dl.utils.RegexNotFoundError: Unable to extract uploader id; please report this issue on https://yt-dl.org/bug . Make sure you are using the latest version; see  https://yt-dl.org/update  on how to update. Be sure to call youtube-dl with the --verbose flag and include its complete output.\n",
            "\n",
            "[debug] Encodings: locale UTF-8, fs utf-8, out UTF-8, pref UTF-8\n",
            "[debug] youtube-dl version 2021.12.17\n",
            "[debug] Python version 3.10.12 (CPython) - Linux-5.15.120+-x86_64-with-glibc2.35\n",
            "[debug] exe versions: ffmpeg 4.4.2, ffprobe 4.4.2\n",
            "[debug] Proxy map: {'colab_language_server': '/usr/colab/bin/language_service'}\n"
          ]
        },
        {
          "output_type": "stream",
          "name": "stdout",
          "text": [
            "Error downloading video -ZHpNr_KRXU: ERROR: Unable to extract uploader id; please report this issue on https://yt-dl.org/bug . Make sure you are using the latest version; see  https://yt-dl.org/update  on how to update. Be sure to call youtube-dl with the --verbose flag and include its complete output.\n",
            "[youtube] -_6RxZyi30Q: Downloading webpage\n"
          ]
        },
        {
          "output_type": "stream",
          "name": "stderr",
          "text": [
            "ERROR: Unable to extract uploader id; please report this issue on https://yt-dl.org/bug . Make sure you are using the latest version; see  https://yt-dl.org/update  on how to update. Be sure to call youtube-dl with the --verbose flag and include its complete output.\n",
            "Traceback (most recent call last):\n",
            "  File \"/usr/local/lib/python3.10/dist-packages/youtube_dl/YoutubeDL.py\", line 815, in wrapper\n",
            "    return func(self, *args, **kwargs)\n",
            "  File \"/usr/local/lib/python3.10/dist-packages/youtube_dl/YoutubeDL.py\", line 836, in __extract_info\n",
            "    ie_result = ie.extract(url)\n",
            "  File \"/usr/local/lib/python3.10/dist-packages/youtube_dl/extractor/common.py\", line 534, in extract\n",
            "    ie_result = self._real_extract(url)\n",
            "  File \"/usr/local/lib/python3.10/dist-packages/youtube_dl/extractor/youtube.py\", line 1794, in _real_extract\n",
            "    'uploader_id': self._search_regex(r'/(?:channel|user)/([^/?&#]+)', owner_profile_url, 'uploader id') if owner_profile_url else None,\n",
            "  File \"/usr/local/lib/python3.10/dist-packages/youtube_dl/extractor/common.py\", line 1012, in _search_regex\n",
            "    raise RegexNotFoundError('Unable to extract %s' % _name)\n",
            "youtube_dl.utils.RegexNotFoundError: Unable to extract uploader id; please report this issue on https://yt-dl.org/bug . Make sure you are using the latest version; see  https://yt-dl.org/update  on how to update. Be sure to call youtube-dl with the --verbose flag and include its complete output.\n",
            "\n",
            "[debug] Encodings: locale UTF-8, fs utf-8, out UTF-8, pref UTF-8\n",
            "[debug] youtube-dl version 2021.12.17\n",
            "[debug] Python version 3.10.12 (CPython) - Linux-5.15.120+-x86_64-with-glibc2.35\n",
            "[debug] exe versions: ffmpeg 4.4.2, ffprobe 4.4.2\n",
            "[debug] Proxy map: {'colab_language_server': '/usr/colab/bin/language_service'}\n"
          ]
        },
        {
          "output_type": "stream",
          "name": "stdout",
          "text": [
            "Error downloading video -_6RxZyi30Q: ERROR: Unable to extract uploader id; please report this issue on https://yt-dl.org/bug . Make sure you are using the latest version; see  https://yt-dl.org/update  on how to update. Be sure to call youtube-dl with the --verbose flag and include its complete output.\n",
            "[youtube] -_OzT7Xyvok: Downloading webpage\n"
          ]
        },
        {
          "output_type": "stream",
          "name": "stderr",
          "text": [
            "ERROR: Unable to extract uploader id; please report this issue on https://yt-dl.org/bug . Make sure you are using the latest version; see  https://yt-dl.org/update  on how to update. Be sure to call youtube-dl with the --verbose flag and include its complete output.\n",
            "Traceback (most recent call last):\n",
            "  File \"/usr/local/lib/python3.10/dist-packages/youtube_dl/YoutubeDL.py\", line 815, in wrapper\n",
            "    return func(self, *args, **kwargs)\n",
            "  File \"/usr/local/lib/python3.10/dist-packages/youtube_dl/YoutubeDL.py\", line 836, in __extract_info\n",
            "    ie_result = ie.extract(url)\n",
            "  File \"/usr/local/lib/python3.10/dist-packages/youtube_dl/extractor/common.py\", line 534, in extract\n",
            "    ie_result = self._real_extract(url)\n",
            "  File \"/usr/local/lib/python3.10/dist-packages/youtube_dl/extractor/youtube.py\", line 1794, in _real_extract\n",
            "    'uploader_id': self._search_regex(r'/(?:channel|user)/([^/?&#]+)', owner_profile_url, 'uploader id') if owner_profile_url else None,\n",
            "  File \"/usr/local/lib/python3.10/dist-packages/youtube_dl/extractor/common.py\", line 1012, in _search_regex\n",
            "    raise RegexNotFoundError('Unable to extract %s' % _name)\n",
            "youtube_dl.utils.RegexNotFoundError: Unable to extract uploader id; please report this issue on https://yt-dl.org/bug . Make sure you are using the latest version; see  https://yt-dl.org/update  on how to update. Be sure to call youtube-dl with the --verbose flag and include its complete output.\n",
            "\n",
            "[debug] Encodings: locale UTF-8, fs utf-8, out UTF-8, pref UTF-8\n",
            "[debug] youtube-dl version 2021.12.17\n",
            "[debug] Python version 3.10.12 (CPython) - Linux-5.15.120+-x86_64-with-glibc2.35\n",
            "[debug] exe versions: ffmpeg 4.4.2, ffprobe 4.4.2\n",
            "[debug] Proxy map: {'colab_language_server': '/usr/colab/bin/language_service'}\n"
          ]
        },
        {
          "output_type": "stream",
          "name": "stdout",
          "text": [
            "Error downloading video -_OzT7Xyvok: ERROR: Unable to extract uploader id; please report this issue on https://yt-dl.org/bug . Make sure you are using the latest version; see  https://yt-dl.org/update  on how to update. Be sure to call youtube-dl with the --verbose flag and include its complete output.\n",
            "[youtube] -bgHkxwoliw: Downloading webpage\n"
          ]
        },
        {
          "output_type": "stream",
          "name": "stderr",
          "text": [
            "ERROR: Unable to extract uploader id; please report this issue on https://yt-dl.org/bug . Make sure you are using the latest version; see  https://yt-dl.org/update  on how to update. Be sure to call youtube-dl with the --verbose flag and include its complete output.\n",
            "Traceback (most recent call last):\n",
            "  File \"/usr/local/lib/python3.10/dist-packages/youtube_dl/YoutubeDL.py\", line 815, in wrapper\n",
            "    return func(self, *args, **kwargs)\n",
            "  File \"/usr/local/lib/python3.10/dist-packages/youtube_dl/YoutubeDL.py\", line 836, in __extract_info\n",
            "    ie_result = ie.extract(url)\n",
            "  File \"/usr/local/lib/python3.10/dist-packages/youtube_dl/extractor/common.py\", line 534, in extract\n",
            "    ie_result = self._real_extract(url)\n",
            "  File \"/usr/local/lib/python3.10/dist-packages/youtube_dl/extractor/youtube.py\", line 1794, in _real_extract\n",
            "    'uploader_id': self._search_regex(r'/(?:channel|user)/([^/?&#]+)', owner_profile_url, 'uploader id') if owner_profile_url else None,\n",
            "  File \"/usr/local/lib/python3.10/dist-packages/youtube_dl/extractor/common.py\", line 1012, in _search_regex\n",
            "    raise RegexNotFoundError('Unable to extract %s' % _name)\n",
            "youtube_dl.utils.RegexNotFoundError: Unable to extract uploader id; please report this issue on https://yt-dl.org/bug . Make sure you are using the latest version; see  https://yt-dl.org/update  on how to update. Be sure to call youtube-dl with the --verbose flag and include its complete output.\n",
            "\n",
            "[debug] Encodings: locale UTF-8, fs utf-8, out UTF-8, pref UTF-8\n",
            "[debug] youtube-dl version 2021.12.17\n",
            "[debug] Python version 3.10.12 (CPython) - Linux-5.15.120+-x86_64-with-glibc2.35\n"
          ]
        },
        {
          "output_type": "stream",
          "name": "stdout",
          "text": [
            "Error downloading video -bgHkxwoliw: ERROR: Unable to extract uploader id; please report this issue on https://yt-dl.org/bug . Make sure you are using the latest version; see  https://yt-dl.org/update  on how to update. Be sure to call youtube-dl with the --verbose flag and include its complete output.\n"
          ]
        },
        {
          "output_type": "stream",
          "name": "stderr",
          "text": [
            "[debug] exe versions: ffmpeg 4.4.2, ffprobe 4.4.2\n",
            "[debug] Proxy map: {'colab_language_server': '/usr/colab/bin/language_service'}\n"
          ]
        },
        {
          "output_type": "stream",
          "name": "stdout",
          "text": [
            "[youtube] -cLzki-B06o: Downloading webpage\n"
          ]
        },
        {
          "output_type": "stream",
          "name": "stderr",
          "text": [
            "ERROR: Unable to extract uploader id; please report this issue on https://yt-dl.org/bug . Make sure you are using the latest version; see  https://yt-dl.org/update  on how to update. Be sure to call youtube-dl with the --verbose flag and include its complete output.\n",
            "Traceback (most recent call last):\n",
            "  File \"/usr/local/lib/python3.10/dist-packages/youtube_dl/YoutubeDL.py\", line 815, in wrapper\n",
            "    return func(self, *args, **kwargs)\n",
            "  File \"/usr/local/lib/python3.10/dist-packages/youtube_dl/YoutubeDL.py\", line 836, in __extract_info\n",
            "    ie_result = ie.extract(url)\n",
            "  File \"/usr/local/lib/python3.10/dist-packages/youtube_dl/extractor/common.py\", line 534, in extract\n",
            "    ie_result = self._real_extract(url)\n",
            "  File \"/usr/local/lib/python3.10/dist-packages/youtube_dl/extractor/youtube.py\", line 1794, in _real_extract\n",
            "    'uploader_id': self._search_regex(r'/(?:channel|user)/([^/?&#]+)', owner_profile_url, 'uploader id') if owner_profile_url else None,\n",
            "  File \"/usr/local/lib/python3.10/dist-packages/youtube_dl/extractor/common.py\", line 1012, in _search_regex\n",
            "    raise RegexNotFoundError('Unable to extract %s' % _name)\n",
            "youtube_dl.utils.RegexNotFoundError: Unable to extract uploader id; please report this issue on https://yt-dl.org/bug . Make sure you are using the latest version; see  https://yt-dl.org/update  on how to update. Be sure to call youtube-dl with the --verbose flag and include its complete output.\n",
            "\n",
            "[debug] Encodings: locale UTF-8, fs utf-8, out UTF-8, pref UTF-8\n",
            "[debug] youtube-dl version 2021.12.17\n",
            "[debug] Python version 3.10.12 (CPython) - Linux-5.15.120+-x86_64-with-glibc2.35\n"
          ]
        },
        {
          "output_type": "stream",
          "name": "stdout",
          "text": [
            "Error downloading video -cLzki-B06o: ERROR: Unable to extract uploader id; please report this issue on https://yt-dl.org/bug . Make sure you are using the latest version; see  https://yt-dl.org/update  on how to update. Be sure to call youtube-dl with the --verbose flag and include its complete output.\n"
          ]
        },
        {
          "output_type": "stream",
          "name": "stderr",
          "text": [
            "[debug] exe versions: ffmpeg 4.4.2, ffprobe 4.4.2\n",
            "[debug] Proxy map: {'colab_language_server': '/usr/colab/bin/language_service'}\n"
          ]
        },
        {
          "output_type": "stream",
          "name": "stdout",
          "text": [
            "[youtube] -cQ-jUTEgck: Downloading webpage\n"
          ]
        },
        {
          "output_type": "stream",
          "name": "stderr",
          "text": [
            "ERROR: Unable to extract uploader id; please report this issue on https://yt-dl.org/bug . Make sure you are using the latest version; see  https://yt-dl.org/update  on how to update. Be sure to call youtube-dl with the --verbose flag and include its complete output.\n",
            "Traceback (most recent call last):\n",
            "  File \"/usr/local/lib/python3.10/dist-packages/youtube_dl/YoutubeDL.py\", line 815, in wrapper\n",
            "    return func(self, *args, **kwargs)\n",
            "  File \"/usr/local/lib/python3.10/dist-packages/youtube_dl/YoutubeDL.py\", line 836, in __extract_info\n",
            "    ie_result = ie.extract(url)\n",
            "  File \"/usr/local/lib/python3.10/dist-packages/youtube_dl/extractor/common.py\", line 534, in extract\n",
            "    ie_result = self._real_extract(url)\n",
            "  File \"/usr/local/lib/python3.10/dist-packages/youtube_dl/extractor/youtube.py\", line 1794, in _real_extract\n",
            "    'uploader_id': self._search_regex(r'/(?:channel|user)/([^/?&#]+)', owner_profile_url, 'uploader id') if owner_profile_url else None,\n",
            "  File \"/usr/local/lib/python3.10/dist-packages/youtube_dl/extractor/common.py\", line 1012, in _search_regex\n",
            "    raise RegexNotFoundError('Unable to extract %s' % _name)\n",
            "youtube_dl.utils.RegexNotFoundError: Unable to extract uploader id; please report this issue on https://yt-dl.org/bug . Make sure you are using the latest version; see  https://yt-dl.org/update  on how to update. Be sure to call youtube-dl with the --verbose flag and include its complete output.\n",
            "\n",
            "[debug] Encodings: locale UTF-8, fs utf-8, out UTF-8, pref UTF-8\n",
            "[debug] youtube-dl version 2021.12.17\n",
            "[debug] Python version 3.10.12 (CPython) - Linux-5.15.120+-x86_64-with-glibc2.35\n"
          ]
        },
        {
          "output_type": "stream",
          "name": "stdout",
          "text": [
            "Error downloading video -cQ-jUTEgck: ERROR: Unable to extract uploader id; please report this issue on https://yt-dl.org/bug . Make sure you are using the latest version; see  https://yt-dl.org/update  on how to update. Be sure to call youtube-dl with the --verbose flag and include its complete output.\n"
          ]
        },
        {
          "output_type": "stream",
          "name": "stderr",
          "text": [
            "[debug] exe versions: ffmpeg 4.4.2, ffprobe 4.4.2\n",
            "[debug] Proxy map: {'colab_language_server': '/usr/colab/bin/language_service'}\n"
          ]
        },
        {
          "output_type": "stream",
          "name": "stdout",
          "text": [
            "[youtube] -dVgUSrR8g4: Downloading webpage\n",
            "[youtube] -dVgUSrR8g4: Downloading MPD manifest\n"
          ]
        },
        {
          "output_type": "stream",
          "name": "stderr",
          "text": [
            "ERROR: Unable to extract uploader id; please report this issue on https://yt-dl.org/bug . Make sure you are using the latest version; see  https://yt-dl.org/update  on how to update. Be sure to call youtube-dl with the --verbose flag and include its complete output.\n",
            "Traceback (most recent call last):\n",
            "  File \"/usr/local/lib/python3.10/dist-packages/youtube_dl/YoutubeDL.py\", line 815, in wrapper\n",
            "    return func(self, *args, **kwargs)\n",
            "  File \"/usr/local/lib/python3.10/dist-packages/youtube_dl/YoutubeDL.py\", line 836, in __extract_info\n",
            "    ie_result = ie.extract(url)\n",
            "  File \"/usr/local/lib/python3.10/dist-packages/youtube_dl/extractor/common.py\", line 534, in extract\n",
            "    ie_result = self._real_extract(url)\n",
            "  File \"/usr/local/lib/python3.10/dist-packages/youtube_dl/extractor/youtube.py\", line 1794, in _real_extract\n",
            "    'uploader_id': self._search_regex(r'/(?:channel|user)/([^/?&#]+)', owner_profile_url, 'uploader id') if owner_profile_url else None,\n",
            "  File \"/usr/local/lib/python3.10/dist-packages/youtube_dl/extractor/common.py\", line 1012, in _search_regex\n",
            "    raise RegexNotFoundError('Unable to extract %s' % _name)\n",
            "youtube_dl.utils.RegexNotFoundError: Unable to extract uploader id; please report this issue on https://yt-dl.org/bug . Make sure you are using the latest version; see  https://yt-dl.org/update  on how to update. Be sure to call youtube-dl with the --verbose flag and include its complete output.\n",
            "\n",
            "[debug] Encodings: locale UTF-8, fs utf-8, out UTF-8, pref UTF-8\n",
            "[debug] youtube-dl version 2021.12.17\n",
            "[debug] Python version 3.10.12 (CPython) - Linux-5.15.120+-x86_64-with-glibc2.35\n"
          ]
        },
        {
          "output_type": "stream",
          "name": "stdout",
          "text": [
            "Error downloading video -dVgUSrR8g4: ERROR: Unable to extract uploader id; please report this issue on https://yt-dl.org/bug . Make sure you are using the latest version; see  https://yt-dl.org/update  on how to update. Be sure to call youtube-dl with the --verbose flag and include its complete output.\n"
          ]
        },
        {
          "output_type": "stream",
          "name": "stderr",
          "text": [
            "[debug] exe versions: ffmpeg 4.4.2, ffprobe 4.4.2\n",
            "[debug] Proxy map: {'colab_language_server': '/usr/colab/bin/language_service'}\n"
          ]
        },
        {
          "output_type": "stream",
          "name": "stdout",
          "text": [
            "[youtube] -e4wXAy1iVo: Downloading webpage\n"
          ]
        },
        {
          "output_type": "stream",
          "name": "stderr",
          "text": [
            "ERROR: Unable to extract uploader id; please report this issue on https://yt-dl.org/bug . Make sure you are using the latest version; see  https://yt-dl.org/update  on how to update. Be sure to call youtube-dl with the --verbose flag and include its complete output.\n",
            "Traceback (most recent call last):\n",
            "  File \"/usr/local/lib/python3.10/dist-packages/youtube_dl/YoutubeDL.py\", line 815, in wrapper\n",
            "    return func(self, *args, **kwargs)\n",
            "  File \"/usr/local/lib/python3.10/dist-packages/youtube_dl/YoutubeDL.py\", line 836, in __extract_info\n",
            "    ie_result = ie.extract(url)\n",
            "  File \"/usr/local/lib/python3.10/dist-packages/youtube_dl/extractor/common.py\", line 534, in extract\n",
            "    ie_result = self._real_extract(url)\n",
            "  File \"/usr/local/lib/python3.10/dist-packages/youtube_dl/extractor/youtube.py\", line 1794, in _real_extract\n",
            "    'uploader_id': self._search_regex(r'/(?:channel|user)/([^/?&#]+)', owner_profile_url, 'uploader id') if owner_profile_url else None,\n",
            "  File \"/usr/local/lib/python3.10/dist-packages/youtube_dl/extractor/common.py\", line 1012, in _search_regex\n",
            "    raise RegexNotFoundError('Unable to extract %s' % _name)\n",
            "youtube_dl.utils.RegexNotFoundError: Unable to extract uploader id; please report this issue on https://yt-dl.org/bug . Make sure you are using the latest version; see  https://yt-dl.org/update  on how to update. Be sure to call youtube-dl with the --verbose flag and include its complete output.\n",
            "\n",
            "[debug] Encodings: locale UTF-8, fs utf-8, out UTF-8, pref UTF-8\n",
            "[debug] youtube-dl version 2021.12.17\n",
            "[debug] Python version 3.10.12 (CPython) - Linux-5.15.120+-x86_64-with-glibc2.35\n"
          ]
        },
        {
          "output_type": "stream",
          "name": "stdout",
          "text": [
            "Error downloading video -e4wXAy1iVo: ERROR: Unable to extract uploader id; please report this issue on https://yt-dl.org/bug . Make sure you are using the latest version; see  https://yt-dl.org/update  on how to update. Be sure to call youtube-dl with the --verbose flag and include its complete output.\n"
          ]
        },
        {
          "output_type": "stream",
          "name": "stderr",
          "text": [
            "[debug] exe versions: ffmpeg 4.4.2, ffprobe 4.4.2\n",
            "[debug] Proxy map: {'colab_language_server': '/usr/colab/bin/language_service'}\n"
          ]
        },
        {
          "output_type": "stream",
          "name": "stdout",
          "text": [
            "[youtube] -eDAoheZrY8: Downloading webpage\n"
          ]
        },
        {
          "output_type": "stream",
          "name": "stderr",
          "text": [
            "ERROR: Unable to extract uploader id; please report this issue on https://yt-dl.org/bug . Make sure you are using the latest version; see  https://yt-dl.org/update  on how to update. Be sure to call youtube-dl with the --verbose flag and include its complete output.\n",
            "Traceback (most recent call last):\n",
            "  File \"/usr/local/lib/python3.10/dist-packages/youtube_dl/YoutubeDL.py\", line 815, in wrapper\n",
            "    return func(self, *args, **kwargs)\n",
            "  File \"/usr/local/lib/python3.10/dist-packages/youtube_dl/YoutubeDL.py\", line 836, in __extract_info\n",
            "    ie_result = ie.extract(url)\n",
            "  File \"/usr/local/lib/python3.10/dist-packages/youtube_dl/extractor/common.py\", line 534, in extract\n",
            "    ie_result = self._real_extract(url)\n",
            "  File \"/usr/local/lib/python3.10/dist-packages/youtube_dl/extractor/youtube.py\", line 1794, in _real_extract\n",
            "    'uploader_id': self._search_regex(r'/(?:channel|user)/([^/?&#]+)', owner_profile_url, 'uploader id') if owner_profile_url else None,\n",
            "  File \"/usr/local/lib/python3.10/dist-packages/youtube_dl/extractor/common.py\", line 1012, in _search_regex\n",
            "    raise RegexNotFoundError('Unable to extract %s' % _name)\n",
            "youtube_dl.utils.RegexNotFoundError: Unable to extract uploader id; please report this issue on https://yt-dl.org/bug . Make sure you are using the latest version; see  https://yt-dl.org/update  on how to update. Be sure to call youtube-dl with the --verbose flag and include its complete output.\n",
            "\n",
            "[debug] Encodings: locale UTF-8, fs utf-8, out UTF-8, pref UTF-8\n",
            "[debug] youtube-dl version 2021.12.17\n",
            "[debug] Python version 3.10.12 (CPython) - Linux-5.15.120+-x86_64-with-glibc2.35\n"
          ]
        },
        {
          "output_type": "stream",
          "name": "stdout",
          "text": [
            "Error downloading video -eDAoheZrY8: ERROR: Unable to extract uploader id; please report this issue on https://yt-dl.org/bug . Make sure you are using the latest version; see  https://yt-dl.org/update  on how to update. Be sure to call youtube-dl with the --verbose flag and include its complete output.\n"
          ]
        },
        {
          "output_type": "stream",
          "name": "stderr",
          "text": [
            "[debug] exe versions: ffmpeg 4.4.2, ffprobe 4.4.2\n",
            "[debug] Proxy map: {'colab_language_server': '/usr/colab/bin/language_service'}\n"
          ]
        },
        {
          "output_type": "stream",
          "name": "stdout",
          "text": [
            "[youtube] -f1DNyngKVY: Downloading webpage\n"
          ]
        },
        {
          "output_type": "stream",
          "name": "stderr",
          "text": [
            "ERROR: Unable to extract uploader id; please report this issue on https://yt-dl.org/bug . Make sure you are using the latest version; see  https://yt-dl.org/update  on how to update. Be sure to call youtube-dl with the --verbose flag and include its complete output.\n",
            "Traceback (most recent call last):\n",
            "  File \"/usr/local/lib/python3.10/dist-packages/youtube_dl/YoutubeDL.py\", line 815, in wrapper\n",
            "    return func(self, *args, **kwargs)\n",
            "  File \"/usr/local/lib/python3.10/dist-packages/youtube_dl/YoutubeDL.py\", line 836, in __extract_info\n",
            "    ie_result = ie.extract(url)\n",
            "  File \"/usr/local/lib/python3.10/dist-packages/youtube_dl/extractor/common.py\", line 534, in extract\n",
            "    ie_result = self._real_extract(url)\n",
            "  File \"/usr/local/lib/python3.10/dist-packages/youtube_dl/extractor/youtube.py\", line 1794, in _real_extract\n",
            "    'uploader_id': self._search_regex(r'/(?:channel|user)/([^/?&#]+)', owner_profile_url, 'uploader id') if owner_profile_url else None,\n",
            "  File \"/usr/local/lib/python3.10/dist-packages/youtube_dl/extractor/common.py\", line 1012, in _search_regex\n",
            "    raise RegexNotFoundError('Unable to extract %s' % _name)\n",
            "youtube_dl.utils.RegexNotFoundError: Unable to extract uploader id; please report this issue on https://yt-dl.org/bug . Make sure you are using the latest version; see  https://yt-dl.org/update  on how to update. Be sure to call youtube-dl with the --verbose flag and include its complete output.\n",
            "\n",
            "[debug] Encodings: locale UTF-8, fs utf-8, out UTF-8, pref UTF-8\n",
            "[debug] youtube-dl version 2021.12.17\n",
            "[debug] Python version 3.10.12 (CPython) - Linux-5.15.120+-x86_64-with-glibc2.35\n"
          ]
        },
        {
          "output_type": "stream",
          "name": "stdout",
          "text": [
            "Error downloading video -f1DNyngKVY: ERROR: Unable to extract uploader id; please report this issue on https://yt-dl.org/bug . Make sure you are using the latest version; see  https://yt-dl.org/update  on how to update. Be sure to call youtube-dl with the --verbose flag and include its complete output.\n"
          ]
        },
        {
          "output_type": "stream",
          "name": "stderr",
          "text": [
            "[debug] exe versions: ffmpeg 4.4.2, ffprobe 4.4.2\n",
            "[debug] Proxy map: {'colab_language_server': '/usr/colab/bin/language_service'}\n"
          ]
        },
        {
          "output_type": "stream",
          "name": "stdout",
          "text": [
            "[youtube] -f6s6kQEHFY: Downloading webpage\n"
          ]
        },
        {
          "output_type": "stream",
          "name": "stderr",
          "text": [
            "ERROR: Unable to extract uploader id; please report this issue on https://yt-dl.org/bug . Make sure you are using the latest version; see  https://yt-dl.org/update  on how to update. Be sure to call youtube-dl with the --verbose flag and include its complete output.\n",
            "Traceback (most recent call last):\n",
            "  File \"/usr/local/lib/python3.10/dist-packages/youtube_dl/YoutubeDL.py\", line 815, in wrapper\n",
            "    return func(self, *args, **kwargs)\n",
            "  File \"/usr/local/lib/python3.10/dist-packages/youtube_dl/YoutubeDL.py\", line 836, in __extract_info\n",
            "    ie_result = ie.extract(url)\n",
            "  File \"/usr/local/lib/python3.10/dist-packages/youtube_dl/extractor/common.py\", line 534, in extract\n",
            "    ie_result = self._real_extract(url)\n",
            "  File \"/usr/local/lib/python3.10/dist-packages/youtube_dl/extractor/youtube.py\", line 1794, in _real_extract\n",
            "    'uploader_id': self._search_regex(r'/(?:channel|user)/([^/?&#]+)', owner_profile_url, 'uploader id') if owner_profile_url else None,\n",
            "  File \"/usr/local/lib/python3.10/dist-packages/youtube_dl/extractor/common.py\", line 1012, in _search_regex\n",
            "    raise RegexNotFoundError('Unable to extract %s' % _name)\n",
            "youtube_dl.utils.RegexNotFoundError: Unable to extract uploader id; please report this issue on https://yt-dl.org/bug . Make sure you are using the latest version; see  https://yt-dl.org/update  on how to update. Be sure to call youtube-dl with the --verbose flag and include its complete output.\n",
            "\n",
            "[debug] Encodings: locale UTF-8, fs utf-8, out UTF-8, pref UTF-8\n",
            "[debug] youtube-dl version 2021.12.17\n",
            "[debug] Python version 3.10.12 (CPython) - Linux-5.15.120+-x86_64-with-glibc2.35\n"
          ]
        },
        {
          "output_type": "stream",
          "name": "stdout",
          "text": [
            "Error downloading video -f6s6kQEHFY: ERROR: Unable to extract uploader id; please report this issue on https://yt-dl.org/bug . Make sure you are using the latest version; see  https://yt-dl.org/update  on how to update. Be sure to call youtube-dl with the --verbose flag and include its complete output.\n"
          ]
        },
        {
          "output_type": "stream",
          "name": "stderr",
          "text": [
            "[debug] exe versions: ffmpeg 4.4.2, ffprobe 4.4.2\n",
            "[debug] Proxy map: {'colab_language_server': '/usr/colab/bin/language_service'}\n"
          ]
        },
        {
          "output_type": "stream",
          "name": "stdout",
          "text": [
            "[youtube] -fxh7jAJR8U: Downloading webpage\n"
          ]
        },
        {
          "output_type": "stream",
          "name": "stderr",
          "text": [
            "ERROR: Unable to extract uploader id; please report this issue on https://yt-dl.org/bug . Make sure you are using the latest version; see  https://yt-dl.org/update  on how to update. Be sure to call youtube-dl with the --verbose flag and include its complete output.\n",
            "Traceback (most recent call last):\n",
            "  File \"/usr/local/lib/python3.10/dist-packages/youtube_dl/YoutubeDL.py\", line 815, in wrapper\n",
            "    return func(self, *args, **kwargs)\n",
            "  File \"/usr/local/lib/python3.10/dist-packages/youtube_dl/YoutubeDL.py\", line 836, in __extract_info\n",
            "    ie_result = ie.extract(url)\n",
            "  File \"/usr/local/lib/python3.10/dist-packages/youtube_dl/extractor/common.py\", line 534, in extract\n",
            "    ie_result = self._real_extract(url)\n",
            "  File \"/usr/local/lib/python3.10/dist-packages/youtube_dl/extractor/youtube.py\", line 1794, in _real_extract\n",
            "    'uploader_id': self._search_regex(r'/(?:channel|user)/([^/?&#]+)', owner_profile_url, 'uploader id') if owner_profile_url else None,\n",
            "  File \"/usr/local/lib/python3.10/dist-packages/youtube_dl/extractor/common.py\", line 1012, in _search_regex\n",
            "    raise RegexNotFoundError('Unable to extract %s' % _name)\n",
            "youtube_dl.utils.RegexNotFoundError: Unable to extract uploader id; please report this issue on https://yt-dl.org/bug . Make sure you are using the latest version; see  https://yt-dl.org/update  on how to update. Be sure to call youtube-dl with the --verbose flag and include its complete output.\n",
            "\n",
            "[debug] Encodings: locale UTF-8, fs utf-8, out UTF-8, pref UTF-8\n",
            "[debug] youtube-dl version 2021.12.17\n",
            "[debug] Python version 3.10.12 (CPython) - Linux-5.15.120+-x86_64-with-glibc2.35\n"
          ]
        },
        {
          "output_type": "stream",
          "name": "stdout",
          "text": [
            "Error downloading video -fxh7jAJR8U: ERROR: Unable to extract uploader id; please report this issue on https://yt-dl.org/bug . Make sure you are using the latest version; see  https://yt-dl.org/update  on how to update. Be sure to call youtube-dl with the --verbose flag and include its complete output.\n"
          ]
        },
        {
          "output_type": "stream",
          "name": "stderr",
          "text": [
            "[debug] exe versions: ffmpeg 4.4.2, ffprobe 4.4.2\n",
            "[debug] Proxy map: {'colab_language_server': '/usr/colab/bin/language_service'}\n"
          ]
        },
        {
          "output_type": "stream",
          "name": "stdout",
          "text": [
            "[youtube] -hSMzrWZCAE: Downloading webpage\n"
          ]
        },
        {
          "output_type": "stream",
          "name": "stderr",
          "text": [
            "ERROR: Unable to extract uploader id; please report this issue on https://yt-dl.org/bug . Make sure you are using the latest version; see  https://yt-dl.org/update  on how to update. Be sure to call youtube-dl with the --verbose flag and include its complete output.\n",
            "Traceback (most recent call last):\n",
            "  File \"/usr/local/lib/python3.10/dist-packages/youtube_dl/YoutubeDL.py\", line 815, in wrapper\n",
            "    return func(self, *args, **kwargs)\n",
            "  File \"/usr/local/lib/python3.10/dist-packages/youtube_dl/YoutubeDL.py\", line 836, in __extract_info\n",
            "    ie_result = ie.extract(url)\n",
            "  File \"/usr/local/lib/python3.10/dist-packages/youtube_dl/extractor/common.py\", line 534, in extract\n",
            "    ie_result = self._real_extract(url)\n",
            "  File \"/usr/local/lib/python3.10/dist-packages/youtube_dl/extractor/youtube.py\", line 1794, in _real_extract\n",
            "    'uploader_id': self._search_regex(r'/(?:channel|user)/([^/?&#]+)', owner_profile_url, 'uploader id') if owner_profile_url else None,\n",
            "  File \"/usr/local/lib/python3.10/dist-packages/youtube_dl/extractor/common.py\", line 1012, in _search_regex\n",
            "    raise RegexNotFoundError('Unable to extract %s' % _name)\n",
            "youtube_dl.utils.RegexNotFoundError: Unable to extract uploader id; please report this issue on https://yt-dl.org/bug . Make sure you are using the latest version; see  https://yt-dl.org/update  on how to update. Be sure to call youtube-dl with the --verbose flag and include its complete output.\n",
            "\n",
            "[debug] Encodings: locale UTF-8, fs utf-8, out UTF-8, pref UTF-8\n",
            "[debug] youtube-dl version 2021.12.17\n",
            "[debug] Python version 3.10.12 (CPython) - Linux-5.15.120+-x86_64-with-glibc2.35\n"
          ]
        },
        {
          "output_type": "stream",
          "name": "stdout",
          "text": [
            "Error downloading video -hSMzrWZCAE: ERROR: Unable to extract uploader id; please report this issue on https://yt-dl.org/bug . Make sure you are using the latest version; see  https://yt-dl.org/update  on how to update. Be sure to call youtube-dl with the --verbose flag and include its complete output.\n"
          ]
        },
        {
          "output_type": "stream",
          "name": "stderr",
          "text": [
            "[debug] exe versions: ffmpeg 4.4.2, ffprobe 4.4.2\n",
            "[debug] Proxy map: {'colab_language_server': '/usr/colab/bin/language_service'}\n"
          ]
        },
        {
          "output_type": "stream",
          "name": "stdout",
          "text": [
            "[youtube] -hYRFCQdbLg: Downloading webpage\n"
          ]
        },
        {
          "output_type": "stream",
          "name": "stderr",
          "text": [
            "ERROR: Unable to extract uploader id; please report this issue on https://yt-dl.org/bug . Make sure you are using the latest version; see  https://yt-dl.org/update  on how to update. Be sure to call youtube-dl with the --verbose flag and include its complete output.\n",
            "Traceback (most recent call last):\n",
            "  File \"/usr/local/lib/python3.10/dist-packages/youtube_dl/YoutubeDL.py\", line 815, in wrapper\n",
            "    return func(self, *args, **kwargs)\n",
            "  File \"/usr/local/lib/python3.10/dist-packages/youtube_dl/YoutubeDL.py\", line 836, in __extract_info\n",
            "    ie_result = ie.extract(url)\n",
            "  File \"/usr/local/lib/python3.10/dist-packages/youtube_dl/extractor/common.py\", line 534, in extract\n",
            "    ie_result = self._real_extract(url)\n",
            "  File \"/usr/local/lib/python3.10/dist-packages/youtube_dl/extractor/youtube.py\", line 1794, in _real_extract\n",
            "    'uploader_id': self._search_regex(r'/(?:channel|user)/([^/?&#]+)', owner_profile_url, 'uploader id') if owner_profile_url else None,\n",
            "  File \"/usr/local/lib/python3.10/dist-packages/youtube_dl/extractor/common.py\", line 1012, in _search_regex\n",
            "    raise RegexNotFoundError('Unable to extract %s' % _name)\n",
            "youtube_dl.utils.RegexNotFoundError: Unable to extract uploader id; please report this issue on https://yt-dl.org/bug . Make sure you are using the latest version; see  https://yt-dl.org/update  on how to update. Be sure to call youtube-dl with the --verbose flag and include its complete output.\n",
            "\n",
            "[debug] Encodings: locale UTF-8, fs utf-8, out UTF-8, pref UTF-8\n",
            "[debug] youtube-dl version 2021.12.17\n",
            "[debug] Python version 3.10.12 (CPython) - Linux-5.15.120+-x86_64-with-glibc2.35\n",
            "[debug] exe versions: ffmpeg 4.4.2, ffprobe 4.4.2\n",
            "[debug] Proxy map: {'colab_language_server': '/usr/colab/bin/language_service'}\n"
          ]
        },
        {
          "output_type": "stream",
          "name": "stdout",
          "text": [
            "Error downloading video -hYRFCQdbLg: ERROR: Unable to extract uploader id; please report this issue on https://yt-dl.org/bug . Make sure you are using the latest version; see  https://yt-dl.org/update  on how to update. Be sure to call youtube-dl with the --verbose flag and include its complete output.\n",
            "[youtube] -i9gpG3vPwA: Downloading webpage\n"
          ]
        },
        {
          "output_type": "stream",
          "name": "stderr",
          "text": [
            "ERROR: Unable to extract uploader id; please report this issue on https://yt-dl.org/bug . Make sure you are using the latest version; see  https://yt-dl.org/update  on how to update. Be sure to call youtube-dl with the --verbose flag and include its complete output.\n",
            "Traceback (most recent call last):\n",
            "  File \"/usr/local/lib/python3.10/dist-packages/youtube_dl/YoutubeDL.py\", line 815, in wrapper\n",
            "    return func(self, *args, **kwargs)\n",
            "  File \"/usr/local/lib/python3.10/dist-packages/youtube_dl/YoutubeDL.py\", line 836, in __extract_info\n",
            "    ie_result = ie.extract(url)\n",
            "  File \"/usr/local/lib/python3.10/dist-packages/youtube_dl/extractor/common.py\", line 534, in extract\n",
            "    ie_result = self._real_extract(url)\n",
            "  File \"/usr/local/lib/python3.10/dist-packages/youtube_dl/extractor/youtube.py\", line 1794, in _real_extract\n",
            "    'uploader_id': self._search_regex(r'/(?:channel|user)/([^/?&#]+)', owner_profile_url, 'uploader id') if owner_profile_url else None,\n",
            "  File \"/usr/local/lib/python3.10/dist-packages/youtube_dl/extractor/common.py\", line 1012, in _search_regex\n",
            "    raise RegexNotFoundError('Unable to extract %s' % _name)\n",
            "youtube_dl.utils.RegexNotFoundError: Unable to extract uploader id; please report this issue on https://yt-dl.org/bug . Make sure you are using the latest version; see  https://yt-dl.org/update  on how to update. Be sure to call youtube-dl with the --verbose flag and include its complete output.\n",
            "\n",
            "[debug] Encodings: locale UTF-8, fs utf-8, out UTF-8, pref UTF-8\n",
            "[debug] youtube-dl version 2021.12.17\n",
            "[debug] Python version 3.10.12 (CPython) - Linux-5.15.120+-x86_64-with-glibc2.35\n",
            "[debug] exe versions: ffmpeg 4.4.2, ffprobe 4.4.2\n",
            "[debug] Proxy map: {'colab_language_server': '/usr/colab/bin/language_service'}\n"
          ]
        },
        {
          "output_type": "stream",
          "name": "stdout",
          "text": [
            "Error downloading video -i9gpG3vPwA: ERROR: Unable to extract uploader id; please report this issue on https://yt-dl.org/bug . Make sure you are using the latest version; see  https://yt-dl.org/update  on how to update. Be sure to call youtube-dl with the --verbose flag and include its complete output.\n",
            "[youtube] -i9uQMysy_A: Downloading webpage\n"
          ]
        },
        {
          "output_type": "stream",
          "name": "stderr",
          "text": [
            "ERROR: Unable to extract uploader id; please report this issue on https://yt-dl.org/bug . Make sure you are using the latest version; see  https://yt-dl.org/update  on how to update. Be sure to call youtube-dl with the --verbose flag and include its complete output.\n",
            "Traceback (most recent call last):\n",
            "  File \"/usr/local/lib/python3.10/dist-packages/youtube_dl/YoutubeDL.py\", line 815, in wrapper\n",
            "    return func(self, *args, **kwargs)\n",
            "  File \"/usr/local/lib/python3.10/dist-packages/youtube_dl/YoutubeDL.py\", line 836, in __extract_info\n",
            "    ie_result = ie.extract(url)\n",
            "  File \"/usr/local/lib/python3.10/dist-packages/youtube_dl/extractor/common.py\", line 534, in extract\n",
            "    ie_result = self._real_extract(url)\n",
            "  File \"/usr/local/lib/python3.10/dist-packages/youtube_dl/extractor/youtube.py\", line 1794, in _real_extract\n",
            "    'uploader_id': self._search_regex(r'/(?:channel|user)/([^/?&#]+)', owner_profile_url, 'uploader id') if owner_profile_url else None,\n",
            "  File \"/usr/local/lib/python3.10/dist-packages/youtube_dl/extractor/common.py\", line 1012, in _search_regex\n",
            "    raise RegexNotFoundError('Unable to extract %s' % _name)\n",
            "youtube_dl.utils.RegexNotFoundError: Unable to extract uploader id; please report this issue on https://yt-dl.org/bug . Make sure you are using the latest version; see  https://yt-dl.org/update  on how to update. Be sure to call youtube-dl with the --verbose flag and include its complete output.\n",
            "\n",
            "[debug] Encodings: locale UTF-8, fs utf-8, out UTF-8, pref UTF-8\n",
            "[debug] youtube-dl version 2021.12.17\n",
            "[debug] Python version 3.10.12 (CPython) - Linux-5.15.120+-x86_64-with-glibc2.35\n",
            "[debug] exe versions: ffmpeg 4.4.2, ffprobe 4.4.2\n",
            "[debug] Proxy map: {'colab_language_server': '/usr/colab/bin/language_service'}\n"
          ]
        },
        {
          "output_type": "stream",
          "name": "stdout",
          "text": [
            "Error downloading video -i9uQMysy_A: ERROR: Unable to extract uploader id; please report this issue on https://yt-dl.org/bug . Make sure you are using the latest version; see  https://yt-dl.org/update  on how to update. Be sure to call youtube-dl with the --verbose flag and include its complete output.\n",
            "[youtube] -jpbCWcz2pk: Downloading webpage\n"
          ]
        },
        {
          "output_type": "stream",
          "name": "stderr",
          "text": [
            "ERROR: Unable to extract uploader id; please report this issue on https://yt-dl.org/bug . Make sure you are using the latest version; see  https://yt-dl.org/update  on how to update. Be sure to call youtube-dl with the --verbose flag and include its complete output.\n",
            "Traceback (most recent call last):\n",
            "  File \"/usr/local/lib/python3.10/dist-packages/youtube_dl/YoutubeDL.py\", line 815, in wrapper\n",
            "    return func(self, *args, **kwargs)\n",
            "  File \"/usr/local/lib/python3.10/dist-packages/youtube_dl/YoutubeDL.py\", line 836, in __extract_info\n",
            "    ie_result = ie.extract(url)\n",
            "  File \"/usr/local/lib/python3.10/dist-packages/youtube_dl/extractor/common.py\", line 534, in extract\n",
            "    ie_result = self._real_extract(url)\n",
            "  File \"/usr/local/lib/python3.10/dist-packages/youtube_dl/extractor/youtube.py\", line 1794, in _real_extract\n",
            "    'uploader_id': self._search_regex(r'/(?:channel|user)/([^/?&#]+)', owner_profile_url, 'uploader id') if owner_profile_url else None,\n",
            "  File \"/usr/local/lib/python3.10/dist-packages/youtube_dl/extractor/common.py\", line 1012, in _search_regex\n",
            "    raise RegexNotFoundError('Unable to extract %s' % _name)\n",
            "youtube_dl.utils.RegexNotFoundError: Unable to extract uploader id; please report this issue on https://yt-dl.org/bug . Make sure you are using the latest version; see  https://yt-dl.org/update  on how to update. Be sure to call youtube-dl with the --verbose flag and include its complete output.\n",
            "\n",
            "[debug] Encodings: locale UTF-8, fs utf-8, out UTF-8, pref UTF-8\n",
            "[debug] youtube-dl version 2021.12.17\n",
            "[debug] Python version 3.10.12 (CPython) - Linux-5.15.120+-x86_64-with-glibc2.35\n",
            "[debug] exe versions: ffmpeg 4.4.2, ffprobe 4.4.2\n",
            "[debug] Proxy map: {'colab_language_server': '/usr/colab/bin/language_service'}\n"
          ]
        },
        {
          "output_type": "stream",
          "name": "stdout",
          "text": [
            "Error downloading video -jpbCWcz2pk: ERROR: Unable to extract uploader id; please report this issue on https://yt-dl.org/bug . Make sure you are using the latest version; see  https://yt-dl.org/update  on how to update. Be sure to call youtube-dl with the --verbose flag and include its complete output.\n",
            "[youtube] -kpR93atgd8: Downloading webpage\n"
          ]
        },
        {
          "output_type": "stream",
          "name": "stderr",
          "text": [
            "ERROR: Unable to extract uploader id; please report this issue on https://yt-dl.org/bug . Make sure you are using the latest version; see  https://yt-dl.org/update  on how to update. Be sure to call youtube-dl with the --verbose flag and include its complete output.\n",
            "Traceback (most recent call last):\n",
            "  File \"/usr/local/lib/python3.10/dist-packages/youtube_dl/YoutubeDL.py\", line 815, in wrapper\n",
            "    return func(self, *args, **kwargs)\n",
            "  File \"/usr/local/lib/python3.10/dist-packages/youtube_dl/YoutubeDL.py\", line 836, in __extract_info\n",
            "    ie_result = ie.extract(url)\n",
            "  File \"/usr/local/lib/python3.10/dist-packages/youtube_dl/extractor/common.py\", line 534, in extract\n",
            "    ie_result = self._real_extract(url)\n",
            "  File \"/usr/local/lib/python3.10/dist-packages/youtube_dl/extractor/youtube.py\", line 1794, in _real_extract\n",
            "    'uploader_id': self._search_regex(r'/(?:channel|user)/([^/?&#]+)', owner_profile_url, 'uploader id') if owner_profile_url else None,\n",
            "  File \"/usr/local/lib/python3.10/dist-packages/youtube_dl/extractor/common.py\", line 1012, in _search_regex\n",
            "    raise RegexNotFoundError('Unable to extract %s' % _name)\n",
            "youtube_dl.utils.RegexNotFoundError: Unable to extract uploader id; please report this issue on https://yt-dl.org/bug . Make sure you are using the latest version; see  https://yt-dl.org/update  on how to update. Be sure to call youtube-dl with the --verbose flag and include its complete output.\n",
            "\n",
            "[debug] Encodings: locale UTF-8, fs utf-8, out UTF-8, pref UTF-8\n",
            "[debug] youtube-dl version 2021.12.17\n",
            "[debug] Python version 3.10.12 (CPython) - Linux-5.15.120+-x86_64-with-glibc2.35\n",
            "[debug] exe versions: ffmpeg 4.4.2, ffprobe 4.4.2\n",
            "[debug] Proxy map: {'colab_language_server': '/usr/colab/bin/language_service'}\n"
          ]
        },
        {
          "output_type": "stream",
          "name": "stdout",
          "text": [
            "Error downloading video -kpR93atgd8: ERROR: Unable to extract uploader id; please report this issue on https://yt-dl.org/bug . Make sure you are using the latest version; see  https://yt-dl.org/update  on how to update. Be sure to call youtube-dl with the --verbose flag and include its complete output.\n",
            "[youtube] -lPXTBXa0tE: Downloading webpage\n"
          ]
        },
        {
          "output_type": "stream",
          "name": "stderr",
          "text": [
            "ERROR: Unable to extract uploader id; please report this issue on https://yt-dl.org/bug . Make sure you are using the latest version; see  https://yt-dl.org/update  on how to update. Be sure to call youtube-dl with the --verbose flag and include its complete output.\n",
            "Traceback (most recent call last):\n",
            "  File \"/usr/local/lib/python3.10/dist-packages/youtube_dl/YoutubeDL.py\", line 815, in wrapper\n",
            "    return func(self, *args, **kwargs)\n",
            "  File \"/usr/local/lib/python3.10/dist-packages/youtube_dl/YoutubeDL.py\", line 836, in __extract_info\n",
            "    ie_result = ie.extract(url)\n",
            "  File \"/usr/local/lib/python3.10/dist-packages/youtube_dl/extractor/common.py\", line 534, in extract\n",
            "    ie_result = self._real_extract(url)\n",
            "  File \"/usr/local/lib/python3.10/dist-packages/youtube_dl/extractor/youtube.py\", line 1794, in _real_extract\n",
            "    'uploader_id': self._search_regex(r'/(?:channel|user)/([^/?&#]+)', owner_profile_url, 'uploader id') if owner_profile_url else None,\n",
            "  File \"/usr/local/lib/python3.10/dist-packages/youtube_dl/extractor/common.py\", line 1012, in _search_regex\n",
            "    raise RegexNotFoundError('Unable to extract %s' % _name)\n",
            "youtube_dl.utils.RegexNotFoundError: Unable to extract uploader id; please report this issue on https://yt-dl.org/bug . Make sure you are using the latest version; see  https://yt-dl.org/update  on how to update. Be sure to call youtube-dl with the --verbose flag and include its complete output.\n",
            "\n",
            "[debug] Encodings: locale UTF-8, fs utf-8, out UTF-8, pref UTF-8\n",
            "[debug] youtube-dl version 2021.12.17\n",
            "[debug] Python version 3.10.12 (CPython) - Linux-5.15.120+-x86_64-with-glibc2.35\n",
            "[debug] exe versions: ffmpeg 4.4.2, ffprobe 4.4.2\n",
            "[debug] Proxy map: {'colab_language_server': '/usr/colab/bin/language_service'}\n"
          ]
        },
        {
          "output_type": "stream",
          "name": "stdout",
          "text": [
            "Error downloading video -lPXTBXa0tE: ERROR: Unable to extract uploader id; please report this issue on https://yt-dl.org/bug . Make sure you are using the latest version; see  https://yt-dl.org/update  on how to update. Be sure to call youtube-dl with the --verbose flag and include its complete output.\n",
            "[youtube] -m5ZlWziIeA: Downloading webpage\n"
          ]
        },
        {
          "output_type": "stream",
          "name": "stderr",
          "text": [
            "ERROR: Unable to extract uploader id; please report this issue on https://yt-dl.org/bug . Make sure you are using the latest version; see  https://yt-dl.org/update  on how to update. Be sure to call youtube-dl with the --verbose flag and include its complete output.\n",
            "Traceback (most recent call last):\n",
            "  File \"/usr/local/lib/python3.10/dist-packages/youtube_dl/YoutubeDL.py\", line 815, in wrapper\n",
            "    return func(self, *args, **kwargs)\n",
            "  File \"/usr/local/lib/python3.10/dist-packages/youtube_dl/YoutubeDL.py\", line 836, in __extract_info\n",
            "    ie_result = ie.extract(url)\n",
            "  File \"/usr/local/lib/python3.10/dist-packages/youtube_dl/extractor/common.py\", line 534, in extract\n",
            "    ie_result = self._real_extract(url)\n",
            "  File \"/usr/local/lib/python3.10/dist-packages/youtube_dl/extractor/youtube.py\", line 1794, in _real_extract\n",
            "    'uploader_id': self._search_regex(r'/(?:channel|user)/([^/?&#]+)', owner_profile_url, 'uploader id') if owner_profile_url else None,\n",
            "  File \"/usr/local/lib/python3.10/dist-packages/youtube_dl/extractor/common.py\", line 1012, in _search_regex\n",
            "    raise RegexNotFoundError('Unable to extract %s' % _name)\n",
            "youtube_dl.utils.RegexNotFoundError: Unable to extract uploader id; please report this issue on https://yt-dl.org/bug . Make sure you are using the latest version; see  https://yt-dl.org/update  on how to update. Be sure to call youtube-dl with the --verbose flag and include its complete output.\n",
            "\n",
            "[debug] Encodings: locale UTF-8, fs utf-8, out UTF-8, pref UTF-8\n",
            "[debug] youtube-dl version 2021.12.17\n",
            "[debug] Python version 3.10.12 (CPython) - Linux-5.15.120+-x86_64-with-glibc2.35\n",
            "[debug] exe versions: ffmpeg 4.4.2, ffprobe 4.4.2\n",
            "[debug] Proxy map: {'colab_language_server': '/usr/colab/bin/language_service'}\n"
          ]
        },
        {
          "output_type": "stream",
          "name": "stdout",
          "text": [
            "Error downloading video -m5ZlWziIeA: ERROR: Unable to extract uploader id; please report this issue on https://yt-dl.org/bug . Make sure you are using the latest version; see  https://yt-dl.org/update  on how to update. Be sure to call youtube-dl with the --verbose flag and include its complete output.\n",
            "[youtube] -m9pH0WXQto: Downloading webpage\n"
          ]
        },
        {
          "output_type": "stream",
          "name": "stderr",
          "text": [
            "ERROR: Unable to extract uploader id; please report this issue on https://yt-dl.org/bug . Make sure you are using the latest version; see  https://yt-dl.org/update  on how to update. Be sure to call youtube-dl with the --verbose flag and include its complete output.\n",
            "Traceback (most recent call last):\n",
            "  File \"/usr/local/lib/python3.10/dist-packages/youtube_dl/YoutubeDL.py\", line 815, in wrapper\n",
            "    return func(self, *args, **kwargs)\n",
            "  File \"/usr/local/lib/python3.10/dist-packages/youtube_dl/YoutubeDL.py\", line 836, in __extract_info\n",
            "    ie_result = ie.extract(url)\n",
            "  File \"/usr/local/lib/python3.10/dist-packages/youtube_dl/extractor/common.py\", line 534, in extract\n",
            "    ie_result = self._real_extract(url)\n",
            "  File \"/usr/local/lib/python3.10/dist-packages/youtube_dl/extractor/youtube.py\", line 1794, in _real_extract\n",
            "    'uploader_id': self._search_regex(r'/(?:channel|user)/([^/?&#]+)', owner_profile_url, 'uploader id') if owner_profile_url else None,\n",
            "  File \"/usr/local/lib/python3.10/dist-packages/youtube_dl/extractor/common.py\", line 1012, in _search_regex\n",
            "    raise RegexNotFoundError('Unable to extract %s' % _name)\n",
            "youtube_dl.utils.RegexNotFoundError: Unable to extract uploader id; please report this issue on https://yt-dl.org/bug . Make sure you are using the latest version; see  https://yt-dl.org/update  on how to update. Be sure to call youtube-dl with the --verbose flag and include its complete output.\n",
            "\n",
            "[debug] Encodings: locale UTF-8, fs utf-8, out UTF-8, pref UTF-8\n",
            "[debug] youtube-dl version 2021.12.17\n",
            "[debug] Python version 3.10.12 (CPython) - Linux-5.15.120+-x86_64-with-glibc2.35\n",
            "[debug] exe versions: ffmpeg 4.4.2, ffprobe 4.4.2\n",
            "[debug] Proxy map: {'colab_language_server': '/usr/colab/bin/language_service'}\n"
          ]
        },
        {
          "output_type": "stream",
          "name": "stdout",
          "text": [
            "Error downloading video -m9pH0WXQto: ERROR: Unable to extract uploader id; please report this issue on https://yt-dl.org/bug . Make sure you are using the latest version; see  https://yt-dl.org/update  on how to update. Be sure to call youtube-dl with the --verbose flag and include its complete output.\n",
            "[youtube] -mA_bqD1tgU: Downloading webpage\n"
          ]
        },
        {
          "output_type": "stream",
          "name": "stderr",
          "text": [
            "ERROR: Unable to extract uploader id; please report this issue on https://yt-dl.org/bug . Make sure you are using the latest version; see  https://yt-dl.org/update  on how to update. Be sure to call youtube-dl with the --verbose flag and include its complete output.\n",
            "Traceback (most recent call last):\n",
            "  File \"/usr/local/lib/python3.10/dist-packages/youtube_dl/YoutubeDL.py\", line 815, in wrapper\n",
            "    return func(self, *args, **kwargs)\n",
            "  File \"/usr/local/lib/python3.10/dist-packages/youtube_dl/YoutubeDL.py\", line 836, in __extract_info\n",
            "    ie_result = ie.extract(url)\n",
            "  File \"/usr/local/lib/python3.10/dist-packages/youtube_dl/extractor/common.py\", line 534, in extract\n",
            "    ie_result = self._real_extract(url)\n",
            "  File \"/usr/local/lib/python3.10/dist-packages/youtube_dl/extractor/youtube.py\", line 1794, in _real_extract\n",
            "    'uploader_id': self._search_regex(r'/(?:channel|user)/([^/?&#]+)', owner_profile_url, 'uploader id') if owner_profile_url else None,\n",
            "  File \"/usr/local/lib/python3.10/dist-packages/youtube_dl/extractor/common.py\", line 1012, in _search_regex\n",
            "    raise RegexNotFoundError('Unable to extract %s' % _name)\n",
            "youtube_dl.utils.RegexNotFoundError: Unable to extract uploader id; please report this issue on https://yt-dl.org/bug . Make sure you are using the latest version; see  https://yt-dl.org/update  on how to update. Be sure to call youtube-dl with the --verbose flag and include its complete output.\n",
            "\n",
            "[debug] Encodings: locale UTF-8, fs utf-8, out UTF-8, pref UTF-8\n",
            "[debug] youtube-dl version 2021.12.17\n",
            "[debug] Python version 3.10.12 (CPython) - Linux-5.15.120+-x86_64-with-glibc2.35\n",
            "[debug] exe versions: ffmpeg 4.4.2, ffprobe 4.4.2\n",
            "[debug] Proxy map: {'colab_language_server': '/usr/colab/bin/language_service'}\n"
          ]
        },
        {
          "output_type": "stream",
          "name": "stdout",
          "text": [
            "Error downloading video -mA_bqD1tgU: ERROR: Unable to extract uploader id; please report this issue on https://yt-dl.org/bug . Make sure you are using the latest version; see  https://yt-dl.org/update  on how to update. Be sure to call youtube-dl with the --verbose flag and include its complete output.\n",
            "[youtube] -mB_XLq6g1g: Downloading webpage\n"
          ]
        },
        {
          "output_type": "stream",
          "name": "stderr",
          "text": [
            "ERROR: Unable to extract uploader id; please report this issue on https://yt-dl.org/bug . Make sure you are using the latest version; see  https://yt-dl.org/update  on how to update. Be sure to call youtube-dl with the --verbose flag and include its complete output.\n",
            "Traceback (most recent call last):\n",
            "  File \"/usr/local/lib/python3.10/dist-packages/youtube_dl/YoutubeDL.py\", line 815, in wrapper\n",
            "    return func(self, *args, **kwargs)\n",
            "  File \"/usr/local/lib/python3.10/dist-packages/youtube_dl/YoutubeDL.py\", line 836, in __extract_info\n",
            "    ie_result = ie.extract(url)\n",
            "  File \"/usr/local/lib/python3.10/dist-packages/youtube_dl/extractor/common.py\", line 534, in extract\n",
            "    ie_result = self._real_extract(url)\n",
            "  File \"/usr/local/lib/python3.10/dist-packages/youtube_dl/extractor/youtube.py\", line 1794, in _real_extract\n",
            "    'uploader_id': self._search_regex(r'/(?:channel|user)/([^/?&#]+)', owner_profile_url, 'uploader id') if owner_profile_url else None,\n",
            "  File \"/usr/local/lib/python3.10/dist-packages/youtube_dl/extractor/common.py\", line 1012, in _search_regex\n",
            "    raise RegexNotFoundError('Unable to extract %s' % _name)\n",
            "youtube_dl.utils.RegexNotFoundError: Unable to extract uploader id; please report this issue on https://yt-dl.org/bug . Make sure you are using the latest version; see  https://yt-dl.org/update  on how to update. Be sure to call youtube-dl with the --verbose flag and include its complete output.\n",
            "\n",
            "[debug] Encodings: locale UTF-8, fs utf-8, out UTF-8, pref UTF-8\n",
            "[debug] youtube-dl version 2021.12.17\n",
            "[debug] Python version 3.10.12 (CPython) - Linux-5.15.120+-x86_64-with-glibc2.35\n",
            "[debug] exe versions: ffmpeg 4.4.2, ffprobe 4.4.2\n",
            "[debug] Proxy map: {'colab_language_server': '/usr/colab/bin/language_service'}\n"
          ]
        },
        {
          "output_type": "stream",
          "name": "stdout",
          "text": [
            "Error downloading video -mB_XLq6g1g: ERROR: Unable to extract uploader id; please report this issue on https://yt-dl.org/bug . Make sure you are using the latest version; see  https://yt-dl.org/update  on how to update. Be sure to call youtube-dl with the --verbose flag and include its complete output.\n",
            "[youtube] -nlkWWphiaM: Downloading webpage\n"
          ]
        },
        {
          "output_type": "stream",
          "name": "stderr",
          "text": [
            "ERROR: Unable to extract uploader id; please report this issue on https://yt-dl.org/bug . Make sure you are using the latest version; see  https://yt-dl.org/update  on how to update. Be sure to call youtube-dl with the --verbose flag and include its complete output.\n",
            "Traceback (most recent call last):\n",
            "  File \"/usr/local/lib/python3.10/dist-packages/youtube_dl/YoutubeDL.py\", line 815, in wrapper\n",
            "    return func(self, *args, **kwargs)\n",
            "  File \"/usr/local/lib/python3.10/dist-packages/youtube_dl/YoutubeDL.py\", line 836, in __extract_info\n",
            "    ie_result = ie.extract(url)\n",
            "  File \"/usr/local/lib/python3.10/dist-packages/youtube_dl/extractor/common.py\", line 534, in extract\n",
            "    ie_result = self._real_extract(url)\n",
            "  File \"/usr/local/lib/python3.10/dist-packages/youtube_dl/extractor/youtube.py\", line 1794, in _real_extract\n",
            "    'uploader_id': self._search_regex(r'/(?:channel|user)/([^/?&#]+)', owner_profile_url, 'uploader id') if owner_profile_url else None,\n",
            "  File \"/usr/local/lib/python3.10/dist-packages/youtube_dl/extractor/common.py\", line 1012, in _search_regex\n",
            "    raise RegexNotFoundError('Unable to extract %s' % _name)\n",
            "youtube_dl.utils.RegexNotFoundError: Unable to extract uploader id; please report this issue on https://yt-dl.org/bug . Make sure you are using the latest version; see  https://yt-dl.org/update  on how to update. Be sure to call youtube-dl with the --verbose flag and include its complete output.\n",
            "\n",
            "[debug] Encodings: locale UTF-8, fs utf-8, out UTF-8, pref UTF-8\n",
            "[debug] youtube-dl version 2021.12.17\n",
            "[debug] Python version 3.10.12 (CPython) - Linux-5.15.120+-x86_64-with-glibc2.35\n",
            "[debug] exe versions: ffmpeg 4.4.2, ffprobe 4.4.2\n",
            "[debug] Proxy map: {'colab_language_server': '/usr/colab/bin/language_service'}\n"
          ]
        },
        {
          "output_type": "stream",
          "name": "stdout",
          "text": [
            "Error downloading video -nlkWWphiaM: ERROR: Unable to extract uploader id; please report this issue on https://yt-dl.org/bug . Make sure you are using the latest version; see  https://yt-dl.org/update  on how to update. Be sure to call youtube-dl with the --verbose flag and include its complete output.\n",
            "[youtube] -o0ZtQIkM60: Downloading webpage\n"
          ]
        },
        {
          "output_type": "stream",
          "name": "stderr",
          "text": [
            "ERROR: Unable to extract uploader id; please report this issue on https://yt-dl.org/bug . Make sure you are using the latest version; see  https://yt-dl.org/update  on how to update. Be sure to call youtube-dl with the --verbose flag and include its complete output.\n",
            "Traceback (most recent call last):\n",
            "  File \"/usr/local/lib/python3.10/dist-packages/youtube_dl/YoutubeDL.py\", line 815, in wrapper\n",
            "    return func(self, *args, **kwargs)\n",
            "  File \"/usr/local/lib/python3.10/dist-packages/youtube_dl/YoutubeDL.py\", line 836, in __extract_info\n",
            "    ie_result = ie.extract(url)\n",
            "  File \"/usr/local/lib/python3.10/dist-packages/youtube_dl/extractor/common.py\", line 534, in extract\n",
            "    ie_result = self._real_extract(url)\n",
            "  File \"/usr/local/lib/python3.10/dist-packages/youtube_dl/extractor/youtube.py\", line 1794, in _real_extract\n",
            "    'uploader_id': self._search_regex(r'/(?:channel|user)/([^/?&#]+)', owner_profile_url, 'uploader id') if owner_profile_url else None,\n",
            "  File \"/usr/local/lib/python3.10/dist-packages/youtube_dl/extractor/common.py\", line 1012, in _search_regex\n",
            "    raise RegexNotFoundError('Unable to extract %s' % _name)\n",
            "youtube_dl.utils.RegexNotFoundError: Unable to extract uploader id; please report this issue on https://yt-dl.org/bug . Make sure you are using the latest version; see  https://yt-dl.org/update  on how to update. Be sure to call youtube-dl with the --verbose flag and include its complete output.\n",
            "\n",
            "[debug] Encodings: locale UTF-8, fs utf-8, out UTF-8, pref UTF-8\n",
            "[debug] youtube-dl version 2021.12.17\n",
            "[debug] Python version 3.10.12 (CPython) - Linux-5.15.120+-x86_64-with-glibc2.35\n"
          ]
        },
        {
          "output_type": "stream",
          "name": "stdout",
          "text": [
            "Error downloading video -o0ZtQIkM60: ERROR: Unable to extract uploader id; please report this issue on https://yt-dl.org/bug . Make sure you are using the latest version; see  https://yt-dl.org/update  on how to update. Be sure to call youtube-dl with the --verbose flag and include its complete output.\n"
          ]
        },
        {
          "output_type": "stream",
          "name": "stderr",
          "text": [
            "[debug] exe versions: ffmpeg 4.4.2, ffprobe 4.4.2\n",
            "[debug] Proxy map: {'colab_language_server': '/usr/colab/bin/language_service'}\n"
          ]
        },
        {
          "output_type": "stream",
          "name": "stdout",
          "text": [
            "[youtube] -oP-XX28B0s: Downloading webpage\n"
          ]
        },
        {
          "output_type": "stream",
          "name": "stderr",
          "text": [
            "ERROR: Unable to extract uploader id; please report this issue on https://yt-dl.org/bug . Make sure you are using the latest version; see  https://yt-dl.org/update  on how to update. Be sure to call youtube-dl with the --verbose flag and include its complete output.\n",
            "Traceback (most recent call last):\n",
            "  File \"/usr/local/lib/python3.10/dist-packages/youtube_dl/YoutubeDL.py\", line 815, in wrapper\n",
            "    return func(self, *args, **kwargs)\n",
            "  File \"/usr/local/lib/python3.10/dist-packages/youtube_dl/YoutubeDL.py\", line 836, in __extract_info\n",
            "    ie_result = ie.extract(url)\n",
            "  File \"/usr/local/lib/python3.10/dist-packages/youtube_dl/extractor/common.py\", line 534, in extract\n",
            "    ie_result = self._real_extract(url)\n",
            "  File \"/usr/local/lib/python3.10/dist-packages/youtube_dl/extractor/youtube.py\", line 1794, in _real_extract\n",
            "    'uploader_id': self._search_regex(r'/(?:channel|user)/([^/?&#]+)', owner_profile_url, 'uploader id') if owner_profile_url else None,\n",
            "  File \"/usr/local/lib/python3.10/dist-packages/youtube_dl/extractor/common.py\", line 1012, in _search_regex\n",
            "    raise RegexNotFoundError('Unable to extract %s' % _name)\n",
            "youtube_dl.utils.RegexNotFoundError: Unable to extract uploader id; please report this issue on https://yt-dl.org/bug . Make sure you are using the latest version; see  https://yt-dl.org/update  on how to update. Be sure to call youtube-dl with the --verbose flag and include its complete output.\n",
            "\n",
            "[debug] Encodings: locale UTF-8, fs utf-8, out UTF-8, pref UTF-8\n",
            "[debug] youtube-dl version 2021.12.17\n",
            "[debug] Python version 3.10.12 (CPython) - Linux-5.15.120+-x86_64-with-glibc2.35\n"
          ]
        },
        {
          "output_type": "stream",
          "name": "stdout",
          "text": [
            "Error downloading video -oP-XX28B0s: ERROR: Unable to extract uploader id; please report this issue on https://yt-dl.org/bug . Make sure you are using the latest version; see  https://yt-dl.org/update  on how to update. Be sure to call youtube-dl with the --verbose flag and include its complete output.\n"
          ]
        },
        {
          "output_type": "stream",
          "name": "stderr",
          "text": [
            "[debug] exe versions: ffmpeg 4.4.2, ffprobe 4.4.2\n",
            "[debug] Proxy map: {'colab_language_server': '/usr/colab/bin/language_service'}\n"
          ]
        },
        {
          "output_type": "stream",
          "name": "stdout",
          "text": [
            "[youtube] -pUfYFcsgG4: Downloading webpage\n"
          ]
        },
        {
          "output_type": "stream",
          "name": "stderr",
          "text": [
            "ERROR: Unable to extract uploader id; please report this issue on https://yt-dl.org/bug . Make sure you are using the latest version; see  https://yt-dl.org/update  on how to update. Be sure to call youtube-dl with the --verbose flag and include its complete output.\n",
            "Traceback (most recent call last):\n",
            "  File \"/usr/local/lib/python3.10/dist-packages/youtube_dl/YoutubeDL.py\", line 815, in wrapper\n",
            "    return func(self, *args, **kwargs)\n",
            "  File \"/usr/local/lib/python3.10/dist-packages/youtube_dl/YoutubeDL.py\", line 836, in __extract_info\n",
            "    ie_result = ie.extract(url)\n",
            "  File \"/usr/local/lib/python3.10/dist-packages/youtube_dl/extractor/common.py\", line 534, in extract\n",
            "    ie_result = self._real_extract(url)\n",
            "  File \"/usr/local/lib/python3.10/dist-packages/youtube_dl/extractor/youtube.py\", line 1794, in _real_extract\n",
            "    'uploader_id': self._search_regex(r'/(?:channel|user)/([^/?&#]+)', owner_profile_url, 'uploader id') if owner_profile_url else None,\n",
            "  File \"/usr/local/lib/python3.10/dist-packages/youtube_dl/extractor/common.py\", line 1012, in _search_regex\n",
            "    raise RegexNotFoundError('Unable to extract %s' % _name)\n",
            "youtube_dl.utils.RegexNotFoundError: Unable to extract uploader id; please report this issue on https://yt-dl.org/bug . Make sure you are using the latest version; see  https://yt-dl.org/update  on how to update. Be sure to call youtube-dl with the --verbose flag and include its complete output.\n",
            "\n",
            "[debug] Encodings: locale UTF-8, fs utf-8, out UTF-8, pref UTF-8\n",
            "[debug] youtube-dl version 2021.12.17\n",
            "[debug] Python version 3.10.12 (CPython) - Linux-5.15.120+-x86_64-with-glibc2.35\n"
          ]
        },
        {
          "output_type": "stream",
          "name": "stdout",
          "text": [
            "Error downloading video -pUfYFcsgG4: ERROR: Unable to extract uploader id; please report this issue on https://yt-dl.org/bug . Make sure you are using the latest version; see  https://yt-dl.org/update  on how to update. Be sure to call youtube-dl with the --verbose flag and include its complete output.\n"
          ]
        },
        {
          "output_type": "stream",
          "name": "stderr",
          "text": [
            "[debug] exe versions: ffmpeg 4.4.2, ffprobe 4.4.2\n",
            "[debug] Proxy map: {'colab_language_server': '/usr/colab/bin/language_service'}\n"
          ]
        },
        {
          "output_type": "stream",
          "name": "stdout",
          "text": [
            "[youtube] -qcTD2o6I9s: Downloading webpage\n"
          ]
        },
        {
          "output_type": "stream",
          "name": "stderr",
          "text": [
            "ERROR: Unable to extract uploader id; please report this issue on https://yt-dl.org/bug . Make sure you are using the latest version; see  https://yt-dl.org/update  on how to update. Be sure to call youtube-dl with the --verbose flag and include its complete output.\n",
            "Traceback (most recent call last):\n",
            "  File \"/usr/local/lib/python3.10/dist-packages/youtube_dl/YoutubeDL.py\", line 815, in wrapper\n",
            "    return func(self, *args, **kwargs)\n",
            "  File \"/usr/local/lib/python3.10/dist-packages/youtube_dl/YoutubeDL.py\", line 836, in __extract_info\n",
            "    ie_result = ie.extract(url)\n",
            "  File \"/usr/local/lib/python3.10/dist-packages/youtube_dl/extractor/common.py\", line 534, in extract\n",
            "    ie_result = self._real_extract(url)\n",
            "  File \"/usr/local/lib/python3.10/dist-packages/youtube_dl/extractor/youtube.py\", line 1794, in _real_extract\n",
            "    'uploader_id': self._search_regex(r'/(?:channel|user)/([^/?&#]+)', owner_profile_url, 'uploader id') if owner_profile_url else None,\n",
            "  File \"/usr/local/lib/python3.10/dist-packages/youtube_dl/extractor/common.py\", line 1012, in _search_regex\n",
            "    raise RegexNotFoundError('Unable to extract %s' % _name)\n",
            "youtube_dl.utils.RegexNotFoundError: Unable to extract uploader id; please report this issue on https://yt-dl.org/bug . Make sure you are using the latest version; see  https://yt-dl.org/update  on how to update. Be sure to call youtube-dl with the --verbose flag and include its complete output.\n",
            "\n",
            "[debug] Encodings: locale UTF-8, fs utf-8, out UTF-8, pref UTF-8\n",
            "[debug] youtube-dl version 2021.12.17\n",
            "[debug] Python version 3.10.12 (CPython) - Linux-5.15.120+-x86_64-with-glibc2.35\n"
          ]
        },
        {
          "output_type": "stream",
          "name": "stdout",
          "text": [
            "Error downloading video -qcTD2o6I9s: ERROR: Unable to extract uploader id; please report this issue on https://yt-dl.org/bug . Make sure you are using the latest version; see  https://yt-dl.org/update  on how to update. Be sure to call youtube-dl with the --verbose flag and include its complete output.\n"
          ]
        },
        {
          "output_type": "stream",
          "name": "stderr",
          "text": [
            "[debug] exe versions: ffmpeg 4.4.2, ffprobe 4.4.2\n",
            "[debug] Proxy map: {'colab_language_server': '/usr/colab/bin/language_service'}\n"
          ]
        },
        {
          "output_type": "stream",
          "name": "stdout",
          "text": [
            "[youtube] -r2-9oyIzkQ: Downloading webpage\n"
          ]
        },
        {
          "output_type": "stream",
          "name": "stderr",
          "text": [
            "ERROR: Unable to extract uploader id; please report this issue on https://yt-dl.org/bug . Make sure you are using the latest version; see  https://yt-dl.org/update  on how to update. Be sure to call youtube-dl with the --verbose flag and include its complete output.\n",
            "Traceback (most recent call last):\n",
            "  File \"/usr/local/lib/python3.10/dist-packages/youtube_dl/YoutubeDL.py\", line 815, in wrapper\n",
            "    return func(self, *args, **kwargs)\n",
            "  File \"/usr/local/lib/python3.10/dist-packages/youtube_dl/YoutubeDL.py\", line 836, in __extract_info\n",
            "    ie_result = ie.extract(url)\n",
            "  File \"/usr/local/lib/python3.10/dist-packages/youtube_dl/extractor/common.py\", line 534, in extract\n",
            "    ie_result = self._real_extract(url)\n",
            "  File \"/usr/local/lib/python3.10/dist-packages/youtube_dl/extractor/youtube.py\", line 1794, in _real_extract\n",
            "    'uploader_id': self._search_regex(r'/(?:channel|user)/([^/?&#]+)', owner_profile_url, 'uploader id') if owner_profile_url else None,\n",
            "  File \"/usr/local/lib/python3.10/dist-packages/youtube_dl/extractor/common.py\", line 1012, in _search_regex\n",
            "    raise RegexNotFoundError('Unable to extract %s' % _name)\n",
            "youtube_dl.utils.RegexNotFoundError: Unable to extract uploader id; please report this issue on https://yt-dl.org/bug . Make sure you are using the latest version; see  https://yt-dl.org/update  on how to update. Be sure to call youtube-dl with the --verbose flag and include its complete output.\n",
            "\n",
            "[debug] Encodings: locale UTF-8, fs utf-8, out UTF-8, pref UTF-8\n",
            "[debug] youtube-dl version 2021.12.17\n",
            "[debug] Python version 3.10.12 (CPython) - Linux-5.15.120+-x86_64-with-glibc2.35\n"
          ]
        },
        {
          "output_type": "stream",
          "name": "stdout",
          "text": [
            "Error downloading video -r2-9oyIzkQ: ERROR: Unable to extract uploader id; please report this issue on https://yt-dl.org/bug . Make sure you are using the latest version; see  https://yt-dl.org/update  on how to update. Be sure to call youtube-dl with the --verbose flag and include its complete output.\n"
          ]
        },
        {
          "output_type": "stream",
          "name": "stderr",
          "text": [
            "[debug] exe versions: ffmpeg 4.4.2, ffprobe 4.4.2\n",
            "[debug] Proxy map: {'colab_language_server': '/usr/colab/bin/language_service'}\n"
          ]
        },
        {
          "output_type": "stream",
          "name": "stdout",
          "text": [
            "[youtube] -r7iz-9v9bA: Downloading webpage\n"
          ]
        },
        {
          "output_type": "stream",
          "name": "stderr",
          "text": [
            "ERROR: Unable to extract uploader id; please report this issue on https://yt-dl.org/bug . Make sure you are using the latest version; see  https://yt-dl.org/update  on how to update. Be sure to call youtube-dl with the --verbose flag and include its complete output.\n",
            "Traceback (most recent call last):\n",
            "  File \"/usr/local/lib/python3.10/dist-packages/youtube_dl/YoutubeDL.py\", line 815, in wrapper\n",
            "    return func(self, *args, **kwargs)\n",
            "  File \"/usr/local/lib/python3.10/dist-packages/youtube_dl/YoutubeDL.py\", line 836, in __extract_info\n",
            "    ie_result = ie.extract(url)\n",
            "  File \"/usr/local/lib/python3.10/dist-packages/youtube_dl/extractor/common.py\", line 534, in extract\n",
            "    ie_result = self._real_extract(url)\n",
            "  File \"/usr/local/lib/python3.10/dist-packages/youtube_dl/extractor/youtube.py\", line 1794, in _real_extract\n",
            "    'uploader_id': self._search_regex(r'/(?:channel|user)/([^/?&#]+)', owner_profile_url, 'uploader id') if owner_profile_url else None,\n",
            "  File \"/usr/local/lib/python3.10/dist-packages/youtube_dl/extractor/common.py\", line 1012, in _search_regex\n",
            "    raise RegexNotFoundError('Unable to extract %s' % _name)\n",
            "youtube_dl.utils.RegexNotFoundError: Unable to extract uploader id; please report this issue on https://yt-dl.org/bug . Make sure you are using the latest version; see  https://yt-dl.org/update  on how to update. Be sure to call youtube-dl with the --verbose flag and include its complete output.\n",
            "\n",
            "[debug] Encodings: locale UTF-8, fs utf-8, out UTF-8, pref UTF-8\n",
            "[debug] youtube-dl version 2021.12.17\n",
            "[debug] Python version 3.10.12 (CPython) - Linux-5.15.120+-x86_64-with-glibc2.35\n"
          ]
        },
        {
          "output_type": "stream",
          "name": "stdout",
          "text": [
            "Error downloading video -r7iz-9v9bA: ERROR: Unable to extract uploader id; please report this issue on https://yt-dl.org/bug . Make sure you are using the latest version; see  https://yt-dl.org/update  on how to update. Be sure to call youtube-dl with the --verbose flag and include its complete output.\n"
          ]
        },
        {
          "output_type": "stream",
          "name": "stderr",
          "text": [
            "[debug] exe versions: ffmpeg 4.4.2, ffprobe 4.4.2\n",
            "[debug] Proxy map: {'colab_language_server': '/usr/colab/bin/language_service'}\n"
          ]
        },
        {
          "output_type": "stream",
          "name": "stdout",
          "text": [
            "[youtube] -rAhS48FkYw: Downloading webpage\n"
          ]
        },
        {
          "output_type": "stream",
          "name": "stderr",
          "text": [
            "ERROR: Unable to extract uploader id; please report this issue on https://yt-dl.org/bug . Make sure you are using the latest version; see  https://yt-dl.org/update  on how to update. Be sure to call youtube-dl with the --verbose flag and include its complete output.\n",
            "Traceback (most recent call last):\n",
            "  File \"/usr/local/lib/python3.10/dist-packages/youtube_dl/YoutubeDL.py\", line 815, in wrapper\n",
            "    return func(self, *args, **kwargs)\n",
            "  File \"/usr/local/lib/python3.10/dist-packages/youtube_dl/YoutubeDL.py\", line 836, in __extract_info\n",
            "    ie_result = ie.extract(url)\n",
            "  File \"/usr/local/lib/python3.10/dist-packages/youtube_dl/extractor/common.py\", line 534, in extract\n",
            "    ie_result = self._real_extract(url)\n",
            "  File \"/usr/local/lib/python3.10/dist-packages/youtube_dl/extractor/youtube.py\", line 1794, in _real_extract\n",
            "    'uploader_id': self._search_regex(r'/(?:channel|user)/([^/?&#]+)', owner_profile_url, 'uploader id') if owner_profile_url else None,\n",
            "  File \"/usr/local/lib/python3.10/dist-packages/youtube_dl/extractor/common.py\", line 1012, in _search_regex\n",
            "    raise RegexNotFoundError('Unable to extract %s' % _name)\n",
            "youtube_dl.utils.RegexNotFoundError: Unable to extract uploader id; please report this issue on https://yt-dl.org/bug . Make sure you are using the latest version; see  https://yt-dl.org/update  on how to update. Be sure to call youtube-dl with the --verbose flag and include its complete output.\n",
            "\n",
            "[debug] Encodings: locale UTF-8, fs utf-8, out UTF-8, pref UTF-8\n",
            "[debug] youtube-dl version 2021.12.17\n",
            "[debug] Python version 3.10.12 (CPython) - Linux-5.15.120+-x86_64-with-glibc2.35\n",
            "[debug] exe versions: ffmpeg 4.4.2, ffprobe 4.4.2\n",
            "[debug] Proxy map: {'colab_language_server': '/usr/colab/bin/language_service'}\n"
          ]
        },
        {
          "output_type": "stream",
          "name": "stdout",
          "text": [
            "Error downloading video -rAhS48FkYw: ERROR: Unable to extract uploader id; please report this issue on https://yt-dl.org/bug . Make sure you are using the latest version; see  https://yt-dl.org/update  on how to update. Be sure to call youtube-dl with the --verbose flag and include its complete output.\n",
            "[youtube] -sRFfU8k0Zs: Downloading webpage\n"
          ]
        },
        {
          "output_type": "stream",
          "name": "stderr",
          "text": [
            "ERROR: Unable to extract uploader id; please report this issue on https://yt-dl.org/bug . Make sure you are using the latest version; see  https://yt-dl.org/update  on how to update. Be sure to call youtube-dl with the --verbose flag and include its complete output.\n",
            "Traceback (most recent call last):\n",
            "  File \"/usr/local/lib/python3.10/dist-packages/youtube_dl/YoutubeDL.py\", line 815, in wrapper\n",
            "    return func(self, *args, **kwargs)\n",
            "  File \"/usr/local/lib/python3.10/dist-packages/youtube_dl/YoutubeDL.py\", line 836, in __extract_info\n",
            "    ie_result = ie.extract(url)\n",
            "  File \"/usr/local/lib/python3.10/dist-packages/youtube_dl/extractor/common.py\", line 534, in extract\n",
            "    ie_result = self._real_extract(url)\n",
            "  File \"/usr/local/lib/python3.10/dist-packages/youtube_dl/extractor/youtube.py\", line 1794, in _real_extract\n",
            "    'uploader_id': self._search_regex(r'/(?:channel|user)/([^/?&#]+)', owner_profile_url, 'uploader id') if owner_profile_url else None,\n",
            "  File \"/usr/local/lib/python3.10/dist-packages/youtube_dl/extractor/common.py\", line 1012, in _search_regex\n",
            "    raise RegexNotFoundError('Unable to extract %s' % _name)\n",
            "youtube_dl.utils.RegexNotFoundError: Unable to extract uploader id; please report this issue on https://yt-dl.org/bug . Make sure you are using the latest version; see  https://yt-dl.org/update  on how to update. Be sure to call youtube-dl with the --verbose flag and include its complete output.\n",
            "\n",
            "[debug] Encodings: locale UTF-8, fs utf-8, out UTF-8, pref UTF-8\n",
            "[debug] youtube-dl version 2021.12.17\n",
            "[debug] Python version 3.10.12 (CPython) - Linux-5.15.120+-x86_64-with-glibc2.35\n",
            "[debug] exe versions: ffmpeg 4.4.2, ffprobe 4.4.2\n",
            "[debug] Proxy map: {'colab_language_server': '/usr/colab/bin/language_service'}\n"
          ]
        },
        {
          "output_type": "stream",
          "name": "stdout",
          "text": [
            "Error downloading video -sRFfU8k0Zs: ERROR: Unable to extract uploader id; please report this issue on https://yt-dl.org/bug . Make sure you are using the latest version; see  https://yt-dl.org/update  on how to update. Be sure to call youtube-dl with the --verbose flag and include its complete output.\n",
            "[youtube] -sevczF5etI: Downloading webpage\n"
          ]
        },
        {
          "output_type": "stream",
          "name": "stderr",
          "text": [
            "ERROR: Video unavailable\n",
            "Traceback (most recent call last):\n",
            "  File \"/usr/local/lib/python3.10/dist-packages/youtube_dl/YoutubeDL.py\", line 815, in wrapper\n",
            "    return func(self, *args, **kwargs)\n",
            "  File \"/usr/local/lib/python3.10/dist-packages/youtube_dl/YoutubeDL.py\", line 836, in __extract_info\n",
            "    ie_result = ie.extract(url)\n",
            "  File \"/usr/local/lib/python3.10/dist-packages/youtube_dl/extractor/common.py\", line 534, in extract\n",
            "    ie_result = self._real_extract(url)\n",
            "  File \"/usr/local/lib/python3.10/dist-packages/youtube_dl/extractor/youtube.py\", line 1731, in _real_extract\n",
            "    raise ExtractorError(reason, expected=True)\n",
            "youtube_dl.utils.ExtractorError: Video unavailable\n",
            "\n",
            "[debug] Encodings: locale UTF-8, fs utf-8, out UTF-8, pref UTF-8\n",
            "[debug] youtube-dl version 2021.12.17\n",
            "[debug] Python version 3.10.12 (CPython) - Linux-5.15.120+-x86_64-with-glibc2.35\n"
          ]
        },
        {
          "output_type": "stream",
          "name": "stdout",
          "text": [
            "Error downloading video -sevczF5etI: ERROR: Video unavailable\n"
          ]
        },
        {
          "output_type": "stream",
          "name": "stderr",
          "text": [
            "[debug] exe versions: ffmpeg 4.4.2, ffprobe 4.4.2\n",
            "[debug] Proxy map: {'colab_language_server': '/usr/colab/bin/language_service'}\n"
          ]
        },
        {
          "output_type": "stream",
          "name": "stdout",
          "text": [
            "[youtube] -tKZOl4q1Kw: Downloading webpage\n",
            "[youtube] -tKZOl4q1Kw: Downloading MPD manifest\n"
          ]
        },
        {
          "output_type": "stream",
          "name": "stderr",
          "text": [
            "ERROR: Unable to extract uploader id; please report this issue on https://yt-dl.org/bug . Make sure you are using the latest version; see  https://yt-dl.org/update  on how to update. Be sure to call youtube-dl with the --verbose flag and include its complete output.\n",
            "Traceback (most recent call last):\n",
            "  File \"/usr/local/lib/python3.10/dist-packages/youtube_dl/YoutubeDL.py\", line 815, in wrapper\n",
            "    return func(self, *args, **kwargs)\n",
            "  File \"/usr/local/lib/python3.10/dist-packages/youtube_dl/YoutubeDL.py\", line 836, in __extract_info\n",
            "    ie_result = ie.extract(url)\n",
            "  File \"/usr/local/lib/python3.10/dist-packages/youtube_dl/extractor/common.py\", line 534, in extract\n",
            "    ie_result = self._real_extract(url)\n",
            "  File \"/usr/local/lib/python3.10/dist-packages/youtube_dl/extractor/youtube.py\", line 1794, in _real_extract\n",
            "    'uploader_id': self._search_regex(r'/(?:channel|user)/([^/?&#]+)', owner_profile_url, 'uploader id') if owner_profile_url else None,\n",
            "  File \"/usr/local/lib/python3.10/dist-packages/youtube_dl/extractor/common.py\", line 1012, in _search_regex\n",
            "    raise RegexNotFoundError('Unable to extract %s' % _name)\n",
            "youtube_dl.utils.RegexNotFoundError: Unable to extract uploader id; please report this issue on https://yt-dl.org/bug . Make sure you are using the latest version; see  https://yt-dl.org/update  on how to update. Be sure to call youtube-dl with the --verbose flag and include its complete output.\n",
            "\n",
            "[debug] Encodings: locale UTF-8, fs utf-8, out UTF-8, pref UTF-8\n",
            "[debug] youtube-dl version 2021.12.17\n",
            "[debug] Python version 3.10.12 (CPython) - Linux-5.15.120+-x86_64-with-glibc2.35\n",
            "[debug] exe versions: ffmpeg 4.4.2, ffprobe 4.4.2\n",
            "[debug] Proxy map: {'colab_language_server': '/usr/colab/bin/language_service'}\n"
          ]
        },
        {
          "output_type": "stream",
          "name": "stdout",
          "text": [
            "Error downloading video -tKZOl4q1Kw: ERROR: Unable to extract uploader id; please report this issue on https://yt-dl.org/bug . Make sure you are using the latest version; see  https://yt-dl.org/update  on how to update. Be sure to call youtube-dl with the --verbose flag and include its complete output.\n",
            "[youtube] -taO6N-rxv4: Downloading webpage\n"
          ]
        },
        {
          "output_type": "stream",
          "name": "stderr",
          "text": [
            "ERROR: Unable to extract uploader id; please report this issue on https://yt-dl.org/bug . Make sure you are using the latest version; see  https://yt-dl.org/update  on how to update. Be sure to call youtube-dl with the --verbose flag and include its complete output.\n",
            "Traceback (most recent call last):\n",
            "  File \"/usr/local/lib/python3.10/dist-packages/youtube_dl/YoutubeDL.py\", line 815, in wrapper\n",
            "    return func(self, *args, **kwargs)\n",
            "  File \"/usr/local/lib/python3.10/dist-packages/youtube_dl/YoutubeDL.py\", line 836, in __extract_info\n",
            "    ie_result = ie.extract(url)\n",
            "  File \"/usr/local/lib/python3.10/dist-packages/youtube_dl/extractor/common.py\", line 534, in extract\n",
            "    ie_result = self._real_extract(url)\n",
            "  File \"/usr/local/lib/python3.10/dist-packages/youtube_dl/extractor/youtube.py\", line 1794, in _real_extract\n",
            "    'uploader_id': self._search_regex(r'/(?:channel|user)/([^/?&#]+)', owner_profile_url, 'uploader id') if owner_profile_url else None,\n",
            "  File \"/usr/local/lib/python3.10/dist-packages/youtube_dl/extractor/common.py\", line 1012, in _search_regex\n",
            "    raise RegexNotFoundError('Unable to extract %s' % _name)\n",
            "youtube_dl.utils.RegexNotFoundError: Unable to extract uploader id; please report this issue on https://yt-dl.org/bug . Make sure you are using the latest version; see  https://yt-dl.org/update  on how to update. Be sure to call youtube-dl with the --verbose flag and include its complete output.\n",
            "\n",
            "[debug] Encodings: locale UTF-8, fs utf-8, out UTF-8, pref UTF-8\n",
            "[debug] youtube-dl version 2021.12.17\n",
            "[debug] Python version 3.10.12 (CPython) - Linux-5.15.120+-x86_64-with-glibc2.35\n",
            "[debug] exe versions: ffmpeg 4.4.2, ffprobe 4.4.2\n",
            "[debug] Proxy map: {'colab_language_server': '/usr/colab/bin/language_service'}\n"
          ]
        },
        {
          "output_type": "stream",
          "name": "stdout",
          "text": [
            "Error downloading video -taO6N-rxv4: ERROR: Unable to extract uploader id; please report this issue on https://yt-dl.org/bug . Make sure you are using the latest version; see  https://yt-dl.org/update  on how to update. Be sure to call youtube-dl with the --verbose flag and include its complete output.\n",
            "[youtube] -tmY1GEH3_Y: Downloading webpage\n"
          ]
        },
        {
          "output_type": "stream",
          "name": "stderr",
          "text": [
            "ERROR: Unable to extract uploader id; please report this issue on https://yt-dl.org/bug . Make sure you are using the latest version; see  https://yt-dl.org/update  on how to update. Be sure to call youtube-dl with the --verbose flag and include its complete output.\n",
            "Traceback (most recent call last):\n",
            "  File \"/usr/local/lib/python3.10/dist-packages/youtube_dl/YoutubeDL.py\", line 815, in wrapper\n",
            "    return func(self, *args, **kwargs)\n",
            "  File \"/usr/local/lib/python3.10/dist-packages/youtube_dl/YoutubeDL.py\", line 836, in __extract_info\n",
            "    ie_result = ie.extract(url)\n",
            "  File \"/usr/local/lib/python3.10/dist-packages/youtube_dl/extractor/common.py\", line 534, in extract\n",
            "    ie_result = self._real_extract(url)\n",
            "  File \"/usr/local/lib/python3.10/dist-packages/youtube_dl/extractor/youtube.py\", line 1794, in _real_extract\n",
            "    'uploader_id': self._search_regex(r'/(?:channel|user)/([^/?&#]+)', owner_profile_url, 'uploader id') if owner_profile_url else None,\n",
            "  File \"/usr/local/lib/python3.10/dist-packages/youtube_dl/extractor/common.py\", line 1012, in _search_regex\n",
            "    raise RegexNotFoundError('Unable to extract %s' % _name)\n",
            "youtube_dl.utils.RegexNotFoundError: Unable to extract uploader id; please report this issue on https://yt-dl.org/bug . Make sure you are using the latest version; see  https://yt-dl.org/update  on how to update. Be sure to call youtube-dl with the --verbose flag and include its complete output.\n",
            "\n",
            "[debug] Encodings: locale UTF-8, fs utf-8, out UTF-8, pref UTF-8\n",
            "[debug] youtube-dl version 2021.12.17\n",
            "[debug] Python version 3.10.12 (CPython) - Linux-5.15.120+-x86_64-with-glibc2.35\n",
            "[debug] exe versions: ffmpeg 4.4.2, ffprobe 4.4.2\n",
            "[debug] Proxy map: {'colab_language_server': '/usr/colab/bin/language_service'}\n"
          ]
        },
        {
          "output_type": "stream",
          "name": "stdout",
          "text": [
            "Error downloading video -tmY1GEH3_Y: ERROR: Unable to extract uploader id; please report this issue on https://yt-dl.org/bug . Make sure you are using the latest version; see  https://yt-dl.org/update  on how to update. Be sure to call youtube-dl with the --verbose flag and include its complete output.\n",
            "[youtube] -tpq_bzSKes: Downloading webpage\n"
          ]
        },
        {
          "output_type": "stream",
          "name": "stderr",
          "text": [
            "ERROR: Unable to extract uploader id; please report this issue on https://yt-dl.org/bug . Make sure you are using the latest version; see  https://yt-dl.org/update  on how to update. Be sure to call youtube-dl with the --verbose flag and include its complete output.\n",
            "Traceback (most recent call last):\n",
            "  File \"/usr/local/lib/python3.10/dist-packages/youtube_dl/YoutubeDL.py\", line 815, in wrapper\n",
            "    return func(self, *args, **kwargs)\n",
            "  File \"/usr/local/lib/python3.10/dist-packages/youtube_dl/YoutubeDL.py\", line 836, in __extract_info\n",
            "    ie_result = ie.extract(url)\n",
            "  File \"/usr/local/lib/python3.10/dist-packages/youtube_dl/extractor/common.py\", line 534, in extract\n",
            "    ie_result = self._real_extract(url)\n",
            "  File \"/usr/local/lib/python3.10/dist-packages/youtube_dl/extractor/youtube.py\", line 1794, in _real_extract\n",
            "    'uploader_id': self._search_regex(r'/(?:channel|user)/([^/?&#]+)', owner_profile_url, 'uploader id') if owner_profile_url else None,\n",
            "  File \"/usr/local/lib/python3.10/dist-packages/youtube_dl/extractor/common.py\", line 1012, in _search_regex\n",
            "    raise RegexNotFoundError('Unable to extract %s' % _name)\n",
            "youtube_dl.utils.RegexNotFoundError: Unable to extract uploader id; please report this issue on https://yt-dl.org/bug . Make sure you are using the latest version; see  https://yt-dl.org/update  on how to update. Be sure to call youtube-dl with the --verbose flag and include its complete output.\n",
            "\n",
            "[debug] Encodings: locale UTF-8, fs utf-8, out UTF-8, pref UTF-8\n",
            "[debug] youtube-dl version 2021.12.17\n",
            "[debug] Python version 3.10.12 (CPython) - Linux-5.15.120+-x86_64-with-glibc2.35\n",
            "[debug] exe versions: ffmpeg 4.4.2, ffprobe 4.4.2\n",
            "[debug] Proxy map: {'colab_language_server': '/usr/colab/bin/language_service'}\n"
          ]
        },
        {
          "output_type": "stream",
          "name": "stdout",
          "text": [
            "Error downloading video -tpq_bzSKes: ERROR: Unable to extract uploader id; please report this issue on https://yt-dl.org/bug . Make sure you are using the latest version; see  https://yt-dl.org/update  on how to update. Be sure to call youtube-dl with the --verbose flag and include its complete output.\n",
            "[youtube] -uaTK8sa5Ms: Downloading webpage\n"
          ]
        },
        {
          "output_type": "stream",
          "name": "stderr",
          "text": [
            "ERROR: Unable to extract uploader id; please report this issue on https://yt-dl.org/bug . Make sure you are using the latest version; see  https://yt-dl.org/update  on how to update. Be sure to call youtube-dl with the --verbose flag and include its complete output.\n",
            "Traceback (most recent call last):\n",
            "  File \"/usr/local/lib/python3.10/dist-packages/youtube_dl/YoutubeDL.py\", line 815, in wrapper\n",
            "    return func(self, *args, **kwargs)\n",
            "  File \"/usr/local/lib/python3.10/dist-packages/youtube_dl/YoutubeDL.py\", line 836, in __extract_info\n",
            "    ie_result = ie.extract(url)\n",
            "  File \"/usr/local/lib/python3.10/dist-packages/youtube_dl/extractor/common.py\", line 534, in extract\n",
            "    ie_result = self._real_extract(url)\n",
            "  File \"/usr/local/lib/python3.10/dist-packages/youtube_dl/extractor/youtube.py\", line 1794, in _real_extract\n",
            "    'uploader_id': self._search_regex(r'/(?:channel|user)/([^/?&#]+)', owner_profile_url, 'uploader id') if owner_profile_url else None,\n",
            "  File \"/usr/local/lib/python3.10/dist-packages/youtube_dl/extractor/common.py\", line 1012, in _search_regex\n",
            "    raise RegexNotFoundError('Unable to extract %s' % _name)\n",
            "youtube_dl.utils.RegexNotFoundError: Unable to extract uploader id; please report this issue on https://yt-dl.org/bug . Make sure you are using the latest version; see  https://yt-dl.org/update  on how to update. Be sure to call youtube-dl with the --verbose flag and include its complete output.\n",
            "\n",
            "[debug] Encodings: locale UTF-8, fs utf-8, out UTF-8, pref UTF-8\n",
            "[debug] youtube-dl version 2021.12.17\n",
            "[debug] Python version 3.10.12 (CPython) - Linux-5.15.120+-x86_64-with-glibc2.35\n",
            "[debug] exe versions: ffmpeg 4.4.2, ffprobe 4.4.2\n",
            "[debug] Proxy map: {'colab_language_server': '/usr/colab/bin/language_service'}\n"
          ]
        },
        {
          "output_type": "stream",
          "name": "stdout",
          "text": [
            "Error downloading video -uaTK8sa5Ms: ERROR: Unable to extract uploader id; please report this issue on https://yt-dl.org/bug . Make sure you are using the latest version; see  https://yt-dl.org/update  on how to update. Be sure to call youtube-dl with the --verbose flag and include its complete output.\n",
            "[youtube] -v5hgCh3M2w: Downloading webpage\n"
          ]
        },
        {
          "output_type": "stream",
          "name": "stderr",
          "text": [
            "ERROR: Unable to extract uploader id; please report this issue on https://yt-dl.org/bug . Make sure you are using the latest version; see  https://yt-dl.org/update  on how to update. Be sure to call youtube-dl with the --verbose flag and include its complete output.\n",
            "Traceback (most recent call last):\n",
            "  File \"/usr/local/lib/python3.10/dist-packages/youtube_dl/YoutubeDL.py\", line 815, in wrapper\n",
            "    return func(self, *args, **kwargs)\n",
            "  File \"/usr/local/lib/python3.10/dist-packages/youtube_dl/YoutubeDL.py\", line 836, in __extract_info\n",
            "    ie_result = ie.extract(url)\n",
            "  File \"/usr/local/lib/python3.10/dist-packages/youtube_dl/extractor/common.py\", line 534, in extract\n",
            "    ie_result = self._real_extract(url)\n",
            "  File \"/usr/local/lib/python3.10/dist-packages/youtube_dl/extractor/youtube.py\", line 1794, in _real_extract\n",
            "    'uploader_id': self._search_regex(r'/(?:channel|user)/([^/?&#]+)', owner_profile_url, 'uploader id') if owner_profile_url else None,\n",
            "  File \"/usr/local/lib/python3.10/dist-packages/youtube_dl/extractor/common.py\", line 1012, in _search_regex\n",
            "    raise RegexNotFoundError('Unable to extract %s' % _name)\n",
            "youtube_dl.utils.RegexNotFoundError: Unable to extract uploader id; please report this issue on https://yt-dl.org/bug . Make sure you are using the latest version; see  https://yt-dl.org/update  on how to update. Be sure to call youtube-dl with the --verbose flag and include its complete output.\n",
            "\n",
            "[debug] Encodings: locale UTF-8, fs utf-8, out UTF-8, pref UTF-8\n",
            "[debug] youtube-dl version 2021.12.17\n",
            "[debug] Python version 3.10.12 (CPython) - Linux-5.15.120+-x86_64-with-glibc2.35\n",
            "[debug] exe versions: ffmpeg 4.4.2, ffprobe 4.4.2\n",
            "[debug] Proxy map: {'colab_language_server': '/usr/colab/bin/language_service'}\n"
          ]
        },
        {
          "output_type": "stream",
          "name": "stdout",
          "text": [
            "Error downloading video -v5hgCh3M2w: ERROR: Unable to extract uploader id; please report this issue on https://yt-dl.org/bug . Make sure you are using the latest version; see  https://yt-dl.org/update  on how to update. Be sure to call youtube-dl with the --verbose flag and include its complete output.\n",
            "[youtube] -w12aSkQ9No: Downloading webpage\n"
          ]
        },
        {
          "output_type": "stream",
          "name": "stderr",
          "text": [
            "ERROR: Unable to extract uploader id; please report this issue on https://yt-dl.org/bug . Make sure you are using the latest version; see  https://yt-dl.org/update  on how to update. Be sure to call youtube-dl with the --verbose flag and include its complete output.\n",
            "Traceback (most recent call last):\n",
            "  File \"/usr/local/lib/python3.10/dist-packages/youtube_dl/YoutubeDL.py\", line 815, in wrapper\n",
            "    return func(self, *args, **kwargs)\n",
            "  File \"/usr/local/lib/python3.10/dist-packages/youtube_dl/YoutubeDL.py\", line 836, in __extract_info\n",
            "    ie_result = ie.extract(url)\n",
            "  File \"/usr/local/lib/python3.10/dist-packages/youtube_dl/extractor/common.py\", line 534, in extract\n",
            "    ie_result = self._real_extract(url)\n",
            "  File \"/usr/local/lib/python3.10/dist-packages/youtube_dl/extractor/youtube.py\", line 1794, in _real_extract\n",
            "    'uploader_id': self._search_regex(r'/(?:channel|user)/([^/?&#]+)', owner_profile_url, 'uploader id') if owner_profile_url else None,\n",
            "  File \"/usr/local/lib/python3.10/dist-packages/youtube_dl/extractor/common.py\", line 1012, in _search_regex\n",
            "    raise RegexNotFoundError('Unable to extract %s' % _name)\n",
            "youtube_dl.utils.RegexNotFoundError: Unable to extract uploader id; please report this issue on https://yt-dl.org/bug . Make sure you are using the latest version; see  https://yt-dl.org/update  on how to update. Be sure to call youtube-dl with the --verbose flag and include its complete output.\n",
            "\n",
            "[debug] Encodings: locale UTF-8, fs utf-8, out UTF-8, pref UTF-8\n",
            "[debug] youtube-dl version 2021.12.17\n",
            "[debug] Python version 3.10.12 (CPython) - Linux-5.15.120+-x86_64-with-glibc2.35\n",
            "[debug] exe versions: ffmpeg 4.4.2, ffprobe 4.4.2\n",
            "[debug] Proxy map: {'colab_language_server': '/usr/colab/bin/language_service'}\n"
          ]
        },
        {
          "output_type": "stream",
          "name": "stdout",
          "text": [
            "Error downloading video -w12aSkQ9No: ERROR: Unable to extract uploader id; please report this issue on https://yt-dl.org/bug . Make sure you are using the latest version; see  https://yt-dl.org/update  on how to update. Be sure to call youtube-dl with the --verbose flag and include its complete output.\n",
            "[youtube] -w4HLksto_k: Downloading webpage\n"
          ]
        },
        {
          "output_type": "stream",
          "name": "stderr",
          "text": [
            "ERROR: Unable to extract uploader id; please report this issue on https://yt-dl.org/bug . Make sure you are using the latest version; see  https://yt-dl.org/update  on how to update. Be sure to call youtube-dl with the --verbose flag and include its complete output.\n",
            "Traceback (most recent call last):\n",
            "  File \"/usr/local/lib/python3.10/dist-packages/youtube_dl/YoutubeDL.py\", line 815, in wrapper\n",
            "    return func(self, *args, **kwargs)\n",
            "  File \"/usr/local/lib/python3.10/dist-packages/youtube_dl/YoutubeDL.py\", line 836, in __extract_info\n",
            "    ie_result = ie.extract(url)\n",
            "  File \"/usr/local/lib/python3.10/dist-packages/youtube_dl/extractor/common.py\", line 534, in extract\n",
            "    ie_result = self._real_extract(url)\n",
            "  File \"/usr/local/lib/python3.10/dist-packages/youtube_dl/extractor/youtube.py\", line 1794, in _real_extract\n",
            "    'uploader_id': self._search_regex(r'/(?:channel|user)/([^/?&#]+)', owner_profile_url, 'uploader id') if owner_profile_url else None,\n",
            "  File \"/usr/local/lib/python3.10/dist-packages/youtube_dl/extractor/common.py\", line 1012, in _search_regex\n",
            "    raise RegexNotFoundError('Unable to extract %s' % _name)\n",
            "youtube_dl.utils.RegexNotFoundError: Unable to extract uploader id; please report this issue on https://yt-dl.org/bug . Make sure you are using the latest version; see  https://yt-dl.org/update  on how to update. Be sure to call youtube-dl with the --verbose flag and include its complete output.\n",
            "\n",
            "[debug] Encodings: locale UTF-8, fs utf-8, out UTF-8, pref UTF-8\n",
            "[debug] youtube-dl version 2021.12.17\n",
            "[debug] Python version 3.10.12 (CPython) - Linux-5.15.120+-x86_64-with-glibc2.35\n",
            "[debug] exe versions: ffmpeg 4.4.2, ffprobe 4.4.2\n",
            "[debug] Proxy map: {'colab_language_server': '/usr/colab/bin/language_service'}\n"
          ]
        },
        {
          "output_type": "stream",
          "name": "stdout",
          "text": [
            "Error downloading video -w4HLksto_k: ERROR: Unable to extract uploader id; please report this issue on https://yt-dl.org/bug . Make sure you are using the latest version; see  https://yt-dl.org/update  on how to update. Be sure to call youtube-dl with the --verbose flag and include its complete output.\n",
            "[youtube] -w8maIWtnUk: Downloading webpage\n"
          ]
        },
        {
          "output_type": "stream",
          "name": "stderr",
          "text": [
            "ERROR: Unable to extract uploader id; please report this issue on https://yt-dl.org/bug . Make sure you are using the latest version; see  https://yt-dl.org/update  on how to update. Be sure to call youtube-dl with the --verbose flag and include its complete output.\n",
            "Traceback (most recent call last):\n",
            "  File \"/usr/local/lib/python3.10/dist-packages/youtube_dl/YoutubeDL.py\", line 815, in wrapper\n",
            "    return func(self, *args, **kwargs)\n",
            "  File \"/usr/local/lib/python3.10/dist-packages/youtube_dl/YoutubeDL.py\", line 836, in __extract_info\n",
            "    ie_result = ie.extract(url)\n",
            "  File \"/usr/local/lib/python3.10/dist-packages/youtube_dl/extractor/common.py\", line 534, in extract\n",
            "    ie_result = self._real_extract(url)\n",
            "  File \"/usr/local/lib/python3.10/dist-packages/youtube_dl/extractor/youtube.py\", line 1794, in _real_extract\n",
            "    'uploader_id': self._search_regex(r'/(?:channel|user)/([^/?&#]+)', owner_profile_url, 'uploader id') if owner_profile_url else None,\n",
            "  File \"/usr/local/lib/python3.10/dist-packages/youtube_dl/extractor/common.py\", line 1012, in _search_regex\n",
            "    raise RegexNotFoundError('Unable to extract %s' % _name)\n",
            "youtube_dl.utils.RegexNotFoundError: Unable to extract uploader id; please report this issue on https://yt-dl.org/bug . Make sure you are using the latest version; see  https://yt-dl.org/update  on how to update. Be sure to call youtube-dl with the --verbose flag and include its complete output.\n",
            "\n",
            "[debug] Encodings: locale UTF-8, fs utf-8, out UTF-8, pref UTF-8\n",
            "[debug] youtube-dl version 2021.12.17\n",
            "[debug] Python version 3.10.12 (CPython) - Linux-5.15.120+-x86_64-with-glibc2.35\n"
          ]
        },
        {
          "output_type": "stream",
          "name": "stdout",
          "text": [
            "Error downloading video -w8maIWtnUk: ERROR: Unable to extract uploader id; please report this issue on https://yt-dl.org/bug . Make sure you are using the latest version; see  https://yt-dl.org/update  on how to update. Be sure to call youtube-dl with the --verbose flag and include its complete output.\n"
          ]
        },
        {
          "output_type": "stream",
          "name": "stderr",
          "text": [
            "[debug] exe versions: ffmpeg 4.4.2, ffprobe 4.4.2\n",
            "[debug] Proxy map: {'colab_language_server': '/usr/colab/bin/language_service'}\n"
          ]
        },
        {
          "output_type": "stream",
          "name": "stdout",
          "text": [
            "[youtube] -wVWjl9Kq6U: Downloading webpage\n"
          ]
        },
        {
          "output_type": "stream",
          "name": "stderr",
          "text": [
            "ERROR: Unable to extract uploader id; please report this issue on https://yt-dl.org/bug . Make sure you are using the latest version; see  https://yt-dl.org/update  on how to update. Be sure to call youtube-dl with the --verbose flag and include its complete output.\n",
            "Traceback (most recent call last):\n",
            "  File \"/usr/local/lib/python3.10/dist-packages/youtube_dl/YoutubeDL.py\", line 815, in wrapper\n",
            "    return func(self, *args, **kwargs)\n",
            "  File \"/usr/local/lib/python3.10/dist-packages/youtube_dl/YoutubeDL.py\", line 836, in __extract_info\n",
            "    ie_result = ie.extract(url)\n",
            "  File \"/usr/local/lib/python3.10/dist-packages/youtube_dl/extractor/common.py\", line 534, in extract\n",
            "    ie_result = self._real_extract(url)\n",
            "  File \"/usr/local/lib/python3.10/dist-packages/youtube_dl/extractor/youtube.py\", line 1794, in _real_extract\n",
            "    'uploader_id': self._search_regex(r'/(?:channel|user)/([^/?&#]+)', owner_profile_url, 'uploader id') if owner_profile_url else None,\n",
            "  File \"/usr/local/lib/python3.10/dist-packages/youtube_dl/extractor/common.py\", line 1012, in _search_regex\n",
            "    raise RegexNotFoundError('Unable to extract %s' % _name)\n",
            "youtube_dl.utils.RegexNotFoundError: Unable to extract uploader id; please report this issue on https://yt-dl.org/bug . Make sure you are using the latest version; see  https://yt-dl.org/update  on how to update. Be sure to call youtube-dl with the --verbose flag and include its complete output.\n",
            "\n",
            "[debug] Encodings: locale UTF-8, fs utf-8, out UTF-8, pref UTF-8\n",
            "[debug] youtube-dl version 2021.12.17\n",
            "[debug] Python version 3.10.12 (CPython) - Linux-5.15.120+-x86_64-with-glibc2.35\n"
          ]
        },
        {
          "output_type": "stream",
          "name": "stdout",
          "text": [
            "Error downloading video -wVWjl9Kq6U: ERROR: Unable to extract uploader id; please report this issue on https://yt-dl.org/bug . Make sure you are using the latest version; see  https://yt-dl.org/update  on how to update. Be sure to call youtube-dl with the --verbose flag and include its complete output.\n"
          ]
        },
        {
          "output_type": "stream",
          "name": "stderr",
          "text": [
            "[debug] exe versions: ffmpeg 4.4.2, ffprobe 4.4.2\n",
            "[debug] Proxy map: {'colab_language_server': '/usr/colab/bin/language_service'}\n"
          ]
        },
        {
          "output_type": "stream",
          "name": "stdout",
          "text": [
            "[youtube] -wymN80CiYU: Downloading webpage\n"
          ]
        },
        {
          "output_type": "stream",
          "name": "stderr",
          "text": [
            "ERROR: Unable to extract uploader id; please report this issue on https://yt-dl.org/bug . Make sure you are using the latest version; see  https://yt-dl.org/update  on how to update. Be sure to call youtube-dl with the --verbose flag and include its complete output.\n",
            "Traceback (most recent call last):\n",
            "  File \"/usr/local/lib/python3.10/dist-packages/youtube_dl/YoutubeDL.py\", line 815, in wrapper\n",
            "    return func(self, *args, **kwargs)\n",
            "  File \"/usr/local/lib/python3.10/dist-packages/youtube_dl/YoutubeDL.py\", line 836, in __extract_info\n",
            "    ie_result = ie.extract(url)\n",
            "  File \"/usr/local/lib/python3.10/dist-packages/youtube_dl/extractor/common.py\", line 534, in extract\n",
            "    ie_result = self._real_extract(url)\n",
            "  File \"/usr/local/lib/python3.10/dist-packages/youtube_dl/extractor/youtube.py\", line 1794, in _real_extract\n",
            "    'uploader_id': self._search_regex(r'/(?:channel|user)/([^/?&#]+)', owner_profile_url, 'uploader id') if owner_profile_url else None,\n",
            "  File \"/usr/local/lib/python3.10/dist-packages/youtube_dl/extractor/common.py\", line 1012, in _search_regex\n",
            "    raise RegexNotFoundError('Unable to extract %s' % _name)\n",
            "youtube_dl.utils.RegexNotFoundError: Unable to extract uploader id; please report this issue on https://yt-dl.org/bug . Make sure you are using the latest version; see  https://yt-dl.org/update  on how to update. Be sure to call youtube-dl with the --verbose flag and include its complete output.\n",
            "\n",
            "[debug] Encodings: locale UTF-8, fs utf-8, out UTF-8, pref UTF-8\n",
            "[debug] youtube-dl version 2021.12.17\n",
            "[debug] Python version 3.10.12 (CPython) - Linux-5.15.120+-x86_64-with-glibc2.35\n"
          ]
        },
        {
          "output_type": "stream",
          "name": "stdout",
          "text": [
            "Error downloading video -wymN80CiYU: ERROR: Unable to extract uploader id; please report this issue on https://yt-dl.org/bug . Make sure you are using the latest version; see  https://yt-dl.org/update  on how to update. Be sure to call youtube-dl with the --verbose flag and include its complete output.\n"
          ]
        },
        {
          "output_type": "stream",
          "name": "stderr",
          "text": [
            "[debug] exe versions: ffmpeg 4.4.2, ffprobe 4.4.2\n",
            "[debug] Proxy map: {'colab_language_server': '/usr/colab/bin/language_service'}\n"
          ]
        },
        {
          "output_type": "stream",
          "name": "stdout",
          "text": [
            "[youtube] -zA6LL78KYU: Downloading webpage\n"
          ]
        },
        {
          "output_type": "stream",
          "name": "stderr",
          "text": [
            "ERROR: Unable to extract uploader id; please report this issue on https://yt-dl.org/bug . Make sure you are using the latest version; see  https://yt-dl.org/update  on how to update. Be sure to call youtube-dl with the --verbose flag and include its complete output.\n",
            "Traceback (most recent call last):\n",
            "  File \"/usr/local/lib/python3.10/dist-packages/youtube_dl/YoutubeDL.py\", line 815, in wrapper\n",
            "    return func(self, *args, **kwargs)\n",
            "  File \"/usr/local/lib/python3.10/dist-packages/youtube_dl/YoutubeDL.py\", line 836, in __extract_info\n",
            "    ie_result = ie.extract(url)\n",
            "  File \"/usr/local/lib/python3.10/dist-packages/youtube_dl/extractor/common.py\", line 534, in extract\n",
            "    ie_result = self._real_extract(url)\n",
            "  File \"/usr/local/lib/python3.10/dist-packages/youtube_dl/extractor/youtube.py\", line 1794, in _real_extract\n",
            "    'uploader_id': self._search_regex(r'/(?:channel|user)/([^/?&#]+)', owner_profile_url, 'uploader id') if owner_profile_url else None,\n",
            "  File \"/usr/local/lib/python3.10/dist-packages/youtube_dl/extractor/common.py\", line 1012, in _search_regex\n",
            "    raise RegexNotFoundError('Unable to extract %s' % _name)\n",
            "youtube_dl.utils.RegexNotFoundError: Unable to extract uploader id; please report this issue on https://yt-dl.org/bug . Make sure you are using the latest version; see  https://yt-dl.org/update  on how to update. Be sure to call youtube-dl with the --verbose flag and include its complete output.\n",
            "\n",
            "[debug] Encodings: locale UTF-8, fs utf-8, out UTF-8, pref UTF-8\n",
            "[debug] youtube-dl version 2021.12.17\n",
            "[debug] Python version 3.10.12 (CPython) - Linux-5.15.120+-x86_64-with-glibc2.35\n"
          ]
        },
        {
          "output_type": "stream",
          "name": "stdout",
          "text": [
            "Error downloading video -zA6LL78KYU: ERROR: Unable to extract uploader id; please report this issue on https://yt-dl.org/bug . Make sure you are using the latest version; see  https://yt-dl.org/update  on how to update. Be sure to call youtube-dl with the --verbose flag and include its complete output.\n"
          ]
        },
        {
          "output_type": "stream",
          "name": "stderr",
          "text": [
            "[debug] exe versions: ffmpeg 4.4.2, ffprobe 4.4.2\n",
            "[debug] Proxy map: {'colab_language_server': '/usr/colab/bin/language_service'}\n"
          ]
        },
        {
          "output_type": "stream",
          "name": "stdout",
          "text": [
            "[youtube] -zOybsEdM5E: Downloading webpage\n"
          ]
        },
        {
          "output_type": "stream",
          "name": "stderr",
          "text": [
            "ERROR: Unable to extract uploader id; please report this issue on https://yt-dl.org/bug . Make sure you are using the latest version; see  https://yt-dl.org/update  on how to update. Be sure to call youtube-dl with the --verbose flag and include its complete output.\n",
            "Traceback (most recent call last):\n",
            "  File \"/usr/local/lib/python3.10/dist-packages/youtube_dl/YoutubeDL.py\", line 815, in wrapper\n",
            "    return func(self, *args, **kwargs)\n",
            "  File \"/usr/local/lib/python3.10/dist-packages/youtube_dl/YoutubeDL.py\", line 836, in __extract_info\n",
            "    ie_result = ie.extract(url)\n",
            "  File \"/usr/local/lib/python3.10/dist-packages/youtube_dl/extractor/common.py\", line 534, in extract\n",
            "    ie_result = self._real_extract(url)\n",
            "  File \"/usr/local/lib/python3.10/dist-packages/youtube_dl/extractor/youtube.py\", line 1794, in _real_extract\n",
            "    'uploader_id': self._search_regex(r'/(?:channel|user)/([^/?&#]+)', owner_profile_url, 'uploader id') if owner_profile_url else None,\n",
            "  File \"/usr/local/lib/python3.10/dist-packages/youtube_dl/extractor/common.py\", line 1012, in _search_regex\n",
            "    raise RegexNotFoundError('Unable to extract %s' % _name)\n",
            "youtube_dl.utils.RegexNotFoundError: Unable to extract uploader id; please report this issue on https://yt-dl.org/bug . Make sure you are using the latest version; see  https://yt-dl.org/update  on how to update. Be sure to call youtube-dl with the --verbose flag and include its complete output.\n",
            "\n",
            "[debug] Encodings: locale UTF-8, fs utf-8, out UTF-8, pref UTF-8\n",
            "[debug] youtube-dl version 2021.12.17\n",
            "[debug] Python version 3.10.12 (CPython) - Linux-5.15.120+-x86_64-with-glibc2.35\n"
          ]
        },
        {
          "output_type": "stream",
          "name": "stdout",
          "text": [
            "Error downloading video -zOybsEdM5E: ERROR: Unable to extract uploader id; please report this issue on https://yt-dl.org/bug . Make sure you are using the latest version; see  https://yt-dl.org/update  on how to update. Be sure to call youtube-dl with the --verbose flag and include its complete output.\n"
          ]
        },
        {
          "output_type": "stream",
          "name": "stderr",
          "text": [
            "[debug] exe versions: ffmpeg 4.4.2, ffprobe 4.4.2\n",
            "[debug] Proxy map: {'colab_language_server': '/usr/colab/bin/language_service'}\n"
          ]
        },
        {
          "output_type": "stream",
          "name": "stdout",
          "text": [
            "[youtube] 0-7PyzhzuYQ: Downloading webpage\n"
          ]
        },
        {
          "output_type": "stream",
          "name": "stderr",
          "text": [
            "ERROR: Unable to extract uploader id; please report this issue on https://yt-dl.org/bug . Make sure you are using the latest version; see  https://yt-dl.org/update  on how to update. Be sure to call youtube-dl with the --verbose flag and include its complete output.\n",
            "Traceback (most recent call last):\n",
            "  File \"/usr/local/lib/python3.10/dist-packages/youtube_dl/YoutubeDL.py\", line 815, in wrapper\n",
            "    return func(self, *args, **kwargs)\n",
            "  File \"/usr/local/lib/python3.10/dist-packages/youtube_dl/YoutubeDL.py\", line 836, in __extract_info\n",
            "    ie_result = ie.extract(url)\n",
            "  File \"/usr/local/lib/python3.10/dist-packages/youtube_dl/extractor/common.py\", line 534, in extract\n",
            "    ie_result = self._real_extract(url)\n",
            "  File \"/usr/local/lib/python3.10/dist-packages/youtube_dl/extractor/youtube.py\", line 1794, in _real_extract\n",
            "    'uploader_id': self._search_regex(r'/(?:channel|user)/([^/?&#]+)', owner_profile_url, 'uploader id') if owner_profile_url else None,\n",
            "  File \"/usr/local/lib/python3.10/dist-packages/youtube_dl/extractor/common.py\", line 1012, in _search_regex\n",
            "    raise RegexNotFoundError('Unable to extract %s' % _name)\n",
            "youtube_dl.utils.RegexNotFoundError: Unable to extract uploader id; please report this issue on https://yt-dl.org/bug . Make sure you are using the latest version; see  https://yt-dl.org/update  on how to update. Be sure to call youtube-dl with the --verbose flag and include its complete output.\n",
            "\n",
            "[debug] Encodings: locale UTF-8, fs utf-8, out UTF-8, pref UTF-8\n",
            "[debug] youtube-dl version 2021.12.17\n",
            "[debug] Python version 3.10.12 (CPython) - Linux-5.15.120+-x86_64-with-glibc2.35\n"
          ]
        },
        {
          "output_type": "stream",
          "name": "stdout",
          "text": [
            "Error downloading video 0-7PyzhzuYQ: ERROR: Unable to extract uploader id; please report this issue on https://yt-dl.org/bug . Make sure you are using the latest version; see  https://yt-dl.org/update  on how to update. Be sure to call youtube-dl with the --verbose flag and include its complete output.\n"
          ]
        },
        {
          "output_type": "stream",
          "name": "stderr",
          "text": [
            "[debug] exe versions: ffmpeg 4.4.2, ffprobe 4.4.2\n",
            "[debug] Proxy map: {'colab_language_server': '/usr/colab/bin/language_service'}\n"
          ]
        },
        {
          "output_type": "stream",
          "name": "stdout",
          "text": [
            "[youtube] 00M9FhCet6s: Downloading webpage\n"
          ]
        },
        {
          "output_type": "stream",
          "name": "stderr",
          "text": [
            "ERROR: Unable to extract uploader id; please report this issue on https://yt-dl.org/bug . Make sure you are using the latest version; see  https://yt-dl.org/update  on how to update. Be sure to call youtube-dl with the --verbose flag and include its complete output.\n",
            "Traceback (most recent call last):\n",
            "  File \"/usr/local/lib/python3.10/dist-packages/youtube_dl/YoutubeDL.py\", line 815, in wrapper\n",
            "    return func(self, *args, **kwargs)\n",
            "  File \"/usr/local/lib/python3.10/dist-packages/youtube_dl/YoutubeDL.py\", line 836, in __extract_info\n",
            "    ie_result = ie.extract(url)\n",
            "  File \"/usr/local/lib/python3.10/dist-packages/youtube_dl/extractor/common.py\", line 534, in extract\n",
            "    ie_result = self._real_extract(url)\n",
            "  File \"/usr/local/lib/python3.10/dist-packages/youtube_dl/extractor/youtube.py\", line 1794, in _real_extract\n",
            "    'uploader_id': self._search_regex(r'/(?:channel|user)/([^/?&#]+)', owner_profile_url, 'uploader id') if owner_profile_url else None,\n",
            "  File \"/usr/local/lib/python3.10/dist-packages/youtube_dl/extractor/common.py\", line 1012, in _search_regex\n",
            "    raise RegexNotFoundError('Unable to extract %s' % _name)\n",
            "youtube_dl.utils.RegexNotFoundError: Unable to extract uploader id; please report this issue on https://yt-dl.org/bug . Make sure you are using the latest version; see  https://yt-dl.org/update  on how to update. Be sure to call youtube-dl with the --verbose flag and include its complete output.\n",
            "\n",
            "[debug] Encodings: locale UTF-8, fs utf-8, out UTF-8, pref UTF-8\n",
            "[debug] youtube-dl version 2021.12.17\n",
            "[debug] Python version 3.10.12 (CPython) - Linux-5.15.120+-x86_64-with-glibc2.35\n",
            "[debug] exe versions: ffmpeg 4.4.2, ffprobe 4.4.2\n",
            "[debug] Proxy map: {'colab_language_server': '/usr/colab/bin/language_service'}\n"
          ]
        },
        {
          "output_type": "stream",
          "name": "stdout",
          "text": [
            "Error downloading video 00M9FhCet6s: ERROR: Unable to extract uploader id; please report this issue on https://yt-dl.org/bug . Make sure you are using the latest version; see  https://yt-dl.org/update  on how to update. Be sure to call youtube-dl with the --verbose flag and include its complete output.\n",
            "[youtube] 01PzcPKT3_E: Downloading webpage\n"
          ]
        },
        {
          "output_type": "stream",
          "name": "stderr",
          "text": [
            "ERROR: Unable to extract uploader id; please report this issue on https://yt-dl.org/bug . Make sure you are using the latest version; see  https://yt-dl.org/update  on how to update. Be sure to call youtube-dl with the --verbose flag and include its complete output.\n",
            "Traceback (most recent call last):\n",
            "  File \"/usr/local/lib/python3.10/dist-packages/youtube_dl/YoutubeDL.py\", line 815, in wrapper\n",
            "    return func(self, *args, **kwargs)\n",
            "  File \"/usr/local/lib/python3.10/dist-packages/youtube_dl/YoutubeDL.py\", line 836, in __extract_info\n",
            "    ie_result = ie.extract(url)\n",
            "  File \"/usr/local/lib/python3.10/dist-packages/youtube_dl/extractor/common.py\", line 534, in extract\n",
            "    ie_result = self._real_extract(url)\n",
            "  File \"/usr/local/lib/python3.10/dist-packages/youtube_dl/extractor/youtube.py\", line 1794, in _real_extract\n",
            "    'uploader_id': self._search_regex(r'/(?:channel|user)/([^/?&#]+)', owner_profile_url, 'uploader id') if owner_profile_url else None,\n",
            "  File \"/usr/local/lib/python3.10/dist-packages/youtube_dl/extractor/common.py\", line 1012, in _search_regex\n",
            "    raise RegexNotFoundError('Unable to extract %s' % _name)\n",
            "youtube_dl.utils.RegexNotFoundError: Unable to extract uploader id; please report this issue on https://yt-dl.org/bug . Make sure you are using the latest version; see  https://yt-dl.org/update  on how to update. Be sure to call youtube-dl with the --verbose flag and include its complete output.\n",
            "\n",
            "[debug] Encodings: locale UTF-8, fs utf-8, out UTF-8, pref UTF-8\n",
            "[debug] youtube-dl version 2021.12.17\n",
            "[debug] Python version 3.10.12 (CPython) - Linux-5.15.120+-x86_64-with-glibc2.35\n",
            "[debug] exe versions: ffmpeg 4.4.2, ffprobe 4.4.2\n",
            "[debug] Proxy map: {'colab_language_server': '/usr/colab/bin/language_service'}\n"
          ]
        },
        {
          "output_type": "stream",
          "name": "stdout",
          "text": [
            "Error downloading video 01PzcPKT3_E: ERROR: Unable to extract uploader id; please report this issue on https://yt-dl.org/bug . Make sure you are using the latest version; see  https://yt-dl.org/update  on how to update. Be sure to call youtube-dl with the --verbose flag and include its complete output.\n",
            "[youtube] 01hjVJN9xCg: Downloading webpage\n"
          ]
        },
        {
          "output_type": "stream",
          "name": "stderr",
          "text": [
            "ERROR: Unable to extract uploader id; please report this issue on https://yt-dl.org/bug . Make sure you are using the latest version; see  https://yt-dl.org/update  on how to update. Be sure to call youtube-dl with the --verbose flag and include its complete output.\n",
            "Traceback (most recent call last):\n",
            "  File \"/usr/local/lib/python3.10/dist-packages/youtube_dl/YoutubeDL.py\", line 815, in wrapper\n",
            "    return func(self, *args, **kwargs)\n",
            "  File \"/usr/local/lib/python3.10/dist-packages/youtube_dl/YoutubeDL.py\", line 836, in __extract_info\n",
            "    ie_result = ie.extract(url)\n",
            "  File \"/usr/local/lib/python3.10/dist-packages/youtube_dl/extractor/common.py\", line 534, in extract\n",
            "    ie_result = self._real_extract(url)\n",
            "  File \"/usr/local/lib/python3.10/dist-packages/youtube_dl/extractor/youtube.py\", line 1794, in _real_extract\n",
            "    'uploader_id': self._search_regex(r'/(?:channel|user)/([^/?&#]+)', owner_profile_url, 'uploader id') if owner_profile_url else None,\n",
            "  File \"/usr/local/lib/python3.10/dist-packages/youtube_dl/extractor/common.py\", line 1012, in _search_regex\n",
            "    raise RegexNotFoundError('Unable to extract %s' % _name)\n",
            "youtube_dl.utils.RegexNotFoundError: Unable to extract uploader id; please report this issue on https://yt-dl.org/bug . Make sure you are using the latest version; see  https://yt-dl.org/update  on how to update. Be sure to call youtube-dl with the --verbose flag and include its complete output.\n",
            "\n",
            "[debug] Encodings: locale UTF-8, fs utf-8, out UTF-8, pref UTF-8\n",
            "[debug] youtube-dl version 2021.12.17\n",
            "[debug] Python version 3.10.12 (CPython) - Linux-5.15.120+-x86_64-with-glibc2.35\n",
            "[debug] exe versions: ffmpeg 4.4.2, ffprobe 4.4.2\n",
            "[debug] Proxy map: {'colab_language_server': '/usr/colab/bin/language_service'}\n"
          ]
        },
        {
          "output_type": "stream",
          "name": "stdout",
          "text": [
            "Error downloading video 01hjVJN9xCg: ERROR: Unable to extract uploader id; please report this issue on https://yt-dl.org/bug . Make sure you are using the latest version; see  https://yt-dl.org/update  on how to update. Be sure to call youtube-dl with the --verbose flag and include its complete output.\n",
            "[youtube] 0298WjE3_tk: Downloading webpage\n"
          ]
        },
        {
          "output_type": "stream",
          "name": "stderr",
          "text": [
            "ERROR: Unable to extract uploader id; please report this issue on https://yt-dl.org/bug . Make sure you are using the latest version; see  https://yt-dl.org/update  on how to update. Be sure to call youtube-dl with the --verbose flag and include its complete output.\n",
            "Traceback (most recent call last):\n",
            "  File \"/usr/local/lib/python3.10/dist-packages/youtube_dl/YoutubeDL.py\", line 815, in wrapper\n",
            "    return func(self, *args, **kwargs)\n",
            "  File \"/usr/local/lib/python3.10/dist-packages/youtube_dl/YoutubeDL.py\", line 836, in __extract_info\n",
            "    ie_result = ie.extract(url)\n",
            "  File \"/usr/local/lib/python3.10/dist-packages/youtube_dl/extractor/common.py\", line 534, in extract\n",
            "    ie_result = self._real_extract(url)\n",
            "  File \"/usr/local/lib/python3.10/dist-packages/youtube_dl/extractor/youtube.py\", line 1794, in _real_extract\n",
            "    'uploader_id': self._search_regex(r'/(?:channel|user)/([^/?&#]+)', owner_profile_url, 'uploader id') if owner_profile_url else None,\n",
            "  File \"/usr/local/lib/python3.10/dist-packages/youtube_dl/extractor/common.py\", line 1012, in _search_regex\n",
            "    raise RegexNotFoundError('Unable to extract %s' % _name)\n",
            "youtube_dl.utils.RegexNotFoundError: Unable to extract uploader id; please report this issue on https://yt-dl.org/bug . Make sure you are using the latest version; see  https://yt-dl.org/update  on how to update. Be sure to call youtube-dl with the --verbose flag and include its complete output.\n",
            "\n",
            "[debug] Encodings: locale UTF-8, fs utf-8, out UTF-8, pref UTF-8\n",
            "[debug] youtube-dl version 2021.12.17\n",
            "[debug] Python version 3.10.12 (CPython) - Linux-5.15.120+-x86_64-with-glibc2.35\n",
            "[debug] exe versions: ffmpeg 4.4.2, ffprobe 4.4.2\n",
            "[debug] Proxy map: {'colab_language_server': '/usr/colab/bin/language_service'}\n"
          ]
        },
        {
          "output_type": "stream",
          "name": "stdout",
          "text": [
            "Error downloading video 0298WjE3_tk: ERROR: Unable to extract uploader id; please report this issue on https://yt-dl.org/bug . Make sure you are using the latest version; see  https://yt-dl.org/update  on how to update. Be sure to call youtube-dl with the --verbose flag and include its complete output.\n",
            "[youtube] 02Qntw26enM: Downloading webpage\n"
          ]
        },
        {
          "output_type": "stream",
          "name": "stderr",
          "text": [
            "ERROR: Unable to extract uploader id; please report this issue on https://yt-dl.org/bug . Make sure you are using the latest version; see  https://yt-dl.org/update  on how to update. Be sure to call youtube-dl with the --verbose flag and include its complete output.\n",
            "Traceback (most recent call last):\n",
            "  File \"/usr/local/lib/python3.10/dist-packages/youtube_dl/YoutubeDL.py\", line 815, in wrapper\n",
            "    return func(self, *args, **kwargs)\n",
            "  File \"/usr/local/lib/python3.10/dist-packages/youtube_dl/YoutubeDL.py\", line 836, in __extract_info\n",
            "    ie_result = ie.extract(url)\n",
            "  File \"/usr/local/lib/python3.10/dist-packages/youtube_dl/extractor/common.py\", line 534, in extract\n",
            "    ie_result = self._real_extract(url)\n",
            "  File \"/usr/local/lib/python3.10/dist-packages/youtube_dl/extractor/youtube.py\", line 1794, in _real_extract\n",
            "    'uploader_id': self._search_regex(r'/(?:channel|user)/([^/?&#]+)', owner_profile_url, 'uploader id') if owner_profile_url else None,\n",
            "  File \"/usr/local/lib/python3.10/dist-packages/youtube_dl/extractor/common.py\", line 1012, in _search_regex\n",
            "    raise RegexNotFoundError('Unable to extract %s' % _name)\n",
            "youtube_dl.utils.RegexNotFoundError: Unable to extract uploader id; please report this issue on https://yt-dl.org/bug . Make sure you are using the latest version; see  https://yt-dl.org/update  on how to update. Be sure to call youtube-dl with the --verbose flag and include its complete output.\n",
            "\n",
            "[debug] Encodings: locale UTF-8, fs utf-8, out UTF-8, pref UTF-8\n",
            "[debug] youtube-dl version 2021.12.17\n",
            "[debug] Python version 3.10.12 (CPython) - Linux-5.15.120+-x86_64-with-glibc2.35\n",
            "[debug] exe versions: ffmpeg 4.4.2, ffprobe 4.4.2\n",
            "[debug] Proxy map: {'colab_language_server': '/usr/colab/bin/language_service'}\n"
          ]
        },
        {
          "output_type": "stream",
          "name": "stdout",
          "text": [
            "Error downloading video 02Qntw26enM: ERROR: Unable to extract uploader id; please report this issue on https://yt-dl.org/bug . Make sure you are using the latest version; see  https://yt-dl.org/update  on how to update. Be sure to call youtube-dl with the --verbose flag and include its complete output.\n",
            "[youtube] 03frQGyrgQ4: Downloading webpage\n",
            "[youtube] 03frQGyrgQ4: Downloading MPD manifest\n"
          ]
        },
        {
          "output_type": "stream",
          "name": "stderr",
          "text": [
            "ERROR: Unable to extract uploader id; please report this issue on https://yt-dl.org/bug . Make sure you are using the latest version; see  https://yt-dl.org/update  on how to update. Be sure to call youtube-dl with the --verbose flag and include its complete output.\n",
            "Traceback (most recent call last):\n",
            "  File \"/usr/local/lib/python3.10/dist-packages/youtube_dl/YoutubeDL.py\", line 815, in wrapper\n",
            "    return func(self, *args, **kwargs)\n",
            "  File \"/usr/local/lib/python3.10/dist-packages/youtube_dl/YoutubeDL.py\", line 836, in __extract_info\n",
            "    ie_result = ie.extract(url)\n",
            "  File \"/usr/local/lib/python3.10/dist-packages/youtube_dl/extractor/common.py\", line 534, in extract\n",
            "    ie_result = self._real_extract(url)\n",
            "  File \"/usr/local/lib/python3.10/dist-packages/youtube_dl/extractor/youtube.py\", line 1794, in _real_extract\n",
            "    'uploader_id': self._search_regex(r'/(?:channel|user)/([^/?&#]+)', owner_profile_url, 'uploader id') if owner_profile_url else None,\n",
            "  File \"/usr/local/lib/python3.10/dist-packages/youtube_dl/extractor/common.py\", line 1012, in _search_regex\n",
            "    raise RegexNotFoundError('Unable to extract %s' % _name)\n",
            "youtube_dl.utils.RegexNotFoundError: Unable to extract uploader id; please report this issue on https://yt-dl.org/bug . Make sure you are using the latest version; see  https://yt-dl.org/update  on how to update. Be sure to call youtube-dl with the --verbose flag and include its complete output.\n",
            "\n",
            "[debug] Encodings: locale UTF-8, fs utf-8, out UTF-8, pref UTF-8\n",
            "[debug] youtube-dl version 2021.12.17\n",
            "[debug] Python version 3.10.12 (CPython) - Linux-5.15.120+-x86_64-with-glibc2.35\n",
            "[debug] exe versions: ffmpeg 4.4.2, ffprobe 4.4.2\n",
            "[debug] Proxy map: {'colab_language_server': '/usr/colab/bin/language_service'}\n"
          ]
        },
        {
          "output_type": "stream",
          "name": "stdout",
          "text": [
            "Error downloading video 03frQGyrgQ4: ERROR: Unable to extract uploader id; please report this issue on https://yt-dl.org/bug . Make sure you are using the latest version; see  https://yt-dl.org/update  on how to update. Be sure to call youtube-dl with the --verbose flag and include its complete output.\n",
            "[youtube] 03z0rpIkm5g: Downloading webpage\n"
          ]
        },
        {
          "output_type": "stream",
          "name": "stderr",
          "text": [
            "ERROR: Unable to extract uploader id; please report this issue on https://yt-dl.org/bug . Make sure you are using the latest version; see  https://yt-dl.org/update  on how to update. Be sure to call youtube-dl with the --verbose flag and include its complete output.\n",
            "Traceback (most recent call last):\n",
            "  File \"/usr/local/lib/python3.10/dist-packages/youtube_dl/YoutubeDL.py\", line 815, in wrapper\n",
            "    return func(self, *args, **kwargs)\n",
            "  File \"/usr/local/lib/python3.10/dist-packages/youtube_dl/YoutubeDL.py\", line 836, in __extract_info\n",
            "    ie_result = ie.extract(url)\n",
            "  File \"/usr/local/lib/python3.10/dist-packages/youtube_dl/extractor/common.py\", line 534, in extract\n",
            "    ie_result = self._real_extract(url)\n",
            "  File \"/usr/local/lib/python3.10/dist-packages/youtube_dl/extractor/youtube.py\", line 1794, in _real_extract\n",
            "    'uploader_id': self._search_regex(r'/(?:channel|user)/([^/?&#]+)', owner_profile_url, 'uploader id') if owner_profile_url else None,\n",
            "  File \"/usr/local/lib/python3.10/dist-packages/youtube_dl/extractor/common.py\", line 1012, in _search_regex\n",
            "    raise RegexNotFoundError('Unable to extract %s' % _name)\n",
            "youtube_dl.utils.RegexNotFoundError: Unable to extract uploader id; please report this issue on https://yt-dl.org/bug . Make sure you are using the latest version; see  https://yt-dl.org/update  on how to update. Be sure to call youtube-dl with the --verbose flag and include its complete output.\n",
            "\n",
            "[debug] Encodings: locale UTF-8, fs utf-8, out UTF-8, pref UTF-8\n",
            "[debug] youtube-dl version 2021.12.17\n",
            "[debug] Python version 3.10.12 (CPython) - Linux-5.15.120+-x86_64-with-glibc2.35\n",
            "[debug] exe versions: ffmpeg 4.4.2, ffprobe 4.4.2\n",
            "[debug] Proxy map: {'colab_language_server': '/usr/colab/bin/language_service'}\n"
          ]
        },
        {
          "output_type": "stream",
          "name": "stdout",
          "text": [
            "Error downloading video 03z0rpIkm5g: ERROR: Unable to extract uploader id; please report this issue on https://yt-dl.org/bug . Make sure you are using the latest version; see  https://yt-dl.org/update  on how to update. Be sure to call youtube-dl with the --verbose flag and include its complete output.\n",
            "[youtube] 04NjXsLyCl4: Downloading webpage\n"
          ]
        },
        {
          "output_type": "stream",
          "name": "stderr",
          "text": [
            "ERROR: Unable to extract uploader id; please report this issue on https://yt-dl.org/bug . Make sure you are using the latest version; see  https://yt-dl.org/update  on how to update. Be sure to call youtube-dl with the --verbose flag and include its complete output.\n",
            "Traceback (most recent call last):\n",
            "  File \"/usr/local/lib/python3.10/dist-packages/youtube_dl/YoutubeDL.py\", line 815, in wrapper\n",
            "    return func(self, *args, **kwargs)\n",
            "  File \"/usr/local/lib/python3.10/dist-packages/youtube_dl/YoutubeDL.py\", line 836, in __extract_info\n",
            "    ie_result = ie.extract(url)\n",
            "  File \"/usr/local/lib/python3.10/dist-packages/youtube_dl/extractor/common.py\", line 534, in extract\n",
            "    ie_result = self._real_extract(url)\n",
            "  File \"/usr/local/lib/python3.10/dist-packages/youtube_dl/extractor/youtube.py\", line 1794, in _real_extract\n",
            "    'uploader_id': self._search_regex(r'/(?:channel|user)/([^/?&#]+)', owner_profile_url, 'uploader id') if owner_profile_url else None,\n",
            "  File \"/usr/local/lib/python3.10/dist-packages/youtube_dl/extractor/common.py\", line 1012, in _search_regex\n",
            "    raise RegexNotFoundError('Unable to extract %s' % _name)\n",
            "youtube_dl.utils.RegexNotFoundError: Unable to extract uploader id; please report this issue on https://yt-dl.org/bug . Make sure you are using the latest version; see  https://yt-dl.org/update  on how to update. Be sure to call youtube-dl with the --verbose flag and include its complete output.\n",
            "\n",
            "[debug] Encodings: locale UTF-8, fs utf-8, out UTF-8, pref UTF-8\n",
            "[debug] youtube-dl version 2021.12.17\n",
            "[debug] Python version 3.10.12 (CPython) - Linux-5.15.120+-x86_64-with-glibc2.35\n",
            "[debug] exe versions: ffmpeg 4.4.2, ffprobe 4.4.2\n",
            "[debug] Proxy map: {'colab_language_server': '/usr/colab/bin/language_service'}\n"
          ]
        },
        {
          "output_type": "stream",
          "name": "stdout",
          "text": [
            "Error downloading video 04NjXsLyCl4: ERROR: Unable to extract uploader id; please report this issue on https://yt-dl.org/bug . Make sure you are using the latest version; see  https://yt-dl.org/update  on how to update. Be sure to call youtube-dl with the --verbose flag and include its complete output.\n",
            "[youtube] 05JAmKFVy44: Downloading webpage\n"
          ]
        },
        {
          "output_type": "stream",
          "name": "stderr",
          "text": [
            "ERROR: Unable to extract uploader id; please report this issue on https://yt-dl.org/bug . Make sure you are using the latest version; see  https://yt-dl.org/update  on how to update. Be sure to call youtube-dl with the --verbose flag and include its complete output.\n",
            "Traceback (most recent call last):\n",
            "  File \"/usr/local/lib/python3.10/dist-packages/youtube_dl/YoutubeDL.py\", line 815, in wrapper\n",
            "    return func(self, *args, **kwargs)\n",
            "  File \"/usr/local/lib/python3.10/dist-packages/youtube_dl/YoutubeDL.py\", line 836, in __extract_info\n",
            "    ie_result = ie.extract(url)\n",
            "  File \"/usr/local/lib/python3.10/dist-packages/youtube_dl/extractor/common.py\", line 534, in extract\n",
            "    ie_result = self._real_extract(url)\n",
            "  File \"/usr/local/lib/python3.10/dist-packages/youtube_dl/extractor/youtube.py\", line 1794, in _real_extract\n",
            "    'uploader_id': self._search_regex(r'/(?:channel|user)/([^/?&#]+)', owner_profile_url, 'uploader id') if owner_profile_url else None,\n",
            "  File \"/usr/local/lib/python3.10/dist-packages/youtube_dl/extractor/common.py\", line 1012, in _search_regex\n",
            "    raise RegexNotFoundError('Unable to extract %s' % _name)\n",
            "youtube_dl.utils.RegexNotFoundError: Unable to extract uploader id; please report this issue on https://yt-dl.org/bug . Make sure you are using the latest version; see  https://yt-dl.org/update  on how to update. Be sure to call youtube-dl with the --verbose flag and include its complete output.\n",
            "\n",
            "[debug] Encodings: locale UTF-8, fs utf-8, out UTF-8, pref UTF-8\n",
            "[debug] youtube-dl version 2021.12.17\n",
            "[debug] Python version 3.10.12 (CPython) - Linux-5.15.120+-x86_64-with-glibc2.35\n",
            "[debug] exe versions: ffmpeg 4.4.2, ffprobe 4.4.2\n",
            "[debug] Proxy map: {'colab_language_server': '/usr/colab/bin/language_service'}\n"
          ]
        },
        {
          "output_type": "stream",
          "name": "stdout",
          "text": [
            "Error downloading video 05JAmKFVy44: ERROR: Unable to extract uploader id; please report this issue on https://yt-dl.org/bug . Make sure you are using the latest version; see  https://yt-dl.org/update  on how to update. Be sure to call youtube-dl with the --verbose flag and include its complete output.\n",
            "[youtube] 05OJDYeHLMc: Downloading webpage\n"
          ]
        },
        {
          "output_type": "stream",
          "name": "stderr",
          "text": [
            "ERROR: Unable to extract uploader id; please report this issue on https://yt-dl.org/bug . Make sure you are using the latest version; see  https://yt-dl.org/update  on how to update. Be sure to call youtube-dl with the --verbose flag and include its complete output.\n",
            "Traceback (most recent call last):\n",
            "  File \"/usr/local/lib/python3.10/dist-packages/youtube_dl/YoutubeDL.py\", line 815, in wrapper\n",
            "    return func(self, *args, **kwargs)\n",
            "  File \"/usr/local/lib/python3.10/dist-packages/youtube_dl/YoutubeDL.py\", line 836, in __extract_info\n",
            "    ie_result = ie.extract(url)\n",
            "  File \"/usr/local/lib/python3.10/dist-packages/youtube_dl/extractor/common.py\", line 534, in extract\n",
            "    ie_result = self._real_extract(url)\n",
            "  File \"/usr/local/lib/python3.10/dist-packages/youtube_dl/extractor/youtube.py\", line 1794, in _real_extract\n",
            "    'uploader_id': self._search_regex(r'/(?:channel|user)/([^/?&#]+)', owner_profile_url, 'uploader id') if owner_profile_url else None,\n",
            "  File \"/usr/local/lib/python3.10/dist-packages/youtube_dl/extractor/common.py\", line 1012, in _search_regex\n",
            "    raise RegexNotFoundError('Unable to extract %s' % _name)\n",
            "youtube_dl.utils.RegexNotFoundError: Unable to extract uploader id; please report this issue on https://yt-dl.org/bug . Make sure you are using the latest version; see  https://yt-dl.org/update  on how to update. Be sure to call youtube-dl with the --verbose flag and include its complete output.\n",
            "\n",
            "[debug] Encodings: locale UTF-8, fs utf-8, out UTF-8, pref UTF-8\n",
            "[debug] youtube-dl version 2021.12.17\n",
            "[debug] Python version 3.10.12 (CPython) - Linux-5.15.120+-x86_64-with-glibc2.35\n",
            "[debug] exe versions: ffmpeg 4.4.2, ffprobe 4.4.2\n",
            "[debug] Proxy map: {'colab_language_server': '/usr/colab/bin/language_service'}\n"
          ]
        },
        {
          "output_type": "stream",
          "name": "stdout",
          "text": [
            "Error downloading video 05OJDYeHLMc: ERROR: Unable to extract uploader id; please report this issue on https://yt-dl.org/bug . Make sure you are using the latest version; see  https://yt-dl.org/update  on how to update. Be sure to call youtube-dl with the --verbose flag and include its complete output.\n",
            "[youtube] 06Brdf83RZE: Downloading webpage\n"
          ]
        },
        {
          "output_type": "stream",
          "name": "stderr",
          "text": [
            "ERROR: Unable to extract uploader id; please report this issue on https://yt-dl.org/bug . Make sure you are using the latest version; see  https://yt-dl.org/update  on how to update. Be sure to call youtube-dl with the --verbose flag and include its complete output.\n",
            "Traceback (most recent call last):\n",
            "  File \"/usr/local/lib/python3.10/dist-packages/youtube_dl/YoutubeDL.py\", line 815, in wrapper\n",
            "    return func(self, *args, **kwargs)\n",
            "  File \"/usr/local/lib/python3.10/dist-packages/youtube_dl/YoutubeDL.py\", line 836, in __extract_info\n",
            "    ie_result = ie.extract(url)\n",
            "  File \"/usr/local/lib/python3.10/dist-packages/youtube_dl/extractor/common.py\", line 534, in extract\n",
            "    ie_result = self._real_extract(url)\n",
            "  File \"/usr/local/lib/python3.10/dist-packages/youtube_dl/extractor/youtube.py\", line 1794, in _real_extract\n",
            "    'uploader_id': self._search_regex(r'/(?:channel|user)/([^/?&#]+)', owner_profile_url, 'uploader id') if owner_profile_url else None,\n",
            "  File \"/usr/local/lib/python3.10/dist-packages/youtube_dl/extractor/common.py\", line 1012, in _search_regex\n",
            "    raise RegexNotFoundError('Unable to extract %s' % _name)\n",
            "youtube_dl.utils.RegexNotFoundError: Unable to extract uploader id; please report this issue on https://yt-dl.org/bug . Make sure you are using the latest version; see  https://yt-dl.org/update  on how to update. Be sure to call youtube-dl with the --verbose flag and include its complete output.\n",
            "\n",
            "[debug] Encodings: locale UTF-8, fs utf-8, out UTF-8, pref UTF-8\n",
            "[debug] youtube-dl version 2021.12.17\n",
            "[debug] Python version 3.10.12 (CPython) - Linux-5.15.120+-x86_64-with-glibc2.35\n"
          ]
        },
        {
          "output_type": "stream",
          "name": "stdout",
          "text": [
            "Error downloading video 06Brdf83RZE: ERROR: Unable to extract uploader id; please report this issue on https://yt-dl.org/bug . Make sure you are using the latest version; see  https://yt-dl.org/update  on how to update. Be sure to call youtube-dl with the --verbose flag and include its complete output.\n"
          ]
        },
        {
          "output_type": "stream",
          "name": "stderr",
          "text": [
            "[debug] exe versions: ffmpeg 4.4.2, ffprobe 4.4.2\n",
            "[debug] Proxy map: {'colab_language_server': '/usr/colab/bin/language_service'}\n"
          ]
        },
        {
          "output_type": "stream",
          "name": "stdout",
          "text": [
            "[youtube] 06IU9WsEp3s: Downloading webpage\n"
          ]
        },
        {
          "output_type": "stream",
          "name": "stderr",
          "text": [
            "ERROR: Unable to extract uploader id; please report this issue on https://yt-dl.org/bug . Make sure you are using the latest version; see  https://yt-dl.org/update  on how to update. Be sure to call youtube-dl with the --verbose flag and include its complete output.\n",
            "Traceback (most recent call last):\n",
            "  File \"/usr/local/lib/python3.10/dist-packages/youtube_dl/YoutubeDL.py\", line 815, in wrapper\n",
            "    return func(self, *args, **kwargs)\n",
            "  File \"/usr/local/lib/python3.10/dist-packages/youtube_dl/YoutubeDL.py\", line 836, in __extract_info\n",
            "    ie_result = ie.extract(url)\n",
            "  File \"/usr/local/lib/python3.10/dist-packages/youtube_dl/extractor/common.py\", line 534, in extract\n",
            "    ie_result = self._real_extract(url)\n",
            "  File \"/usr/local/lib/python3.10/dist-packages/youtube_dl/extractor/youtube.py\", line 1794, in _real_extract\n",
            "    'uploader_id': self._search_regex(r'/(?:channel|user)/([^/?&#]+)', owner_profile_url, 'uploader id') if owner_profile_url else None,\n",
            "  File \"/usr/local/lib/python3.10/dist-packages/youtube_dl/extractor/common.py\", line 1012, in _search_regex\n",
            "    raise RegexNotFoundError('Unable to extract %s' % _name)\n",
            "youtube_dl.utils.RegexNotFoundError: Unable to extract uploader id; please report this issue on https://yt-dl.org/bug . Make sure you are using the latest version; see  https://yt-dl.org/update  on how to update. Be sure to call youtube-dl with the --verbose flag and include its complete output.\n",
            "\n",
            "[debug] Encodings: locale UTF-8, fs utf-8, out UTF-8, pref UTF-8\n",
            "[debug] youtube-dl version 2021.12.17\n",
            "[debug] Python version 3.10.12 (CPython) - Linux-5.15.120+-x86_64-with-glibc2.35\n"
          ]
        },
        {
          "output_type": "stream",
          "name": "stdout",
          "text": [
            "Error downloading video 06IU9WsEp3s: ERROR: Unable to extract uploader id; please report this issue on https://yt-dl.org/bug . Make sure you are using the latest version; see  https://yt-dl.org/update  on how to update. Be sure to call youtube-dl with the --verbose flag and include its complete output.\n"
          ]
        },
        {
          "output_type": "stream",
          "name": "stderr",
          "text": [
            "[debug] exe versions: ffmpeg 4.4.2, ffprobe 4.4.2\n",
            "[debug] Proxy map: {'colab_language_server': '/usr/colab/bin/language_service'}\n"
          ]
        },
        {
          "output_type": "stream",
          "name": "stdout",
          "text": [
            "[youtube] 07-3grCQ8EU: Downloading webpage\n"
          ]
        },
        {
          "output_type": "stream",
          "name": "stderr",
          "text": [
            "ERROR: Unable to extract uploader id; please report this issue on https://yt-dl.org/bug . Make sure you are using the latest version; see  https://yt-dl.org/update  on how to update. Be sure to call youtube-dl with the --verbose flag and include its complete output.\n",
            "Traceback (most recent call last):\n",
            "  File \"/usr/local/lib/python3.10/dist-packages/youtube_dl/YoutubeDL.py\", line 815, in wrapper\n",
            "    return func(self, *args, **kwargs)\n",
            "  File \"/usr/local/lib/python3.10/dist-packages/youtube_dl/YoutubeDL.py\", line 836, in __extract_info\n",
            "    ie_result = ie.extract(url)\n",
            "  File \"/usr/local/lib/python3.10/dist-packages/youtube_dl/extractor/common.py\", line 534, in extract\n",
            "    ie_result = self._real_extract(url)\n",
            "  File \"/usr/local/lib/python3.10/dist-packages/youtube_dl/extractor/youtube.py\", line 1794, in _real_extract\n",
            "    'uploader_id': self._search_regex(r'/(?:channel|user)/([^/?&#]+)', owner_profile_url, 'uploader id') if owner_profile_url else None,\n",
            "  File \"/usr/local/lib/python3.10/dist-packages/youtube_dl/extractor/common.py\", line 1012, in _search_regex\n",
            "    raise RegexNotFoundError('Unable to extract %s' % _name)\n",
            "youtube_dl.utils.RegexNotFoundError: Unable to extract uploader id; please report this issue on https://yt-dl.org/bug . Make sure you are using the latest version; see  https://yt-dl.org/update  on how to update. Be sure to call youtube-dl with the --verbose flag and include its complete output.\n",
            "\n",
            "[debug] Encodings: locale UTF-8, fs utf-8, out UTF-8, pref UTF-8\n",
            "[debug] youtube-dl version 2021.12.17\n",
            "[debug] Python version 3.10.12 (CPython) - Linux-5.15.120+-x86_64-with-glibc2.35\n"
          ]
        },
        {
          "output_type": "stream",
          "name": "stdout",
          "text": [
            "Error downloading video 07-3grCQ8EU: ERROR: Unable to extract uploader id; please report this issue on https://yt-dl.org/bug . Make sure you are using the latest version; see  https://yt-dl.org/update  on how to update. Be sure to call youtube-dl with the --verbose flag and include its complete output.\n"
          ]
        },
        {
          "output_type": "stream",
          "name": "stderr",
          "text": [
            "[debug] exe versions: ffmpeg 4.4.2, ffprobe 4.4.2\n",
            "[debug] Proxy map: {'colab_language_server': '/usr/colab/bin/language_service'}\n"
          ]
        },
        {
          "output_type": "stream",
          "name": "stdout",
          "text": [
            "[youtube] 07-vpXo91XM: Downloading webpage\n",
            "[youtube] 07-vpXo91XM: Downloading MPD manifest\n"
          ]
        },
        {
          "output_type": "stream",
          "name": "stderr",
          "text": [
            "ERROR: Unable to extract uploader id; please report this issue on https://yt-dl.org/bug . Make sure you are using the latest version; see  https://yt-dl.org/update  on how to update. Be sure to call youtube-dl with the --verbose flag and include its complete output.\n",
            "Traceback (most recent call last):\n",
            "  File \"/usr/local/lib/python3.10/dist-packages/youtube_dl/YoutubeDL.py\", line 815, in wrapper\n",
            "    return func(self, *args, **kwargs)\n",
            "  File \"/usr/local/lib/python3.10/dist-packages/youtube_dl/YoutubeDL.py\", line 836, in __extract_info\n",
            "    ie_result = ie.extract(url)\n",
            "  File \"/usr/local/lib/python3.10/dist-packages/youtube_dl/extractor/common.py\", line 534, in extract\n",
            "    ie_result = self._real_extract(url)\n",
            "  File \"/usr/local/lib/python3.10/dist-packages/youtube_dl/extractor/youtube.py\", line 1794, in _real_extract\n",
            "    'uploader_id': self._search_regex(r'/(?:channel|user)/([^/?&#]+)', owner_profile_url, 'uploader id') if owner_profile_url else None,\n",
            "  File \"/usr/local/lib/python3.10/dist-packages/youtube_dl/extractor/common.py\", line 1012, in _search_regex\n",
            "    raise RegexNotFoundError('Unable to extract %s' % _name)\n",
            "youtube_dl.utils.RegexNotFoundError: Unable to extract uploader id; please report this issue on https://yt-dl.org/bug . Make sure you are using the latest version; see  https://yt-dl.org/update  on how to update. Be sure to call youtube-dl with the --verbose flag and include its complete output.\n",
            "\n",
            "[debug] Encodings: locale UTF-8, fs utf-8, out UTF-8, pref UTF-8\n",
            "[debug] youtube-dl version 2021.12.17\n",
            "[debug] Python version 3.10.12 (CPython) - Linux-5.15.120+-x86_64-with-glibc2.35\n"
          ]
        },
        {
          "output_type": "stream",
          "name": "stdout",
          "text": [
            "Error downloading video 07-vpXo91XM: ERROR: Unable to extract uploader id; please report this issue on https://yt-dl.org/bug . Make sure you are using the latest version; see  https://yt-dl.org/update  on how to update. Be sure to call youtube-dl with the --verbose flag and include its complete output.\n"
          ]
        },
        {
          "output_type": "stream",
          "name": "stderr",
          "text": [
            "[debug] exe versions: ffmpeg 4.4.2, ffprobe 4.4.2\n",
            "[debug] Proxy map: {'colab_language_server': '/usr/colab/bin/language_service'}\n"
          ]
        },
        {
          "output_type": "stream",
          "name": "stdout",
          "text": [
            "[youtube] 07FxCXxknY4: Downloading webpage\n"
          ]
        },
        {
          "output_type": "stream",
          "name": "stderr",
          "text": [
            "ERROR: Unable to extract uploader id; please report this issue on https://yt-dl.org/bug . Make sure you are using the latest version; see  https://yt-dl.org/update  on how to update. Be sure to call youtube-dl with the --verbose flag and include its complete output.\n",
            "Traceback (most recent call last):\n",
            "  File \"/usr/local/lib/python3.10/dist-packages/youtube_dl/YoutubeDL.py\", line 815, in wrapper\n",
            "    return func(self, *args, **kwargs)\n",
            "  File \"/usr/local/lib/python3.10/dist-packages/youtube_dl/YoutubeDL.py\", line 836, in __extract_info\n",
            "    ie_result = ie.extract(url)\n",
            "  File \"/usr/local/lib/python3.10/dist-packages/youtube_dl/extractor/common.py\", line 534, in extract\n",
            "    ie_result = self._real_extract(url)\n",
            "  File \"/usr/local/lib/python3.10/dist-packages/youtube_dl/extractor/youtube.py\", line 1794, in _real_extract\n",
            "    'uploader_id': self._search_regex(r'/(?:channel|user)/([^/?&#]+)', owner_profile_url, 'uploader id') if owner_profile_url else None,\n",
            "  File \"/usr/local/lib/python3.10/dist-packages/youtube_dl/extractor/common.py\", line 1012, in _search_regex\n",
            "    raise RegexNotFoundError('Unable to extract %s' % _name)\n",
            "youtube_dl.utils.RegexNotFoundError: Unable to extract uploader id; please report this issue on https://yt-dl.org/bug . Make sure you are using the latest version; see  https://yt-dl.org/update  on how to update. Be sure to call youtube-dl with the --verbose flag and include its complete output.\n",
            "\n",
            "[debug] Encodings: locale UTF-8, fs utf-8, out UTF-8, pref UTF-8\n",
            "[debug] youtube-dl version 2021.12.17\n",
            "[debug] Python version 3.10.12 (CPython) - Linux-5.15.120+-x86_64-with-glibc2.35\n"
          ]
        },
        {
          "output_type": "stream",
          "name": "stdout",
          "text": [
            "Error downloading video 07FxCXxknY4: ERROR: Unable to extract uploader id; please report this issue on https://yt-dl.org/bug . Make sure you are using the latest version; see  https://yt-dl.org/update  on how to update. Be sure to call youtube-dl with the --verbose flag and include its complete output.\n"
          ]
        },
        {
          "output_type": "stream",
          "name": "stderr",
          "text": [
            "[debug] exe versions: ffmpeg 4.4.2, ffprobe 4.4.2\n",
            "[debug] Proxy map: {'colab_language_server': '/usr/colab/bin/language_service'}\n"
          ]
        },
        {
          "output_type": "stream",
          "name": "stdout",
          "text": [
            "[youtube] 07mS0mSTDjY: Downloading webpage\n"
          ]
        },
        {
          "output_type": "stream",
          "name": "stderr",
          "text": [
            "ERROR: Unable to extract uploader id; please report this issue on https://yt-dl.org/bug . Make sure you are using the latest version; see  https://yt-dl.org/update  on how to update. Be sure to call youtube-dl with the --verbose flag and include its complete output.\n",
            "Traceback (most recent call last):\n",
            "  File \"/usr/local/lib/python3.10/dist-packages/youtube_dl/YoutubeDL.py\", line 815, in wrapper\n",
            "    return func(self, *args, **kwargs)\n",
            "  File \"/usr/local/lib/python3.10/dist-packages/youtube_dl/YoutubeDL.py\", line 836, in __extract_info\n",
            "    ie_result = ie.extract(url)\n",
            "  File \"/usr/local/lib/python3.10/dist-packages/youtube_dl/extractor/common.py\", line 534, in extract\n",
            "    ie_result = self._real_extract(url)\n",
            "  File \"/usr/local/lib/python3.10/dist-packages/youtube_dl/extractor/youtube.py\", line 1794, in _real_extract\n",
            "    'uploader_id': self._search_regex(r'/(?:channel|user)/([^/?&#]+)', owner_profile_url, 'uploader id') if owner_profile_url else None,\n",
            "  File \"/usr/local/lib/python3.10/dist-packages/youtube_dl/extractor/common.py\", line 1012, in _search_regex\n",
            "    raise RegexNotFoundError('Unable to extract %s' % _name)\n",
            "youtube_dl.utils.RegexNotFoundError: Unable to extract uploader id; please report this issue on https://yt-dl.org/bug . Make sure you are using the latest version; see  https://yt-dl.org/update  on how to update. Be sure to call youtube-dl with the --verbose flag and include its complete output.\n",
            "\n",
            "[debug] Encodings: locale UTF-8, fs utf-8, out UTF-8, pref UTF-8\n",
            "[debug] youtube-dl version 2021.12.17\n",
            "[debug] Python version 3.10.12 (CPython) - Linux-5.15.120+-x86_64-with-glibc2.35\n",
            "[debug] exe versions: ffmpeg 4.4.2, ffprobe 4.4.2\n",
            "[debug] Proxy map: {'colab_language_server': '/usr/colab/bin/language_service'}\n"
          ]
        },
        {
          "output_type": "stream",
          "name": "stdout",
          "text": [
            "Error downloading video 07mS0mSTDjY: ERROR: Unable to extract uploader id; please report this issue on https://yt-dl.org/bug . Make sure you are using the latest version; see  https://yt-dl.org/update  on how to update. Be sure to call youtube-dl with the --verbose flag and include its complete output.\n",
            "[youtube] 07xGXxIHOL4: Downloading webpage\n",
            "[youtube] 07xGXxIHOL4: Downloading MPD manifest\n"
          ]
        },
        {
          "output_type": "stream",
          "name": "stderr",
          "text": [
            "ERROR: Unable to extract uploader id; please report this issue on https://yt-dl.org/bug . Make sure you are using the latest version; see  https://yt-dl.org/update  on how to update. Be sure to call youtube-dl with the --verbose flag and include its complete output.\n",
            "Traceback (most recent call last):\n",
            "  File \"/usr/local/lib/python3.10/dist-packages/youtube_dl/YoutubeDL.py\", line 815, in wrapper\n",
            "    return func(self, *args, **kwargs)\n",
            "  File \"/usr/local/lib/python3.10/dist-packages/youtube_dl/YoutubeDL.py\", line 836, in __extract_info\n",
            "    ie_result = ie.extract(url)\n",
            "  File \"/usr/local/lib/python3.10/dist-packages/youtube_dl/extractor/common.py\", line 534, in extract\n",
            "    ie_result = self._real_extract(url)\n",
            "  File \"/usr/local/lib/python3.10/dist-packages/youtube_dl/extractor/youtube.py\", line 1794, in _real_extract\n",
            "    'uploader_id': self._search_regex(r'/(?:channel|user)/([^/?&#]+)', owner_profile_url, 'uploader id') if owner_profile_url else None,\n",
            "  File \"/usr/local/lib/python3.10/dist-packages/youtube_dl/extractor/common.py\", line 1012, in _search_regex\n",
            "    raise RegexNotFoundError('Unable to extract %s' % _name)\n",
            "youtube_dl.utils.RegexNotFoundError: Unable to extract uploader id; please report this issue on https://yt-dl.org/bug . Make sure you are using the latest version; see  https://yt-dl.org/update  on how to update. Be sure to call youtube-dl with the --verbose flag and include its complete output.\n",
            "\n",
            "[debug] Encodings: locale UTF-8, fs utf-8, out UTF-8, pref UTF-8\n",
            "[debug] youtube-dl version 2021.12.17\n",
            "[debug] Python version 3.10.12 (CPython) - Linux-5.15.120+-x86_64-with-glibc2.35\n",
            "[debug] exe versions: ffmpeg 4.4.2, ffprobe 4.4.2\n",
            "[debug] Proxy map: {'colab_language_server': '/usr/colab/bin/language_service'}\n"
          ]
        },
        {
          "output_type": "stream",
          "name": "stdout",
          "text": [
            "Error downloading video 07xGXxIHOL4: ERROR: Unable to extract uploader id; please report this issue on https://yt-dl.org/bug . Make sure you are using the latest version; see  https://yt-dl.org/update  on how to update. Be sure to call youtube-dl with the --verbose flag and include its complete output.\n",
            "[youtube] 08mf5GxT820: Downloading webpage\n",
            "[youtube] 08mf5GxT820: Downloading MPD manifest\n"
          ]
        },
        {
          "output_type": "stream",
          "name": "stderr",
          "text": [
            "ERROR: Unable to extract uploader id; please report this issue on https://yt-dl.org/bug . Make sure you are using the latest version; see  https://yt-dl.org/update  on how to update. Be sure to call youtube-dl with the --verbose flag and include its complete output.\n",
            "Traceback (most recent call last):\n",
            "  File \"/usr/local/lib/python3.10/dist-packages/youtube_dl/YoutubeDL.py\", line 815, in wrapper\n",
            "    return func(self, *args, **kwargs)\n",
            "  File \"/usr/local/lib/python3.10/dist-packages/youtube_dl/YoutubeDL.py\", line 836, in __extract_info\n",
            "    ie_result = ie.extract(url)\n",
            "  File \"/usr/local/lib/python3.10/dist-packages/youtube_dl/extractor/common.py\", line 534, in extract\n",
            "    ie_result = self._real_extract(url)\n",
            "  File \"/usr/local/lib/python3.10/dist-packages/youtube_dl/extractor/youtube.py\", line 1794, in _real_extract\n",
            "    'uploader_id': self._search_regex(r'/(?:channel|user)/([^/?&#]+)', owner_profile_url, 'uploader id') if owner_profile_url else None,\n",
            "  File \"/usr/local/lib/python3.10/dist-packages/youtube_dl/extractor/common.py\", line 1012, in _search_regex\n",
            "    raise RegexNotFoundError('Unable to extract %s' % _name)\n",
            "youtube_dl.utils.RegexNotFoundError: Unable to extract uploader id; please report this issue on https://yt-dl.org/bug . Make sure you are using the latest version; see  https://yt-dl.org/update  on how to update. Be sure to call youtube-dl with the --verbose flag and include its complete output.\n",
            "\n",
            "[debug] Encodings: locale UTF-8, fs utf-8, out UTF-8, pref UTF-8\n",
            "[debug] youtube-dl version 2021.12.17\n",
            "[debug] Python version 3.10.12 (CPython) - Linux-5.15.120+-x86_64-with-glibc2.35\n"
          ]
        },
        {
          "output_type": "stream",
          "name": "stdout",
          "text": [
            "Error downloading video 08mf5GxT820: ERROR: Unable to extract uploader id; please report this issue on https://yt-dl.org/bug . Make sure you are using the latest version; see  https://yt-dl.org/update  on how to update. Be sure to call youtube-dl with the --verbose flag and include its complete output.\n"
          ]
        },
        {
          "output_type": "stream",
          "name": "stderr",
          "text": [
            "[debug] exe versions: ffmpeg 4.4.2, ffprobe 4.4.2\n",
            "[debug] Proxy map: {'colab_language_server': '/usr/colab/bin/language_service'}\n"
          ]
        },
        {
          "output_type": "stream",
          "name": "stdout",
          "text": [
            "[youtube] 08u-jdwjM74: Downloading webpage\n"
          ]
        },
        {
          "output_type": "stream",
          "name": "stderr",
          "text": [
            "ERROR: Unable to extract uploader id; please report this issue on https://yt-dl.org/bug . Make sure you are using the latest version; see  https://yt-dl.org/update  on how to update. Be sure to call youtube-dl with the --verbose flag and include its complete output.\n",
            "Traceback (most recent call last):\n",
            "  File \"/usr/local/lib/python3.10/dist-packages/youtube_dl/YoutubeDL.py\", line 815, in wrapper\n",
            "    return func(self, *args, **kwargs)\n",
            "  File \"/usr/local/lib/python3.10/dist-packages/youtube_dl/YoutubeDL.py\", line 836, in __extract_info\n",
            "    ie_result = ie.extract(url)\n",
            "  File \"/usr/local/lib/python3.10/dist-packages/youtube_dl/extractor/common.py\", line 534, in extract\n",
            "    ie_result = self._real_extract(url)\n",
            "  File \"/usr/local/lib/python3.10/dist-packages/youtube_dl/extractor/youtube.py\", line 1794, in _real_extract\n",
            "    'uploader_id': self._search_regex(r'/(?:channel|user)/([^/?&#]+)', owner_profile_url, 'uploader id') if owner_profile_url else None,\n",
            "  File \"/usr/local/lib/python3.10/dist-packages/youtube_dl/extractor/common.py\", line 1012, in _search_regex\n",
            "    raise RegexNotFoundError('Unable to extract %s' % _name)\n",
            "youtube_dl.utils.RegexNotFoundError: Unable to extract uploader id; please report this issue on https://yt-dl.org/bug . Make sure you are using the latest version; see  https://yt-dl.org/update  on how to update. Be sure to call youtube-dl with the --verbose flag and include its complete output.\n",
            "\n",
            "[debug] Encodings: locale UTF-8, fs utf-8, out UTF-8, pref UTF-8\n",
            "[debug] youtube-dl version 2021.12.17\n",
            "[debug] Python version 3.10.12 (CPython) - Linux-5.15.120+-x86_64-with-glibc2.35\n",
            "[debug] exe versions: ffmpeg 4.4.2, ffprobe 4.4.2\n",
            "[debug] Proxy map: {'colab_language_server': '/usr/colab/bin/language_service'}\n"
          ]
        },
        {
          "output_type": "stream",
          "name": "stdout",
          "text": [
            "Error downloading video 08u-jdwjM74: ERROR: Unable to extract uploader id; please report this issue on https://yt-dl.org/bug . Make sure you are using the latest version; see  https://yt-dl.org/update  on how to update. Be sure to call youtube-dl with the --verbose flag and include its complete output.\n",
            "[youtube] 09lQmg2wvsY: Downloading webpage\n"
          ]
        },
        {
          "output_type": "stream",
          "name": "stderr",
          "text": [
            "ERROR: Unable to extract uploader id; please report this issue on https://yt-dl.org/bug . Make sure you are using the latest version; see  https://yt-dl.org/update  on how to update. Be sure to call youtube-dl with the --verbose flag and include its complete output.\n",
            "Traceback (most recent call last):\n",
            "  File \"/usr/local/lib/python3.10/dist-packages/youtube_dl/YoutubeDL.py\", line 815, in wrapper\n",
            "    return func(self, *args, **kwargs)\n",
            "  File \"/usr/local/lib/python3.10/dist-packages/youtube_dl/YoutubeDL.py\", line 836, in __extract_info\n",
            "    ie_result = ie.extract(url)\n",
            "  File \"/usr/local/lib/python3.10/dist-packages/youtube_dl/extractor/common.py\", line 534, in extract\n",
            "    ie_result = self._real_extract(url)\n",
            "  File \"/usr/local/lib/python3.10/dist-packages/youtube_dl/extractor/youtube.py\", line 1794, in _real_extract\n",
            "    'uploader_id': self._search_regex(r'/(?:channel|user)/([^/?&#]+)', owner_profile_url, 'uploader id') if owner_profile_url else None,\n",
            "  File \"/usr/local/lib/python3.10/dist-packages/youtube_dl/extractor/common.py\", line 1012, in _search_regex\n",
            "    raise RegexNotFoundError('Unable to extract %s' % _name)\n",
            "youtube_dl.utils.RegexNotFoundError: Unable to extract uploader id; please report this issue on https://yt-dl.org/bug . Make sure you are using the latest version; see  https://yt-dl.org/update  on how to update. Be sure to call youtube-dl with the --verbose flag and include its complete output.\n",
            "\n",
            "[debug] Encodings: locale UTF-8, fs utf-8, out UTF-8, pref UTF-8\n",
            "[debug] youtube-dl version 2021.12.17\n",
            "[debug] Python version 3.10.12 (CPython) - Linux-5.15.120+-x86_64-with-glibc2.35\n",
            "[debug] exe versions: ffmpeg 4.4.2, ffprobe 4.4.2\n",
            "[debug] Proxy map: {'colab_language_server': '/usr/colab/bin/language_service'}\n"
          ]
        },
        {
          "output_type": "stream",
          "name": "stdout",
          "text": [
            "Error downloading video 09lQmg2wvsY: ERROR: Unable to extract uploader id; please report this issue on https://yt-dl.org/bug . Make sure you are using the latest version; see  https://yt-dl.org/update  on how to update. Be sure to call youtube-dl with the --verbose flag and include its complete output.\n",
            "[youtube] 0ADP-O_V3vA: Downloading webpage\n"
          ]
        },
        {
          "output_type": "stream",
          "name": "stderr",
          "text": [
            "ERROR: Unable to extract uploader id; please report this issue on https://yt-dl.org/bug . Make sure you are using the latest version; see  https://yt-dl.org/update  on how to update. Be sure to call youtube-dl with the --verbose flag and include its complete output.\n",
            "Traceback (most recent call last):\n",
            "  File \"/usr/local/lib/python3.10/dist-packages/youtube_dl/YoutubeDL.py\", line 815, in wrapper\n",
            "    return func(self, *args, **kwargs)\n",
            "  File \"/usr/local/lib/python3.10/dist-packages/youtube_dl/YoutubeDL.py\", line 836, in __extract_info\n",
            "    ie_result = ie.extract(url)\n",
            "  File \"/usr/local/lib/python3.10/dist-packages/youtube_dl/extractor/common.py\", line 534, in extract\n",
            "    ie_result = self._real_extract(url)\n",
            "  File \"/usr/local/lib/python3.10/dist-packages/youtube_dl/extractor/youtube.py\", line 1794, in _real_extract\n",
            "    'uploader_id': self._search_regex(r'/(?:channel|user)/([^/?&#]+)', owner_profile_url, 'uploader id') if owner_profile_url else None,\n",
            "  File \"/usr/local/lib/python3.10/dist-packages/youtube_dl/extractor/common.py\", line 1012, in _search_regex\n",
            "    raise RegexNotFoundError('Unable to extract %s' % _name)\n",
            "youtube_dl.utils.RegexNotFoundError: Unable to extract uploader id; please report this issue on https://yt-dl.org/bug . Make sure you are using the latest version; see  https://yt-dl.org/update  on how to update. Be sure to call youtube-dl with the --verbose flag and include its complete output.\n",
            "\n",
            "[debug] Encodings: locale UTF-8, fs utf-8, out UTF-8, pref UTF-8\n",
            "[debug] youtube-dl version 2021.12.17\n",
            "[debug] Python version 3.10.12 (CPython) - Linux-5.15.120+-x86_64-with-glibc2.35\n",
            "[debug] exe versions: ffmpeg 4.4.2, ffprobe 4.4.2\n",
            "[debug] Proxy map: {'colab_language_server': '/usr/colab/bin/language_service'}\n"
          ]
        },
        {
          "output_type": "stream",
          "name": "stdout",
          "text": [
            "Error downloading video 0ADP-O_V3vA: ERROR: Unable to extract uploader id; please report this issue on https://yt-dl.org/bug . Make sure you are using the latest version; see  https://yt-dl.org/update  on how to update. Be sure to call youtube-dl with the --verbose flag and include its complete output.\n",
            "[youtube] 0AGHo8V8HpM: Downloading webpage\n"
          ]
        },
        {
          "output_type": "stream",
          "name": "stderr",
          "text": [
            "ERROR: Unable to extract uploader id; please report this issue on https://yt-dl.org/bug . Make sure you are using the latest version; see  https://yt-dl.org/update  on how to update. Be sure to call youtube-dl with the --verbose flag and include its complete output.\n",
            "Traceback (most recent call last):\n",
            "  File \"/usr/local/lib/python3.10/dist-packages/youtube_dl/YoutubeDL.py\", line 815, in wrapper\n",
            "    return func(self, *args, **kwargs)\n",
            "  File \"/usr/local/lib/python3.10/dist-packages/youtube_dl/YoutubeDL.py\", line 836, in __extract_info\n",
            "    ie_result = ie.extract(url)\n",
            "  File \"/usr/local/lib/python3.10/dist-packages/youtube_dl/extractor/common.py\", line 534, in extract\n",
            "    ie_result = self._real_extract(url)\n",
            "  File \"/usr/local/lib/python3.10/dist-packages/youtube_dl/extractor/youtube.py\", line 1794, in _real_extract\n",
            "    'uploader_id': self._search_regex(r'/(?:channel|user)/([^/?&#]+)', owner_profile_url, 'uploader id') if owner_profile_url else None,\n",
            "  File \"/usr/local/lib/python3.10/dist-packages/youtube_dl/extractor/common.py\", line 1012, in _search_regex\n",
            "    raise RegexNotFoundError('Unable to extract %s' % _name)\n",
            "youtube_dl.utils.RegexNotFoundError: Unable to extract uploader id; please report this issue on https://yt-dl.org/bug . Make sure you are using the latest version; see  https://yt-dl.org/update  on how to update. Be sure to call youtube-dl with the --verbose flag and include its complete output.\n",
            "\n",
            "[debug] Encodings: locale UTF-8, fs utf-8, out UTF-8, pref UTF-8\n",
            "[debug] youtube-dl version 2021.12.17\n",
            "[debug] Python version 3.10.12 (CPython) - Linux-5.15.120+-x86_64-with-glibc2.35\n",
            "[debug] exe versions: ffmpeg 4.4.2, ffprobe 4.4.2\n",
            "[debug] Proxy map: {'colab_language_server': '/usr/colab/bin/language_service'}\n"
          ]
        },
        {
          "output_type": "stream",
          "name": "stdout",
          "text": [
            "Error downloading video 0AGHo8V8HpM: ERROR: Unable to extract uploader id; please report this issue on https://yt-dl.org/bug . Make sure you are using the latest version; see  https://yt-dl.org/update  on how to update. Be sure to call youtube-dl with the --verbose flag and include its complete output.\n",
            "[youtube] 0AhX-ReXovI: Downloading webpage\n"
          ]
        },
        {
          "output_type": "stream",
          "name": "stderr",
          "text": [
            "ERROR: Unable to extract uploader id; please report this issue on https://yt-dl.org/bug . Make sure you are using the latest version; see  https://yt-dl.org/update  on how to update. Be sure to call youtube-dl with the --verbose flag and include its complete output.\n",
            "Traceback (most recent call last):\n",
            "  File \"/usr/local/lib/python3.10/dist-packages/youtube_dl/YoutubeDL.py\", line 815, in wrapper\n",
            "    return func(self, *args, **kwargs)\n",
            "  File \"/usr/local/lib/python3.10/dist-packages/youtube_dl/YoutubeDL.py\", line 836, in __extract_info\n",
            "    ie_result = ie.extract(url)\n",
            "  File \"/usr/local/lib/python3.10/dist-packages/youtube_dl/extractor/common.py\", line 534, in extract\n",
            "    ie_result = self._real_extract(url)\n",
            "  File \"/usr/local/lib/python3.10/dist-packages/youtube_dl/extractor/youtube.py\", line 1794, in _real_extract\n",
            "    'uploader_id': self._search_regex(r'/(?:channel|user)/([^/?&#]+)', owner_profile_url, 'uploader id') if owner_profile_url else None,\n",
            "  File \"/usr/local/lib/python3.10/dist-packages/youtube_dl/extractor/common.py\", line 1012, in _search_regex\n",
            "    raise RegexNotFoundError('Unable to extract %s' % _name)\n",
            "youtube_dl.utils.RegexNotFoundError: Unable to extract uploader id; please report this issue on https://yt-dl.org/bug . Make sure you are using the latest version; see  https://yt-dl.org/update  on how to update. Be sure to call youtube-dl with the --verbose flag and include its complete output.\n",
            "\n",
            "[debug] Encodings: locale UTF-8, fs utf-8, out UTF-8, pref UTF-8\n",
            "[debug] youtube-dl version 2021.12.17\n",
            "[debug] Python version 3.10.12 (CPython) - Linux-5.15.120+-x86_64-with-glibc2.35\n",
            "[debug] exe versions: ffmpeg 4.4.2, ffprobe 4.4.2\n",
            "[debug] Proxy map: {'colab_language_server': '/usr/colab/bin/language_service'}\n"
          ]
        },
        {
          "output_type": "stream",
          "name": "stdout",
          "text": [
            "Error downloading video 0AhX-ReXovI: ERROR: Unable to extract uploader id; please report this issue on https://yt-dl.org/bug . Make sure you are using the latest version; see  https://yt-dl.org/update  on how to update. Be sure to call youtube-dl with the --verbose flag and include its complete output.\n",
            "[youtube] 0BFauf6TGGU: Downloading webpage\n"
          ]
        },
        {
          "output_type": "stream",
          "name": "stderr",
          "text": [
            "ERROR: Unable to extract uploader id; please report this issue on https://yt-dl.org/bug . Make sure you are using the latest version; see  https://yt-dl.org/update  on how to update. Be sure to call youtube-dl with the --verbose flag and include its complete output.\n",
            "Traceback (most recent call last):\n",
            "  File \"/usr/local/lib/python3.10/dist-packages/youtube_dl/YoutubeDL.py\", line 815, in wrapper\n",
            "    return func(self, *args, **kwargs)\n",
            "  File \"/usr/local/lib/python3.10/dist-packages/youtube_dl/YoutubeDL.py\", line 836, in __extract_info\n",
            "    ie_result = ie.extract(url)\n",
            "  File \"/usr/local/lib/python3.10/dist-packages/youtube_dl/extractor/common.py\", line 534, in extract\n",
            "    ie_result = self._real_extract(url)\n",
            "  File \"/usr/local/lib/python3.10/dist-packages/youtube_dl/extractor/youtube.py\", line 1794, in _real_extract\n",
            "    'uploader_id': self._search_regex(r'/(?:channel|user)/([^/?&#]+)', owner_profile_url, 'uploader id') if owner_profile_url else None,\n",
            "  File \"/usr/local/lib/python3.10/dist-packages/youtube_dl/extractor/common.py\", line 1012, in _search_regex\n",
            "    raise RegexNotFoundError('Unable to extract %s' % _name)\n",
            "youtube_dl.utils.RegexNotFoundError: Unable to extract uploader id; please report this issue on https://yt-dl.org/bug . Make sure you are using the latest version; see  https://yt-dl.org/update  on how to update. Be sure to call youtube-dl with the --verbose flag and include its complete output.\n",
            "\n",
            "[debug] Encodings: locale UTF-8, fs utf-8, out UTF-8, pref UTF-8\n",
            "[debug] youtube-dl version 2021.12.17\n",
            "[debug] Python version 3.10.12 (CPython) - Linux-5.15.120+-x86_64-with-glibc2.35\n",
            "[debug] exe versions: ffmpeg 4.4.2, ffprobe 4.4.2\n",
            "[debug] Proxy map: {'colab_language_server': '/usr/colab/bin/language_service'}\n"
          ]
        },
        {
          "output_type": "stream",
          "name": "stdout",
          "text": [
            "Error downloading video 0BFauf6TGGU: ERROR: Unable to extract uploader id; please report this issue on https://yt-dl.org/bug . Make sure you are using the latest version; see  https://yt-dl.org/update  on how to update. Be sure to call youtube-dl with the --verbose flag and include its complete output.\n",
            "[youtube] 0DYH0sqDXB8: Downloading webpage\n"
          ]
        },
        {
          "output_type": "stream",
          "name": "stderr",
          "text": [
            "ERROR: Unable to extract uploader id; please report this issue on https://yt-dl.org/bug . Make sure you are using the latest version; see  https://yt-dl.org/update  on how to update. Be sure to call youtube-dl with the --verbose flag and include its complete output.\n",
            "Traceback (most recent call last):\n",
            "  File \"/usr/local/lib/python3.10/dist-packages/youtube_dl/YoutubeDL.py\", line 815, in wrapper\n",
            "    return func(self, *args, **kwargs)\n",
            "  File \"/usr/local/lib/python3.10/dist-packages/youtube_dl/YoutubeDL.py\", line 836, in __extract_info\n",
            "    ie_result = ie.extract(url)\n",
            "  File \"/usr/local/lib/python3.10/dist-packages/youtube_dl/extractor/common.py\", line 534, in extract\n",
            "    ie_result = self._real_extract(url)\n",
            "  File \"/usr/local/lib/python3.10/dist-packages/youtube_dl/extractor/youtube.py\", line 1794, in _real_extract\n",
            "    'uploader_id': self._search_regex(r'/(?:channel|user)/([^/?&#]+)', owner_profile_url, 'uploader id') if owner_profile_url else None,\n",
            "  File \"/usr/local/lib/python3.10/dist-packages/youtube_dl/extractor/common.py\", line 1012, in _search_regex\n",
            "    raise RegexNotFoundError('Unable to extract %s' % _name)\n",
            "youtube_dl.utils.RegexNotFoundError: Unable to extract uploader id; please report this issue on https://yt-dl.org/bug . Make sure you are using the latest version; see  https://yt-dl.org/update  on how to update. Be sure to call youtube-dl with the --verbose flag and include its complete output.\n",
            "\n",
            "[debug] Encodings: locale UTF-8, fs utf-8, out UTF-8, pref UTF-8\n",
            "[debug] youtube-dl version 2021.12.17\n",
            "[debug] Python version 3.10.12 (CPython) - Linux-5.15.120+-x86_64-with-glibc2.35\n",
            "[debug] exe versions: ffmpeg 4.4.2, ffprobe 4.4.2\n",
            "[debug] Proxy map: {'colab_language_server': '/usr/colab/bin/language_service'}\n"
          ]
        },
        {
          "output_type": "stream",
          "name": "stdout",
          "text": [
            "Error downloading video 0DYH0sqDXB8: ERROR: Unable to extract uploader id; please report this issue on https://yt-dl.org/bug . Make sure you are using the latest version; see  https://yt-dl.org/update  on how to update. Be sure to call youtube-dl with the --verbose flag and include its complete output.\n",
            "[youtube] 0DizopdPMBw: Downloading webpage\n"
          ]
        },
        {
          "output_type": "stream",
          "name": "stderr",
          "text": [
            "ERROR: Unable to extract uploader id; please report this issue on https://yt-dl.org/bug . Make sure you are using the latest version; see  https://yt-dl.org/update  on how to update. Be sure to call youtube-dl with the --verbose flag and include its complete output.\n",
            "Traceback (most recent call last):\n",
            "  File \"/usr/local/lib/python3.10/dist-packages/youtube_dl/YoutubeDL.py\", line 815, in wrapper\n",
            "    return func(self, *args, **kwargs)\n",
            "  File \"/usr/local/lib/python3.10/dist-packages/youtube_dl/YoutubeDL.py\", line 836, in __extract_info\n",
            "    ie_result = ie.extract(url)\n",
            "  File \"/usr/local/lib/python3.10/dist-packages/youtube_dl/extractor/common.py\", line 534, in extract\n",
            "    ie_result = self._real_extract(url)\n",
            "  File \"/usr/local/lib/python3.10/dist-packages/youtube_dl/extractor/youtube.py\", line 1794, in _real_extract\n",
            "    'uploader_id': self._search_regex(r'/(?:channel|user)/([^/?&#]+)', owner_profile_url, 'uploader id') if owner_profile_url else None,\n",
            "  File \"/usr/local/lib/python3.10/dist-packages/youtube_dl/extractor/common.py\", line 1012, in _search_regex\n",
            "    raise RegexNotFoundError('Unable to extract %s' % _name)\n",
            "youtube_dl.utils.RegexNotFoundError: Unable to extract uploader id; please report this issue on https://yt-dl.org/bug . Make sure you are using the latest version; see  https://yt-dl.org/update  on how to update. Be sure to call youtube-dl with the --verbose flag and include its complete output.\n",
            "\n",
            "[debug] Encodings: locale UTF-8, fs utf-8, out UTF-8, pref UTF-8\n",
            "[debug] youtube-dl version 2021.12.17\n",
            "[debug] Python version 3.10.12 (CPython) - Linux-5.15.120+-x86_64-with-glibc2.35\n",
            "[debug] exe versions: ffmpeg 4.4.2, ffprobe 4.4.2\n",
            "[debug] Proxy map: {'colab_language_server': '/usr/colab/bin/language_service'}\n"
          ]
        },
        {
          "output_type": "stream",
          "name": "stdout",
          "text": [
            "Error downloading video 0DizopdPMBw: ERROR: Unable to extract uploader id; please report this issue on https://yt-dl.org/bug . Make sure you are using the latest version; see  https://yt-dl.org/update  on how to update. Be sure to call youtube-dl with the --verbose flag and include its complete output.\n",
            "[youtube] 0EOQco76eXQ: Downloading webpage\n",
            "[youtube] 0EOQco76eXQ: Downloading MPD manifest\n"
          ]
        },
        {
          "output_type": "stream",
          "name": "stderr",
          "text": [
            "ERROR: Unable to extract uploader id; please report this issue on https://yt-dl.org/bug . Make sure you are using the latest version; see  https://yt-dl.org/update  on how to update. Be sure to call youtube-dl with the --verbose flag and include its complete output.\n",
            "Traceback (most recent call last):\n",
            "  File \"/usr/local/lib/python3.10/dist-packages/youtube_dl/YoutubeDL.py\", line 815, in wrapper\n",
            "    return func(self, *args, **kwargs)\n",
            "  File \"/usr/local/lib/python3.10/dist-packages/youtube_dl/YoutubeDL.py\", line 836, in __extract_info\n",
            "    ie_result = ie.extract(url)\n",
            "  File \"/usr/local/lib/python3.10/dist-packages/youtube_dl/extractor/common.py\", line 534, in extract\n",
            "    ie_result = self._real_extract(url)\n",
            "  File \"/usr/local/lib/python3.10/dist-packages/youtube_dl/extractor/youtube.py\", line 1794, in _real_extract\n",
            "    'uploader_id': self._search_regex(r'/(?:channel|user)/([^/?&#]+)', owner_profile_url, 'uploader id') if owner_profile_url else None,\n",
            "  File \"/usr/local/lib/python3.10/dist-packages/youtube_dl/extractor/common.py\", line 1012, in _search_regex\n",
            "    raise RegexNotFoundError('Unable to extract %s' % _name)\n",
            "youtube_dl.utils.RegexNotFoundError: Unable to extract uploader id; please report this issue on https://yt-dl.org/bug . Make sure you are using the latest version; see  https://yt-dl.org/update  on how to update. Be sure to call youtube-dl with the --verbose flag and include its complete output.\n",
            "\n",
            "[debug] Encodings: locale UTF-8, fs utf-8, out UTF-8, pref UTF-8\n",
            "[debug] youtube-dl version 2021.12.17\n",
            "[debug] Python version 3.10.12 (CPython) - Linux-5.15.120+-x86_64-with-glibc2.35\n"
          ]
        },
        {
          "output_type": "stream",
          "name": "stdout",
          "text": [
            "Error downloading video 0EOQco76eXQ: ERROR: Unable to extract uploader id; please report this issue on https://yt-dl.org/bug . Make sure you are using the latest version; see  https://yt-dl.org/update  on how to update. Be sure to call youtube-dl with the --verbose flag and include its complete output.\n"
          ]
        },
        {
          "output_type": "stream",
          "name": "stderr",
          "text": [
            "[debug] exe versions: ffmpeg 4.4.2, ffprobe 4.4.2\n",
            "[debug] Proxy map: {'colab_language_server': '/usr/colab/bin/language_service'}\n"
          ]
        },
        {
          "output_type": "stream",
          "name": "stdout",
          "text": [
            "[youtube] 0EvpBtracsk: Downloading webpage\n",
            "[youtube] 0EvpBtracsk: Downloading MPD manifest\n"
          ]
        },
        {
          "output_type": "stream",
          "name": "stderr",
          "text": [
            "ERROR: Unable to extract uploader id; please report this issue on https://yt-dl.org/bug . Make sure you are using the latest version; see  https://yt-dl.org/update  on how to update. Be sure to call youtube-dl with the --verbose flag and include its complete output.\n",
            "Traceback (most recent call last):\n",
            "  File \"/usr/local/lib/python3.10/dist-packages/youtube_dl/YoutubeDL.py\", line 815, in wrapper\n",
            "    return func(self, *args, **kwargs)\n",
            "  File \"/usr/local/lib/python3.10/dist-packages/youtube_dl/YoutubeDL.py\", line 836, in __extract_info\n",
            "    ie_result = ie.extract(url)\n",
            "  File \"/usr/local/lib/python3.10/dist-packages/youtube_dl/extractor/common.py\", line 534, in extract\n",
            "    ie_result = self._real_extract(url)\n",
            "  File \"/usr/local/lib/python3.10/dist-packages/youtube_dl/extractor/youtube.py\", line 1794, in _real_extract\n",
            "    'uploader_id': self._search_regex(r'/(?:channel|user)/([^/?&#]+)', owner_profile_url, 'uploader id') if owner_profile_url else None,\n",
            "  File \"/usr/local/lib/python3.10/dist-packages/youtube_dl/extractor/common.py\", line 1012, in _search_regex\n",
            "    raise RegexNotFoundError('Unable to extract %s' % _name)\n",
            "youtube_dl.utils.RegexNotFoundError: Unable to extract uploader id; please report this issue on https://yt-dl.org/bug . Make sure you are using the latest version; see  https://yt-dl.org/update  on how to update. Be sure to call youtube-dl with the --verbose flag and include its complete output.\n",
            "\n",
            "[debug] Encodings: locale UTF-8, fs utf-8, out UTF-8, pref UTF-8\n",
            "[debug] youtube-dl version 2021.12.17\n",
            "[debug] Python version 3.10.12 (CPython) - Linux-5.15.120+-x86_64-with-glibc2.35\n"
          ]
        },
        {
          "output_type": "stream",
          "name": "stdout",
          "text": [
            "Error downloading video 0EvpBtracsk: ERROR: Unable to extract uploader id; please report this issue on https://yt-dl.org/bug . Make sure you are using the latest version; see  https://yt-dl.org/update  on how to update. Be sure to call youtube-dl with the --verbose flag and include its complete output.\n"
          ]
        },
        {
          "output_type": "stream",
          "name": "stderr",
          "text": [
            "[debug] exe versions: ffmpeg 4.4.2, ffprobe 4.4.2\n",
            "[debug] Proxy map: {'colab_language_server': '/usr/colab/bin/language_service'}\n"
          ]
        },
        {
          "output_type": "stream",
          "name": "stdout",
          "text": [
            "[youtube] 0EzWmAPwoTs: Downloading webpage\n"
          ]
        },
        {
          "output_type": "stream",
          "name": "stderr",
          "text": [
            "ERROR: Unable to extract uploader id; please report this issue on https://yt-dl.org/bug . Make sure you are using the latest version; see  https://yt-dl.org/update  on how to update. Be sure to call youtube-dl with the --verbose flag and include its complete output.\n",
            "Traceback (most recent call last):\n",
            "  File \"/usr/local/lib/python3.10/dist-packages/youtube_dl/YoutubeDL.py\", line 815, in wrapper\n",
            "    return func(self, *args, **kwargs)\n",
            "  File \"/usr/local/lib/python3.10/dist-packages/youtube_dl/YoutubeDL.py\", line 836, in __extract_info\n",
            "    ie_result = ie.extract(url)\n",
            "  File \"/usr/local/lib/python3.10/dist-packages/youtube_dl/extractor/common.py\", line 534, in extract\n",
            "    ie_result = self._real_extract(url)\n",
            "  File \"/usr/local/lib/python3.10/dist-packages/youtube_dl/extractor/youtube.py\", line 1794, in _real_extract\n",
            "    'uploader_id': self._search_regex(r'/(?:channel|user)/([^/?&#]+)', owner_profile_url, 'uploader id') if owner_profile_url else None,\n",
            "  File \"/usr/local/lib/python3.10/dist-packages/youtube_dl/extractor/common.py\", line 1012, in _search_regex\n",
            "    raise RegexNotFoundError('Unable to extract %s' % _name)\n",
            "youtube_dl.utils.RegexNotFoundError: Unable to extract uploader id; please report this issue on https://yt-dl.org/bug . Make sure you are using the latest version; see  https://yt-dl.org/update  on how to update. Be sure to call youtube-dl with the --verbose flag and include its complete output.\n",
            "\n",
            "[debug] Encodings: locale UTF-8, fs utf-8, out UTF-8, pref UTF-8\n",
            "[debug] youtube-dl version 2021.12.17\n",
            "[debug] Python version 3.10.12 (CPython) - Linux-5.15.120+-x86_64-with-glibc2.35\n"
          ]
        },
        {
          "output_type": "stream",
          "name": "stdout",
          "text": [
            "Error downloading video 0EzWmAPwoTs: ERROR: Unable to extract uploader id; please report this issue on https://yt-dl.org/bug . Make sure you are using the latest version; see  https://yt-dl.org/update  on how to update. Be sure to call youtube-dl with the --verbose flag and include its complete output.\n"
          ]
        },
        {
          "output_type": "stream",
          "name": "stderr",
          "text": [
            "[debug] exe versions: ffmpeg 4.4.2, ffprobe 4.4.2\n",
            "[debug] Proxy map: {'colab_language_server': '/usr/colab/bin/language_service'}\n"
          ]
        },
        {
          "output_type": "stream",
          "name": "stdout",
          "text": [
            "[youtube] 0F-Z0zF1504: Downloading webpage\n"
          ]
        },
        {
          "output_type": "stream",
          "name": "stderr",
          "text": [
            "ERROR: Unable to extract uploader id; please report this issue on https://yt-dl.org/bug . Make sure you are using the latest version; see  https://yt-dl.org/update  on how to update. Be sure to call youtube-dl with the --verbose flag and include its complete output.\n",
            "Traceback (most recent call last):\n",
            "  File \"/usr/local/lib/python3.10/dist-packages/youtube_dl/YoutubeDL.py\", line 815, in wrapper\n",
            "    return func(self, *args, **kwargs)\n",
            "  File \"/usr/local/lib/python3.10/dist-packages/youtube_dl/YoutubeDL.py\", line 836, in __extract_info\n",
            "    ie_result = ie.extract(url)\n",
            "  File \"/usr/local/lib/python3.10/dist-packages/youtube_dl/extractor/common.py\", line 534, in extract\n",
            "    ie_result = self._real_extract(url)\n",
            "  File \"/usr/local/lib/python3.10/dist-packages/youtube_dl/extractor/youtube.py\", line 1794, in _real_extract\n",
            "    'uploader_id': self._search_regex(r'/(?:channel|user)/([^/?&#]+)', owner_profile_url, 'uploader id') if owner_profile_url else None,\n",
            "  File \"/usr/local/lib/python3.10/dist-packages/youtube_dl/extractor/common.py\", line 1012, in _search_regex\n",
            "    raise RegexNotFoundError('Unable to extract %s' % _name)\n",
            "youtube_dl.utils.RegexNotFoundError: Unable to extract uploader id; please report this issue on https://yt-dl.org/bug . Make sure you are using the latest version; see  https://yt-dl.org/update  on how to update. Be sure to call youtube-dl with the --verbose flag and include its complete output.\n",
            "\n",
            "[debug] Encodings: locale UTF-8, fs utf-8, out UTF-8, pref UTF-8\n",
            "[debug] youtube-dl version 2021.12.17\n",
            "[debug] Python version 3.10.12 (CPython) - Linux-5.15.120+-x86_64-with-glibc2.35\n"
          ]
        },
        {
          "output_type": "stream",
          "name": "stdout",
          "text": [
            "Error downloading video 0F-Z0zF1504: ERROR: Unable to extract uploader id; please report this issue on https://yt-dl.org/bug . Make sure you are using the latest version; see  https://yt-dl.org/update  on how to update. Be sure to call youtube-dl with the --verbose flag and include its complete output.\n"
          ]
        },
        {
          "output_type": "stream",
          "name": "stderr",
          "text": [
            "[debug] exe versions: ffmpeg 4.4.2, ffprobe 4.4.2\n",
            "[debug] Proxy map: {'colab_language_server': '/usr/colab/bin/language_service'}\n"
          ]
        },
        {
          "output_type": "stream",
          "name": "stdout",
          "text": [
            "[youtube] 0Gxn9FtaJFc: Downloading webpage\n",
            "[youtube] 0Gxn9FtaJFc: Downloading MPD manifest\n"
          ]
        },
        {
          "output_type": "stream",
          "name": "stderr",
          "text": [
            "ERROR: Unable to extract uploader id; please report this issue on https://yt-dl.org/bug . Make sure you are using the latest version; see  https://yt-dl.org/update  on how to update. Be sure to call youtube-dl with the --verbose flag and include its complete output.\n",
            "Traceback (most recent call last):\n",
            "  File \"/usr/local/lib/python3.10/dist-packages/youtube_dl/YoutubeDL.py\", line 815, in wrapper\n",
            "    return func(self, *args, **kwargs)\n",
            "  File \"/usr/local/lib/python3.10/dist-packages/youtube_dl/YoutubeDL.py\", line 836, in __extract_info\n",
            "    ie_result = ie.extract(url)\n",
            "  File \"/usr/local/lib/python3.10/dist-packages/youtube_dl/extractor/common.py\", line 534, in extract\n",
            "    ie_result = self._real_extract(url)\n",
            "  File \"/usr/local/lib/python3.10/dist-packages/youtube_dl/extractor/youtube.py\", line 1794, in _real_extract\n",
            "    'uploader_id': self._search_regex(r'/(?:channel|user)/([^/?&#]+)', owner_profile_url, 'uploader id') if owner_profile_url else None,\n",
            "  File \"/usr/local/lib/python3.10/dist-packages/youtube_dl/extractor/common.py\", line 1012, in _search_regex\n",
            "    raise RegexNotFoundError('Unable to extract %s' % _name)\n",
            "youtube_dl.utils.RegexNotFoundError: Unable to extract uploader id; please report this issue on https://yt-dl.org/bug . Make sure you are using the latest version; see  https://yt-dl.org/update  on how to update. Be sure to call youtube-dl with the --verbose flag and include its complete output.\n",
            "\n",
            "[debug] Encodings: locale UTF-8, fs utf-8, out UTF-8, pref UTF-8\n",
            "[debug] youtube-dl version 2021.12.17\n",
            "[debug] Python version 3.10.12 (CPython) - Linux-5.15.120+-x86_64-with-glibc2.35\n"
          ]
        },
        {
          "output_type": "stream",
          "name": "stdout",
          "text": [
            "Error downloading video 0Gxn9FtaJFc: ERROR: Unable to extract uploader id; please report this issue on https://yt-dl.org/bug . Make sure you are using the latest version; see  https://yt-dl.org/update  on how to update. Be sure to call youtube-dl with the --verbose flag and include its complete output.\n"
          ]
        },
        {
          "output_type": "stream",
          "name": "stderr",
          "text": [
            "[debug] exe versions: ffmpeg 4.4.2, ffprobe 4.4.2\n",
            "[debug] Proxy map: {'colab_language_server': '/usr/colab/bin/language_service'}\n"
          ]
        },
        {
          "output_type": "stream",
          "name": "stdout",
          "text": [
            "[youtube] 0H3FAoDgzhI: Downloading webpage\n"
          ]
        },
        {
          "output_type": "stream",
          "name": "stderr",
          "text": [
            "ERROR: Unable to extract uploader id; please report this issue on https://yt-dl.org/bug . Make sure you are using the latest version; see  https://yt-dl.org/update  on how to update. Be sure to call youtube-dl with the --verbose flag and include its complete output.\n",
            "Traceback (most recent call last):\n",
            "  File \"/usr/local/lib/python3.10/dist-packages/youtube_dl/YoutubeDL.py\", line 815, in wrapper\n",
            "    return func(self, *args, **kwargs)\n",
            "  File \"/usr/local/lib/python3.10/dist-packages/youtube_dl/YoutubeDL.py\", line 836, in __extract_info\n",
            "    ie_result = ie.extract(url)\n",
            "  File \"/usr/local/lib/python3.10/dist-packages/youtube_dl/extractor/common.py\", line 534, in extract\n",
            "    ie_result = self._real_extract(url)\n",
            "  File \"/usr/local/lib/python3.10/dist-packages/youtube_dl/extractor/youtube.py\", line 1794, in _real_extract\n",
            "    'uploader_id': self._search_regex(r'/(?:channel|user)/([^/?&#]+)', owner_profile_url, 'uploader id') if owner_profile_url else None,\n",
            "  File \"/usr/local/lib/python3.10/dist-packages/youtube_dl/extractor/common.py\", line 1012, in _search_regex\n",
            "    raise RegexNotFoundError('Unable to extract %s' % _name)\n",
            "youtube_dl.utils.RegexNotFoundError: Unable to extract uploader id; please report this issue on https://yt-dl.org/bug . Make sure you are using the latest version; see  https://yt-dl.org/update  on how to update. Be sure to call youtube-dl with the --verbose flag and include its complete output.\n",
            "\n",
            "[debug] Encodings: locale UTF-8, fs utf-8, out UTF-8, pref UTF-8\n",
            "[debug] youtube-dl version 2021.12.17\n",
            "[debug] Python version 3.10.12 (CPython) - Linux-5.15.120+-x86_64-with-glibc2.35\n",
            "[debug] exe versions: ffmpeg 4.4.2, ffprobe 4.4.2\n",
            "[debug] Proxy map: {'colab_language_server': '/usr/colab/bin/language_service'}\n"
          ]
        },
        {
          "output_type": "stream",
          "name": "stdout",
          "text": [
            "Error downloading video 0H3FAoDgzhI: ERROR: Unable to extract uploader id; please report this issue on https://yt-dl.org/bug . Make sure you are using the latest version; see  https://yt-dl.org/update  on how to update. Be sure to call youtube-dl with the --verbose flag and include its complete output.\n",
            "[youtube] 0HXYdGGKV2k: Downloading webpage\n"
          ]
        },
        {
          "output_type": "stream",
          "name": "stderr",
          "text": [
            "ERROR: Unable to extract uploader id; please report this issue on https://yt-dl.org/bug . Make sure you are using the latest version; see  https://yt-dl.org/update  on how to update. Be sure to call youtube-dl with the --verbose flag and include its complete output.\n",
            "Traceback (most recent call last):\n",
            "  File \"/usr/local/lib/python3.10/dist-packages/youtube_dl/YoutubeDL.py\", line 815, in wrapper\n",
            "    return func(self, *args, **kwargs)\n",
            "  File \"/usr/local/lib/python3.10/dist-packages/youtube_dl/YoutubeDL.py\", line 836, in __extract_info\n",
            "    ie_result = ie.extract(url)\n",
            "  File \"/usr/local/lib/python3.10/dist-packages/youtube_dl/extractor/common.py\", line 534, in extract\n",
            "    ie_result = self._real_extract(url)\n",
            "  File \"/usr/local/lib/python3.10/dist-packages/youtube_dl/extractor/youtube.py\", line 1794, in _real_extract\n",
            "    'uploader_id': self._search_regex(r'/(?:channel|user)/([^/?&#]+)', owner_profile_url, 'uploader id') if owner_profile_url else None,\n",
            "  File \"/usr/local/lib/python3.10/dist-packages/youtube_dl/extractor/common.py\", line 1012, in _search_regex\n",
            "    raise RegexNotFoundError('Unable to extract %s' % _name)\n",
            "youtube_dl.utils.RegexNotFoundError: Unable to extract uploader id; please report this issue on https://yt-dl.org/bug . Make sure you are using the latest version; see  https://yt-dl.org/update  on how to update. Be sure to call youtube-dl with the --verbose flag and include its complete output.\n",
            "\n",
            "[debug] Encodings: locale UTF-8, fs utf-8, out UTF-8, pref UTF-8\n",
            "[debug] youtube-dl version 2021.12.17\n",
            "[debug] Python version 3.10.12 (CPython) - Linux-5.15.120+-x86_64-with-glibc2.35\n",
            "[debug] exe versions: ffmpeg 4.4.2, ffprobe 4.4.2\n",
            "[debug] Proxy map: {'colab_language_server': '/usr/colab/bin/language_service'}\n"
          ]
        },
        {
          "output_type": "stream",
          "name": "stdout",
          "text": [
            "Error downloading video 0HXYdGGKV2k: ERROR: Unable to extract uploader id; please report this issue on https://yt-dl.org/bug . Make sure you are using the latest version; see  https://yt-dl.org/update  on how to update. Be sure to call youtube-dl with the --verbose flag and include its complete output.\n",
            "[youtube] 0ISHZQJdeSw: Downloading webpage\n"
          ]
        },
        {
          "output_type": "stream",
          "name": "stderr",
          "text": [
            "ERROR: Unable to extract uploader id; please report this issue on https://yt-dl.org/bug . Make sure you are using the latest version; see  https://yt-dl.org/update  on how to update. Be sure to call youtube-dl with the --verbose flag and include its complete output.\n",
            "Traceback (most recent call last):\n",
            "  File \"/usr/local/lib/python3.10/dist-packages/youtube_dl/YoutubeDL.py\", line 815, in wrapper\n",
            "    return func(self, *args, **kwargs)\n",
            "  File \"/usr/local/lib/python3.10/dist-packages/youtube_dl/YoutubeDL.py\", line 836, in __extract_info\n",
            "    ie_result = ie.extract(url)\n",
            "  File \"/usr/local/lib/python3.10/dist-packages/youtube_dl/extractor/common.py\", line 534, in extract\n",
            "    ie_result = self._real_extract(url)\n",
            "  File \"/usr/local/lib/python3.10/dist-packages/youtube_dl/extractor/youtube.py\", line 1794, in _real_extract\n",
            "    'uploader_id': self._search_regex(r'/(?:channel|user)/([^/?&#]+)', owner_profile_url, 'uploader id') if owner_profile_url else None,\n",
            "  File \"/usr/local/lib/python3.10/dist-packages/youtube_dl/extractor/common.py\", line 1012, in _search_regex\n",
            "    raise RegexNotFoundError('Unable to extract %s' % _name)\n",
            "youtube_dl.utils.RegexNotFoundError: Unable to extract uploader id; please report this issue on https://yt-dl.org/bug . Make sure you are using the latest version; see  https://yt-dl.org/update  on how to update. Be sure to call youtube-dl with the --verbose flag and include its complete output.\n",
            "\n",
            "[debug] Encodings: locale UTF-8, fs utf-8, out UTF-8, pref UTF-8\n",
            "[debug] youtube-dl version 2021.12.17\n",
            "[debug] Python version 3.10.12 (CPython) - Linux-5.15.120+-x86_64-with-glibc2.35\n",
            "[debug] exe versions: ffmpeg 4.4.2, ffprobe 4.4.2\n",
            "[debug] Proxy map: {'colab_language_server': '/usr/colab/bin/language_service'}\n"
          ]
        },
        {
          "output_type": "stream",
          "name": "stdout",
          "text": [
            "Error downloading video 0ISHZQJdeSw: ERROR: Unable to extract uploader id; please report this issue on https://yt-dl.org/bug . Make sure you are using the latest version; see  https://yt-dl.org/update  on how to update. Be sure to call youtube-dl with the --verbose flag and include its complete output.\n",
            "[youtube] 0J_2K1Gvruk: Downloading webpage\n"
          ]
        },
        {
          "output_type": "stream",
          "name": "stderr",
          "text": [
            "ERROR: Private video\n",
            "Sign in if you've been granted access to this video\n",
            "Traceback (most recent call last):\n",
            "  File \"/usr/local/lib/python3.10/dist-packages/youtube_dl/YoutubeDL.py\", line 815, in wrapper\n",
            "    return func(self, *args, **kwargs)\n",
            "  File \"/usr/local/lib/python3.10/dist-packages/youtube_dl/YoutubeDL.py\", line 836, in __extract_info\n",
            "    ie_result = ie.extract(url)\n",
            "  File \"/usr/local/lib/python3.10/dist-packages/youtube_dl/extractor/common.py\", line 534, in extract\n",
            "    ie_result = self._real_extract(url)\n",
            "  File \"/usr/local/lib/python3.10/dist-packages/youtube_dl/extractor/youtube.py\", line 1731, in _real_extract\n",
            "    raise ExtractorError(reason, expected=True)\n",
            "youtube_dl.utils.ExtractorError: Private video\n",
            "Sign in if you've been granted access to this video\n",
            "\n",
            "[debug] Encodings: locale UTF-8, fs utf-8, out UTF-8, pref UTF-8\n",
            "[debug] youtube-dl version 2021.12.17\n",
            "[debug] Python version 3.10.12 (CPython) - Linux-5.15.120+-x86_64-with-glibc2.35\n"
          ]
        },
        {
          "output_type": "stream",
          "name": "stdout",
          "text": [
            "Error downloading video 0J_2K1Gvruk: ERROR: Private video\n",
            "Sign in if you've been granted access to this video\n"
          ]
        },
        {
          "output_type": "stream",
          "name": "stderr",
          "text": [
            "[debug] exe versions: ffmpeg 4.4.2, ffprobe 4.4.2\n",
            "[debug] Proxy map: {'colab_language_server': '/usr/colab/bin/language_service'}\n"
          ]
        },
        {
          "output_type": "stream",
          "name": "stdout",
          "text": [
            "[youtube] 0J_TdiZ3TKA: Downloading webpage\n"
          ]
        },
        {
          "output_type": "stream",
          "name": "stderr",
          "text": [
            "ERROR: Unable to extract uploader id; please report this issue on https://yt-dl.org/bug . Make sure you are using the latest version; see  https://yt-dl.org/update  on how to update. Be sure to call youtube-dl with the --verbose flag and include its complete output.\n",
            "Traceback (most recent call last):\n",
            "  File \"/usr/local/lib/python3.10/dist-packages/youtube_dl/YoutubeDL.py\", line 815, in wrapper\n",
            "    return func(self, *args, **kwargs)\n",
            "  File \"/usr/local/lib/python3.10/dist-packages/youtube_dl/YoutubeDL.py\", line 836, in __extract_info\n",
            "    ie_result = ie.extract(url)\n",
            "  File \"/usr/local/lib/python3.10/dist-packages/youtube_dl/extractor/common.py\", line 534, in extract\n",
            "    ie_result = self._real_extract(url)\n",
            "  File \"/usr/local/lib/python3.10/dist-packages/youtube_dl/extractor/youtube.py\", line 1794, in _real_extract\n",
            "    'uploader_id': self._search_regex(r'/(?:channel|user)/([^/?&#]+)', owner_profile_url, 'uploader id') if owner_profile_url else None,\n",
            "  File \"/usr/local/lib/python3.10/dist-packages/youtube_dl/extractor/common.py\", line 1012, in _search_regex\n",
            "    raise RegexNotFoundError('Unable to extract %s' % _name)\n",
            "youtube_dl.utils.RegexNotFoundError: Unable to extract uploader id; please report this issue on https://yt-dl.org/bug . Make sure you are using the latest version; see  https://yt-dl.org/update  on how to update. Be sure to call youtube-dl with the --verbose flag and include its complete output.\n",
            "\n",
            "[debug] Encodings: locale UTF-8, fs utf-8, out UTF-8, pref UTF-8\n",
            "[debug] youtube-dl version 2021.12.17\n",
            "[debug] Python version 3.10.12 (CPython) - Linux-5.15.120+-x86_64-with-glibc2.35\n",
            "[debug] exe versions: ffmpeg 4.4.2, ffprobe 4.4.2\n",
            "[debug] Proxy map: {'colab_language_server': '/usr/colab/bin/language_service'}\n"
          ]
        },
        {
          "output_type": "stream",
          "name": "stdout",
          "text": [
            "Error downloading video 0J_TdiZ3TKA: ERROR: Unable to extract uploader id; please report this issue on https://yt-dl.org/bug . Make sure you are using the latest version; see  https://yt-dl.org/update  on how to update. Be sure to call youtube-dl with the --verbose flag and include its complete output.\n",
            "[youtube] 0JbGxIR8JTk: Downloading webpage\n"
          ]
        },
        {
          "output_type": "stream",
          "name": "stderr",
          "text": [
            "ERROR: Unable to extract uploader id; please report this issue on https://yt-dl.org/bug . Make sure you are using the latest version; see  https://yt-dl.org/update  on how to update. Be sure to call youtube-dl with the --verbose flag and include its complete output.\n",
            "Traceback (most recent call last):\n",
            "  File \"/usr/local/lib/python3.10/dist-packages/youtube_dl/YoutubeDL.py\", line 815, in wrapper\n",
            "    return func(self, *args, **kwargs)\n",
            "  File \"/usr/local/lib/python3.10/dist-packages/youtube_dl/YoutubeDL.py\", line 836, in __extract_info\n",
            "    ie_result = ie.extract(url)\n",
            "  File \"/usr/local/lib/python3.10/dist-packages/youtube_dl/extractor/common.py\", line 534, in extract\n",
            "    ie_result = self._real_extract(url)\n",
            "  File \"/usr/local/lib/python3.10/dist-packages/youtube_dl/extractor/youtube.py\", line 1794, in _real_extract\n",
            "    'uploader_id': self._search_regex(r'/(?:channel|user)/([^/?&#]+)', owner_profile_url, 'uploader id') if owner_profile_url else None,\n",
            "  File \"/usr/local/lib/python3.10/dist-packages/youtube_dl/extractor/common.py\", line 1012, in _search_regex\n",
            "    raise RegexNotFoundError('Unable to extract %s' % _name)\n",
            "youtube_dl.utils.RegexNotFoundError: Unable to extract uploader id; please report this issue on https://yt-dl.org/bug . Make sure you are using the latest version; see  https://yt-dl.org/update  on how to update. Be sure to call youtube-dl with the --verbose flag and include its complete output.\n",
            "\n",
            "[debug] Encodings: locale UTF-8, fs utf-8, out UTF-8, pref UTF-8\n",
            "[debug] youtube-dl version 2021.12.17\n",
            "[debug] Python version 3.10.12 (CPython) - Linux-5.15.120+-x86_64-with-glibc2.35\n",
            "[debug] exe versions: ffmpeg 4.4.2, ffprobe 4.4.2\n",
            "[debug] Proxy map: {'colab_language_server': '/usr/colab/bin/language_service'}\n"
          ]
        },
        {
          "output_type": "stream",
          "name": "stdout",
          "text": [
            "Error downloading video 0JbGxIR8JTk: ERROR: Unable to extract uploader id; please report this issue on https://yt-dl.org/bug . Make sure you are using the latest version; see  https://yt-dl.org/update  on how to update. Be sure to call youtube-dl with the --verbose flag and include its complete output.\n",
            "[youtube] 0K-zyeLuKho: Downloading webpage\n"
          ]
        },
        {
          "output_type": "stream",
          "name": "stderr",
          "text": [
            "ERROR: Unable to extract uploader id; please report this issue on https://yt-dl.org/bug . Make sure you are using the latest version; see  https://yt-dl.org/update  on how to update. Be sure to call youtube-dl with the --verbose flag and include its complete output.\n",
            "Traceback (most recent call last):\n",
            "  File \"/usr/local/lib/python3.10/dist-packages/youtube_dl/YoutubeDL.py\", line 815, in wrapper\n",
            "    return func(self, *args, **kwargs)\n",
            "  File \"/usr/local/lib/python3.10/dist-packages/youtube_dl/YoutubeDL.py\", line 836, in __extract_info\n",
            "    ie_result = ie.extract(url)\n",
            "  File \"/usr/local/lib/python3.10/dist-packages/youtube_dl/extractor/common.py\", line 534, in extract\n",
            "    ie_result = self._real_extract(url)\n",
            "  File \"/usr/local/lib/python3.10/dist-packages/youtube_dl/extractor/youtube.py\", line 1794, in _real_extract\n",
            "    'uploader_id': self._search_regex(r'/(?:channel|user)/([^/?&#]+)', owner_profile_url, 'uploader id') if owner_profile_url else None,\n",
            "  File \"/usr/local/lib/python3.10/dist-packages/youtube_dl/extractor/common.py\", line 1012, in _search_regex\n",
            "    raise RegexNotFoundError('Unable to extract %s' % _name)\n",
            "youtube_dl.utils.RegexNotFoundError: Unable to extract uploader id; please report this issue on https://yt-dl.org/bug . Make sure you are using the latest version; see  https://yt-dl.org/update  on how to update. Be sure to call youtube-dl with the --verbose flag and include its complete output.\n",
            "\n",
            "[debug] Encodings: locale UTF-8, fs utf-8, out UTF-8, pref UTF-8\n",
            "[debug] youtube-dl version 2021.12.17\n",
            "[debug] Python version 3.10.12 (CPython) - Linux-5.15.120+-x86_64-with-glibc2.35\n",
            "[debug] exe versions: ffmpeg 4.4.2, ffprobe 4.4.2\n",
            "[debug] Proxy map: {'colab_language_server': '/usr/colab/bin/language_service'}\n"
          ]
        },
        {
          "output_type": "stream",
          "name": "stdout",
          "text": [
            "Error downloading video 0K-zyeLuKho: ERROR: Unable to extract uploader id; please report this issue on https://yt-dl.org/bug . Make sure you are using the latest version; see  https://yt-dl.org/update  on how to update. Be sure to call youtube-dl with the --verbose flag and include its complete output.\n",
            "[youtube] 0KCVgexi4yU: Downloading webpage\n"
          ]
        },
        {
          "output_type": "stream",
          "name": "stderr",
          "text": [
            "ERROR: Unable to extract uploader id; please report this issue on https://yt-dl.org/bug . Make sure you are using the latest version; see  https://yt-dl.org/update  on how to update. Be sure to call youtube-dl with the --verbose flag and include its complete output.\n",
            "Traceback (most recent call last):\n",
            "  File \"/usr/local/lib/python3.10/dist-packages/youtube_dl/YoutubeDL.py\", line 815, in wrapper\n",
            "    return func(self, *args, **kwargs)\n",
            "  File \"/usr/local/lib/python3.10/dist-packages/youtube_dl/YoutubeDL.py\", line 836, in __extract_info\n",
            "    ie_result = ie.extract(url)\n",
            "  File \"/usr/local/lib/python3.10/dist-packages/youtube_dl/extractor/common.py\", line 534, in extract\n",
            "    ie_result = self._real_extract(url)\n",
            "  File \"/usr/local/lib/python3.10/dist-packages/youtube_dl/extractor/youtube.py\", line 1794, in _real_extract\n",
            "    'uploader_id': self._search_regex(r'/(?:channel|user)/([^/?&#]+)', owner_profile_url, 'uploader id') if owner_profile_url else None,\n",
            "  File \"/usr/local/lib/python3.10/dist-packages/youtube_dl/extractor/common.py\", line 1012, in _search_regex\n",
            "    raise RegexNotFoundError('Unable to extract %s' % _name)\n",
            "youtube_dl.utils.RegexNotFoundError: Unable to extract uploader id; please report this issue on https://yt-dl.org/bug . Make sure you are using the latest version; see  https://yt-dl.org/update  on how to update. Be sure to call youtube-dl with the --verbose flag and include its complete output.\n",
            "\n",
            "[debug] Encodings: locale UTF-8, fs utf-8, out UTF-8, pref UTF-8\n",
            "[debug] youtube-dl version 2021.12.17\n",
            "[debug] Python version 3.10.12 (CPython) - Linux-5.15.120+-x86_64-with-glibc2.35\n",
            "[debug] exe versions: ffmpeg 4.4.2, ffprobe 4.4.2\n",
            "[debug] Proxy map: {'colab_language_server': '/usr/colab/bin/language_service'}\n"
          ]
        },
        {
          "output_type": "stream",
          "name": "stdout",
          "text": [
            "Error downloading video 0KCVgexi4yU: ERROR: Unable to extract uploader id; please report this issue on https://yt-dl.org/bug . Make sure you are using the latest version; see  https://yt-dl.org/update  on how to update. Be sure to call youtube-dl with the --verbose flag and include its complete output.\n",
            "[youtube] 0L2ndtt60Q8: Downloading webpage\n"
          ]
        },
        {
          "output_type": "stream",
          "name": "stderr",
          "text": [
            "ERROR: Unable to extract uploader id; please report this issue on https://yt-dl.org/bug . Make sure you are using the latest version; see  https://yt-dl.org/update  on how to update. Be sure to call youtube-dl with the --verbose flag and include its complete output.\n",
            "Traceback (most recent call last):\n",
            "  File \"/usr/local/lib/python3.10/dist-packages/youtube_dl/YoutubeDL.py\", line 815, in wrapper\n",
            "    return func(self, *args, **kwargs)\n",
            "  File \"/usr/local/lib/python3.10/dist-packages/youtube_dl/YoutubeDL.py\", line 836, in __extract_info\n",
            "    ie_result = ie.extract(url)\n",
            "  File \"/usr/local/lib/python3.10/dist-packages/youtube_dl/extractor/common.py\", line 534, in extract\n",
            "    ie_result = self._real_extract(url)\n",
            "  File \"/usr/local/lib/python3.10/dist-packages/youtube_dl/extractor/youtube.py\", line 1794, in _real_extract\n",
            "    'uploader_id': self._search_regex(r'/(?:channel|user)/([^/?&#]+)', owner_profile_url, 'uploader id') if owner_profile_url else None,\n",
            "  File \"/usr/local/lib/python3.10/dist-packages/youtube_dl/extractor/common.py\", line 1012, in _search_regex\n",
            "    raise RegexNotFoundError('Unable to extract %s' % _name)\n",
            "youtube_dl.utils.RegexNotFoundError: Unable to extract uploader id; please report this issue on https://yt-dl.org/bug . Make sure you are using the latest version; see  https://yt-dl.org/update  on how to update. Be sure to call youtube-dl with the --verbose flag and include its complete output.\n",
            "\n",
            "[debug] Encodings: locale UTF-8, fs utf-8, out UTF-8, pref UTF-8\n",
            "[debug] youtube-dl version 2021.12.17\n",
            "[debug] Python version 3.10.12 (CPython) - Linux-5.15.120+-x86_64-with-glibc2.35\n",
            "[debug] exe versions: ffmpeg 4.4.2, ffprobe 4.4.2\n",
            "[debug] Proxy map: {'colab_language_server': '/usr/colab/bin/language_service'}\n"
          ]
        },
        {
          "output_type": "stream",
          "name": "stdout",
          "text": [
            "Error downloading video 0L2ndtt60Q8: ERROR: Unable to extract uploader id; please report this issue on https://yt-dl.org/bug . Make sure you are using the latest version; see  https://yt-dl.org/update  on how to update. Be sure to call youtube-dl with the --verbose flag and include its complete output.\n",
            "[youtube] 0L3vcdzQPPU: Downloading webpage\n"
          ]
        },
        {
          "output_type": "stream",
          "name": "stderr",
          "text": [
            "ERROR: Unable to extract uploader id; please report this issue on https://yt-dl.org/bug . Make sure you are using the latest version; see  https://yt-dl.org/update  on how to update. Be sure to call youtube-dl with the --verbose flag and include its complete output.\n",
            "Traceback (most recent call last):\n",
            "  File \"/usr/local/lib/python3.10/dist-packages/youtube_dl/YoutubeDL.py\", line 815, in wrapper\n",
            "    return func(self, *args, **kwargs)\n",
            "  File \"/usr/local/lib/python3.10/dist-packages/youtube_dl/YoutubeDL.py\", line 836, in __extract_info\n",
            "    ie_result = ie.extract(url)\n",
            "  File \"/usr/local/lib/python3.10/dist-packages/youtube_dl/extractor/common.py\", line 534, in extract\n",
            "    ie_result = self._real_extract(url)\n",
            "  File \"/usr/local/lib/python3.10/dist-packages/youtube_dl/extractor/youtube.py\", line 1794, in _real_extract\n",
            "    'uploader_id': self._search_regex(r'/(?:channel|user)/([^/?&#]+)', owner_profile_url, 'uploader id') if owner_profile_url else None,\n",
            "  File \"/usr/local/lib/python3.10/dist-packages/youtube_dl/extractor/common.py\", line 1012, in _search_regex\n",
            "    raise RegexNotFoundError('Unable to extract %s' % _name)\n",
            "youtube_dl.utils.RegexNotFoundError: Unable to extract uploader id; please report this issue on https://yt-dl.org/bug . Make sure you are using the latest version; see  https://yt-dl.org/update  on how to update. Be sure to call youtube-dl with the --verbose flag and include its complete output.\n",
            "\n",
            "[debug] Encodings: locale UTF-8, fs utf-8, out UTF-8, pref UTF-8\n",
            "[debug] youtube-dl version 2021.12.17\n",
            "[debug] Python version 3.10.12 (CPython) - Linux-5.15.120+-x86_64-with-glibc2.35\n",
            "[debug] exe versions: ffmpeg 4.4.2, ffprobe 4.4.2\n",
            "[debug] Proxy map: {'colab_language_server': '/usr/colab/bin/language_service'}\n"
          ]
        },
        {
          "output_type": "stream",
          "name": "stdout",
          "text": [
            "Error downloading video 0L3vcdzQPPU: ERROR: Unable to extract uploader id; please report this issue on https://yt-dl.org/bug . Make sure you are using the latest version; see  https://yt-dl.org/update  on how to update. Be sure to call youtube-dl with the --verbose flag and include its complete output.\n",
            "[youtube] 0LE6Ll1rVlg: Downloading webpage\n"
          ]
        },
        {
          "output_type": "stream",
          "name": "stderr",
          "text": [
            "ERROR: Unable to extract uploader id; please report this issue on https://yt-dl.org/bug . Make sure you are using the latest version; see  https://yt-dl.org/update  on how to update. Be sure to call youtube-dl with the --verbose flag and include its complete output.\n",
            "Traceback (most recent call last):\n",
            "  File \"/usr/local/lib/python3.10/dist-packages/youtube_dl/YoutubeDL.py\", line 815, in wrapper\n",
            "    return func(self, *args, **kwargs)\n",
            "  File \"/usr/local/lib/python3.10/dist-packages/youtube_dl/YoutubeDL.py\", line 836, in __extract_info\n",
            "    ie_result = ie.extract(url)\n",
            "  File \"/usr/local/lib/python3.10/dist-packages/youtube_dl/extractor/common.py\", line 534, in extract\n",
            "    ie_result = self._real_extract(url)\n",
            "  File \"/usr/local/lib/python3.10/dist-packages/youtube_dl/extractor/youtube.py\", line 1794, in _real_extract\n",
            "    'uploader_id': self._search_regex(r'/(?:channel|user)/([^/?&#]+)', owner_profile_url, 'uploader id') if owner_profile_url else None,\n",
            "  File \"/usr/local/lib/python3.10/dist-packages/youtube_dl/extractor/common.py\", line 1012, in _search_regex\n",
            "    raise RegexNotFoundError('Unable to extract %s' % _name)\n",
            "youtube_dl.utils.RegexNotFoundError: Unable to extract uploader id; please report this issue on https://yt-dl.org/bug . Make sure you are using the latest version; see  https://yt-dl.org/update  on how to update. Be sure to call youtube-dl with the --verbose flag and include its complete output.\n",
            "\n",
            "[debug] Encodings: locale UTF-8, fs utf-8, out UTF-8, pref UTF-8\n",
            "[debug] youtube-dl version 2021.12.17\n",
            "[debug] Python version 3.10.12 (CPython) - Linux-5.15.120+-x86_64-with-glibc2.35\n",
            "[debug] exe versions: ffmpeg 4.4.2, ffprobe 4.4.2\n",
            "[debug] Proxy map: {'colab_language_server': '/usr/colab/bin/language_service'}\n"
          ]
        },
        {
          "output_type": "stream",
          "name": "stdout",
          "text": [
            "Error downloading video 0LE6Ll1rVlg: ERROR: Unable to extract uploader id; please report this issue on https://yt-dl.org/bug . Make sure you are using the latest version; see  https://yt-dl.org/update  on how to update. Be sure to call youtube-dl with the --verbose flag and include its complete output.\n",
            "[youtube] 0LLlcPiatiU: Downloading webpage\n"
          ]
        },
        {
          "output_type": "stream",
          "name": "stderr",
          "text": [
            "ERROR: Unable to extract uploader id; please report this issue on https://yt-dl.org/bug . Make sure you are using the latest version; see  https://yt-dl.org/update  on how to update. Be sure to call youtube-dl with the --verbose flag and include its complete output.\n",
            "Traceback (most recent call last):\n",
            "  File \"/usr/local/lib/python3.10/dist-packages/youtube_dl/YoutubeDL.py\", line 815, in wrapper\n",
            "    return func(self, *args, **kwargs)\n",
            "  File \"/usr/local/lib/python3.10/dist-packages/youtube_dl/YoutubeDL.py\", line 836, in __extract_info\n",
            "    ie_result = ie.extract(url)\n",
            "  File \"/usr/local/lib/python3.10/dist-packages/youtube_dl/extractor/common.py\", line 534, in extract\n",
            "    ie_result = self._real_extract(url)\n",
            "  File \"/usr/local/lib/python3.10/dist-packages/youtube_dl/extractor/youtube.py\", line 1794, in _real_extract\n",
            "    'uploader_id': self._search_regex(r'/(?:channel|user)/([^/?&#]+)', owner_profile_url, 'uploader id') if owner_profile_url else None,\n",
            "  File \"/usr/local/lib/python3.10/dist-packages/youtube_dl/extractor/common.py\", line 1012, in _search_regex\n",
            "    raise RegexNotFoundError('Unable to extract %s' % _name)\n",
            "youtube_dl.utils.RegexNotFoundError: Unable to extract uploader id; please report this issue on https://yt-dl.org/bug . Make sure you are using the latest version; see  https://yt-dl.org/update  on how to update. Be sure to call youtube-dl with the --verbose flag and include its complete output.\n",
            "\n",
            "[debug] Encodings: locale UTF-8, fs utf-8, out UTF-8, pref UTF-8\n",
            "[debug] youtube-dl version 2021.12.17\n",
            "[debug] Python version 3.10.12 (CPython) - Linux-5.15.120+-x86_64-with-glibc2.35\n",
            "[debug] exe versions: ffmpeg 4.4.2, ffprobe 4.4.2\n",
            "[debug] Proxy map: {'colab_language_server': '/usr/colab/bin/language_service'}\n"
          ]
        },
        {
          "output_type": "stream",
          "name": "stdout",
          "text": [
            "Error downloading video 0LLlcPiatiU: ERROR: Unable to extract uploader id; please report this issue on https://yt-dl.org/bug . Make sure you are using the latest version; see  https://yt-dl.org/update  on how to update. Be sure to call youtube-dl with the --verbose flag and include its complete output.\n",
            "[youtube] 0M7nETLOsKQ: Downloading webpage\n"
          ]
        },
        {
          "output_type": "stream",
          "name": "stderr",
          "text": [
            "ERROR: Unable to extract uploader id; please report this issue on https://yt-dl.org/bug . Make sure you are using the latest version; see  https://yt-dl.org/update  on how to update. Be sure to call youtube-dl with the --verbose flag and include its complete output.\n",
            "Traceback (most recent call last):\n",
            "  File \"/usr/local/lib/python3.10/dist-packages/youtube_dl/YoutubeDL.py\", line 815, in wrapper\n",
            "    return func(self, *args, **kwargs)\n",
            "  File \"/usr/local/lib/python3.10/dist-packages/youtube_dl/YoutubeDL.py\", line 836, in __extract_info\n",
            "    ie_result = ie.extract(url)\n",
            "  File \"/usr/local/lib/python3.10/dist-packages/youtube_dl/extractor/common.py\", line 534, in extract\n",
            "    ie_result = self._real_extract(url)\n",
            "  File \"/usr/local/lib/python3.10/dist-packages/youtube_dl/extractor/youtube.py\", line 1794, in _real_extract\n",
            "    'uploader_id': self._search_regex(r'/(?:channel|user)/([^/?&#]+)', owner_profile_url, 'uploader id') if owner_profile_url else None,\n",
            "  File \"/usr/local/lib/python3.10/dist-packages/youtube_dl/extractor/common.py\", line 1012, in _search_regex\n",
            "    raise RegexNotFoundError('Unable to extract %s' % _name)\n",
            "youtube_dl.utils.RegexNotFoundError: Unable to extract uploader id; please report this issue on https://yt-dl.org/bug . Make sure you are using the latest version; see  https://yt-dl.org/update  on how to update. Be sure to call youtube-dl with the --verbose flag and include its complete output.\n",
            "\n",
            "[debug] Encodings: locale UTF-8, fs utf-8, out UTF-8, pref UTF-8\n",
            "[debug] youtube-dl version 2021.12.17\n",
            "[debug] Python version 3.10.12 (CPython) - Linux-5.15.120+-x86_64-with-glibc2.35\n"
          ]
        },
        {
          "output_type": "stream",
          "name": "stdout",
          "text": [
            "Error downloading video 0M7nETLOsKQ: ERROR: Unable to extract uploader id; please report this issue on https://yt-dl.org/bug . Make sure you are using the latest version; see  https://yt-dl.org/update  on how to update. Be sure to call youtube-dl with the --verbose flag and include its complete output.\n"
          ]
        },
        {
          "output_type": "stream",
          "name": "stderr",
          "text": [
            "[debug] exe versions: ffmpeg 4.4.2, ffprobe 4.4.2\n",
            "[debug] Proxy map: {'colab_language_server': '/usr/colab/bin/language_service'}\n"
          ]
        },
        {
          "output_type": "stream",
          "name": "stdout",
          "text": [
            "[youtube] 0MzrXd8CUCg: Downloading webpage\n"
          ]
        },
        {
          "output_type": "stream",
          "name": "stderr",
          "text": [
            "ERROR: Unable to extract uploader id; please report this issue on https://yt-dl.org/bug . Make sure you are using the latest version; see  https://yt-dl.org/update  on how to update. Be sure to call youtube-dl with the --verbose flag and include its complete output.\n",
            "Traceback (most recent call last):\n",
            "  File \"/usr/local/lib/python3.10/dist-packages/youtube_dl/YoutubeDL.py\", line 815, in wrapper\n",
            "    return func(self, *args, **kwargs)\n",
            "  File \"/usr/local/lib/python3.10/dist-packages/youtube_dl/YoutubeDL.py\", line 836, in __extract_info\n",
            "    ie_result = ie.extract(url)\n",
            "  File \"/usr/local/lib/python3.10/dist-packages/youtube_dl/extractor/common.py\", line 534, in extract\n",
            "    ie_result = self._real_extract(url)\n",
            "  File \"/usr/local/lib/python3.10/dist-packages/youtube_dl/extractor/youtube.py\", line 1794, in _real_extract\n",
            "    'uploader_id': self._search_regex(r'/(?:channel|user)/([^/?&#]+)', owner_profile_url, 'uploader id') if owner_profile_url else None,\n",
            "  File \"/usr/local/lib/python3.10/dist-packages/youtube_dl/extractor/common.py\", line 1012, in _search_regex\n",
            "    raise RegexNotFoundError('Unable to extract %s' % _name)\n",
            "youtube_dl.utils.RegexNotFoundError: Unable to extract uploader id; please report this issue on https://yt-dl.org/bug . Make sure you are using the latest version; see  https://yt-dl.org/update  on how to update. Be sure to call youtube-dl with the --verbose flag and include its complete output.\n",
            "\n",
            "[debug] Encodings: locale UTF-8, fs utf-8, out UTF-8, pref UTF-8\n",
            "[debug] youtube-dl version 2021.12.17\n",
            "[debug] Python version 3.10.12 (CPython) - Linux-5.15.120+-x86_64-with-glibc2.35\n"
          ]
        },
        {
          "output_type": "stream",
          "name": "stdout",
          "text": [
            "Error downloading video 0MzrXd8CUCg: ERROR: Unable to extract uploader id; please report this issue on https://yt-dl.org/bug . Make sure you are using the latest version; see  https://yt-dl.org/update  on how to update. Be sure to call youtube-dl with the --verbose flag and include its complete output.\n"
          ]
        },
        {
          "output_type": "stream",
          "name": "stderr",
          "text": [
            "[debug] exe versions: ffmpeg 4.4.2, ffprobe 4.4.2\n",
            "[debug] Proxy map: {'colab_language_server': '/usr/colab/bin/language_service'}\n"
          ]
        },
        {
          "output_type": "stream",
          "name": "stdout",
          "text": [
            "[youtube] 0NTzOtVmoiU: Downloading webpage\n"
          ]
        },
        {
          "output_type": "stream",
          "name": "stderr",
          "text": [
            "ERROR: Unable to extract uploader id; please report this issue on https://yt-dl.org/bug . Make sure you are using the latest version; see  https://yt-dl.org/update  on how to update. Be sure to call youtube-dl with the --verbose flag and include its complete output.\n",
            "Traceback (most recent call last):\n",
            "  File \"/usr/local/lib/python3.10/dist-packages/youtube_dl/YoutubeDL.py\", line 815, in wrapper\n",
            "    return func(self, *args, **kwargs)\n",
            "  File \"/usr/local/lib/python3.10/dist-packages/youtube_dl/YoutubeDL.py\", line 836, in __extract_info\n",
            "    ie_result = ie.extract(url)\n",
            "  File \"/usr/local/lib/python3.10/dist-packages/youtube_dl/extractor/common.py\", line 534, in extract\n",
            "    ie_result = self._real_extract(url)\n",
            "  File \"/usr/local/lib/python3.10/dist-packages/youtube_dl/extractor/youtube.py\", line 1794, in _real_extract\n",
            "    'uploader_id': self._search_regex(r'/(?:channel|user)/([^/?&#]+)', owner_profile_url, 'uploader id') if owner_profile_url else None,\n",
            "  File \"/usr/local/lib/python3.10/dist-packages/youtube_dl/extractor/common.py\", line 1012, in _search_regex\n",
            "    raise RegexNotFoundError('Unable to extract %s' % _name)\n",
            "youtube_dl.utils.RegexNotFoundError: Unable to extract uploader id; please report this issue on https://yt-dl.org/bug . Make sure you are using the latest version; see  https://yt-dl.org/update  on how to update. Be sure to call youtube-dl with the --verbose flag and include its complete output.\n",
            "\n",
            "[debug] Encodings: locale UTF-8, fs utf-8, out UTF-8, pref UTF-8\n",
            "[debug] youtube-dl version 2021.12.17\n",
            "[debug] Python version 3.10.12 (CPython) - Linux-5.15.120+-x86_64-with-glibc2.35\n"
          ]
        },
        {
          "output_type": "stream",
          "name": "stdout",
          "text": [
            "Error downloading video 0NTzOtVmoiU: ERROR: Unable to extract uploader id; please report this issue on https://yt-dl.org/bug . Make sure you are using the latest version; see  https://yt-dl.org/update  on how to update. Be sure to call youtube-dl with the --verbose flag and include its complete output.\n"
          ]
        },
        {
          "output_type": "stream",
          "name": "stderr",
          "text": [
            "[debug] exe versions: ffmpeg 4.4.2, ffprobe 4.4.2\n",
            "[debug] Proxy map: {'colab_language_server': '/usr/colab/bin/language_service'}\n"
          ]
        },
        {
          "output_type": "stream",
          "name": "stdout",
          "text": [
            "[youtube] 0NZY0GHQBP0: Downloading webpage\n"
          ]
        },
        {
          "output_type": "stream",
          "name": "stderr",
          "text": [
            "ERROR: Unable to extract uploader id; please report this issue on https://yt-dl.org/bug . Make sure you are using the latest version; see  https://yt-dl.org/update  on how to update. Be sure to call youtube-dl with the --verbose flag and include its complete output.\n",
            "Traceback (most recent call last):\n",
            "  File \"/usr/local/lib/python3.10/dist-packages/youtube_dl/YoutubeDL.py\", line 815, in wrapper\n",
            "    return func(self, *args, **kwargs)\n",
            "  File \"/usr/local/lib/python3.10/dist-packages/youtube_dl/YoutubeDL.py\", line 836, in __extract_info\n",
            "    ie_result = ie.extract(url)\n",
            "  File \"/usr/local/lib/python3.10/dist-packages/youtube_dl/extractor/common.py\", line 534, in extract\n",
            "    ie_result = self._real_extract(url)\n",
            "  File \"/usr/local/lib/python3.10/dist-packages/youtube_dl/extractor/youtube.py\", line 1794, in _real_extract\n",
            "    'uploader_id': self._search_regex(r'/(?:channel|user)/([^/?&#]+)', owner_profile_url, 'uploader id') if owner_profile_url else None,\n",
            "  File \"/usr/local/lib/python3.10/dist-packages/youtube_dl/extractor/common.py\", line 1012, in _search_regex\n",
            "    raise RegexNotFoundError('Unable to extract %s' % _name)\n",
            "youtube_dl.utils.RegexNotFoundError: Unable to extract uploader id; please report this issue on https://yt-dl.org/bug . Make sure you are using the latest version; see  https://yt-dl.org/update  on how to update. Be sure to call youtube-dl with the --verbose flag and include its complete output.\n",
            "\n",
            "[debug] Encodings: locale UTF-8, fs utf-8, out UTF-8, pref UTF-8\n",
            "[debug] youtube-dl version 2021.12.17\n",
            "[debug] Python version 3.10.12 (CPython) - Linux-5.15.120+-x86_64-with-glibc2.35\n"
          ]
        },
        {
          "output_type": "stream",
          "name": "stdout",
          "text": [
            "Error downloading video 0NZY0GHQBP0: ERROR: Unable to extract uploader id; please report this issue on https://yt-dl.org/bug . Make sure you are using the latest version; see  https://yt-dl.org/update  on how to update. Be sure to call youtube-dl with the --verbose flag and include its complete output.\n"
          ]
        },
        {
          "output_type": "stream",
          "name": "stderr",
          "text": [
            "[debug] exe versions: ffmpeg 4.4.2, ffprobe 4.4.2\n",
            "[debug] Proxy map: {'colab_language_server': '/usr/colab/bin/language_service'}\n"
          ]
        },
        {
          "output_type": "stream",
          "name": "stdout",
          "text": [
            "[youtube] 0ONdm4sW47c: Downloading webpage\n"
          ]
        },
        {
          "output_type": "stream",
          "name": "stderr",
          "text": [
            "ERROR: Unable to extract uploader id; please report this issue on https://yt-dl.org/bug . Make sure you are using the latest version; see  https://yt-dl.org/update  on how to update. Be sure to call youtube-dl with the --verbose flag and include its complete output.\n",
            "Traceback (most recent call last):\n",
            "  File \"/usr/local/lib/python3.10/dist-packages/youtube_dl/YoutubeDL.py\", line 815, in wrapper\n",
            "    return func(self, *args, **kwargs)\n",
            "  File \"/usr/local/lib/python3.10/dist-packages/youtube_dl/YoutubeDL.py\", line 836, in __extract_info\n",
            "    ie_result = ie.extract(url)\n",
            "  File \"/usr/local/lib/python3.10/dist-packages/youtube_dl/extractor/common.py\", line 534, in extract\n",
            "    ie_result = self._real_extract(url)\n",
            "  File \"/usr/local/lib/python3.10/dist-packages/youtube_dl/extractor/youtube.py\", line 1794, in _real_extract\n",
            "    'uploader_id': self._search_regex(r'/(?:channel|user)/([^/?&#]+)', owner_profile_url, 'uploader id') if owner_profile_url else None,\n",
            "  File \"/usr/local/lib/python3.10/dist-packages/youtube_dl/extractor/common.py\", line 1012, in _search_regex\n",
            "    raise RegexNotFoundError('Unable to extract %s' % _name)\n",
            "youtube_dl.utils.RegexNotFoundError: Unable to extract uploader id; please report this issue on https://yt-dl.org/bug . Make sure you are using the latest version; see  https://yt-dl.org/update  on how to update. Be sure to call youtube-dl with the --verbose flag and include its complete output.\n",
            "\n",
            "[debug] Encodings: locale UTF-8, fs utf-8, out UTF-8, pref UTF-8\n",
            "[debug] youtube-dl version 2021.12.17\n",
            "[debug] Python version 3.10.12 (CPython) - Linux-5.15.120+-x86_64-with-glibc2.35\n"
          ]
        },
        {
          "output_type": "stream",
          "name": "stdout",
          "text": [
            "Error downloading video 0ONdm4sW47c: ERROR: Unable to extract uploader id; please report this issue on https://yt-dl.org/bug . Make sure you are using the latest version; see  https://yt-dl.org/update  on how to update. Be sure to call youtube-dl with the --verbose flag and include its complete output.\n"
          ]
        },
        {
          "output_type": "stream",
          "name": "stderr",
          "text": [
            "[debug] exe versions: ffmpeg 4.4.2, ffprobe 4.4.2\n",
            "[debug] Proxy map: {'colab_language_server': '/usr/colab/bin/language_service'}\n"
          ]
        },
        {
          "output_type": "stream",
          "name": "stdout",
          "text": [
            "[youtube] 0OY8XXZ98rw: Downloading webpage\n"
          ]
        },
        {
          "output_type": "stream",
          "name": "stderr",
          "text": [
            "ERROR: Unable to extract uploader id; please report this issue on https://yt-dl.org/bug . Make sure you are using the latest version; see  https://yt-dl.org/update  on how to update. Be sure to call youtube-dl with the --verbose flag and include its complete output.\n",
            "Traceback (most recent call last):\n",
            "  File \"/usr/local/lib/python3.10/dist-packages/youtube_dl/YoutubeDL.py\", line 815, in wrapper\n",
            "    return func(self, *args, **kwargs)\n",
            "  File \"/usr/local/lib/python3.10/dist-packages/youtube_dl/YoutubeDL.py\", line 836, in __extract_info\n",
            "    ie_result = ie.extract(url)\n",
            "  File \"/usr/local/lib/python3.10/dist-packages/youtube_dl/extractor/common.py\", line 534, in extract\n",
            "    ie_result = self._real_extract(url)\n",
            "  File \"/usr/local/lib/python3.10/dist-packages/youtube_dl/extractor/youtube.py\", line 1794, in _real_extract\n",
            "    'uploader_id': self._search_regex(r'/(?:channel|user)/([^/?&#]+)', owner_profile_url, 'uploader id') if owner_profile_url else None,\n",
            "  File \"/usr/local/lib/python3.10/dist-packages/youtube_dl/extractor/common.py\", line 1012, in _search_regex\n",
            "    raise RegexNotFoundError('Unable to extract %s' % _name)\n",
            "youtube_dl.utils.RegexNotFoundError: Unable to extract uploader id; please report this issue on https://yt-dl.org/bug . Make sure you are using the latest version; see  https://yt-dl.org/update  on how to update. Be sure to call youtube-dl with the --verbose flag and include its complete output.\n",
            "\n",
            "[debug] Encodings: locale UTF-8, fs utf-8, out UTF-8, pref UTF-8\n",
            "[debug] youtube-dl version 2021.12.17\n",
            "[debug] Python version 3.10.12 (CPython) - Linux-5.15.120+-x86_64-with-glibc2.35\n"
          ]
        },
        {
          "output_type": "stream",
          "name": "stdout",
          "text": [
            "Error downloading video 0OY8XXZ98rw: ERROR: Unable to extract uploader id; please report this issue on https://yt-dl.org/bug . Make sure you are using the latest version; see  https://yt-dl.org/update  on how to update. Be sure to call youtube-dl with the --verbose flag and include its complete output.\n"
          ]
        },
        {
          "output_type": "stream",
          "name": "stderr",
          "text": [
            "[debug] exe versions: ffmpeg 4.4.2, ffprobe 4.4.2\n",
            "[debug] Proxy map: {'colab_language_server': '/usr/colab/bin/language_service'}\n"
          ]
        },
        {
          "output_type": "stream",
          "name": "stdout",
          "text": [
            "[youtube] 0OYlHvyfNk4: Downloading webpage\n"
          ]
        },
        {
          "output_type": "stream",
          "name": "stderr",
          "text": [
            "ERROR: Unable to extract uploader id; please report this issue on https://yt-dl.org/bug . Make sure you are using the latest version; see  https://yt-dl.org/update  on how to update. Be sure to call youtube-dl with the --verbose flag and include its complete output.\n",
            "Traceback (most recent call last):\n",
            "  File \"/usr/local/lib/python3.10/dist-packages/youtube_dl/YoutubeDL.py\", line 815, in wrapper\n",
            "    return func(self, *args, **kwargs)\n",
            "  File \"/usr/local/lib/python3.10/dist-packages/youtube_dl/YoutubeDL.py\", line 836, in __extract_info\n",
            "    ie_result = ie.extract(url)\n",
            "  File \"/usr/local/lib/python3.10/dist-packages/youtube_dl/extractor/common.py\", line 534, in extract\n",
            "    ie_result = self._real_extract(url)\n",
            "  File \"/usr/local/lib/python3.10/dist-packages/youtube_dl/extractor/youtube.py\", line 1794, in _real_extract\n",
            "    'uploader_id': self._search_regex(r'/(?:channel|user)/([^/?&#]+)', owner_profile_url, 'uploader id') if owner_profile_url else None,\n",
            "  File \"/usr/local/lib/python3.10/dist-packages/youtube_dl/extractor/common.py\", line 1012, in _search_regex\n",
            "    raise RegexNotFoundError('Unable to extract %s' % _name)\n",
            "youtube_dl.utils.RegexNotFoundError: Unable to extract uploader id; please report this issue on https://yt-dl.org/bug . Make sure you are using the latest version; see  https://yt-dl.org/update  on how to update. Be sure to call youtube-dl with the --verbose flag and include its complete output.\n",
            "\n",
            "[debug] Encodings: locale UTF-8, fs utf-8, out UTF-8, pref UTF-8\n",
            "[debug] youtube-dl version 2021.12.17\n",
            "[debug] Python version 3.10.12 (CPython) - Linux-5.15.120+-x86_64-with-glibc2.35\n",
            "[debug] exe versions: ffmpeg 4.4.2, ffprobe 4.4.2\n",
            "[debug] Proxy map: {'colab_language_server': '/usr/colab/bin/language_service'}\n"
          ]
        },
        {
          "output_type": "stream",
          "name": "stdout",
          "text": [
            "Error downloading video 0OYlHvyfNk4: ERROR: Unable to extract uploader id; please report this issue on https://yt-dl.org/bug . Make sure you are using the latest version; see  https://yt-dl.org/update  on how to update. Be sure to call youtube-dl with the --verbose flag and include its complete output.\n",
            "[youtube] 0OhtODbKajw: Downloading webpage\n"
          ]
        },
        {
          "output_type": "stream",
          "name": "stderr",
          "text": [
            "ERROR: Unable to extract uploader id; please report this issue on https://yt-dl.org/bug . Make sure you are using the latest version; see  https://yt-dl.org/update  on how to update. Be sure to call youtube-dl with the --verbose flag and include its complete output.\n",
            "Traceback (most recent call last):\n",
            "  File \"/usr/local/lib/python3.10/dist-packages/youtube_dl/YoutubeDL.py\", line 815, in wrapper\n",
            "    return func(self, *args, **kwargs)\n",
            "  File \"/usr/local/lib/python3.10/dist-packages/youtube_dl/YoutubeDL.py\", line 836, in __extract_info\n",
            "    ie_result = ie.extract(url)\n",
            "  File \"/usr/local/lib/python3.10/dist-packages/youtube_dl/extractor/common.py\", line 534, in extract\n",
            "    ie_result = self._real_extract(url)\n",
            "  File \"/usr/local/lib/python3.10/dist-packages/youtube_dl/extractor/youtube.py\", line 1794, in _real_extract\n",
            "    'uploader_id': self._search_regex(r'/(?:channel|user)/([^/?&#]+)', owner_profile_url, 'uploader id') if owner_profile_url else None,\n",
            "  File \"/usr/local/lib/python3.10/dist-packages/youtube_dl/extractor/common.py\", line 1012, in _search_regex\n",
            "    raise RegexNotFoundError('Unable to extract %s' % _name)\n",
            "youtube_dl.utils.RegexNotFoundError: Unable to extract uploader id; please report this issue on https://yt-dl.org/bug . Make sure you are using the latest version; see  https://yt-dl.org/update  on how to update. Be sure to call youtube-dl with the --verbose flag and include its complete output.\n",
            "\n",
            "[debug] Encodings: locale UTF-8, fs utf-8, out UTF-8, pref UTF-8\n",
            "[debug] youtube-dl version 2021.12.17\n",
            "[debug] Python version 3.10.12 (CPython) - Linux-5.15.120+-x86_64-with-glibc2.35\n",
            "[debug] exe versions: ffmpeg 4.4.2, ffprobe 4.4.2\n"
          ]
        },
        {
          "output_type": "stream",
          "name": "stdout",
          "text": [
            "Error downloading video 0OhtODbKajw: ERROR: Unable to extract uploader id; please report this issue on https://yt-dl.org/bug . Make sure you are using the latest version; see  https://yt-dl.org/update  on how to update. Be sure to call youtube-dl with the --verbose flag and include its complete output.\n"
          ]
        },
        {
          "output_type": "stream",
          "name": "stderr",
          "text": [
            "[debug] Proxy map: {'colab_language_server': '/usr/colab/bin/language_service'}\n"
          ]
        },
        {
          "output_type": "stream",
          "name": "stdout",
          "text": [
            "[youtube] 0Olm321vgk8: Downloading webpage\n"
          ]
        },
        {
          "output_type": "stream",
          "name": "stderr",
          "text": [
            "ERROR: Unable to extract uploader id; please report this issue on https://yt-dl.org/bug . Make sure you are using the latest version; see  https://yt-dl.org/update  on how to update. Be sure to call youtube-dl with the --verbose flag and include its complete output.\n",
            "Traceback (most recent call last):\n",
            "  File \"/usr/local/lib/python3.10/dist-packages/youtube_dl/YoutubeDL.py\", line 815, in wrapper\n",
            "    return func(self, *args, **kwargs)\n",
            "  File \"/usr/local/lib/python3.10/dist-packages/youtube_dl/YoutubeDL.py\", line 836, in __extract_info\n",
            "    ie_result = ie.extract(url)\n",
            "  File \"/usr/local/lib/python3.10/dist-packages/youtube_dl/extractor/common.py\", line 534, in extract\n",
            "    ie_result = self._real_extract(url)\n",
            "  File \"/usr/local/lib/python3.10/dist-packages/youtube_dl/extractor/youtube.py\", line 1794, in _real_extract\n",
            "    'uploader_id': self._search_regex(r'/(?:channel|user)/([^/?&#]+)', owner_profile_url, 'uploader id') if owner_profile_url else None,\n",
            "  File \"/usr/local/lib/python3.10/dist-packages/youtube_dl/extractor/common.py\", line 1012, in _search_regex\n",
            "    raise RegexNotFoundError('Unable to extract %s' % _name)\n",
            "youtube_dl.utils.RegexNotFoundError: Unable to extract uploader id; please report this issue on https://yt-dl.org/bug . Make sure you are using the latest version; see  https://yt-dl.org/update  on how to update. Be sure to call youtube-dl with the --verbose flag and include its complete output.\n",
            "\n",
            "[debug] Encodings: locale UTF-8, fs utf-8, out UTF-8, pref UTF-8\n",
            "[debug] youtube-dl version 2021.12.17\n",
            "[debug] Python version 3.10.12 (CPython) - Linux-5.15.120+-x86_64-with-glibc2.35\n"
          ]
        },
        {
          "output_type": "stream",
          "name": "stdout",
          "text": [
            "Error downloading video 0Olm321vgk8: ERROR: Unable to extract uploader id; please report this issue on https://yt-dl.org/bug . Make sure you are using the latest version; see  https://yt-dl.org/update  on how to update. Be sure to call youtube-dl with the --verbose flag and include its complete output.\n"
          ]
        },
        {
          "output_type": "stream",
          "name": "stderr",
          "text": [
            "[debug] exe versions: ffmpeg 4.4.2, ffprobe 4.4.2\n",
            "[debug] Proxy map: {'colab_language_server': '/usr/colab/bin/language_service'}\n"
          ]
        },
        {
          "output_type": "stream",
          "name": "stdout",
          "text": [
            "[youtube] 0PMFAO4TIU4: Downloading webpage\n"
          ]
        },
        {
          "output_type": "stream",
          "name": "stderr",
          "text": [
            "ERROR: Unable to extract uploader id; please report this issue on https://yt-dl.org/bug . Make sure you are using the latest version; see  https://yt-dl.org/update  on how to update. Be sure to call youtube-dl with the --verbose flag and include its complete output.\n",
            "Traceback (most recent call last):\n",
            "  File \"/usr/local/lib/python3.10/dist-packages/youtube_dl/YoutubeDL.py\", line 815, in wrapper\n",
            "    return func(self, *args, **kwargs)\n",
            "  File \"/usr/local/lib/python3.10/dist-packages/youtube_dl/YoutubeDL.py\", line 836, in __extract_info\n",
            "    ie_result = ie.extract(url)\n",
            "  File \"/usr/local/lib/python3.10/dist-packages/youtube_dl/extractor/common.py\", line 534, in extract\n",
            "    ie_result = self._real_extract(url)\n",
            "  File \"/usr/local/lib/python3.10/dist-packages/youtube_dl/extractor/youtube.py\", line 1794, in _real_extract\n",
            "    'uploader_id': self._search_regex(r'/(?:channel|user)/([^/?&#]+)', owner_profile_url, 'uploader id') if owner_profile_url else None,\n",
            "  File \"/usr/local/lib/python3.10/dist-packages/youtube_dl/extractor/common.py\", line 1012, in _search_regex\n",
            "    raise RegexNotFoundError('Unable to extract %s' % _name)\n",
            "youtube_dl.utils.RegexNotFoundError: Unable to extract uploader id; please report this issue on https://yt-dl.org/bug . Make sure you are using the latest version; see  https://yt-dl.org/update  on how to update. Be sure to call youtube-dl with the --verbose flag and include its complete output.\n",
            "\n",
            "[debug] Encodings: locale UTF-8, fs utf-8, out UTF-8, pref UTF-8\n",
            "[debug] youtube-dl version 2021.12.17\n",
            "[debug] Python version 3.10.12 (CPython) - Linux-5.15.120+-x86_64-with-glibc2.35\n",
            "[debug] exe versions: ffmpeg 4.4.2, ffprobe 4.4.2\n",
            "[debug] Proxy map: {'colab_language_server': '/usr/colab/bin/language_service'}\n"
          ]
        },
        {
          "output_type": "stream",
          "name": "stdout",
          "text": [
            "Error downloading video 0PMFAO4TIU4: ERROR: Unable to extract uploader id; please report this issue on https://yt-dl.org/bug . Make sure you are using the latest version; see  https://yt-dl.org/update  on how to update. Be sure to call youtube-dl with the --verbose flag and include its complete output.\n",
            "[youtube] 0Q1JLNfm8oU: Downloading webpage\n"
          ]
        },
        {
          "output_type": "stream",
          "name": "stderr",
          "text": [
            "ERROR: Unable to extract uploader id; please report this issue on https://yt-dl.org/bug . Make sure you are using the latest version; see  https://yt-dl.org/update  on how to update. Be sure to call youtube-dl with the --verbose flag and include its complete output.\n",
            "Traceback (most recent call last):\n",
            "  File \"/usr/local/lib/python3.10/dist-packages/youtube_dl/YoutubeDL.py\", line 815, in wrapper\n",
            "    return func(self, *args, **kwargs)\n",
            "  File \"/usr/local/lib/python3.10/dist-packages/youtube_dl/YoutubeDL.py\", line 836, in __extract_info\n",
            "    ie_result = ie.extract(url)\n",
            "  File \"/usr/local/lib/python3.10/dist-packages/youtube_dl/extractor/common.py\", line 534, in extract\n",
            "    ie_result = self._real_extract(url)\n",
            "  File \"/usr/local/lib/python3.10/dist-packages/youtube_dl/extractor/youtube.py\", line 1794, in _real_extract\n",
            "    'uploader_id': self._search_regex(r'/(?:channel|user)/([^/?&#]+)', owner_profile_url, 'uploader id') if owner_profile_url else None,\n",
            "  File \"/usr/local/lib/python3.10/dist-packages/youtube_dl/extractor/common.py\", line 1012, in _search_regex\n",
            "    raise RegexNotFoundError('Unable to extract %s' % _name)\n",
            "youtube_dl.utils.RegexNotFoundError: Unable to extract uploader id; please report this issue on https://yt-dl.org/bug . Make sure you are using the latest version; see  https://yt-dl.org/update  on how to update. Be sure to call youtube-dl with the --verbose flag and include its complete output.\n",
            "\n",
            "[debug] Encodings: locale UTF-8, fs utf-8, out UTF-8, pref UTF-8\n",
            "[debug] youtube-dl version 2021.12.17\n",
            "[debug] Python version 3.10.12 (CPython) - Linux-5.15.120+-x86_64-with-glibc2.35\n",
            "[debug] exe versions: ffmpeg 4.4.2, ffprobe 4.4.2\n",
            "[debug] Proxy map: {'colab_language_server': '/usr/colab/bin/language_service'}\n"
          ]
        },
        {
          "output_type": "stream",
          "name": "stdout",
          "text": [
            "Error downloading video 0Q1JLNfm8oU: ERROR: Unable to extract uploader id; please report this issue on https://yt-dl.org/bug . Make sure you are using the latest version; see  https://yt-dl.org/update  on how to update. Be sure to call youtube-dl with the --verbose flag and include its complete output.\n",
            "[youtube] 0QAaln-hjPw: Downloading webpage\n"
          ]
        },
        {
          "output_type": "stream",
          "name": "stderr",
          "text": [
            "ERROR: Unable to extract uploader id; please report this issue on https://yt-dl.org/bug . Make sure you are using the latest version; see  https://yt-dl.org/update  on how to update. Be sure to call youtube-dl with the --verbose flag and include its complete output.\n",
            "Traceback (most recent call last):\n",
            "  File \"/usr/local/lib/python3.10/dist-packages/youtube_dl/YoutubeDL.py\", line 815, in wrapper\n",
            "    return func(self, *args, **kwargs)\n",
            "  File \"/usr/local/lib/python3.10/dist-packages/youtube_dl/YoutubeDL.py\", line 836, in __extract_info\n",
            "    ie_result = ie.extract(url)\n",
            "  File \"/usr/local/lib/python3.10/dist-packages/youtube_dl/extractor/common.py\", line 534, in extract\n",
            "    ie_result = self._real_extract(url)\n",
            "  File \"/usr/local/lib/python3.10/dist-packages/youtube_dl/extractor/youtube.py\", line 1794, in _real_extract\n",
            "    'uploader_id': self._search_regex(r'/(?:channel|user)/([^/?&#]+)', owner_profile_url, 'uploader id') if owner_profile_url else None,\n",
            "  File \"/usr/local/lib/python3.10/dist-packages/youtube_dl/extractor/common.py\", line 1012, in _search_regex\n",
            "    raise RegexNotFoundError('Unable to extract %s' % _name)\n",
            "youtube_dl.utils.RegexNotFoundError: Unable to extract uploader id; please report this issue on https://yt-dl.org/bug . Make sure you are using the latest version; see  https://yt-dl.org/update  on how to update. Be sure to call youtube-dl with the --verbose flag and include its complete output.\n",
            "\n",
            "[debug] Encodings: locale UTF-8, fs utf-8, out UTF-8, pref UTF-8\n",
            "[debug] youtube-dl version 2021.12.17\n",
            "[debug] Python version 3.10.12 (CPython) - Linux-5.15.120+-x86_64-with-glibc2.35\n",
            "[debug] exe versions: ffmpeg 4.4.2, ffprobe 4.4.2\n",
            "[debug] Proxy map: {'colab_language_server': '/usr/colab/bin/language_service'}\n"
          ]
        },
        {
          "output_type": "stream",
          "name": "stdout",
          "text": [
            "Error downloading video 0QAaln-hjPw: ERROR: Unable to extract uploader id; please report this issue on https://yt-dl.org/bug . Make sure you are using the latest version; see  https://yt-dl.org/update  on how to update. Be sure to call youtube-dl with the --verbose flag and include its complete output.\n",
            "[youtube] 0QYNC7J05XI: Downloading webpage\n"
          ]
        },
        {
          "output_type": "stream",
          "name": "stderr",
          "text": [
            "ERROR: Unable to extract uploader id; please report this issue on https://yt-dl.org/bug . Make sure you are using the latest version; see  https://yt-dl.org/update  on how to update. Be sure to call youtube-dl with the --verbose flag and include its complete output.\n",
            "Traceback (most recent call last):\n",
            "  File \"/usr/local/lib/python3.10/dist-packages/youtube_dl/YoutubeDL.py\", line 815, in wrapper\n",
            "    return func(self, *args, **kwargs)\n",
            "  File \"/usr/local/lib/python3.10/dist-packages/youtube_dl/YoutubeDL.py\", line 836, in __extract_info\n",
            "    ie_result = ie.extract(url)\n",
            "  File \"/usr/local/lib/python3.10/dist-packages/youtube_dl/extractor/common.py\", line 534, in extract\n",
            "    ie_result = self._real_extract(url)\n",
            "  File \"/usr/local/lib/python3.10/dist-packages/youtube_dl/extractor/youtube.py\", line 1794, in _real_extract\n",
            "    'uploader_id': self._search_regex(r'/(?:channel|user)/([^/?&#]+)', owner_profile_url, 'uploader id') if owner_profile_url else None,\n",
            "  File \"/usr/local/lib/python3.10/dist-packages/youtube_dl/extractor/common.py\", line 1012, in _search_regex\n",
            "    raise RegexNotFoundError('Unable to extract %s' % _name)\n",
            "youtube_dl.utils.RegexNotFoundError: Unable to extract uploader id; please report this issue on https://yt-dl.org/bug . Make sure you are using the latest version; see  https://yt-dl.org/update  on how to update. Be sure to call youtube-dl with the --verbose flag and include its complete output.\n",
            "\n",
            "[debug] Encodings: locale UTF-8, fs utf-8, out UTF-8, pref UTF-8\n",
            "[debug] youtube-dl version 2021.12.17\n",
            "[debug] Python version 3.10.12 (CPython) - Linux-5.15.120+-x86_64-with-glibc2.35\n",
            "[debug] exe versions: ffmpeg 4.4.2, ffprobe 4.4.2\n",
            "[debug] Proxy map: {'colab_language_server': '/usr/colab/bin/language_service'}\n"
          ]
        },
        {
          "output_type": "stream",
          "name": "stdout",
          "text": [
            "Error downloading video 0QYNC7J05XI: ERROR: Unable to extract uploader id; please report this issue on https://yt-dl.org/bug . Make sure you are using the latest version; see  https://yt-dl.org/update  on how to update. Be sure to call youtube-dl with the --verbose flag and include its complete output.\n",
            "[youtube] 0RDz0rLakwc: Downloading webpage\n",
            "[youtube] 0RDz0rLakwc: Downloading MPD manifest\n"
          ]
        },
        {
          "output_type": "stream",
          "name": "stderr",
          "text": [
            "ERROR: Unable to extract uploader id; please report this issue on https://yt-dl.org/bug . Make sure you are using the latest version; see  https://yt-dl.org/update  on how to update. Be sure to call youtube-dl with the --verbose flag and include its complete output.\n",
            "Traceback (most recent call last):\n",
            "  File \"/usr/local/lib/python3.10/dist-packages/youtube_dl/YoutubeDL.py\", line 815, in wrapper\n",
            "    return func(self, *args, **kwargs)\n",
            "  File \"/usr/local/lib/python3.10/dist-packages/youtube_dl/YoutubeDL.py\", line 836, in __extract_info\n",
            "    ie_result = ie.extract(url)\n",
            "  File \"/usr/local/lib/python3.10/dist-packages/youtube_dl/extractor/common.py\", line 534, in extract\n",
            "    ie_result = self._real_extract(url)\n",
            "  File \"/usr/local/lib/python3.10/dist-packages/youtube_dl/extractor/youtube.py\", line 1794, in _real_extract\n",
            "    'uploader_id': self._search_regex(r'/(?:channel|user)/([^/?&#]+)', owner_profile_url, 'uploader id') if owner_profile_url else None,\n",
            "  File \"/usr/local/lib/python3.10/dist-packages/youtube_dl/extractor/common.py\", line 1012, in _search_regex\n",
            "    raise RegexNotFoundError('Unable to extract %s' % _name)\n",
            "youtube_dl.utils.RegexNotFoundError: Unable to extract uploader id; please report this issue on https://yt-dl.org/bug . Make sure you are using the latest version; see  https://yt-dl.org/update  on how to update. Be sure to call youtube-dl with the --verbose flag and include its complete output.\n",
            "\n",
            "[debug] Encodings: locale UTF-8, fs utf-8, out UTF-8, pref UTF-8\n",
            "[debug] youtube-dl version 2021.12.17\n",
            "[debug] Python version 3.10.12 (CPython) - Linux-5.15.120+-x86_64-with-glibc2.35\n",
            "[debug] exe versions: ffmpeg 4.4.2, ffprobe 4.4.2\n",
            "[debug] Proxy map: {'colab_language_server': '/usr/colab/bin/language_service'}\n"
          ]
        },
        {
          "output_type": "stream",
          "name": "stdout",
          "text": [
            "Error downloading video 0RDz0rLakwc: ERROR: Unable to extract uploader id; please report this issue on https://yt-dl.org/bug . Make sure you are using the latest version; see  https://yt-dl.org/update  on how to update. Be sure to call youtube-dl with the --verbose flag and include its complete output.\n",
            "[youtube] 0RcMzUdXDRQ: Downloading webpage\n"
          ]
        },
        {
          "output_type": "stream",
          "name": "stderr",
          "text": [
            "ERROR: Unable to extract uploader id; please report this issue on https://yt-dl.org/bug . Make sure you are using the latest version; see  https://yt-dl.org/update  on how to update. Be sure to call youtube-dl with the --verbose flag and include its complete output.\n",
            "Traceback (most recent call last):\n",
            "  File \"/usr/local/lib/python3.10/dist-packages/youtube_dl/YoutubeDL.py\", line 815, in wrapper\n",
            "    return func(self, *args, **kwargs)\n",
            "  File \"/usr/local/lib/python3.10/dist-packages/youtube_dl/YoutubeDL.py\", line 836, in __extract_info\n",
            "    ie_result = ie.extract(url)\n",
            "  File \"/usr/local/lib/python3.10/dist-packages/youtube_dl/extractor/common.py\", line 534, in extract\n",
            "    ie_result = self._real_extract(url)\n",
            "  File \"/usr/local/lib/python3.10/dist-packages/youtube_dl/extractor/youtube.py\", line 1794, in _real_extract\n",
            "    'uploader_id': self._search_regex(r'/(?:channel|user)/([^/?&#]+)', owner_profile_url, 'uploader id') if owner_profile_url else None,\n",
            "  File \"/usr/local/lib/python3.10/dist-packages/youtube_dl/extractor/common.py\", line 1012, in _search_regex\n",
            "    raise RegexNotFoundError('Unable to extract %s' % _name)\n",
            "youtube_dl.utils.RegexNotFoundError: Unable to extract uploader id; please report this issue on https://yt-dl.org/bug . Make sure you are using the latest version; see  https://yt-dl.org/update  on how to update. Be sure to call youtube-dl with the --verbose flag and include its complete output.\n",
            "\n",
            "[debug] Encodings: locale UTF-8, fs utf-8, out UTF-8, pref UTF-8\n",
            "[debug] youtube-dl version 2021.12.17\n",
            "[debug] Python version 3.10.12 (CPython) - Linux-5.15.120+-x86_64-with-glibc2.35\n",
            "[debug] exe versions: ffmpeg 4.4.2, ffprobe 4.4.2\n",
            "[debug] Proxy map: {'colab_language_server': '/usr/colab/bin/language_service'}\n"
          ]
        },
        {
          "output_type": "stream",
          "name": "stdout",
          "text": [
            "Error downloading video 0RcMzUdXDRQ: ERROR: Unable to extract uploader id; please report this issue on https://yt-dl.org/bug . Make sure you are using the latest version; see  https://yt-dl.org/update  on how to update. Be sure to call youtube-dl with the --verbose flag and include its complete output.\n",
            "[youtube] 0RgGrVklaao: Downloading webpage\n"
          ]
        },
        {
          "output_type": "stream",
          "name": "stderr",
          "text": [
            "ERROR: Unable to extract uploader id; please report this issue on https://yt-dl.org/bug . Make sure you are using the latest version; see  https://yt-dl.org/update  on how to update. Be sure to call youtube-dl with the --verbose flag and include its complete output.\n",
            "Traceback (most recent call last):\n",
            "  File \"/usr/local/lib/python3.10/dist-packages/youtube_dl/YoutubeDL.py\", line 815, in wrapper\n",
            "    return func(self, *args, **kwargs)\n",
            "  File \"/usr/local/lib/python3.10/dist-packages/youtube_dl/YoutubeDL.py\", line 836, in __extract_info\n",
            "    ie_result = ie.extract(url)\n",
            "  File \"/usr/local/lib/python3.10/dist-packages/youtube_dl/extractor/common.py\", line 534, in extract\n",
            "    ie_result = self._real_extract(url)\n",
            "  File \"/usr/local/lib/python3.10/dist-packages/youtube_dl/extractor/youtube.py\", line 1794, in _real_extract\n",
            "    'uploader_id': self._search_regex(r'/(?:channel|user)/([^/?&#]+)', owner_profile_url, 'uploader id') if owner_profile_url else None,\n",
            "  File \"/usr/local/lib/python3.10/dist-packages/youtube_dl/extractor/common.py\", line 1012, in _search_regex\n",
            "    raise RegexNotFoundError('Unable to extract %s' % _name)\n",
            "youtube_dl.utils.RegexNotFoundError: Unable to extract uploader id; please report this issue on https://yt-dl.org/bug . Make sure you are using the latest version; see  https://yt-dl.org/update  on how to update. Be sure to call youtube-dl with the --verbose flag and include its complete output.\n",
            "\n",
            "[debug] Encodings: locale UTF-8, fs utf-8, out UTF-8, pref UTF-8\n",
            "[debug] youtube-dl version 2021.12.17\n",
            "[debug] Python version 3.10.12 (CPython) - Linux-5.15.120+-x86_64-with-glibc2.35\n",
            "[debug] exe versions: ffmpeg 4.4.2, ffprobe 4.4.2\n",
            "[debug] Proxy map: {'colab_language_server': '/usr/colab/bin/language_service'}\n"
          ]
        },
        {
          "output_type": "stream",
          "name": "stdout",
          "text": [
            "Error downloading video 0RgGrVklaao: ERROR: Unable to extract uploader id; please report this issue on https://yt-dl.org/bug . Make sure you are using the latest version; see  https://yt-dl.org/update  on how to update. Be sure to call youtube-dl with the --verbose flag and include its complete output.\n",
            "[youtube] 0RpkkfkUBRU: Downloading webpage\n"
          ]
        },
        {
          "output_type": "stream",
          "name": "stderr",
          "text": [
            "ERROR: Unable to extract uploader id; please report this issue on https://yt-dl.org/bug . Make sure you are using the latest version; see  https://yt-dl.org/update  on how to update. Be sure to call youtube-dl with the --verbose flag and include its complete output.\n",
            "Traceback (most recent call last):\n",
            "  File \"/usr/local/lib/python3.10/dist-packages/youtube_dl/YoutubeDL.py\", line 815, in wrapper\n",
            "    return func(self, *args, **kwargs)\n",
            "  File \"/usr/local/lib/python3.10/dist-packages/youtube_dl/YoutubeDL.py\", line 836, in __extract_info\n",
            "    ie_result = ie.extract(url)\n",
            "  File \"/usr/local/lib/python3.10/dist-packages/youtube_dl/extractor/common.py\", line 534, in extract\n",
            "    ie_result = self._real_extract(url)\n",
            "  File \"/usr/local/lib/python3.10/dist-packages/youtube_dl/extractor/youtube.py\", line 1794, in _real_extract\n",
            "    'uploader_id': self._search_regex(r'/(?:channel|user)/([^/?&#]+)', owner_profile_url, 'uploader id') if owner_profile_url else None,\n",
            "  File \"/usr/local/lib/python3.10/dist-packages/youtube_dl/extractor/common.py\", line 1012, in _search_regex\n",
            "    raise RegexNotFoundError('Unable to extract %s' % _name)\n",
            "youtube_dl.utils.RegexNotFoundError: Unable to extract uploader id; please report this issue on https://yt-dl.org/bug . Make sure you are using the latest version; see  https://yt-dl.org/update  on how to update. Be sure to call youtube-dl with the --verbose flag and include its complete output.\n",
            "\n",
            "[debug] Encodings: locale UTF-8, fs utf-8, out UTF-8, pref UTF-8\n",
            "[debug] youtube-dl version 2021.12.17\n",
            "[debug] Python version 3.10.12 (CPython) - Linux-5.15.120+-x86_64-with-glibc2.35\n"
          ]
        },
        {
          "output_type": "stream",
          "name": "stdout",
          "text": [
            "Error downloading video 0RpkkfkUBRU: ERROR: Unable to extract uploader id; please report this issue on https://yt-dl.org/bug . Make sure you are using the latest version; see  https://yt-dl.org/update  on how to update. Be sure to call youtube-dl with the --verbose flag and include its complete output.\n"
          ]
        },
        {
          "output_type": "stream",
          "name": "stderr",
          "text": [
            "[debug] exe versions: ffmpeg 4.4.2, ffprobe 4.4.2\n",
            "[debug] Proxy map: {'colab_language_server': '/usr/colab/bin/language_service'}\n"
          ]
        },
        {
          "output_type": "stream",
          "name": "stdout",
          "text": [
            "[youtube] 0S5zWt91Bwo: Downloading webpage\n"
          ]
        },
        {
          "output_type": "stream",
          "name": "stderr",
          "text": [
            "ERROR: Unable to extract uploader id; please report this issue on https://yt-dl.org/bug . Make sure you are using the latest version; see  https://yt-dl.org/update  on how to update. Be sure to call youtube-dl with the --verbose flag and include its complete output.\n",
            "Traceback (most recent call last):\n",
            "  File \"/usr/local/lib/python3.10/dist-packages/youtube_dl/YoutubeDL.py\", line 815, in wrapper\n",
            "    return func(self, *args, **kwargs)\n",
            "  File \"/usr/local/lib/python3.10/dist-packages/youtube_dl/YoutubeDL.py\", line 836, in __extract_info\n",
            "    ie_result = ie.extract(url)\n",
            "  File \"/usr/local/lib/python3.10/dist-packages/youtube_dl/extractor/common.py\", line 534, in extract\n",
            "    ie_result = self._real_extract(url)\n",
            "  File \"/usr/local/lib/python3.10/dist-packages/youtube_dl/extractor/youtube.py\", line 1794, in _real_extract\n",
            "    'uploader_id': self._search_regex(r'/(?:channel|user)/([^/?&#]+)', owner_profile_url, 'uploader id') if owner_profile_url else None,\n",
            "  File \"/usr/local/lib/python3.10/dist-packages/youtube_dl/extractor/common.py\", line 1012, in _search_regex\n",
            "    raise RegexNotFoundError('Unable to extract %s' % _name)\n",
            "youtube_dl.utils.RegexNotFoundError: Unable to extract uploader id; please report this issue on https://yt-dl.org/bug . Make sure you are using the latest version; see  https://yt-dl.org/update  on how to update. Be sure to call youtube-dl with the --verbose flag and include its complete output.\n",
            "\n",
            "[debug] Encodings: locale UTF-8, fs utf-8, out UTF-8, pref UTF-8\n",
            "[debug] youtube-dl version 2021.12.17\n",
            "[debug] Python version 3.10.12 (CPython) - Linux-5.15.120+-x86_64-with-glibc2.35\n"
          ]
        },
        {
          "output_type": "stream",
          "name": "stdout",
          "text": [
            "Error downloading video 0S5zWt91Bwo: ERROR: Unable to extract uploader id; please report this issue on https://yt-dl.org/bug . Make sure you are using the latest version; see  https://yt-dl.org/update  on how to update. Be sure to call youtube-dl with the --verbose flag and include its complete output.\n"
          ]
        },
        {
          "output_type": "stream",
          "name": "stderr",
          "text": [
            "[debug] exe versions: ffmpeg 4.4.2, ffprobe 4.4.2\n",
            "[debug] Proxy map: {'colab_language_server': '/usr/colab/bin/language_service'}\n"
          ]
        },
        {
          "output_type": "stream",
          "name": "stdout",
          "text": [
            "[youtube] 0SNhAKyXtC8: Downloading webpage\n"
          ]
        },
        {
          "output_type": "stream",
          "name": "stderr",
          "text": [
            "ERROR: Unable to extract uploader id; please report this issue on https://yt-dl.org/bug . Make sure you are using the latest version; see  https://yt-dl.org/update  on how to update. Be sure to call youtube-dl with the --verbose flag and include its complete output.\n",
            "Traceback (most recent call last):\n",
            "  File \"/usr/local/lib/python3.10/dist-packages/youtube_dl/YoutubeDL.py\", line 815, in wrapper\n",
            "    return func(self, *args, **kwargs)\n",
            "  File \"/usr/local/lib/python3.10/dist-packages/youtube_dl/YoutubeDL.py\", line 836, in __extract_info\n",
            "    ie_result = ie.extract(url)\n",
            "  File \"/usr/local/lib/python3.10/dist-packages/youtube_dl/extractor/common.py\", line 534, in extract\n",
            "    ie_result = self._real_extract(url)\n",
            "  File \"/usr/local/lib/python3.10/dist-packages/youtube_dl/extractor/youtube.py\", line 1794, in _real_extract\n",
            "    'uploader_id': self._search_regex(r'/(?:channel|user)/([^/?&#]+)', owner_profile_url, 'uploader id') if owner_profile_url else None,\n",
            "  File \"/usr/local/lib/python3.10/dist-packages/youtube_dl/extractor/common.py\", line 1012, in _search_regex\n",
            "    raise RegexNotFoundError('Unable to extract %s' % _name)\n",
            "youtube_dl.utils.RegexNotFoundError: Unable to extract uploader id; please report this issue on https://yt-dl.org/bug . Make sure you are using the latest version; see  https://yt-dl.org/update  on how to update. Be sure to call youtube-dl with the --verbose flag and include its complete output.\n",
            "\n",
            "[debug] Encodings: locale UTF-8, fs utf-8, out UTF-8, pref UTF-8\n",
            "[debug] youtube-dl version 2021.12.17\n",
            "[debug] Python version 3.10.12 (CPython) - Linux-5.15.120+-x86_64-with-glibc2.35\n"
          ]
        },
        {
          "output_type": "stream",
          "name": "stdout",
          "text": [
            "Error downloading video 0SNhAKyXtC8: ERROR: Unable to extract uploader id; please report this issue on https://yt-dl.org/bug . Make sure you are using the latest version; see  https://yt-dl.org/update  on how to update. Be sure to call youtube-dl with the --verbose flag and include its complete output.\n"
          ]
        },
        {
          "output_type": "stream",
          "name": "stderr",
          "text": [
            "[debug] exe versions: ffmpeg 4.4.2, ffprobe 4.4.2\n",
            "[debug] Proxy map: {'colab_language_server': '/usr/colab/bin/language_service'}\n"
          ]
        },
        {
          "output_type": "stream",
          "name": "stdout",
          "text": [
            "[youtube] 0SnjS2w_c80: Downloading webpage\n"
          ]
        },
        {
          "output_type": "stream",
          "name": "stderr",
          "text": [
            "ERROR: Unable to extract uploader id; please report this issue on https://yt-dl.org/bug . Make sure you are using the latest version; see  https://yt-dl.org/update  on how to update. Be sure to call youtube-dl with the --verbose flag and include its complete output.\n",
            "Traceback (most recent call last):\n",
            "  File \"/usr/local/lib/python3.10/dist-packages/youtube_dl/YoutubeDL.py\", line 815, in wrapper\n",
            "    return func(self, *args, **kwargs)\n",
            "  File \"/usr/local/lib/python3.10/dist-packages/youtube_dl/YoutubeDL.py\", line 836, in __extract_info\n",
            "    ie_result = ie.extract(url)\n",
            "  File \"/usr/local/lib/python3.10/dist-packages/youtube_dl/extractor/common.py\", line 534, in extract\n",
            "    ie_result = self._real_extract(url)\n",
            "  File \"/usr/local/lib/python3.10/dist-packages/youtube_dl/extractor/youtube.py\", line 1794, in _real_extract\n",
            "    'uploader_id': self._search_regex(r'/(?:channel|user)/([^/?&#]+)', owner_profile_url, 'uploader id') if owner_profile_url else None,\n",
            "  File \"/usr/local/lib/python3.10/dist-packages/youtube_dl/extractor/common.py\", line 1012, in _search_regex\n",
            "    raise RegexNotFoundError('Unable to extract %s' % _name)\n",
            "youtube_dl.utils.RegexNotFoundError: Unable to extract uploader id; please report this issue on https://yt-dl.org/bug . Make sure you are using the latest version; see  https://yt-dl.org/update  on how to update. Be sure to call youtube-dl with the --verbose flag and include its complete output.\n",
            "\n",
            "[debug] Encodings: locale UTF-8, fs utf-8, out UTF-8, pref UTF-8\n",
            "[debug] youtube-dl version 2021.12.17\n",
            "[debug] Python version 3.10.12 (CPython) - Linux-5.15.120+-x86_64-with-glibc2.35\n"
          ]
        },
        {
          "output_type": "stream",
          "name": "stdout",
          "text": [
            "Error downloading video 0SnjS2w_c80: ERROR: Unable to extract uploader id; please report this issue on https://yt-dl.org/bug . Make sure you are using the latest version; see  https://yt-dl.org/update  on how to update. Be sure to call youtube-dl with the --verbose flag and include its complete output.\n"
          ]
        },
        {
          "output_type": "stream",
          "name": "stderr",
          "text": [
            "[debug] exe versions: ffmpeg 4.4.2, ffprobe 4.4.2\n",
            "[debug] Proxy map: {'colab_language_server': '/usr/colab/bin/language_service'}\n"
          ]
        },
        {
          "output_type": "stream",
          "name": "stdout",
          "text": [
            "[youtube] 0TV9zvfwFhs: Downloading webpage\n",
            "[youtube] 0TV9zvfwFhs: Downloading MPD manifest\n"
          ]
        },
        {
          "output_type": "stream",
          "name": "stderr",
          "text": [
            "ERROR: Unable to extract uploader id; please report this issue on https://yt-dl.org/bug . Make sure you are using the latest version; see  https://yt-dl.org/update  on how to update. Be sure to call youtube-dl with the --verbose flag and include its complete output.\n",
            "Traceback (most recent call last):\n",
            "  File \"/usr/local/lib/python3.10/dist-packages/youtube_dl/YoutubeDL.py\", line 815, in wrapper\n",
            "    return func(self, *args, **kwargs)\n",
            "  File \"/usr/local/lib/python3.10/dist-packages/youtube_dl/YoutubeDL.py\", line 836, in __extract_info\n",
            "    ie_result = ie.extract(url)\n",
            "  File \"/usr/local/lib/python3.10/dist-packages/youtube_dl/extractor/common.py\", line 534, in extract\n",
            "    ie_result = self._real_extract(url)\n",
            "  File \"/usr/local/lib/python3.10/dist-packages/youtube_dl/extractor/youtube.py\", line 1794, in _real_extract\n",
            "    'uploader_id': self._search_regex(r'/(?:channel|user)/([^/?&#]+)', owner_profile_url, 'uploader id') if owner_profile_url else None,\n",
            "  File \"/usr/local/lib/python3.10/dist-packages/youtube_dl/extractor/common.py\", line 1012, in _search_regex\n",
            "    raise RegexNotFoundError('Unable to extract %s' % _name)\n",
            "youtube_dl.utils.RegexNotFoundError: Unable to extract uploader id; please report this issue on https://yt-dl.org/bug . Make sure you are using the latest version; see  https://yt-dl.org/update  on how to update. Be sure to call youtube-dl with the --verbose flag and include its complete output.\n",
            "\n",
            "[debug] Encodings: locale UTF-8, fs utf-8, out UTF-8, pref UTF-8\n",
            "[debug] youtube-dl version 2021.12.17\n",
            "[debug] Python version 3.10.12 (CPython) - Linux-5.15.120+-x86_64-with-glibc2.35\n"
          ]
        },
        {
          "output_type": "stream",
          "name": "stdout",
          "text": [
            "Error downloading video 0TV9zvfwFhs: ERROR: Unable to extract uploader id; please report this issue on https://yt-dl.org/bug . Make sure you are using the latest version; see  https://yt-dl.org/update  on how to update. Be sure to call youtube-dl with the --verbose flag and include its complete output.\n"
          ]
        },
        {
          "output_type": "stream",
          "name": "stderr",
          "text": [
            "[debug] exe versions: ffmpeg 4.4.2, ffprobe 4.4.2\n",
            "[debug] Proxy map: {'colab_language_server': '/usr/colab/bin/language_service'}\n"
          ]
        },
        {
          "output_type": "stream",
          "name": "stdout",
          "text": [
            "[youtube] 0TiEO149Ydc: Downloading webpage\n"
          ]
        },
        {
          "output_type": "stream",
          "name": "stderr",
          "text": [
            "ERROR: Unable to extract uploader id; please report this issue on https://yt-dl.org/bug . Make sure you are using the latest version; see  https://yt-dl.org/update  on how to update. Be sure to call youtube-dl with the --verbose flag and include its complete output.\n",
            "Traceback (most recent call last):\n",
            "  File \"/usr/local/lib/python3.10/dist-packages/youtube_dl/YoutubeDL.py\", line 815, in wrapper\n",
            "    return func(self, *args, **kwargs)\n",
            "  File \"/usr/local/lib/python3.10/dist-packages/youtube_dl/YoutubeDL.py\", line 836, in __extract_info\n",
            "    ie_result = ie.extract(url)\n",
            "  File \"/usr/local/lib/python3.10/dist-packages/youtube_dl/extractor/common.py\", line 534, in extract\n",
            "    ie_result = self._real_extract(url)\n",
            "  File \"/usr/local/lib/python3.10/dist-packages/youtube_dl/extractor/youtube.py\", line 1794, in _real_extract\n",
            "    'uploader_id': self._search_regex(r'/(?:channel|user)/([^/?&#]+)', owner_profile_url, 'uploader id') if owner_profile_url else None,\n",
            "  File \"/usr/local/lib/python3.10/dist-packages/youtube_dl/extractor/common.py\", line 1012, in _search_regex\n",
            "    raise RegexNotFoundError('Unable to extract %s' % _name)\n",
            "youtube_dl.utils.RegexNotFoundError: Unable to extract uploader id; please report this issue on https://yt-dl.org/bug . Make sure you are using the latest version; see  https://yt-dl.org/update  on how to update. Be sure to call youtube-dl with the --verbose flag and include its complete output.\n",
            "\n",
            "[debug] Encodings: locale UTF-8, fs utf-8, out UTF-8, pref UTF-8\n",
            "[debug] youtube-dl version 2021.12.17\n",
            "[debug] Python version 3.10.12 (CPython) - Linux-5.15.120+-x86_64-with-glibc2.35\n"
          ]
        },
        {
          "output_type": "stream",
          "name": "stdout",
          "text": [
            "Error downloading video 0TiEO149Ydc: ERROR: Unable to extract uploader id; please report this issue on https://yt-dl.org/bug . Make sure you are using the latest version; see  https://yt-dl.org/update  on how to update. Be sure to call youtube-dl with the --verbose flag and include its complete output.\n"
          ]
        },
        {
          "output_type": "stream",
          "name": "stderr",
          "text": [
            "[debug] exe versions: ffmpeg 4.4.2, ffprobe 4.4.2\n",
            "[debug] Proxy map: {'colab_language_server': '/usr/colab/bin/language_service'}\n"
          ]
        },
        {
          "output_type": "stream",
          "name": "stdout",
          "text": [
            "[youtube] 0Ubu4BqSWmU: Downloading webpage\n"
          ]
        },
        {
          "output_type": "stream",
          "name": "stderr",
          "text": [
            "ERROR: Unable to extract uploader id; please report this issue on https://yt-dl.org/bug . Make sure you are using the latest version; see  https://yt-dl.org/update  on how to update. Be sure to call youtube-dl with the --verbose flag and include its complete output.\n",
            "Traceback (most recent call last):\n",
            "  File \"/usr/local/lib/python3.10/dist-packages/youtube_dl/YoutubeDL.py\", line 815, in wrapper\n",
            "    return func(self, *args, **kwargs)\n",
            "  File \"/usr/local/lib/python3.10/dist-packages/youtube_dl/YoutubeDL.py\", line 836, in __extract_info\n",
            "    ie_result = ie.extract(url)\n",
            "  File \"/usr/local/lib/python3.10/dist-packages/youtube_dl/extractor/common.py\", line 534, in extract\n",
            "    ie_result = self._real_extract(url)\n",
            "  File \"/usr/local/lib/python3.10/dist-packages/youtube_dl/extractor/youtube.py\", line 1794, in _real_extract\n",
            "    'uploader_id': self._search_regex(r'/(?:channel|user)/([^/?&#]+)', owner_profile_url, 'uploader id') if owner_profile_url else None,\n",
            "  File \"/usr/local/lib/python3.10/dist-packages/youtube_dl/extractor/common.py\", line 1012, in _search_regex\n",
            "    raise RegexNotFoundError('Unable to extract %s' % _name)\n",
            "youtube_dl.utils.RegexNotFoundError: Unable to extract uploader id; please report this issue on https://yt-dl.org/bug . Make sure you are using the latest version; see  https://yt-dl.org/update  on how to update. Be sure to call youtube-dl with the --verbose flag and include its complete output.\n",
            "\n",
            "[debug] Encodings: locale UTF-8, fs utf-8, out UTF-8, pref UTF-8\n",
            "[debug] youtube-dl version 2021.12.17\n",
            "[debug] Python version 3.10.12 (CPython) - Linux-5.15.120+-x86_64-with-glibc2.35\n",
            "[debug] exe versions: ffmpeg 4.4.2, ffprobe 4.4.2\n",
            "[debug] Proxy map: {'colab_language_server': '/usr/colab/bin/language_service'}\n"
          ]
        },
        {
          "output_type": "stream",
          "name": "stdout",
          "text": [
            "Error downloading video 0Ubu4BqSWmU: ERROR: Unable to extract uploader id; please report this issue on https://yt-dl.org/bug . Make sure you are using the latest version; see  https://yt-dl.org/update  on how to update. Be sure to call youtube-dl with the --verbose flag and include its complete output.\n",
            "[youtube] 0VjPCd62oKg: Downloading webpage\n"
          ]
        },
        {
          "output_type": "stream",
          "name": "stderr",
          "text": [
            "ERROR: Unable to extract uploader id; please report this issue on https://yt-dl.org/bug . Make sure you are using the latest version; see  https://yt-dl.org/update  on how to update. Be sure to call youtube-dl with the --verbose flag and include its complete output.\n",
            "Traceback (most recent call last):\n",
            "  File \"/usr/local/lib/python3.10/dist-packages/youtube_dl/YoutubeDL.py\", line 815, in wrapper\n",
            "    return func(self, *args, **kwargs)\n",
            "  File \"/usr/local/lib/python3.10/dist-packages/youtube_dl/YoutubeDL.py\", line 836, in __extract_info\n",
            "    ie_result = ie.extract(url)\n",
            "  File \"/usr/local/lib/python3.10/dist-packages/youtube_dl/extractor/common.py\", line 534, in extract\n",
            "    ie_result = self._real_extract(url)\n",
            "  File \"/usr/local/lib/python3.10/dist-packages/youtube_dl/extractor/youtube.py\", line 1794, in _real_extract\n",
            "    'uploader_id': self._search_regex(r'/(?:channel|user)/([^/?&#]+)', owner_profile_url, 'uploader id') if owner_profile_url else None,\n",
            "  File \"/usr/local/lib/python3.10/dist-packages/youtube_dl/extractor/common.py\", line 1012, in _search_regex\n",
            "    raise RegexNotFoundError('Unable to extract %s' % _name)\n",
            "youtube_dl.utils.RegexNotFoundError: Unable to extract uploader id; please report this issue on https://yt-dl.org/bug . Make sure you are using the latest version; see  https://yt-dl.org/update  on how to update. Be sure to call youtube-dl with the --verbose flag and include its complete output.\n",
            "\n",
            "[debug] Encodings: locale UTF-8, fs utf-8, out UTF-8, pref UTF-8\n",
            "[debug] youtube-dl version 2021.12.17\n",
            "[debug] Python version 3.10.12 (CPython) - Linux-5.15.120+-x86_64-with-glibc2.35\n",
            "[debug] exe versions: ffmpeg 4.4.2, ffprobe 4.4.2\n",
            "[debug] Proxy map: {'colab_language_server': '/usr/colab/bin/language_service'}\n"
          ]
        },
        {
          "output_type": "stream",
          "name": "stdout",
          "text": [
            "Error downloading video 0VjPCd62oKg: ERROR: Unable to extract uploader id; please report this issue on https://yt-dl.org/bug . Make sure you are using the latest version; see  https://yt-dl.org/update  on how to update. Be sure to call youtube-dl with the --verbose flag and include its complete output.\n",
            "[youtube] 0VsjSa1X7iA: Downloading webpage\n"
          ]
        },
        {
          "output_type": "stream",
          "name": "stderr",
          "text": [
            "ERROR: Unable to extract uploader id; please report this issue on https://yt-dl.org/bug . Make sure you are using the latest version; see  https://yt-dl.org/update  on how to update. Be sure to call youtube-dl with the --verbose flag and include its complete output.\n",
            "Traceback (most recent call last):\n",
            "  File \"/usr/local/lib/python3.10/dist-packages/youtube_dl/YoutubeDL.py\", line 815, in wrapper\n",
            "    return func(self, *args, **kwargs)\n",
            "  File \"/usr/local/lib/python3.10/dist-packages/youtube_dl/YoutubeDL.py\", line 836, in __extract_info\n",
            "    ie_result = ie.extract(url)\n",
            "  File \"/usr/local/lib/python3.10/dist-packages/youtube_dl/extractor/common.py\", line 534, in extract\n",
            "    ie_result = self._real_extract(url)\n",
            "  File \"/usr/local/lib/python3.10/dist-packages/youtube_dl/extractor/youtube.py\", line 1794, in _real_extract\n",
            "    'uploader_id': self._search_regex(r'/(?:channel|user)/([^/?&#]+)', owner_profile_url, 'uploader id') if owner_profile_url else None,\n",
            "  File \"/usr/local/lib/python3.10/dist-packages/youtube_dl/extractor/common.py\", line 1012, in _search_regex\n",
            "    raise RegexNotFoundError('Unable to extract %s' % _name)\n",
            "youtube_dl.utils.RegexNotFoundError: Unable to extract uploader id; please report this issue on https://yt-dl.org/bug . Make sure you are using the latest version; see  https://yt-dl.org/update  on how to update. Be sure to call youtube-dl with the --verbose flag and include its complete output.\n",
            "\n",
            "[debug] Encodings: locale UTF-8, fs utf-8, out UTF-8, pref UTF-8\n",
            "[debug] youtube-dl version 2021.12.17\n",
            "[debug] Python version 3.10.12 (CPython) - Linux-5.15.120+-x86_64-with-glibc2.35\n",
            "[debug] exe versions: ffmpeg 4.4.2, ffprobe 4.4.2\n",
            "[debug] Proxy map: {'colab_language_server': '/usr/colab/bin/language_service'}\n"
          ]
        },
        {
          "output_type": "stream",
          "name": "stdout",
          "text": [
            "Error downloading video 0VsjSa1X7iA: ERROR: Unable to extract uploader id; please report this issue on https://yt-dl.org/bug . Make sure you are using the latest version; see  https://yt-dl.org/update  on how to update. Be sure to call youtube-dl with the --verbose flag and include its complete output.\n",
            "[youtube] 0VwX92X3iPc: Downloading webpage\n"
          ]
        },
        {
          "output_type": "stream",
          "name": "stderr",
          "text": [
            "ERROR: Unable to extract uploader id; please report this issue on https://yt-dl.org/bug . Make sure you are using the latest version; see  https://yt-dl.org/update  on how to update. Be sure to call youtube-dl with the --verbose flag and include its complete output.\n",
            "Traceback (most recent call last):\n",
            "  File \"/usr/local/lib/python3.10/dist-packages/youtube_dl/YoutubeDL.py\", line 815, in wrapper\n",
            "    return func(self, *args, **kwargs)\n",
            "  File \"/usr/local/lib/python3.10/dist-packages/youtube_dl/YoutubeDL.py\", line 836, in __extract_info\n",
            "    ie_result = ie.extract(url)\n",
            "  File \"/usr/local/lib/python3.10/dist-packages/youtube_dl/extractor/common.py\", line 534, in extract\n",
            "    ie_result = self._real_extract(url)\n",
            "  File \"/usr/local/lib/python3.10/dist-packages/youtube_dl/extractor/youtube.py\", line 1794, in _real_extract\n",
            "    'uploader_id': self._search_regex(r'/(?:channel|user)/([^/?&#]+)', owner_profile_url, 'uploader id') if owner_profile_url else None,\n",
            "  File \"/usr/local/lib/python3.10/dist-packages/youtube_dl/extractor/common.py\", line 1012, in _search_regex\n",
            "    raise RegexNotFoundError('Unable to extract %s' % _name)\n",
            "youtube_dl.utils.RegexNotFoundError: Unable to extract uploader id; please report this issue on https://yt-dl.org/bug . Make sure you are using the latest version; see  https://yt-dl.org/update  on how to update. Be sure to call youtube-dl with the --verbose flag and include its complete output.\n",
            "\n",
            "[debug] Encodings: locale UTF-8, fs utf-8, out UTF-8, pref UTF-8\n",
            "[debug] youtube-dl version 2021.12.17\n",
            "[debug] Python version 3.10.12 (CPython) - Linux-5.15.120+-x86_64-with-glibc2.35\n",
            "[debug] exe versions: ffmpeg 4.4.2, ffprobe 4.4.2\n",
            "[debug] Proxy map: {'colab_language_server': '/usr/colab/bin/language_service'}\n"
          ]
        },
        {
          "output_type": "stream",
          "name": "stdout",
          "text": [
            "Error downloading video 0VwX92X3iPc: ERROR: Unable to extract uploader id; please report this issue on https://yt-dl.org/bug . Make sure you are using the latest version; see  https://yt-dl.org/update  on how to update. Be sure to call youtube-dl with the --verbose flag and include its complete output.\n",
            "[youtube] 0Wdh45yt7tY: Downloading webpage\n"
          ]
        },
        {
          "output_type": "stream",
          "name": "stderr",
          "text": [
            "ERROR: Unable to extract uploader id; please report this issue on https://yt-dl.org/bug . Make sure you are using the latest version; see  https://yt-dl.org/update  on how to update. Be sure to call youtube-dl with the --verbose flag and include its complete output.\n",
            "Traceback (most recent call last):\n",
            "  File \"/usr/local/lib/python3.10/dist-packages/youtube_dl/YoutubeDL.py\", line 815, in wrapper\n",
            "    return func(self, *args, **kwargs)\n",
            "  File \"/usr/local/lib/python3.10/dist-packages/youtube_dl/YoutubeDL.py\", line 836, in __extract_info\n",
            "    ie_result = ie.extract(url)\n",
            "  File \"/usr/local/lib/python3.10/dist-packages/youtube_dl/extractor/common.py\", line 534, in extract\n",
            "    ie_result = self._real_extract(url)\n",
            "  File \"/usr/local/lib/python3.10/dist-packages/youtube_dl/extractor/youtube.py\", line 1794, in _real_extract\n",
            "    'uploader_id': self._search_regex(r'/(?:channel|user)/([^/?&#]+)', owner_profile_url, 'uploader id') if owner_profile_url else None,\n",
            "  File \"/usr/local/lib/python3.10/dist-packages/youtube_dl/extractor/common.py\", line 1012, in _search_regex\n",
            "    raise RegexNotFoundError('Unable to extract %s' % _name)\n",
            "youtube_dl.utils.RegexNotFoundError: Unable to extract uploader id; please report this issue on https://yt-dl.org/bug . Make sure you are using the latest version; see  https://yt-dl.org/update  on how to update. Be sure to call youtube-dl with the --verbose flag and include its complete output.\n",
            "\n",
            "[debug] Encodings: locale UTF-8, fs utf-8, out UTF-8, pref UTF-8\n",
            "[debug] youtube-dl version 2021.12.17\n",
            "[debug] Python version 3.10.12 (CPython) - Linux-5.15.120+-x86_64-with-glibc2.35\n",
            "[debug] exe versions: ffmpeg 4.4.2, ffprobe 4.4.2\n",
            "[debug] Proxy map: {'colab_language_server': '/usr/colab/bin/language_service'}\n"
          ]
        },
        {
          "output_type": "stream",
          "name": "stdout",
          "text": [
            "Error downloading video 0Wdh45yt7tY: ERROR: Unable to extract uploader id; please report this issue on https://yt-dl.org/bug . Make sure you are using the latest version; see  https://yt-dl.org/update  on how to update. Be sure to call youtube-dl with the --verbose flag and include its complete output.\n",
            "[youtube] 0XxinBtKouQ: Downloading webpage\n"
          ]
        },
        {
          "output_type": "stream",
          "name": "stderr",
          "text": [
            "ERROR: Unable to extract uploader id; please report this issue on https://yt-dl.org/bug . Make sure you are using the latest version; see  https://yt-dl.org/update  on how to update. Be sure to call youtube-dl with the --verbose flag and include its complete output.\n",
            "Traceback (most recent call last):\n",
            "  File \"/usr/local/lib/python3.10/dist-packages/youtube_dl/YoutubeDL.py\", line 815, in wrapper\n",
            "    return func(self, *args, **kwargs)\n",
            "  File \"/usr/local/lib/python3.10/dist-packages/youtube_dl/YoutubeDL.py\", line 836, in __extract_info\n",
            "    ie_result = ie.extract(url)\n",
            "  File \"/usr/local/lib/python3.10/dist-packages/youtube_dl/extractor/common.py\", line 534, in extract\n",
            "    ie_result = self._real_extract(url)\n",
            "  File \"/usr/local/lib/python3.10/dist-packages/youtube_dl/extractor/youtube.py\", line 1794, in _real_extract\n",
            "    'uploader_id': self._search_regex(r'/(?:channel|user)/([^/?&#]+)', owner_profile_url, 'uploader id') if owner_profile_url else None,\n",
            "  File \"/usr/local/lib/python3.10/dist-packages/youtube_dl/extractor/common.py\", line 1012, in _search_regex\n",
            "    raise RegexNotFoundError('Unable to extract %s' % _name)\n",
            "youtube_dl.utils.RegexNotFoundError: Unable to extract uploader id; please report this issue on https://yt-dl.org/bug . Make sure you are using the latest version; see  https://yt-dl.org/update  on how to update. Be sure to call youtube-dl with the --verbose flag and include its complete output.\n",
            "\n",
            "[debug] Encodings: locale UTF-8, fs utf-8, out UTF-8, pref UTF-8\n",
            "[debug] youtube-dl version 2021.12.17\n",
            "[debug] Python version 3.10.12 (CPython) - Linux-5.15.120+-x86_64-with-glibc2.35\n",
            "[debug] exe versions: ffmpeg 4.4.2, ffprobe 4.4.2\n",
            "[debug] Proxy map: {'colab_language_server': '/usr/colab/bin/language_service'}\n"
          ]
        },
        {
          "output_type": "stream",
          "name": "stdout",
          "text": [
            "Error downloading video 0XxinBtKouQ: ERROR: Unable to extract uploader id; please report this issue on https://yt-dl.org/bug . Make sure you are using the latest version; see  https://yt-dl.org/update  on how to update. Be sure to call youtube-dl with the --verbose flag and include its complete output.\n",
            "[youtube] 0ZNFJz-eZTU: Downloading webpage\n"
          ]
        },
        {
          "output_type": "stream",
          "name": "stderr",
          "text": [
            "ERROR: Unable to extract uploader id; please report this issue on https://yt-dl.org/bug . Make sure you are using the latest version; see  https://yt-dl.org/update  on how to update. Be sure to call youtube-dl with the --verbose flag and include its complete output.\n",
            "Traceback (most recent call last):\n",
            "  File \"/usr/local/lib/python3.10/dist-packages/youtube_dl/YoutubeDL.py\", line 815, in wrapper\n",
            "    return func(self, *args, **kwargs)\n",
            "  File \"/usr/local/lib/python3.10/dist-packages/youtube_dl/YoutubeDL.py\", line 836, in __extract_info\n",
            "    ie_result = ie.extract(url)\n",
            "  File \"/usr/local/lib/python3.10/dist-packages/youtube_dl/extractor/common.py\", line 534, in extract\n",
            "    ie_result = self._real_extract(url)\n",
            "  File \"/usr/local/lib/python3.10/dist-packages/youtube_dl/extractor/youtube.py\", line 1794, in _real_extract\n",
            "    'uploader_id': self._search_regex(r'/(?:channel|user)/([^/?&#]+)', owner_profile_url, 'uploader id') if owner_profile_url else None,\n",
            "  File \"/usr/local/lib/python3.10/dist-packages/youtube_dl/extractor/common.py\", line 1012, in _search_regex\n",
            "    raise RegexNotFoundError('Unable to extract %s' % _name)\n",
            "youtube_dl.utils.RegexNotFoundError: Unable to extract uploader id; please report this issue on https://yt-dl.org/bug . Make sure you are using the latest version; see  https://yt-dl.org/update  on how to update. Be sure to call youtube-dl with the --verbose flag and include its complete output.\n",
            "\n",
            "[debug] Encodings: locale UTF-8, fs utf-8, out UTF-8, pref UTF-8\n",
            "[debug] youtube-dl version 2021.12.17\n",
            "[debug] Python version 3.10.12 (CPython) - Linux-5.15.120+-x86_64-with-glibc2.35\n",
            "[debug] exe versions: ffmpeg 4.4.2, ffprobe 4.4.2\n",
            "[debug] Proxy map: {'colab_language_server': '/usr/colab/bin/language_service'}\n"
          ]
        },
        {
          "output_type": "stream",
          "name": "stdout",
          "text": [
            "Error downloading video 0ZNFJz-eZTU: ERROR: Unable to extract uploader id; please report this issue on https://yt-dl.org/bug . Make sure you are using the latest version; see  https://yt-dl.org/update  on how to update. Be sure to call youtube-dl with the --verbose flag and include its complete output.\n",
            "[youtube] 0ZXWSO_Y2C0: Downloading webpage\n"
          ]
        },
        {
          "output_type": "stream",
          "name": "stderr",
          "text": [
            "ERROR: Unable to extract uploader id; please report this issue on https://yt-dl.org/bug . Make sure you are using the latest version; see  https://yt-dl.org/update  on how to update. Be sure to call youtube-dl with the --verbose flag and include its complete output.\n",
            "Traceback (most recent call last):\n",
            "  File \"/usr/local/lib/python3.10/dist-packages/youtube_dl/YoutubeDL.py\", line 815, in wrapper\n",
            "    return func(self, *args, **kwargs)\n",
            "  File \"/usr/local/lib/python3.10/dist-packages/youtube_dl/YoutubeDL.py\", line 836, in __extract_info\n",
            "    ie_result = ie.extract(url)\n",
            "  File \"/usr/local/lib/python3.10/dist-packages/youtube_dl/extractor/common.py\", line 534, in extract\n",
            "    ie_result = self._real_extract(url)\n",
            "  File \"/usr/local/lib/python3.10/dist-packages/youtube_dl/extractor/youtube.py\", line 1794, in _real_extract\n",
            "    'uploader_id': self._search_regex(r'/(?:channel|user)/([^/?&#]+)', owner_profile_url, 'uploader id') if owner_profile_url else None,\n",
            "  File \"/usr/local/lib/python3.10/dist-packages/youtube_dl/extractor/common.py\", line 1012, in _search_regex\n",
            "    raise RegexNotFoundError('Unable to extract %s' % _name)\n",
            "youtube_dl.utils.RegexNotFoundError: Unable to extract uploader id; please report this issue on https://yt-dl.org/bug . Make sure you are using the latest version; see  https://yt-dl.org/update  on how to update. Be sure to call youtube-dl with the --verbose flag and include its complete output.\n",
            "\n",
            "[debug] Encodings: locale UTF-8, fs utf-8, out UTF-8, pref UTF-8\n",
            "[debug] youtube-dl version 2021.12.17\n",
            "[debug] Python version 3.10.12 (CPython) - Linux-5.15.120+-x86_64-with-glibc2.35\n",
            "[debug] exe versions: ffmpeg 4.4.2, ffprobe 4.4.2\n",
            "[debug] Proxy map: {'colab_language_server': '/usr/colab/bin/language_service'}\n"
          ]
        },
        {
          "output_type": "stream",
          "name": "stdout",
          "text": [
            "Error downloading video 0ZXWSO_Y2C0: ERROR: Unable to extract uploader id; please report this issue on https://yt-dl.org/bug . Make sure you are using the latest version; see  https://yt-dl.org/update  on how to update. Be sure to call youtube-dl with the --verbose flag and include its complete output.\n",
            "[youtube] 0_QcatLmg7c: Downloading webpage\n"
          ]
        },
        {
          "output_type": "stream",
          "name": "stderr",
          "text": [
            "ERROR: Unable to extract uploader id; please report this issue on https://yt-dl.org/bug . Make sure you are using the latest version; see  https://yt-dl.org/update  on how to update. Be sure to call youtube-dl with the --verbose flag and include its complete output.\n",
            "Traceback (most recent call last):\n",
            "  File \"/usr/local/lib/python3.10/dist-packages/youtube_dl/YoutubeDL.py\", line 815, in wrapper\n",
            "    return func(self, *args, **kwargs)\n",
            "  File \"/usr/local/lib/python3.10/dist-packages/youtube_dl/YoutubeDL.py\", line 836, in __extract_info\n",
            "    ie_result = ie.extract(url)\n",
            "  File \"/usr/local/lib/python3.10/dist-packages/youtube_dl/extractor/common.py\", line 534, in extract\n",
            "    ie_result = self._real_extract(url)\n",
            "  File \"/usr/local/lib/python3.10/dist-packages/youtube_dl/extractor/youtube.py\", line 1794, in _real_extract\n",
            "    'uploader_id': self._search_regex(r'/(?:channel|user)/([^/?&#]+)', owner_profile_url, 'uploader id') if owner_profile_url else None,\n",
            "  File \"/usr/local/lib/python3.10/dist-packages/youtube_dl/extractor/common.py\", line 1012, in _search_regex\n",
            "    raise RegexNotFoundError('Unable to extract %s' % _name)\n",
            "youtube_dl.utils.RegexNotFoundError: Unable to extract uploader id; please report this issue on https://yt-dl.org/bug . Make sure you are using the latest version; see  https://yt-dl.org/update  on how to update. Be sure to call youtube-dl with the --verbose flag and include its complete output.\n",
            "\n",
            "[debug] Encodings: locale UTF-8, fs utf-8, out UTF-8, pref UTF-8\n",
            "[debug] youtube-dl version 2021.12.17\n",
            "[debug] Python version 3.10.12 (CPython) - Linux-5.15.120+-x86_64-with-glibc2.35\n",
            "[debug] exe versions: ffmpeg 4.4.2, ffprobe 4.4.2\n",
            "[debug] Proxy map: {'colab_language_server': '/usr/colab/bin/language_service'}\n"
          ]
        },
        {
          "output_type": "stream",
          "name": "stdout",
          "text": [
            "Error downloading video 0_QcatLmg7c: ERROR: Unable to extract uploader id; please report this issue on https://yt-dl.org/bug . Make sure you are using the latest version; see  https://yt-dl.org/update  on how to update. Be sure to call youtube-dl with the --verbose flag and include its complete output.\n",
            "[youtube] 0_XItMAYkwc: Downloading webpage\n"
          ]
        },
        {
          "output_type": "stream",
          "name": "stderr",
          "text": [
            "ERROR: Unable to extract uploader id; please report this issue on https://yt-dl.org/bug . Make sure you are using the latest version; see  https://yt-dl.org/update  on how to update. Be sure to call youtube-dl with the --verbose flag and include its complete output.\n",
            "Traceback (most recent call last):\n",
            "  File \"/usr/local/lib/python3.10/dist-packages/youtube_dl/YoutubeDL.py\", line 815, in wrapper\n",
            "    return func(self, *args, **kwargs)\n",
            "  File \"/usr/local/lib/python3.10/dist-packages/youtube_dl/YoutubeDL.py\", line 836, in __extract_info\n",
            "    ie_result = ie.extract(url)\n",
            "  File \"/usr/local/lib/python3.10/dist-packages/youtube_dl/extractor/common.py\", line 534, in extract\n",
            "    ie_result = self._real_extract(url)\n",
            "  File \"/usr/local/lib/python3.10/dist-packages/youtube_dl/extractor/youtube.py\", line 1794, in _real_extract\n",
            "    'uploader_id': self._search_regex(r'/(?:channel|user)/([^/?&#]+)', owner_profile_url, 'uploader id') if owner_profile_url else None,\n",
            "  File \"/usr/local/lib/python3.10/dist-packages/youtube_dl/extractor/common.py\", line 1012, in _search_regex\n",
            "    raise RegexNotFoundError('Unable to extract %s' % _name)\n",
            "youtube_dl.utils.RegexNotFoundError: Unable to extract uploader id; please report this issue on https://yt-dl.org/bug . Make sure you are using the latest version; see  https://yt-dl.org/update  on how to update. Be sure to call youtube-dl with the --verbose flag and include its complete output.\n",
            "\n",
            "[debug] Encodings: locale UTF-8, fs utf-8, out UTF-8, pref UTF-8\n",
            "[debug] youtube-dl version 2021.12.17\n",
            "[debug] Python version 3.10.12 (CPython) - Linux-5.15.120+-x86_64-with-glibc2.35\n",
            "[debug] exe versions: ffmpeg 4.4.2, ffprobe 4.4.2\n",
            "[debug] Proxy map: {'colab_language_server': '/usr/colab/bin/language_service'}\n"
          ]
        },
        {
          "output_type": "stream",
          "name": "stdout",
          "text": [
            "Error downloading video 0_XItMAYkwc: ERROR: Unable to extract uploader id; please report this issue on https://yt-dl.org/bug . Make sure you are using the latest version; see  https://yt-dl.org/update  on how to update. Be sure to call youtube-dl with the --verbose flag and include its complete output.\n",
            "[youtube] 0_hH79HnEdo: Downloading webpage\n"
          ]
        },
        {
          "output_type": "stream",
          "name": "stderr",
          "text": [
            "ERROR: Unable to extract uploader id; please report this issue on https://yt-dl.org/bug . Make sure you are using the latest version; see  https://yt-dl.org/update  on how to update. Be sure to call youtube-dl with the --verbose flag and include its complete output.\n",
            "Traceback (most recent call last):\n",
            "  File \"/usr/local/lib/python3.10/dist-packages/youtube_dl/YoutubeDL.py\", line 815, in wrapper\n",
            "    return func(self, *args, **kwargs)\n",
            "  File \"/usr/local/lib/python3.10/dist-packages/youtube_dl/YoutubeDL.py\", line 836, in __extract_info\n",
            "    ie_result = ie.extract(url)\n",
            "  File \"/usr/local/lib/python3.10/dist-packages/youtube_dl/extractor/common.py\", line 534, in extract\n",
            "    ie_result = self._real_extract(url)\n",
            "  File \"/usr/local/lib/python3.10/dist-packages/youtube_dl/extractor/youtube.py\", line 1794, in _real_extract\n",
            "    'uploader_id': self._search_regex(r'/(?:channel|user)/([^/?&#]+)', owner_profile_url, 'uploader id') if owner_profile_url else None,\n",
            "  File \"/usr/local/lib/python3.10/dist-packages/youtube_dl/extractor/common.py\", line 1012, in _search_regex\n",
            "    raise RegexNotFoundError('Unable to extract %s' % _name)\n",
            "youtube_dl.utils.RegexNotFoundError: Unable to extract uploader id; please report this issue on https://yt-dl.org/bug . Make sure you are using the latest version; see  https://yt-dl.org/update  on how to update. Be sure to call youtube-dl with the --verbose flag and include its complete output.\n",
            "\n",
            "[debug] Encodings: locale UTF-8, fs utf-8, out UTF-8, pref UTF-8\n",
            "[debug] youtube-dl version 2021.12.17\n",
            "[debug] Python version 3.10.12 (CPython) - Linux-5.15.120+-x86_64-with-glibc2.35\n",
            "[debug] exe versions: ffmpeg 4.4.2, ffprobe 4.4.2\n",
            "[debug] Proxy map: {'colab_language_server': '/usr/colab/bin/language_service'}\n"
          ]
        },
        {
          "output_type": "stream",
          "name": "stdout",
          "text": [
            "Error downloading video 0_hH79HnEdo: ERROR: Unable to extract uploader id; please report this issue on https://yt-dl.org/bug . Make sure you are using the latest version; see  https://yt-dl.org/update  on how to update. Be sure to call youtube-dl with the --verbose flag and include its complete output.\n",
            "[youtube] 0a6uLBmqZgA: Downloading webpage\n",
            "[youtube] 0a6uLBmqZgA: Downloading MPD manifest\n"
          ]
        },
        {
          "output_type": "stream",
          "name": "stderr",
          "text": [
            "ERROR: Unable to extract uploader id; please report this issue on https://yt-dl.org/bug . Make sure you are using the latest version; see  https://yt-dl.org/update  on how to update. Be sure to call youtube-dl with the --verbose flag and include its complete output.\n",
            "Traceback (most recent call last):\n",
            "  File \"/usr/local/lib/python3.10/dist-packages/youtube_dl/YoutubeDL.py\", line 815, in wrapper\n",
            "    return func(self, *args, **kwargs)\n",
            "  File \"/usr/local/lib/python3.10/dist-packages/youtube_dl/YoutubeDL.py\", line 836, in __extract_info\n",
            "    ie_result = ie.extract(url)\n",
            "  File \"/usr/local/lib/python3.10/dist-packages/youtube_dl/extractor/common.py\", line 534, in extract\n",
            "    ie_result = self._real_extract(url)\n",
            "  File \"/usr/local/lib/python3.10/dist-packages/youtube_dl/extractor/youtube.py\", line 1794, in _real_extract\n",
            "    'uploader_id': self._search_regex(r'/(?:channel|user)/([^/?&#]+)', owner_profile_url, 'uploader id') if owner_profile_url else None,\n",
            "  File \"/usr/local/lib/python3.10/dist-packages/youtube_dl/extractor/common.py\", line 1012, in _search_regex\n",
            "    raise RegexNotFoundError('Unable to extract %s' % _name)\n",
            "youtube_dl.utils.RegexNotFoundError: Unable to extract uploader id; please report this issue on https://yt-dl.org/bug . Make sure you are using the latest version; see  https://yt-dl.org/update  on how to update. Be sure to call youtube-dl with the --verbose flag and include its complete output.\n",
            "\n",
            "[debug] Encodings: locale UTF-8, fs utf-8, out UTF-8, pref UTF-8\n",
            "[debug] youtube-dl version 2021.12.17\n",
            "[debug] Python version 3.10.12 (CPython) - Linux-5.15.120+-x86_64-with-glibc2.35\n"
          ]
        },
        {
          "output_type": "stream",
          "name": "stdout",
          "text": [
            "Error downloading video 0a6uLBmqZgA: ERROR: Unable to extract uploader id; please report this issue on https://yt-dl.org/bug . Make sure you are using the latest version; see  https://yt-dl.org/update  on how to update. Be sure to call youtube-dl with the --verbose flag and include its complete output.\n"
          ]
        },
        {
          "output_type": "stream",
          "name": "stderr",
          "text": [
            "[debug] exe versions: ffmpeg 4.4.2, ffprobe 4.4.2\n",
            "[debug] Proxy map: {'colab_language_server': '/usr/colab/bin/language_service'}\n"
          ]
        },
        {
          "output_type": "stream",
          "name": "stdout",
          "text": [
            "[youtube] 0a91szM1Ivw: Downloading webpage\n"
          ]
        },
        {
          "output_type": "stream",
          "name": "stderr",
          "text": [
            "ERROR: Unable to extract uploader id; please report this issue on https://yt-dl.org/bug . Make sure you are using the latest version; see  https://yt-dl.org/update  on how to update. Be sure to call youtube-dl with the --verbose flag and include its complete output.\n",
            "Traceback (most recent call last):\n",
            "  File \"/usr/local/lib/python3.10/dist-packages/youtube_dl/YoutubeDL.py\", line 815, in wrapper\n",
            "    return func(self, *args, **kwargs)\n",
            "  File \"/usr/local/lib/python3.10/dist-packages/youtube_dl/YoutubeDL.py\", line 836, in __extract_info\n",
            "    ie_result = ie.extract(url)\n",
            "  File \"/usr/local/lib/python3.10/dist-packages/youtube_dl/extractor/common.py\", line 534, in extract\n",
            "    ie_result = self._real_extract(url)\n",
            "  File \"/usr/local/lib/python3.10/dist-packages/youtube_dl/extractor/youtube.py\", line 1794, in _real_extract\n",
            "    'uploader_id': self._search_regex(r'/(?:channel|user)/([^/?&#]+)', owner_profile_url, 'uploader id') if owner_profile_url else None,\n",
            "  File \"/usr/local/lib/python3.10/dist-packages/youtube_dl/extractor/common.py\", line 1012, in _search_regex\n",
            "    raise RegexNotFoundError('Unable to extract %s' % _name)\n",
            "youtube_dl.utils.RegexNotFoundError: Unable to extract uploader id; please report this issue on https://yt-dl.org/bug . Make sure you are using the latest version; see  https://yt-dl.org/update  on how to update. Be sure to call youtube-dl with the --verbose flag and include its complete output.\n",
            "\n",
            "[debug] Encodings: locale UTF-8, fs utf-8, out UTF-8, pref UTF-8\n",
            "[debug] youtube-dl version 2021.12.17\n",
            "[debug] Python version 3.10.12 (CPython) - Linux-5.15.120+-x86_64-with-glibc2.35\n"
          ]
        },
        {
          "output_type": "stream",
          "name": "stdout",
          "text": [
            "Error downloading video 0a91szM1Ivw: ERROR: Unable to extract uploader id; please report this issue on https://yt-dl.org/bug . Make sure you are using the latest version; see  https://yt-dl.org/update  on how to update. Be sure to call youtube-dl with the --verbose flag and include its complete output.\n"
          ]
        },
        {
          "output_type": "stream",
          "name": "stderr",
          "text": [
            "[debug] exe versions: ffmpeg 4.4.2, ffprobe 4.4.2\n",
            "[debug] Proxy map: {'colab_language_server': '/usr/colab/bin/language_service'}\n"
          ]
        },
        {
          "output_type": "stream",
          "name": "stdout",
          "text": [
            "[youtube] 0abzD7hBTRk: Downloading webpage\n"
          ]
        },
        {
          "output_type": "stream",
          "name": "stderr",
          "text": [
            "ERROR: Unable to extract uploader id; please report this issue on https://yt-dl.org/bug . Make sure you are using the latest version; see  https://yt-dl.org/update  on how to update. Be sure to call youtube-dl with the --verbose flag and include its complete output.\n",
            "Traceback (most recent call last):\n",
            "  File \"/usr/local/lib/python3.10/dist-packages/youtube_dl/YoutubeDL.py\", line 815, in wrapper\n",
            "    return func(self, *args, **kwargs)\n",
            "  File \"/usr/local/lib/python3.10/dist-packages/youtube_dl/YoutubeDL.py\", line 836, in __extract_info\n",
            "    ie_result = ie.extract(url)\n",
            "  File \"/usr/local/lib/python3.10/dist-packages/youtube_dl/extractor/common.py\", line 534, in extract\n",
            "    ie_result = self._real_extract(url)\n",
            "  File \"/usr/local/lib/python3.10/dist-packages/youtube_dl/extractor/youtube.py\", line 1794, in _real_extract\n",
            "    'uploader_id': self._search_regex(r'/(?:channel|user)/([^/?&#]+)', owner_profile_url, 'uploader id') if owner_profile_url else None,\n",
            "  File \"/usr/local/lib/python3.10/dist-packages/youtube_dl/extractor/common.py\", line 1012, in _search_regex\n",
            "    raise RegexNotFoundError('Unable to extract %s' % _name)\n",
            "youtube_dl.utils.RegexNotFoundError: Unable to extract uploader id; please report this issue on https://yt-dl.org/bug . Make sure you are using the latest version; see  https://yt-dl.org/update  on how to update. Be sure to call youtube-dl with the --verbose flag and include its complete output.\n",
            "\n",
            "[debug] Encodings: locale UTF-8, fs utf-8, out UTF-8, pref UTF-8\n",
            "[debug] youtube-dl version 2021.12.17\n",
            "[debug] Python version 3.10.12 (CPython) - Linux-5.15.120+-x86_64-with-glibc2.35\n"
          ]
        },
        {
          "output_type": "stream",
          "name": "stdout",
          "text": [
            "Error downloading video 0abzD7hBTRk: ERROR: Unable to extract uploader id; please report this issue on https://yt-dl.org/bug . Make sure you are using the latest version; see  https://yt-dl.org/update  on how to update. Be sure to call youtube-dl with the --verbose flag and include its complete output.\n"
          ]
        },
        {
          "output_type": "stream",
          "name": "stderr",
          "text": [
            "[debug] exe versions: ffmpeg 4.4.2, ffprobe 4.4.2\n",
            "[debug] Proxy map: {'colab_language_server': '/usr/colab/bin/language_service'}\n"
          ]
        },
        {
          "output_type": "stream",
          "name": "stdout",
          "text": [
            "[youtube] 0bP2MH3LqvI: Downloading webpage\n"
          ]
        },
        {
          "output_type": "error",
          "ename": "KeyboardInterrupt",
          "evalue": "ignored",
          "traceback": [
            "\u001b[0;31m---------------------------------------------------------------------------\u001b[0m",
            "\u001b[0;31mKeyboardInterrupt\u001b[0m                         Traceback (most recent call last)",
            "\u001b[0;32m<ipython-input-22-3e4b523a98ed>\u001b[0m in \u001b[0;36m<cell line: 38>\u001b[0;34m()\u001b[0m\n\u001b[1;32m     40\u001b[0m     \u001b[0mstart_s\u001b[0m \u001b[0;34m=\u001b[0m \u001b[0mrow\u001b[0m\u001b[0;34m[\u001b[0m\u001b[0;34m'start_s'\u001b[0m\u001b[0;34m]\u001b[0m\u001b[0;34m\u001b[0m\u001b[0;34m\u001b[0m\u001b[0m\n\u001b[1;32m     41\u001b[0m     \u001b[0mend_s\u001b[0m \u001b[0;34m=\u001b[0m \u001b[0mrow\u001b[0m\u001b[0;34m[\u001b[0m\u001b[0;34m'end_s'\u001b[0m\u001b[0;34m]\u001b[0m\u001b[0;34m\u001b[0m\u001b[0;34m\u001b[0m\u001b[0m\n\u001b[0;32m---> 42\u001b[0;31m     \u001b[0;32mif\u001b[0m \u001b[0mdownload_youtube_audio\u001b[0m\u001b[0;34m(\u001b[0m\u001b[0mytid\u001b[0m\u001b[0;34m,\u001b[0m \u001b[0;34m'downloaded_audios'\u001b[0m\u001b[0;34m)\u001b[0m\u001b[0;34m:\u001b[0m\u001b[0;34m\u001b[0m\u001b[0;34m\u001b[0m\u001b[0m\n\u001b[0m\u001b[1;32m     43\u001b[0m         \u001b[0;32mtry\u001b[0m\u001b[0;34m:\u001b[0m\u001b[0;34m\u001b[0m\u001b[0;34m\u001b[0m\u001b[0m\n\u001b[1;32m     44\u001b[0m             \u001b[0mtrim_audio\u001b[0m\u001b[0;34m(\u001b[0m\u001b[0;34mf'downloaded_audios/{ytid}.wav'\u001b[0m\u001b[0;34m,\u001b[0m \u001b[0mstart_s\u001b[0m\u001b[0;34m,\u001b[0m \u001b[0mend_s\u001b[0m\u001b[0;34m,\u001b[0m \u001b[0;34mf'trimmed_audios/{ytid}.wav'\u001b[0m\u001b[0;34m)\u001b[0m\u001b[0;34m\u001b[0m\u001b[0;34m\u001b[0m\u001b[0m\n",
            "\u001b[0;32m<ipython-input-22-3e4b523a98ed>\u001b[0m in \u001b[0;36mdownload_youtube_audio\u001b[0;34m(ytid, output_dir)\u001b[0m\n\u001b[1;32m     24\u001b[0m     \u001b[0;32mtry\u001b[0m\u001b[0;34m:\u001b[0m\u001b[0;34m\u001b[0m\u001b[0;34m\u001b[0m\u001b[0m\n\u001b[1;32m     25\u001b[0m         \u001b[0;32mwith\u001b[0m \u001b[0mYoutubeDL\u001b[0m\u001b[0;34m(\u001b[0m\u001b[0mydl_opts\u001b[0m\u001b[0;34m)\u001b[0m \u001b[0;32mas\u001b[0m \u001b[0mydl\u001b[0m\u001b[0;34m:\u001b[0m\u001b[0;34m\u001b[0m\u001b[0;34m\u001b[0m\u001b[0m\n\u001b[0;32m---> 26\u001b[0;31m             \u001b[0mydl\u001b[0m\u001b[0;34m.\u001b[0m\u001b[0mdownload\u001b[0m\u001b[0;34m(\u001b[0m\u001b[0;34m[\u001b[0m\u001b[0;34mf'http://www.youtube.com/watch?v={ytid}'\u001b[0m\u001b[0;34m]\u001b[0m\u001b[0;34m)\u001b[0m\u001b[0;34m\u001b[0m\u001b[0;34m\u001b[0m\u001b[0m\n\u001b[0m\u001b[1;32m     27\u001b[0m     \u001b[0;32mexcept\u001b[0m \u001b[0mException\u001b[0m \u001b[0;32mas\u001b[0m \u001b[0me\u001b[0m\u001b[0;34m:\u001b[0m\u001b[0;34m\u001b[0m\u001b[0;34m\u001b[0m\u001b[0m\n\u001b[1;32m     28\u001b[0m         \u001b[0mprint\u001b[0m\u001b[0;34m(\u001b[0m\u001b[0;34mf\"Error downloading video {ytid}: {e}\"\u001b[0m\u001b[0;34m)\u001b[0m\u001b[0;34m\u001b[0m\u001b[0;34m\u001b[0m\u001b[0m\n",
            "\u001b[0;32m/usr/local/lib/python3.10/dist-packages/youtube_dl/YoutubeDL.py\u001b[0m in \u001b[0;36mdownload\u001b[0;34m(self, url_list)\u001b[0m\n\u001b[1;32m   2066\u001b[0m             \u001b[0;32mtry\u001b[0m\u001b[0;34m:\u001b[0m\u001b[0;34m\u001b[0m\u001b[0;34m\u001b[0m\u001b[0m\n\u001b[1;32m   2067\u001b[0m                 \u001b[0;31m# It also downloads the videos\u001b[0m\u001b[0;34m\u001b[0m\u001b[0;34m\u001b[0m\u001b[0m\n\u001b[0;32m-> 2068\u001b[0;31m                 res = self.extract_info(\n\u001b[0m\u001b[1;32m   2069\u001b[0m                     url, force_generic_extractor=self.params.get('force_generic_extractor', False))\n\u001b[1;32m   2070\u001b[0m             \u001b[0;32mexcept\u001b[0m \u001b[0mUnavailableVideoError\u001b[0m\u001b[0;34m:\u001b[0m\u001b[0;34m\u001b[0m\u001b[0;34m\u001b[0m\u001b[0m\n",
            "\u001b[0;32m/usr/local/lib/python3.10/dist-packages/youtube_dl/YoutubeDL.py\u001b[0m in \u001b[0;36mextract_info\u001b[0;34m(self, url, download, ie_key, extra_info, process, force_generic_extractor)\u001b[0m\n\u001b[1;32m    806\u001b[0m                                     'and will probably not work.')\n\u001b[1;32m    807\u001b[0m \u001b[0;34m\u001b[0m\u001b[0m\n\u001b[0;32m--> 808\u001b[0;31m             \u001b[0;32mreturn\u001b[0m \u001b[0mself\u001b[0m\u001b[0;34m.\u001b[0m\u001b[0m__extract_info\u001b[0m\u001b[0;34m(\u001b[0m\u001b[0murl\u001b[0m\u001b[0;34m,\u001b[0m \u001b[0mie\u001b[0m\u001b[0;34m,\u001b[0m \u001b[0mdownload\u001b[0m\u001b[0;34m,\u001b[0m \u001b[0mextra_info\u001b[0m\u001b[0;34m,\u001b[0m \u001b[0mprocess\u001b[0m\u001b[0;34m)\u001b[0m\u001b[0;34m\u001b[0m\u001b[0;34m\u001b[0m\u001b[0m\n\u001b[0m\u001b[1;32m    809\u001b[0m         \u001b[0;32melse\u001b[0m\u001b[0;34m:\u001b[0m\u001b[0;34m\u001b[0m\u001b[0;34m\u001b[0m\u001b[0m\n\u001b[1;32m    810\u001b[0m             \u001b[0mself\u001b[0m\u001b[0;34m.\u001b[0m\u001b[0mreport_error\u001b[0m\u001b[0;34m(\u001b[0m\u001b[0;34m'no suitable InfoExtractor for URL %s'\u001b[0m \u001b[0;34m%\u001b[0m \u001b[0murl\u001b[0m\u001b[0;34m)\u001b[0m\u001b[0;34m\u001b[0m\u001b[0;34m\u001b[0m\u001b[0m\n",
            "\u001b[0;32m/usr/local/lib/python3.10/dist-packages/youtube_dl/YoutubeDL.py\u001b[0m in \u001b[0;36mwrapper\u001b[0;34m(self, *args, **kwargs)\u001b[0m\n\u001b[1;32m    813\u001b[0m         \u001b[0;32mdef\u001b[0m \u001b[0mwrapper\u001b[0m\u001b[0;34m(\u001b[0m\u001b[0mself\u001b[0m\u001b[0;34m,\u001b[0m \u001b[0;34m*\u001b[0m\u001b[0margs\u001b[0m\u001b[0;34m,\u001b[0m \u001b[0;34m**\u001b[0m\u001b[0mkwargs\u001b[0m\u001b[0;34m)\u001b[0m\u001b[0;34m:\u001b[0m\u001b[0;34m\u001b[0m\u001b[0;34m\u001b[0m\u001b[0m\n\u001b[1;32m    814\u001b[0m             \u001b[0;32mtry\u001b[0m\u001b[0;34m:\u001b[0m\u001b[0;34m\u001b[0m\u001b[0;34m\u001b[0m\u001b[0m\n\u001b[0;32m--> 815\u001b[0;31m                 \u001b[0;32mreturn\u001b[0m \u001b[0mfunc\u001b[0m\u001b[0;34m(\u001b[0m\u001b[0mself\u001b[0m\u001b[0;34m,\u001b[0m \u001b[0;34m*\u001b[0m\u001b[0margs\u001b[0m\u001b[0;34m,\u001b[0m \u001b[0;34m**\u001b[0m\u001b[0mkwargs\u001b[0m\u001b[0;34m)\u001b[0m\u001b[0;34m\u001b[0m\u001b[0;34m\u001b[0m\u001b[0m\n\u001b[0m\u001b[1;32m    816\u001b[0m             \u001b[0;32mexcept\u001b[0m \u001b[0mGeoRestrictedError\u001b[0m \u001b[0;32mas\u001b[0m \u001b[0me\u001b[0m\u001b[0;34m:\u001b[0m\u001b[0;34m\u001b[0m\u001b[0;34m\u001b[0m\u001b[0m\n\u001b[1;32m    817\u001b[0m                 \u001b[0mmsg\u001b[0m \u001b[0;34m=\u001b[0m \u001b[0me\u001b[0m\u001b[0;34m.\u001b[0m\u001b[0mmsg\u001b[0m\u001b[0;34m\u001b[0m\u001b[0;34m\u001b[0m\u001b[0m\n",
            "\u001b[0;32m/usr/local/lib/python3.10/dist-packages/youtube_dl/YoutubeDL.py\u001b[0m in \u001b[0;36m__extract_info\u001b[0;34m(self, url, ie, download, extra_info, process)\u001b[0m\n\u001b[1;32m    834\u001b[0m     \u001b[0;34m@\u001b[0m\u001b[0m__handle_extraction_exceptions\u001b[0m\u001b[0;34m\u001b[0m\u001b[0;34m\u001b[0m\u001b[0m\n\u001b[1;32m    835\u001b[0m     \u001b[0;32mdef\u001b[0m \u001b[0m__extract_info\u001b[0m\u001b[0;34m(\u001b[0m\u001b[0mself\u001b[0m\u001b[0;34m,\u001b[0m \u001b[0murl\u001b[0m\u001b[0;34m,\u001b[0m \u001b[0mie\u001b[0m\u001b[0;34m,\u001b[0m \u001b[0mdownload\u001b[0m\u001b[0;34m,\u001b[0m \u001b[0mextra_info\u001b[0m\u001b[0;34m,\u001b[0m \u001b[0mprocess\u001b[0m\u001b[0;34m)\u001b[0m\u001b[0;34m:\u001b[0m\u001b[0;34m\u001b[0m\u001b[0;34m\u001b[0m\u001b[0m\n\u001b[0;32m--> 836\u001b[0;31m         \u001b[0mie_result\u001b[0m \u001b[0;34m=\u001b[0m \u001b[0mie\u001b[0m\u001b[0;34m.\u001b[0m\u001b[0mextract\u001b[0m\u001b[0;34m(\u001b[0m\u001b[0murl\u001b[0m\u001b[0;34m)\u001b[0m\u001b[0;34m\u001b[0m\u001b[0;34m\u001b[0m\u001b[0m\n\u001b[0m\u001b[1;32m    837\u001b[0m         \u001b[0;32mif\u001b[0m \u001b[0mie_result\u001b[0m \u001b[0;32mis\u001b[0m \u001b[0;32mNone\u001b[0m\u001b[0;34m:\u001b[0m  \u001b[0;31m# Finished already (backwards compatibility; listformats and friends should be moved here)\u001b[0m\u001b[0;34m\u001b[0m\u001b[0;34m\u001b[0m\u001b[0m\n\u001b[1;32m    838\u001b[0m             \u001b[0;32mreturn\u001b[0m\u001b[0;34m\u001b[0m\u001b[0;34m\u001b[0m\u001b[0m\n",
            "\u001b[0;32m/usr/local/lib/python3.10/dist-packages/youtube_dl/extractor/common.py\u001b[0m in \u001b[0;36mextract\u001b[0;34m(self, url)\u001b[0m\n\u001b[1;32m    532\u001b[0m                 \u001b[0;32mtry\u001b[0m\u001b[0;34m:\u001b[0m\u001b[0;34m\u001b[0m\u001b[0;34m\u001b[0m\u001b[0m\n\u001b[1;32m    533\u001b[0m                     \u001b[0mself\u001b[0m\u001b[0;34m.\u001b[0m\u001b[0minitialize\u001b[0m\u001b[0;34m(\u001b[0m\u001b[0;34m)\u001b[0m\u001b[0;34m\u001b[0m\u001b[0;34m\u001b[0m\u001b[0m\n\u001b[0;32m--> 534\u001b[0;31m                     \u001b[0mie_result\u001b[0m \u001b[0;34m=\u001b[0m \u001b[0mself\u001b[0m\u001b[0;34m.\u001b[0m\u001b[0m_real_extract\u001b[0m\u001b[0;34m(\u001b[0m\u001b[0murl\u001b[0m\u001b[0;34m)\u001b[0m\u001b[0;34m\u001b[0m\u001b[0;34m\u001b[0m\u001b[0m\n\u001b[0m\u001b[1;32m    535\u001b[0m                     \u001b[0;32mif\u001b[0m \u001b[0mself\u001b[0m\u001b[0;34m.\u001b[0m\u001b[0m_x_forwarded_for_ip\u001b[0m\u001b[0;34m:\u001b[0m\u001b[0;34m\u001b[0m\u001b[0;34m\u001b[0m\u001b[0m\n\u001b[1;32m    536\u001b[0m                         \u001b[0mie_result\u001b[0m\u001b[0;34m[\u001b[0m\u001b[0;34m'__x_forwarded_for_ip'\u001b[0m\u001b[0;34m]\u001b[0m \u001b[0;34m=\u001b[0m \u001b[0mself\u001b[0m\u001b[0;34m.\u001b[0m\u001b[0m_x_forwarded_for_ip\u001b[0m\u001b[0;34m\u001b[0m\u001b[0;34m\u001b[0m\u001b[0m\n",
            "\u001b[0;32m/usr/local/lib/python3.10/dist-packages/youtube_dl/extractor/youtube.py\u001b[0m in \u001b[0;36m_real_extract\u001b[0;34m(self, url)\u001b[0m\n\u001b[1;32m   1491\u001b[0m         \u001b[0mbase_url\u001b[0m \u001b[0;34m=\u001b[0m \u001b[0mself\u001b[0m\u001b[0;34m.\u001b[0m\u001b[0mhttp_scheme\u001b[0m\u001b[0;34m(\u001b[0m\u001b[0;34m)\u001b[0m \u001b[0;34m+\u001b[0m \u001b[0;34m'//www.youtube.com/'\u001b[0m\u001b[0;34m\u001b[0m\u001b[0;34m\u001b[0m\u001b[0m\n\u001b[1;32m   1492\u001b[0m         \u001b[0mwebpage_url\u001b[0m \u001b[0;34m=\u001b[0m \u001b[0mbase_url\u001b[0m \u001b[0;34m+\u001b[0m \u001b[0;34m'watch?v='\u001b[0m \u001b[0;34m+\u001b[0m \u001b[0mvideo_id\u001b[0m\u001b[0;34m\u001b[0m\u001b[0;34m\u001b[0m\u001b[0m\n\u001b[0;32m-> 1493\u001b[0;31m         webpage = self._download_webpage(\n\u001b[0m\u001b[1;32m   1494\u001b[0m             webpage_url + '&bpctr=9999999999&has_verified=1', video_id, fatal=False)\n\u001b[1;32m   1495\u001b[0m \u001b[0;34m\u001b[0m\u001b[0m\n",
            "\u001b[0;32m/usr/local/lib/python3.10/dist-packages/youtube_dl/extractor/common.py\u001b[0m in \u001b[0;36m_download_webpage\u001b[0;34m(self, url_or_request, video_id, note, errnote, fatal, tries, timeout, encoding, data, headers, query, expected_status)\u001b[0m\n\u001b[1;32m    796\u001b[0m         \u001b[0;32mwhile\u001b[0m \u001b[0msuccess\u001b[0m \u001b[0;32mis\u001b[0m \u001b[0;32mFalse\u001b[0m\u001b[0;34m:\u001b[0m\u001b[0;34m\u001b[0m\u001b[0;34m\u001b[0m\u001b[0m\n\u001b[1;32m    797\u001b[0m             \u001b[0;32mtry\u001b[0m\u001b[0;34m:\u001b[0m\u001b[0;34m\u001b[0m\u001b[0;34m\u001b[0m\u001b[0m\n\u001b[0;32m--> 798\u001b[0;31m                 res = self._download_webpage_handle(\n\u001b[0m\u001b[1;32m    799\u001b[0m                     \u001b[0murl_or_request\u001b[0m\u001b[0;34m,\u001b[0m \u001b[0mvideo_id\u001b[0m\u001b[0;34m,\u001b[0m \u001b[0mnote\u001b[0m\u001b[0;34m,\u001b[0m \u001b[0merrnote\u001b[0m\u001b[0;34m,\u001b[0m \u001b[0mfatal\u001b[0m\u001b[0;34m,\u001b[0m\u001b[0;34m\u001b[0m\u001b[0;34m\u001b[0m\u001b[0m\n\u001b[1;32m    800\u001b[0m                     \u001b[0mencoding\u001b[0m\u001b[0;34m=\u001b[0m\u001b[0mencoding\u001b[0m\u001b[0;34m,\u001b[0m \u001b[0mdata\u001b[0m\u001b[0;34m=\u001b[0m\u001b[0mdata\u001b[0m\u001b[0;34m,\u001b[0m \u001b[0mheaders\u001b[0m\u001b[0;34m=\u001b[0m\u001b[0mheaders\u001b[0m\u001b[0;34m,\u001b[0m \u001b[0mquery\u001b[0m\u001b[0;34m=\u001b[0m\u001b[0mquery\u001b[0m\u001b[0;34m,\u001b[0m\u001b[0;34m\u001b[0m\u001b[0;34m\u001b[0m\u001b[0m\n",
            "\u001b[0;32m/usr/local/lib/python3.10/dist-packages/youtube_dl/extractor/common.py\u001b[0m in \u001b[0;36m_download_webpage_handle\u001b[0;34m(self, url_or_request, video_id, note, errnote, fatal, encoding, data, headers, query, expected_status)\u001b[0m\n\u001b[1;32m    665\u001b[0m             \u001b[0murl_or_request\u001b[0m \u001b[0;34m=\u001b[0m \u001b[0murl_or_request\u001b[0m\u001b[0;34m.\u001b[0m\u001b[0mpartition\u001b[0m\u001b[0;34m(\u001b[0m\u001b[0;34m'#'\u001b[0m\u001b[0;34m)\u001b[0m\u001b[0;34m[\u001b[0m\u001b[0;36m0\u001b[0m\u001b[0;34m]\u001b[0m\u001b[0;34m\u001b[0m\u001b[0;34m\u001b[0m\u001b[0m\n\u001b[1;32m    666\u001b[0m \u001b[0;34m\u001b[0m\u001b[0m\n\u001b[0;32m--> 667\u001b[0;31m         \u001b[0murlh\u001b[0m \u001b[0;34m=\u001b[0m \u001b[0mself\u001b[0m\u001b[0;34m.\u001b[0m\u001b[0m_request_webpage\u001b[0m\u001b[0;34m(\u001b[0m\u001b[0murl_or_request\u001b[0m\u001b[0;34m,\u001b[0m \u001b[0mvideo_id\u001b[0m\u001b[0;34m,\u001b[0m \u001b[0mnote\u001b[0m\u001b[0;34m,\u001b[0m \u001b[0merrnote\u001b[0m\u001b[0;34m,\u001b[0m \u001b[0mfatal\u001b[0m\u001b[0;34m,\u001b[0m \u001b[0mdata\u001b[0m\u001b[0;34m=\u001b[0m\u001b[0mdata\u001b[0m\u001b[0;34m,\u001b[0m \u001b[0mheaders\u001b[0m\u001b[0;34m=\u001b[0m\u001b[0mheaders\u001b[0m\u001b[0;34m,\u001b[0m \u001b[0mquery\u001b[0m\u001b[0;34m=\u001b[0m\u001b[0mquery\u001b[0m\u001b[0;34m,\u001b[0m \u001b[0mexpected_status\u001b[0m\u001b[0;34m=\u001b[0m\u001b[0mexpected_status\u001b[0m\u001b[0;34m)\u001b[0m\u001b[0;34m\u001b[0m\u001b[0;34m\u001b[0m\u001b[0m\n\u001b[0m\u001b[1;32m    668\u001b[0m         \u001b[0;32mif\u001b[0m \u001b[0murlh\u001b[0m \u001b[0;32mis\u001b[0m \u001b[0;32mFalse\u001b[0m\u001b[0;34m:\u001b[0m\u001b[0;34m\u001b[0m\u001b[0;34m\u001b[0m\u001b[0m\n\u001b[1;32m    669\u001b[0m             \u001b[0;32massert\u001b[0m \u001b[0;32mnot\u001b[0m \u001b[0mfatal\u001b[0m\u001b[0;34m\u001b[0m\u001b[0;34m\u001b[0m\u001b[0m\n",
            "\u001b[0;32m/usr/local/lib/python3.10/dist-packages/youtube_dl/extractor/common.py\u001b[0m in \u001b[0;36m_request_webpage\u001b[0;34m(self, url_or_request, video_id, note, errnote, fatal, data, headers, query, expected_status)\u001b[0m\n\u001b[1;32m    632\u001b[0m             \u001b[0mexceptions\u001b[0m\u001b[0;34m.\u001b[0m\u001b[0mappend\u001b[0m\u001b[0;34m(\u001b[0m\u001b[0mssl\u001b[0m\u001b[0;34m.\u001b[0m\u001b[0mCertificateError\u001b[0m\u001b[0;34m)\u001b[0m\u001b[0;34m\u001b[0m\u001b[0;34m\u001b[0m\u001b[0m\n\u001b[1;32m    633\u001b[0m         \u001b[0;32mtry\u001b[0m\u001b[0;34m:\u001b[0m\u001b[0;34m\u001b[0m\u001b[0;34m\u001b[0m\u001b[0m\n\u001b[0;32m--> 634\u001b[0;31m             \u001b[0;32mreturn\u001b[0m \u001b[0mself\u001b[0m\u001b[0;34m.\u001b[0m\u001b[0m_downloader\u001b[0m\u001b[0;34m.\u001b[0m\u001b[0murlopen\u001b[0m\u001b[0;34m(\u001b[0m\u001b[0murl_or_request\u001b[0m\u001b[0;34m)\u001b[0m\u001b[0;34m\u001b[0m\u001b[0;34m\u001b[0m\u001b[0m\n\u001b[0m\u001b[1;32m    635\u001b[0m         \u001b[0;32mexcept\u001b[0m \u001b[0mtuple\u001b[0m\u001b[0;34m(\u001b[0m\u001b[0mexceptions\u001b[0m\u001b[0;34m)\u001b[0m \u001b[0;32mas\u001b[0m \u001b[0merr\u001b[0m\u001b[0;34m:\u001b[0m\u001b[0;34m\u001b[0m\u001b[0;34m\u001b[0m\u001b[0m\n\u001b[1;32m    636\u001b[0m             \u001b[0;32mif\u001b[0m \u001b[0misinstance\u001b[0m\u001b[0;34m(\u001b[0m\u001b[0merr\u001b[0m\u001b[0;34m,\u001b[0m \u001b[0mcompat_urllib_error\u001b[0m\u001b[0;34m.\u001b[0m\u001b[0mHTTPError\u001b[0m\u001b[0;34m)\u001b[0m\u001b[0;34m:\u001b[0m\u001b[0;34m\u001b[0m\u001b[0;34m\u001b[0m\u001b[0m\n",
            "\u001b[0;32m/usr/local/lib/python3.10/dist-packages/youtube_dl/YoutubeDL.py\u001b[0m in \u001b[0;36murlopen\u001b[0;34m(self, req)\u001b[0m\n\u001b[1;32m   2286\u001b[0m         \u001b[0;32mif\u001b[0m \u001b[0misinstance\u001b[0m\u001b[0;34m(\u001b[0m\u001b[0mreq\u001b[0m\u001b[0;34m,\u001b[0m \u001b[0mcompat_basestring\u001b[0m\u001b[0;34m)\u001b[0m\u001b[0;34m:\u001b[0m\u001b[0;34m\u001b[0m\u001b[0;34m\u001b[0m\u001b[0m\n\u001b[1;32m   2287\u001b[0m             \u001b[0mreq\u001b[0m \u001b[0;34m=\u001b[0m \u001b[0msanitized_Request\u001b[0m\u001b[0;34m(\u001b[0m\u001b[0mreq\u001b[0m\u001b[0;34m)\u001b[0m\u001b[0;34m\u001b[0m\u001b[0;34m\u001b[0m\u001b[0m\n\u001b[0;32m-> 2288\u001b[0;31m         \u001b[0;32mreturn\u001b[0m \u001b[0mself\u001b[0m\u001b[0;34m.\u001b[0m\u001b[0m_opener\u001b[0m\u001b[0;34m.\u001b[0m\u001b[0mopen\u001b[0m\u001b[0;34m(\u001b[0m\u001b[0mreq\u001b[0m\u001b[0;34m,\u001b[0m \u001b[0mtimeout\u001b[0m\u001b[0;34m=\u001b[0m\u001b[0mself\u001b[0m\u001b[0;34m.\u001b[0m\u001b[0m_socket_timeout\u001b[0m\u001b[0;34m)\u001b[0m\u001b[0;34m\u001b[0m\u001b[0;34m\u001b[0m\u001b[0m\n\u001b[0m\u001b[1;32m   2289\u001b[0m \u001b[0;34m\u001b[0m\u001b[0m\n\u001b[1;32m   2290\u001b[0m     \u001b[0;32mdef\u001b[0m \u001b[0mprint_debug_header\u001b[0m\u001b[0;34m(\u001b[0m\u001b[0mself\u001b[0m\u001b[0;34m)\u001b[0m\u001b[0;34m:\u001b[0m\u001b[0;34m\u001b[0m\u001b[0;34m\u001b[0m\u001b[0m\n",
            "\u001b[0;32m/usr/lib/python3.10/urllib/request.py\u001b[0m in \u001b[0;36mopen\u001b[0;34m(self, fullurl, data, timeout)\u001b[0m\n\u001b[1;32m    523\u001b[0m         \u001b[0;32mfor\u001b[0m \u001b[0mprocessor\u001b[0m \u001b[0;32min\u001b[0m \u001b[0mself\u001b[0m\u001b[0;34m.\u001b[0m\u001b[0mprocess_response\u001b[0m\u001b[0;34m.\u001b[0m\u001b[0mget\u001b[0m\u001b[0;34m(\u001b[0m\u001b[0mprotocol\u001b[0m\u001b[0;34m,\u001b[0m \u001b[0;34m[\u001b[0m\u001b[0;34m]\u001b[0m\u001b[0;34m)\u001b[0m\u001b[0;34m:\u001b[0m\u001b[0;34m\u001b[0m\u001b[0;34m\u001b[0m\u001b[0m\n\u001b[1;32m    524\u001b[0m             \u001b[0mmeth\u001b[0m \u001b[0;34m=\u001b[0m \u001b[0mgetattr\u001b[0m\u001b[0;34m(\u001b[0m\u001b[0mprocessor\u001b[0m\u001b[0;34m,\u001b[0m \u001b[0mmeth_name\u001b[0m\u001b[0;34m)\u001b[0m\u001b[0;34m\u001b[0m\u001b[0;34m\u001b[0m\u001b[0m\n\u001b[0;32m--> 525\u001b[0;31m             \u001b[0mresponse\u001b[0m \u001b[0;34m=\u001b[0m \u001b[0mmeth\u001b[0m\u001b[0;34m(\u001b[0m\u001b[0mreq\u001b[0m\u001b[0;34m,\u001b[0m \u001b[0mresponse\u001b[0m\u001b[0;34m)\u001b[0m\u001b[0;34m\u001b[0m\u001b[0;34m\u001b[0m\u001b[0m\n\u001b[0m\u001b[1;32m    526\u001b[0m \u001b[0;34m\u001b[0m\u001b[0m\n\u001b[1;32m    527\u001b[0m         \u001b[0;32mreturn\u001b[0m \u001b[0mresponse\u001b[0m\u001b[0;34m\u001b[0m\u001b[0;34m\u001b[0m\u001b[0m\n",
            "\u001b[0;32m/usr/local/lib/python3.10/dist-packages/youtube_dl/utils.py\u001b[0m in \u001b[0;36mhttp_response\u001b[0;34m(self, req, resp)\u001b[0m\n\u001b[1;32m   2623\u001b[0m         \u001b[0;31m# gzip\u001b[0m\u001b[0;34m\u001b[0m\u001b[0;34m\u001b[0m\u001b[0m\n\u001b[1;32m   2624\u001b[0m         \u001b[0;32mif\u001b[0m \u001b[0mresp\u001b[0m\u001b[0;34m.\u001b[0m\u001b[0mheaders\u001b[0m\u001b[0;34m.\u001b[0m\u001b[0mget\u001b[0m\u001b[0;34m(\u001b[0m\u001b[0;34m'Content-encoding'\u001b[0m\u001b[0;34m,\u001b[0m \u001b[0;34m''\u001b[0m\u001b[0;34m)\u001b[0m \u001b[0;34m==\u001b[0m \u001b[0;34m'gzip'\u001b[0m\u001b[0;34m:\u001b[0m\u001b[0;34m\u001b[0m\u001b[0;34m\u001b[0m\u001b[0m\n\u001b[0;32m-> 2625\u001b[0;31m             \u001b[0mcontent\u001b[0m \u001b[0;34m=\u001b[0m \u001b[0mresp\u001b[0m\u001b[0;34m.\u001b[0m\u001b[0mread\u001b[0m\u001b[0;34m(\u001b[0m\u001b[0;34m)\u001b[0m\u001b[0;34m\u001b[0m\u001b[0;34m\u001b[0m\u001b[0m\n\u001b[0m\u001b[1;32m   2626\u001b[0m             \u001b[0mgz\u001b[0m \u001b[0;34m=\u001b[0m \u001b[0mgzip\u001b[0m\u001b[0;34m.\u001b[0m\u001b[0mGzipFile\u001b[0m\u001b[0;34m(\u001b[0m\u001b[0mfileobj\u001b[0m\u001b[0;34m=\u001b[0m\u001b[0mio\u001b[0m\u001b[0;34m.\u001b[0m\u001b[0mBytesIO\u001b[0m\u001b[0;34m(\u001b[0m\u001b[0mcontent\u001b[0m\u001b[0;34m)\u001b[0m\u001b[0;34m,\u001b[0m \u001b[0mmode\u001b[0m\u001b[0;34m=\u001b[0m\u001b[0;34m'rb'\u001b[0m\u001b[0;34m)\u001b[0m\u001b[0;34m\u001b[0m\u001b[0;34m\u001b[0m\u001b[0m\n\u001b[1;32m   2627\u001b[0m             \u001b[0;32mtry\u001b[0m\u001b[0;34m:\u001b[0m\u001b[0;34m\u001b[0m\u001b[0;34m\u001b[0m\u001b[0m\n",
            "\u001b[0;32m/usr/lib/python3.10/http/client.py\u001b[0m in \u001b[0;36mread\u001b[0;34m(self, amt)\u001b[0m\n\u001b[1;32m    458\u001b[0m \u001b[0;34m\u001b[0m\u001b[0m\n\u001b[1;32m    459\u001b[0m         \u001b[0;32mif\u001b[0m \u001b[0mself\u001b[0m\u001b[0;34m.\u001b[0m\u001b[0mchunked\u001b[0m\u001b[0;34m:\u001b[0m\u001b[0;34m\u001b[0m\u001b[0;34m\u001b[0m\u001b[0m\n\u001b[0;32m--> 460\u001b[0;31m             \u001b[0;32mreturn\u001b[0m \u001b[0mself\u001b[0m\u001b[0;34m.\u001b[0m\u001b[0m_read_chunked\u001b[0m\u001b[0;34m(\u001b[0m\u001b[0mamt\u001b[0m\u001b[0;34m)\u001b[0m\u001b[0;34m\u001b[0m\u001b[0;34m\u001b[0m\u001b[0m\n\u001b[0m\u001b[1;32m    461\u001b[0m \u001b[0;34m\u001b[0m\u001b[0m\n\u001b[1;32m    462\u001b[0m         \u001b[0;32mif\u001b[0m \u001b[0mamt\u001b[0m \u001b[0;32mis\u001b[0m \u001b[0;32mnot\u001b[0m \u001b[0;32mNone\u001b[0m\u001b[0;34m:\u001b[0m\u001b[0;34m\u001b[0m\u001b[0;34m\u001b[0m\u001b[0m\n",
            "\u001b[0;32m/usr/lib/python3.10/http/client.py\u001b[0m in \u001b[0;36m_read_chunked\u001b[0;34m(self, amt)\u001b[0m\n\u001b[1;32m    581\u001b[0m         \u001b[0;32mtry\u001b[0m\u001b[0;34m:\u001b[0m\u001b[0;34m\u001b[0m\u001b[0;34m\u001b[0m\u001b[0m\n\u001b[1;32m    582\u001b[0m             \u001b[0;32mwhile\u001b[0m \u001b[0;32mTrue\u001b[0m\u001b[0;34m:\u001b[0m\u001b[0;34m\u001b[0m\u001b[0;34m\u001b[0m\u001b[0m\n\u001b[0;32m--> 583\u001b[0;31m                 \u001b[0mchunk_left\u001b[0m \u001b[0;34m=\u001b[0m \u001b[0mself\u001b[0m\u001b[0;34m.\u001b[0m\u001b[0m_get_chunk_left\u001b[0m\u001b[0;34m(\u001b[0m\u001b[0;34m)\u001b[0m\u001b[0;34m\u001b[0m\u001b[0;34m\u001b[0m\u001b[0m\n\u001b[0m\u001b[1;32m    584\u001b[0m                 \u001b[0;32mif\u001b[0m \u001b[0mchunk_left\u001b[0m \u001b[0;32mis\u001b[0m \u001b[0;32mNone\u001b[0m\u001b[0;34m:\u001b[0m\u001b[0;34m\u001b[0m\u001b[0;34m\u001b[0m\u001b[0m\n\u001b[1;32m    585\u001b[0m                     \u001b[0;32mbreak\u001b[0m\u001b[0;34m\u001b[0m\u001b[0;34m\u001b[0m\u001b[0m\n",
            "\u001b[0;32m/usr/lib/python3.10/http/client.py\u001b[0m in \u001b[0;36m_get_chunk_left\u001b[0;34m(self)\u001b[0m\n\u001b[1;32m    564\u001b[0m                 \u001b[0mself\u001b[0m\u001b[0;34m.\u001b[0m\u001b[0m_safe_read\u001b[0m\u001b[0;34m(\u001b[0m\u001b[0;36m2\u001b[0m\u001b[0;34m)\u001b[0m  \u001b[0;31m# toss the CRLF at the end of the chunk\u001b[0m\u001b[0;34m\u001b[0m\u001b[0;34m\u001b[0m\u001b[0m\n\u001b[1;32m    565\u001b[0m             \u001b[0;32mtry\u001b[0m\u001b[0;34m:\u001b[0m\u001b[0;34m\u001b[0m\u001b[0;34m\u001b[0m\u001b[0m\n\u001b[0;32m--> 566\u001b[0;31m                 \u001b[0mchunk_left\u001b[0m \u001b[0;34m=\u001b[0m \u001b[0mself\u001b[0m\u001b[0;34m.\u001b[0m\u001b[0m_read_next_chunk_size\u001b[0m\u001b[0;34m(\u001b[0m\u001b[0;34m)\u001b[0m\u001b[0;34m\u001b[0m\u001b[0;34m\u001b[0m\u001b[0m\n\u001b[0m\u001b[1;32m    567\u001b[0m             \u001b[0;32mexcept\u001b[0m \u001b[0mValueError\u001b[0m\u001b[0;34m:\u001b[0m\u001b[0;34m\u001b[0m\u001b[0;34m\u001b[0m\u001b[0m\n\u001b[1;32m    568\u001b[0m                 \u001b[0;32mraise\u001b[0m \u001b[0mIncompleteRead\u001b[0m\u001b[0;34m(\u001b[0m\u001b[0;34mb''\u001b[0m\u001b[0;34m)\u001b[0m\u001b[0;34m\u001b[0m\u001b[0;34m\u001b[0m\u001b[0m\n",
            "\u001b[0;32m/usr/lib/python3.10/http/client.py\u001b[0m in \u001b[0;36m_read_next_chunk_size\u001b[0;34m(self)\u001b[0m\n\u001b[1;32m    524\u001b[0m     \u001b[0;32mdef\u001b[0m \u001b[0m_read_next_chunk_size\u001b[0m\u001b[0;34m(\u001b[0m\u001b[0mself\u001b[0m\u001b[0;34m)\u001b[0m\u001b[0;34m:\u001b[0m\u001b[0;34m\u001b[0m\u001b[0;34m\u001b[0m\u001b[0m\n\u001b[1;32m    525\u001b[0m         \u001b[0;31m# Read the next chunk size from the file\u001b[0m\u001b[0;34m\u001b[0m\u001b[0;34m\u001b[0m\u001b[0m\n\u001b[0;32m--> 526\u001b[0;31m         \u001b[0mline\u001b[0m \u001b[0;34m=\u001b[0m \u001b[0mself\u001b[0m\u001b[0;34m.\u001b[0m\u001b[0mfp\u001b[0m\u001b[0;34m.\u001b[0m\u001b[0mreadline\u001b[0m\u001b[0;34m(\u001b[0m\u001b[0m_MAXLINE\u001b[0m \u001b[0;34m+\u001b[0m \u001b[0;36m1\u001b[0m\u001b[0;34m)\u001b[0m\u001b[0;34m\u001b[0m\u001b[0;34m\u001b[0m\u001b[0m\n\u001b[0m\u001b[1;32m    527\u001b[0m         \u001b[0;32mif\u001b[0m \u001b[0mlen\u001b[0m\u001b[0;34m(\u001b[0m\u001b[0mline\u001b[0m\u001b[0;34m)\u001b[0m \u001b[0;34m>\u001b[0m \u001b[0m_MAXLINE\u001b[0m\u001b[0;34m:\u001b[0m\u001b[0;34m\u001b[0m\u001b[0;34m\u001b[0m\u001b[0m\n\u001b[1;32m    528\u001b[0m             \u001b[0;32mraise\u001b[0m \u001b[0mLineTooLong\u001b[0m\u001b[0;34m(\u001b[0m\u001b[0;34m\"chunk size\"\u001b[0m\u001b[0;34m)\u001b[0m\u001b[0;34m\u001b[0m\u001b[0;34m\u001b[0m\u001b[0m\n",
            "\u001b[0;32m/usr/lib/python3.10/socket.py\u001b[0m in \u001b[0;36mreadinto\u001b[0;34m(self, b)\u001b[0m\n\u001b[1;32m    703\u001b[0m         \u001b[0;32mwhile\u001b[0m \u001b[0;32mTrue\u001b[0m\u001b[0;34m:\u001b[0m\u001b[0;34m\u001b[0m\u001b[0;34m\u001b[0m\u001b[0m\n\u001b[1;32m    704\u001b[0m             \u001b[0;32mtry\u001b[0m\u001b[0;34m:\u001b[0m\u001b[0;34m\u001b[0m\u001b[0;34m\u001b[0m\u001b[0m\n\u001b[0;32m--> 705\u001b[0;31m                 \u001b[0;32mreturn\u001b[0m \u001b[0mself\u001b[0m\u001b[0;34m.\u001b[0m\u001b[0m_sock\u001b[0m\u001b[0;34m.\u001b[0m\u001b[0mrecv_into\u001b[0m\u001b[0;34m(\u001b[0m\u001b[0mb\u001b[0m\u001b[0;34m)\u001b[0m\u001b[0;34m\u001b[0m\u001b[0;34m\u001b[0m\u001b[0m\n\u001b[0m\u001b[1;32m    706\u001b[0m             \u001b[0;32mexcept\u001b[0m \u001b[0mtimeout\u001b[0m\u001b[0;34m:\u001b[0m\u001b[0;34m\u001b[0m\u001b[0;34m\u001b[0m\u001b[0m\n\u001b[1;32m    707\u001b[0m                 \u001b[0mself\u001b[0m\u001b[0;34m.\u001b[0m\u001b[0m_timeout_occurred\u001b[0m \u001b[0;34m=\u001b[0m \u001b[0;32mTrue\u001b[0m\u001b[0;34m\u001b[0m\u001b[0;34m\u001b[0m\u001b[0m\n",
            "\u001b[0;32m/usr/lib/python3.10/ssl.py\u001b[0m in \u001b[0;36mrecv_into\u001b[0;34m(self, buffer, nbytes, flags)\u001b[0m\n\u001b[1;32m   1272\u001b[0m                   \u001b[0;34m\"non-zero flags not allowed in calls to recv_into() on %s\"\u001b[0m \u001b[0;34m%\u001b[0m\u001b[0;34m\u001b[0m\u001b[0;34m\u001b[0m\u001b[0m\n\u001b[1;32m   1273\u001b[0m                   self.__class__)\n\u001b[0;32m-> 1274\u001b[0;31m             \u001b[0;32mreturn\u001b[0m \u001b[0mself\u001b[0m\u001b[0;34m.\u001b[0m\u001b[0mread\u001b[0m\u001b[0;34m(\u001b[0m\u001b[0mnbytes\u001b[0m\u001b[0;34m,\u001b[0m \u001b[0mbuffer\u001b[0m\u001b[0;34m)\u001b[0m\u001b[0;34m\u001b[0m\u001b[0;34m\u001b[0m\u001b[0m\n\u001b[0m\u001b[1;32m   1275\u001b[0m         \u001b[0;32melse\u001b[0m\u001b[0;34m:\u001b[0m\u001b[0;34m\u001b[0m\u001b[0;34m\u001b[0m\u001b[0m\n\u001b[1;32m   1276\u001b[0m             \u001b[0;32mreturn\u001b[0m \u001b[0msuper\u001b[0m\u001b[0;34m(\u001b[0m\u001b[0;34m)\u001b[0m\u001b[0;34m.\u001b[0m\u001b[0mrecv_into\u001b[0m\u001b[0;34m(\u001b[0m\u001b[0mbuffer\u001b[0m\u001b[0;34m,\u001b[0m \u001b[0mnbytes\u001b[0m\u001b[0;34m,\u001b[0m \u001b[0mflags\u001b[0m\u001b[0;34m)\u001b[0m\u001b[0;34m\u001b[0m\u001b[0;34m\u001b[0m\u001b[0m\n",
            "\u001b[0;32m/usr/lib/python3.10/ssl.py\u001b[0m in \u001b[0;36mread\u001b[0;34m(self, len, buffer)\u001b[0m\n\u001b[1;32m   1128\u001b[0m         \u001b[0;32mtry\u001b[0m\u001b[0;34m:\u001b[0m\u001b[0;34m\u001b[0m\u001b[0;34m\u001b[0m\u001b[0m\n\u001b[1;32m   1129\u001b[0m             \u001b[0;32mif\u001b[0m \u001b[0mbuffer\u001b[0m \u001b[0;32mis\u001b[0m \u001b[0;32mnot\u001b[0m \u001b[0;32mNone\u001b[0m\u001b[0;34m:\u001b[0m\u001b[0;34m\u001b[0m\u001b[0;34m\u001b[0m\u001b[0m\n\u001b[0;32m-> 1130\u001b[0;31m                 \u001b[0;32mreturn\u001b[0m \u001b[0mself\u001b[0m\u001b[0;34m.\u001b[0m\u001b[0m_sslobj\u001b[0m\u001b[0;34m.\u001b[0m\u001b[0mread\u001b[0m\u001b[0;34m(\u001b[0m\u001b[0mlen\u001b[0m\u001b[0;34m,\u001b[0m \u001b[0mbuffer\u001b[0m\u001b[0;34m)\u001b[0m\u001b[0;34m\u001b[0m\u001b[0;34m\u001b[0m\u001b[0m\n\u001b[0m\u001b[1;32m   1131\u001b[0m             \u001b[0;32melse\u001b[0m\u001b[0;34m:\u001b[0m\u001b[0;34m\u001b[0m\u001b[0;34m\u001b[0m\u001b[0m\n\u001b[1;32m   1132\u001b[0m                 \u001b[0;32mreturn\u001b[0m \u001b[0mself\u001b[0m\u001b[0;34m.\u001b[0m\u001b[0m_sslobj\u001b[0m\u001b[0;34m.\u001b[0m\u001b[0mread\u001b[0m\u001b[0;34m(\u001b[0m\u001b[0mlen\u001b[0m\u001b[0;34m)\u001b[0m\u001b[0;34m\u001b[0m\u001b[0;34m\u001b[0m\u001b[0m\n",
            "\u001b[0;31mKeyboardInterrupt\u001b[0m: "
          ]
        }
      ]
    },
    {
      "cell_type": "markdown",
      "source": [
        "## 使用Youtube-dl会报错\n",
        "改用you-get"
      ],
      "metadata": {
        "id": "tYaUThnGTFT5"
      }
    },
    {
      "cell_type": "code",
      "source": [
        "!pip install you-get"
      ],
      "metadata": {
        "colab": {
          "base_uri": "https://localhost:8080/"
        },
        "id": "AubllYUfS2mY",
        "outputId": "917ece0e-0ce4-4d72-c84d-458286889095"
      },
      "execution_count": 3,
      "outputs": [
        {
          "output_type": "stream",
          "name": "stdout",
          "text": [
            "Collecting you-get\n",
            "  Downloading you_get-0.4.1650-py3-none-any.whl (231 kB)\n",
            "\u001b[?25l     \u001b[90m━━━━━━━━━━━━━━━━━━━━━━━━━━━━━━━━━━━━━━━━\u001b[0m \u001b[32m0.0/231.6 kB\u001b[0m \u001b[31m?\u001b[0m eta \u001b[36m-:--:--\u001b[0m\r\u001b[2K     \u001b[91m━━━━━━━━━━━━━━━━━━━━━━━━\u001b[0m\u001b[91m╸\u001b[0m\u001b[90m━━━━━━━━━━━━━━━\u001b[0m \u001b[32m143.4/231.6 kB\u001b[0m \u001b[31m4.1 MB/s\u001b[0m eta \u001b[36m0:00:01\u001b[0m\r\u001b[2K     \u001b[90m━━━━━━━━━━━━━━━━━━━━━━━━━━━━━━━━━━━━━━━━\u001b[0m \u001b[32m231.6/231.6 kB\u001b[0m \u001b[31m4.7 MB/s\u001b[0m eta \u001b[36m0:00:00\u001b[0m\n",
            "\u001b[?25hInstalling collected packages: you-get\n",
            "Successfully installed you-get-0.4.1650\n"
          ]
        }
      ]
    },
    {
      "cell_type": "markdown",
      "source": [
        "测试一下You-Get"
      ],
      "metadata": {
        "id": "ORHd9U-HUwP_"
      }
    },
    {
      "cell_type": "code",
      "source": [
        "# !you-get -i 'https://www.youtube.com/watch?v=jNQXAC9IVRw'"
      ],
      "metadata": {
        "colab": {
          "base_uri": "https://localhost:8080/"
        },
        "id": "v_IEcasAUvN5",
        "outputId": "bd78646b-1a30-41d5-d3be-6a69459d63fd"
      },
      "execution_count": 27,
      "outputs": [
        {
          "output_type": "stream",
          "name": "stdout",
          "text": [
            "site:                YouTube\n",
            "title:               Me at the zoo\n",
            "streams:             # Available quality and codecs\n",
            "    [ DASH ] ____________________________________\n",
            "    - itag:          \u001b[7m133\u001b[0m\n",
            "      container:     mp4\n",
            "      quality:       320x240 (240p)\n",
            "      size:          0.7 MiB (741996 bytes)\n",
            "    # download-with: \u001b[4myou-get --itag=133 [URL]\u001b[0m\n",
            "\n",
            "    - itag:          \u001b[7m395\u001b[0m\n",
            "      container:     mp4\n",
            "      quality:       320x240 (240p)\n",
            "      size:          0.5 MiB (567669 bytes)\n",
            "    # download-with: \u001b[4myou-get --itag=395 [URL]\u001b[0m\n",
            "\n",
            "    - itag:          \u001b[7m242\u001b[0m\n",
            "      container:     webm\n",
            "      quality:       320x240 (240p)\n",
            "      size:          0.5 MiB (545262 bytes)\n",
            "    # download-with: \u001b[4myou-get --itag=242 [URL]\u001b[0m\n",
            "\n",
            "    - itag:          \u001b[7m160\u001b[0m\n",
            "      container:     mp4\n",
            "      quality:       192x144 (144p)\n",
            "      size:          0.5 MiB (504329 bytes)\n",
            "    # download-with: \u001b[4myou-get --itag=160 [URL]\u001b[0m\n",
            "\n",
            "    - itag:          \u001b[7m394\u001b[0m\n",
            "      container:     mp4\n",
            "      quality:       192x144 (144p)\n",
            "      size:          0.4 MiB (445711 bytes)\n",
            "    # download-with: \u001b[4myou-get --itag=394 [URL]\u001b[0m\n",
            "\n",
            "    - itag:          \u001b[7m278\u001b[0m\n",
            "      container:     webm\n",
            "      quality:       192x144 (144p)\n",
            "      size:          0.4 MiB (437474 bytes)\n",
            "    # download-with: \u001b[4myou-get --itag=278 [URL]\u001b[0m\n",
            "\n",
            "    [ DEFAULT ] _________________________________\n",
            "    - itag:          \u001b[7m18\u001b[0m\n",
            "      container:     mp4\n",
            "      quality:       small\n",
            "      size:          0.8 MiB (791367 bytes)\n",
            "    # download-with: \u001b[4myou-get --itag=18 [URL]\u001b[0m\n",
            "\n"
          ]
        }
      ]
    },
    {
      "cell_type": "markdown",
      "source": [
        "检查可用格式：运行 you-get 命令带 -i 选项（用于信息查看模式），查看该视频支持的所有可用格式。这样可以帮助您了解是否有特定的音频格式可供下载。执行命令如下："
      ],
      "metadata": {
        "id": "eGA7WSGWci_R"
      }
    },
    {
      "cell_type": "code",
      "source": [
        "!you-get -i \"https://www.youtube.com/watch?v=-0Gj8-vB1q4\"\n"
      ],
      "metadata": {
        "colab": {
          "base_uri": "https://localhost:8080/"
        },
        "id": "eOXMETCOcf3q",
        "outputId": "f26e419f-efc9-4936-849b-8ff2923539c3"
      },
      "execution_count": 32,
      "outputs": [
        {
          "output_type": "stream",
          "name": "stdout",
          "text": [
            "site:                YouTube\n",
            "title:               lds music - perfect love\n",
            "streams:             # Available quality and codecs\n",
            "    [ DASH ] ____________________________________\n",
            "    - itag:          \u001b[7m244\u001b[0m\n",
            "      container:     webm\n",
            "      quality:       640x480 (480p)\n",
            "      size:          7.6 MiB (7975173 bytes)\n",
            "    # download-with: \u001b[4myou-get --itag=244 [URL]\u001b[0m\n",
            "\n",
            "    - itag:          \u001b[7m397\u001b[0m\n",
            "      container:     mp4\n",
            "      quality:       640x480 (480p)\n",
            "      size:          6.4 MiB (6670720 bytes)\n",
            "    # download-with: \u001b[4myou-get --itag=397 [URL]\u001b[0m\n",
            "\n",
            "    - itag:          \u001b[7m243\u001b[0m\n",
            "      container:     webm\n",
            "      quality:       480x360 (360p)\n",
            "      size:          6.1 MiB (6354867 bytes)\n",
            "    # download-with: \u001b[4myou-get --itag=243 [URL]\u001b[0m\n",
            "\n",
            "    - itag:          \u001b[7m396\u001b[0m\n",
            "      container:     mp4\n",
            "      quality:       480x360 (360p)\n",
            "      size:          5.5 MiB (5723034 bytes)\n",
            "    # download-with: \u001b[4myou-get --itag=396 [URL]\u001b[0m\n",
            "\n",
            "    - itag:          \u001b[7m135\u001b[0m\n",
            "      container:     mp4\n",
            "      quality:       640x480 (480p)\n",
            "      size:          5.3 MiB (5541363 bytes)\n",
            "    # download-with: \u001b[4myou-get --itag=135 [URL]\u001b[0m\n",
            "\n",
            "    - itag:          \u001b[7m242\u001b[0m\n",
            "      container:     webm\n",
            "      quality:       320x240 (240p)\n",
            "      size:          5.2 MiB (5408196 bytes)\n",
            "    # download-with: \u001b[4myou-get --itag=242 [URL]\u001b[0m\n",
            "\n",
            "    - itag:          \u001b[7m395\u001b[0m\n",
            "      container:     mp4\n",
            "      quality:       320x240 (240p)\n",
            "      size:          4.9 MiB (5179882 bytes)\n",
            "    # download-with: \u001b[4myou-get --itag=395 [URL]\u001b[0m\n",
            "\n",
            "    - itag:          \u001b[7m134\u001b[0m\n",
            "      container:     mp4\n",
            "      quality:       480x360 (360p)\n",
            "      size:          4.6 MiB (4795310 bytes)\n",
            "    # download-with: \u001b[4myou-get --itag=134 [URL]\u001b[0m\n",
            "\n",
            "    - itag:          \u001b[7m278\u001b[0m\n",
            "      container:     webm\n",
            "      quality:       192x144 (144p)\n",
            "      size:          4.5 MiB (4705290 bytes)\n",
            "    # download-with: \u001b[4myou-get --itag=278 [URL]\u001b[0m\n",
            "\n",
            "    - itag:          \u001b[7m394\u001b[0m\n",
            "      container:     mp4\n",
            "      quality:       192x144 (144p)\n",
            "      size:          4.3 MiB (4517283 bytes)\n",
            "    # download-with: \u001b[4myou-get --itag=394 [URL]\u001b[0m\n",
            "\n",
            "    - itag:          \u001b[7m133\u001b[0m\n",
            "      container:     mp4\n",
            "      quality:       320x240 (240p)\n",
            "      size:          4.1 MiB (4341412 bytes)\n",
            "    # download-with: \u001b[4myou-get --itag=133 [URL]\u001b[0m\n",
            "\n",
            "    - itag:          \u001b[7m160\u001b[0m\n",
            "      container:     mp4\n",
            "      quality:       192x144 (144p)\n",
            "      size:          4.0 MiB (4186336 bytes)\n",
            "    # download-with: \u001b[4myou-get --itag=160 [URL]\u001b[0m\n",
            "\n",
            "    [ DEFAULT ] _________________________________\n",
            "    - itag:          \u001b[7m18\u001b[0m\n",
            "      container:     mp4\n",
            "      quality:       medium\n",
            "      size:          4.5 MiB (4747892 bytes)\n",
            "    # download-with: \u001b[4myou-get --itag=18 [URL]\u001b[0m\n",
            "\n"
          ]
        }
      ]
    },
    {
      "cell_type": "code",
      "source": [
        "!you-get --no-caption -o \"./downloaded_videos\" --itag=160 \"https://www.youtube.com/watch?v=-0Gj8-vB1q4\"\n"
      ],
      "metadata": {
        "colab": {
          "base_uri": "https://localhost:8080/"
        },
        "id": "EO6sNXqPbKBg",
        "outputId": "a50c462f-716f-40eb-b3dc-9b41df1f6522"
      },
      "execution_count": 5,
      "outputs": [
        {
          "output_type": "stream",
          "name": "stdout",
          "text": [
            "site:                YouTube\n",
            "title:               lds music - perfect love\n",
            "stream:\n",
            "    - itag:          \u001b[7m160\u001b[0m\n",
            "      container:     mp4\n",
            "      quality:       192x144 (144p)\n",
            "      size:          4.0 MiB (4186336 bytes)\n",
            "    # download-with: \u001b[4myou-get --itag=160 [URL]\u001b[0m\n",
            "\n",
            "\u001b[33;1myou-get: [error] oops, something went wrong.\u001b[0m\n",
            "\u001b[33;1myou-get: don't panic, c'est la vie. please try the following steps:\u001b[0m\n",
            "\u001b[33;1myou-get:   (1) Rule out any network problem.\u001b[0m\n",
            "\u001b[33;1myou-get:   (2) Make sure you-get is up-to-date.\u001b[0m\n",
            "\u001b[33;1myou-get:   (3) Check if the issue is already known, on\u001b[0m\n",
            "\u001b[33;1myou-get:         https://github.com/soimort/you-get/wiki/Known-Bugs\u001b[0m\n",
            "\u001b[33;1myou-get:         https://github.com/soimort/you-get/issues\u001b[0m\n",
            "\u001b[33;1myou-get:   (4) Run the command with '--debug' option,\u001b[0m\n",
            "\u001b[33;1myou-get:       and report this issue with the full output.\u001b[0m\n",
            "Downloading lds music - perfect love.mp4 ...\n"
          ]
        }
      ]
    },
    {
      "cell_type": "markdown",
      "source": [
        "安装**ffmpeg** 或其他类似工具来从下载的视频文件中提取音频。"
      ],
      "metadata": {
        "id": "798NAPzIwoFW"
      }
    },
    {
      "cell_type": "code",
      "source": [
        "!sudo apt-get install ffmpeg\n"
      ],
      "metadata": {
        "colab": {
          "base_uri": "https://localhost:8080/"
        },
        "id": "TrOcfuZ8wjfi",
        "outputId": "aa6a993e-b0cf-4a71-a33d-feb2b8755ec4"
      },
      "execution_count": 7,
      "outputs": [
        {
          "output_type": "stream",
          "name": "stdout",
          "text": [
            "Reading package lists... Done\n",
            "Building dependency tree... Done\n",
            "Reading state information... Done\n",
            "ffmpeg is already the newest version (7:4.4.2-0ubuntu0.22.04.1).\n",
            "0 upgraded, 0 newly installed, 0 to remove and 19 not upgraded.\n"
          ]
        }
      ]
    },
    {
      "cell_type": "code",
      "source": [
        "import subprocess\n",
        "import librosa\n",
        "import soundfile as sf\n",
        "import os\n",
        "import pandas as pd\n",
        "import glob # 用于文件路径名的模式匹配\n",
        "from datetime import datetime\n",
        "\n",
        "# def trim_audio(file_path, start_time, end_time, output_path):\n",
        "#     y, sr = librosa.load(file_path, sr=None, offset=start_time, duration=end_time - start_time)\n",
        "#     sf.write(output_path, y, sr)\n",
        "\n",
        "\n",
        "\n",
        "\n",
        "# def download_lowest_resolution_video(ytid, video_output_dir):\n",
        "#     video_url = f'https://www.youtube.com/watch?v={ytid}'\n",
        "#     try:\n",
        "#         # 使用 you-get 下载分辨率最低的视频\n",
        "#         subprocess.run(['you-get', '--no-caption', '-o', video_output_dir, '--itag=160', video_url], check=True)\n",
        "#     except subprocess.CalledProcessError as e:\n",
        "#         print(f\"Error downloading video {ytid}: {e}\")\n",
        "#         return False  # Indicate failure\n",
        "#     return True  # Indicate success\n",
        "\n",
        "\n",
        "def get_latest_file_in_dir(directory):\n",
        "    \"\"\" 获取指定目录中最新的文件 \"\"\"\n",
        "    list_of_files = glob.glob(os.path.join(directory, '*'))\n",
        "    if not list_of_files:  # 如果目录为空\n",
        "        return None\n",
        "    latest_file = max(list_of_files, key=os.path.getmtime)\n",
        "    return latest_file\n",
        "\n",
        "\n",
        "\n",
        "def download_lowest_resolution_video(ytid, video_output_dir):\n",
        "    video_url = f'https://www.youtube.com/watch?v={ytid}'\n",
        "    try:\n",
        "      # 使用 you-get 下载分辨率最低的视频\n",
        "        subprocess.run(['you-get', '--no-caption', '-o', video_output_dir, '--itag=160', video_url], check=True)\n",
        "        print (f\"Download {ytid} video.\")\n",
        "    except subprocess.CalledProcessError as e:\n",
        "        print(f\"Error downloading video {ytid}: {e}\")\n",
        "        return None\n",
        "    # 查找下载的视频文件\n",
        "    return get_latest_file_in_dir(video_output_dir)\n",
        "\n",
        "\n",
        "\n",
        "def extract_audio_from_video(video_path, output_audio_path):\n",
        "    try:\n",
        "        result = subprocess.run(['ffmpeg', '-i', video_path, '-vn', '-acodec', 'aac', output_audio_path], check=True, stdout=subprocess.PIPE, stderr=subprocess.PIPE)\n",
        "        file_name = video_path.split('/')[-1]\n",
        "        print (f\"Extract {file_name} video.\")\n",
        "    except subprocess.CalledProcessError as e:\n",
        "        print(f\"Error extracting audio from video {video_path}: {e}\\nOutput: {e.stdout.decode()}\\nError: {e.stderr.decode()}\")\n",
        "\n",
        "\n",
        "\n",
        "\n",
        "\n",
        "# 加载CSV文件\n",
        "csv_file = 'musiccaps-public.csv'\n",
        "df = pd.read_csv(csv_file)\n",
        "\n",
        "video_output_dir = './downloaded_videos'\n",
        "audio_output_dir = './downloaded_audios'\n",
        "\n",
        "# 确保输出目录存在\n",
        "os.makedirs(video_output_dir, exist_ok=True)\n",
        "os.makedirs(audio_output_dir, exist_ok=True)\n",
        "\n",
        "test_n = 0\n",
        "# 遍历CSV文件，下载视频并提取音频\n",
        "for index, row in df.iterrows():\n",
        "  if test_n >= 3:\n",
        "    break\n",
        "  ytid = row['ytid']\n",
        "  downloaded_video = download_lowest_resolution_video(ytid, video_output_dir) # 下载视频\n",
        "  if downloaded_video:\n",
        "    # video_path = os.path.join(video_output_dir, f'{ytid}.mp4')  # 假设视频文件扩展名为 .mp4，命名可能不成功\n",
        "    audio_path = os.path.join(audio_output_dir, f'{ytid}.m4a')   # 输出音频文件为 .m4a\n",
        "    extract_audio_from_video(downloaded_video, audio_path)\n",
        "  test_n += 1"
      ],
      "metadata": {
        "colab": {
          "base_uri": "https://localhost:8080/"
        },
        "id": "7euPjP2nS6eo",
        "outputId": "e7aee1b6-762a-42cb-fe2f-8f430161b6ae"
      },
      "execution_count": 21,
      "outputs": [
        {
          "output_type": "stream",
          "name": "stdout",
          "text": [
            "Download -0Gj8-vB1q4 video.\n",
            "Extract lds music - perfect love.mp4 video.\n",
            "Download -0SdAVK79lg video.\n",
            "Extract Learn an Easy Country Blues Lead Guitar Lesson - EP144.mp4 video.\n",
            "Download -0vPFx-wRRI video.\n",
            "Extract 徳永ゆうき - 「涙そうそう～指ぱっちん編～」.mp4 video.\n"
          ]
        }
      ]
    },
    {
      "cell_type": "markdown",
      "source": [
        "下载文件内容\n",
        "\n",
        "hubert_base_ls960.pt 文件是一个预训练的模型权重文件，用于 **HuBERT （Hidden Unit BERT）模型**。HuBERT 是由Facebook AI 研究团队开发的一种**自监督学习的语音识别模型**。它是基于 BERT 架构的，专门针对语音处理任务进行了优化。"
      ],
      "metadata": {
        "id": "RGx97LWZP0l3"
      }
    },
    {
      "cell_type": "code",
      "source": [
        "import requests\n",
        "\n",
        "def download_file(url, filename):\n",
        "    response = requests.get(url)\n",
        "    response.raise_for_status()  # 检查请求是否成功\n",
        "\n",
        "    with open(filename, 'wb') as f:\n",
        "        f.write(response.content)\n",
        "\n",
        "# 设置文件的URL和你想要保存的文件名\n",
        "file_url = \"https://dl.fbaipublicfiles.com/hubert/hubert_base_ls960.pt\"\n",
        "file_name = \"hubert_base_ls960.pt\"\n",
        "\n",
        "# 下载文件\n",
        "download_file(file_url, file_name)\n",
        "\n",
        "# 设置文件的URL和你想要保存的文件名\n",
        "file_url = \"https://dl.fbaipublicfiles.com/hubert/hubert_base_ls960_L9_km500.bin\"\n",
        "file_name = \"hubert_base_ls960_L9_km500.bin\"\n",
        "\n",
        "# 下载文件\n",
        "download_file(file_url, file_name)\n",
        "\n"
      ],
      "metadata": {
        "id": "1zRjmvmDzOir"
      },
      "execution_count": 26,
      "outputs": []
    },
    {
      "cell_type": "markdown",
      "source": [
        "SemanticTransformerTrainer（这可能是一个音频处理或自然语言处理相关的训练器）"
      ],
      "metadata": {
        "id": "HsF5TTf0QoVW"
      }
    },
    {
      "cell_type": "code",
      "source": [
        "# 不是我们要的音频链接\n",
        "# import requests\n",
        "\n",
        "# url = \"https://github.com/hsfzxjy/models.storage/releases/download/HRNet-OCR/hrnet_cs_8090_torch11.pth\"\n",
        "# response = requests.get(url)\n",
        "# response.raise_for_status()\n",
        "\n",
        "# file_name = url.split('/')[-1]\n",
        "\n",
        "# with open(file_name, 'wb') as f:\n",
        "#   f.write(response.content)\n",
        "\n",
        "\n",
        "\n",
        "\n"
      ],
      "metadata": {
        "id": "oOozQ_E_yPc2"
      },
      "execution_count": 6,
      "outputs": []
    },
    {
      "cell_type": "markdown",
      "source": [
        "To train (or finetune) the three transformers that are a part of `AudioLM`, you simply follow the instructions over at `audiolm-pytorch` for training, but pass in the `MulanEmbedQuantizer` instance to the training classes under the keyword `audio_conditioner`\n",
        "\n",
        "ex. `SemanticTransformerTrainer`"
      ],
      "metadata": {
        "id": "yk7RkyYnRrwe"
      }
    },
    {
      "cell_type": "code",
      "source": [
        "import torch\n",
        "from audiolm_pytorch import HubertWithKmeans, SemanticTransformer, SemanticTransformerTrainer\n",
        "\n",
        "wav2vec = HubertWithKmeans(\n",
        "    checkpoint_path = 'hubert_base_ls960.pt',\n",
        "    kmeans_path = 'hubert_base_ls960_L9_km500.bin'\n",
        ")\n",
        "\n",
        "\n",
        "semantic_transformer = SemanticTransformer(\n",
        "    num_semantic_tokens = wav2vec.codebook_size,\n",
        "    dim = 1024,\n",
        "    depth = 6,\n",
        "    audio_text_condition = True      # this must be set to True (same for CoarseTransformer and FineTransformers)\n",
        ").cuda()\n",
        "\n",
        "trainer = SemanticTransformerTrainer(\n",
        "    transformer = semantic_transformer,\n",
        "    wav2vec = wav2vec,\n",
        "    audio_conditioner = quantizer,   # pass in the MulanEmbedQuantizer instance above\n",
        "    folder ='/content/downloaded_audios',\n",
        "    batch_size = 1,\n",
        "    data_max_length = 320 * 32,\n",
        "    num_train_steps = 1\n",
        ")\n",
        "\n",
        "trainer.train()"
      ],
      "metadata": {
        "colab": {
          "base_uri": "https://localhost:8080/",
          "height": 442,
          "referenced_widgets": [
            "008e0646895c475f9d7722d63aa574dd",
            "1e9ceca20c8742a5a062088c3cf46c48",
            "db962659460442bcaf97571df3027d03",
            "4bf7c745bf4540169db8de8e833659d0",
            "42ab567ac2eb4f10a90c85427f9e7b29",
            "499e06ef050e4c108fe8402f9741816c",
            "6bf59b8e4d8a47e7ad326a9747f6a080",
            "5779d55e8f4847579c50e33939c9797e",
            "f1e55be6d13e42d7961aae0f875098c0",
            "325e1166db12413e9d813cc2395c7b22",
            "15023960d46a422ca99cd4ae1be0ecf0"
          ]
        },
        "id": "ShVM60ELvHnh",
        "outputId": "fccb7b0f-a796-4b4c-e71e-4c4875b70d3a"
      },
      "execution_count": 27,
      "outputs": [
        {
          "output_type": "display_data",
          "data": {
            "text/plain": [
              "Downloading (…)lve/main/config.json:   0%|          | 0.00/605 [00:00<?, ?B/s]"
            ],
            "application/vnd.jupyter.widget-view+json": {
              "version_major": 2,
              "version_minor": 0,
              "model_id": "008e0646895c475f9d7722d63aa574dd"
            }
          },
          "metadata": {}
        },
        {
          "output_type": "error",
          "ename": "RuntimeError",
          "evalue": "ignored",
          "traceback": [
            "\u001b[0;31m---------------------------------------------------------------------------\u001b[0m",
            "\u001b[0;31mRuntimeError\u001b[0m                              Traceback (most recent call last)",
            "\u001b[0;32m<ipython-input-27-fe6e07e1cf93>\u001b[0m in \u001b[0;36m<cell line: 10>\u001b[0;34m()\u001b[0m\n\u001b[1;32m     13\u001b[0m     \u001b[0mdepth\u001b[0m \u001b[0;34m=\u001b[0m \u001b[0;36m6\u001b[0m\u001b[0;34m,\u001b[0m\u001b[0;34m\u001b[0m\u001b[0;34m\u001b[0m\u001b[0m\n\u001b[1;32m     14\u001b[0m     \u001b[0maudio_text_condition\u001b[0m \u001b[0;34m=\u001b[0m \u001b[0;32mTrue\u001b[0m      \u001b[0;31m# this must be set to True (same for CoarseTransformer and FineTransformers)\u001b[0m\u001b[0;34m\u001b[0m\u001b[0;34m\u001b[0m\u001b[0m\n\u001b[0;32m---> 15\u001b[0;31m ).cuda()\n\u001b[0m\u001b[1;32m     16\u001b[0m \u001b[0;34m\u001b[0m\u001b[0m\n\u001b[1;32m     17\u001b[0m trainer = SemanticTransformerTrainer(\n",
            "\u001b[0;32m/usr/local/lib/python3.10/dist-packages/torch/nn/modules/module.py\u001b[0m in \u001b[0;36mcuda\u001b[0;34m(self, device)\u001b[0m\n\u001b[1;32m    916\u001b[0m             \u001b[0mModule\u001b[0m\u001b[0;34m:\u001b[0m \u001b[0mself\u001b[0m\u001b[0;34m\u001b[0m\u001b[0;34m\u001b[0m\u001b[0m\n\u001b[1;32m    917\u001b[0m         \"\"\"\n\u001b[0;32m--> 918\u001b[0;31m         \u001b[0;32mreturn\u001b[0m \u001b[0mself\u001b[0m\u001b[0;34m.\u001b[0m\u001b[0m_apply\u001b[0m\u001b[0;34m(\u001b[0m\u001b[0;32mlambda\u001b[0m \u001b[0mt\u001b[0m\u001b[0;34m:\u001b[0m \u001b[0mt\u001b[0m\u001b[0;34m.\u001b[0m\u001b[0mcuda\u001b[0m\u001b[0;34m(\u001b[0m\u001b[0mdevice\u001b[0m\u001b[0;34m)\u001b[0m\u001b[0;34m)\u001b[0m\u001b[0;34m\u001b[0m\u001b[0;34m\u001b[0m\u001b[0m\n\u001b[0m\u001b[1;32m    919\u001b[0m \u001b[0;34m\u001b[0m\u001b[0m\n\u001b[1;32m    920\u001b[0m     \u001b[0;32mdef\u001b[0m \u001b[0mipu\u001b[0m\u001b[0;34m(\u001b[0m\u001b[0mself\u001b[0m\u001b[0;34m:\u001b[0m \u001b[0mT\u001b[0m\u001b[0;34m,\u001b[0m \u001b[0mdevice\u001b[0m\u001b[0;34m:\u001b[0m \u001b[0mOptional\u001b[0m\u001b[0;34m[\u001b[0m\u001b[0mUnion\u001b[0m\u001b[0;34m[\u001b[0m\u001b[0mint\u001b[0m\u001b[0;34m,\u001b[0m \u001b[0mdevice\u001b[0m\u001b[0;34m]\u001b[0m\u001b[0;34m]\u001b[0m \u001b[0;34m=\u001b[0m \u001b[0;32mNone\u001b[0m\u001b[0;34m)\u001b[0m \u001b[0;34m->\u001b[0m \u001b[0mT\u001b[0m\u001b[0;34m:\u001b[0m\u001b[0;34m\u001b[0m\u001b[0;34m\u001b[0m\u001b[0m\n",
            "\u001b[0;32m/usr/local/lib/python3.10/dist-packages/torch/nn/modules/module.py\u001b[0m in \u001b[0;36m_apply\u001b[0;34m(self, fn, recurse)\u001b[0m\n\u001b[1;32m    808\u001b[0m         \u001b[0;32mif\u001b[0m \u001b[0mrecurse\u001b[0m\u001b[0;34m:\u001b[0m\u001b[0;34m\u001b[0m\u001b[0;34m\u001b[0m\u001b[0m\n\u001b[1;32m    809\u001b[0m             \u001b[0;32mfor\u001b[0m \u001b[0mmodule\u001b[0m \u001b[0;32min\u001b[0m \u001b[0mself\u001b[0m\u001b[0;34m.\u001b[0m\u001b[0mchildren\u001b[0m\u001b[0;34m(\u001b[0m\u001b[0;34m)\u001b[0m\u001b[0;34m:\u001b[0m\u001b[0;34m\u001b[0m\u001b[0;34m\u001b[0m\u001b[0m\n\u001b[0;32m--> 810\u001b[0;31m                 \u001b[0mmodule\u001b[0m\u001b[0;34m.\u001b[0m\u001b[0m_apply\u001b[0m\u001b[0;34m(\u001b[0m\u001b[0mfn\u001b[0m\u001b[0;34m)\u001b[0m\u001b[0;34m\u001b[0m\u001b[0;34m\u001b[0m\u001b[0m\n\u001b[0m\u001b[1;32m    811\u001b[0m \u001b[0;34m\u001b[0m\u001b[0m\n\u001b[1;32m    812\u001b[0m         \u001b[0;32mdef\u001b[0m \u001b[0mcompute_should_use_set_data\u001b[0m\u001b[0;34m(\u001b[0m\u001b[0mtensor\u001b[0m\u001b[0;34m,\u001b[0m \u001b[0mtensor_applied\u001b[0m\u001b[0;34m)\u001b[0m\u001b[0;34m:\u001b[0m\u001b[0;34m\u001b[0m\u001b[0;34m\u001b[0m\u001b[0m\n",
            "\u001b[0;32m/usr/local/lib/python3.10/dist-packages/torch/nn/modules/module.py\u001b[0m in \u001b[0;36m_apply\u001b[0;34m(self, fn, recurse)\u001b[0m\n\u001b[1;32m    831\u001b[0m             \u001b[0;31m# `with torch.no_grad():`\u001b[0m\u001b[0;34m\u001b[0m\u001b[0;34m\u001b[0m\u001b[0m\n\u001b[1;32m    832\u001b[0m             \u001b[0;32mwith\u001b[0m \u001b[0mtorch\u001b[0m\u001b[0;34m.\u001b[0m\u001b[0mno_grad\u001b[0m\u001b[0;34m(\u001b[0m\u001b[0;34m)\u001b[0m\u001b[0;34m:\u001b[0m\u001b[0;34m\u001b[0m\u001b[0;34m\u001b[0m\u001b[0m\n\u001b[0;32m--> 833\u001b[0;31m                 \u001b[0mparam_applied\u001b[0m \u001b[0;34m=\u001b[0m \u001b[0mfn\u001b[0m\u001b[0;34m(\u001b[0m\u001b[0mparam\u001b[0m\u001b[0;34m)\u001b[0m\u001b[0;34m\u001b[0m\u001b[0;34m\u001b[0m\u001b[0m\n\u001b[0m\u001b[1;32m    834\u001b[0m             \u001b[0mshould_use_set_data\u001b[0m \u001b[0;34m=\u001b[0m \u001b[0mcompute_should_use_set_data\u001b[0m\u001b[0;34m(\u001b[0m\u001b[0mparam\u001b[0m\u001b[0;34m,\u001b[0m \u001b[0mparam_applied\u001b[0m\u001b[0;34m)\u001b[0m\u001b[0;34m\u001b[0m\u001b[0;34m\u001b[0m\u001b[0m\n\u001b[1;32m    835\u001b[0m             \u001b[0;32mif\u001b[0m \u001b[0mshould_use_set_data\u001b[0m\u001b[0;34m:\u001b[0m\u001b[0;34m\u001b[0m\u001b[0;34m\u001b[0m\u001b[0m\n",
            "\u001b[0;32m/usr/local/lib/python3.10/dist-packages/torch/nn/modules/module.py\u001b[0m in \u001b[0;36m<lambda>\u001b[0;34m(t)\u001b[0m\n\u001b[1;32m    916\u001b[0m             \u001b[0mModule\u001b[0m\u001b[0;34m:\u001b[0m \u001b[0mself\u001b[0m\u001b[0;34m\u001b[0m\u001b[0;34m\u001b[0m\u001b[0m\n\u001b[1;32m    917\u001b[0m         \"\"\"\n\u001b[0;32m--> 918\u001b[0;31m         \u001b[0;32mreturn\u001b[0m \u001b[0mself\u001b[0m\u001b[0;34m.\u001b[0m\u001b[0m_apply\u001b[0m\u001b[0;34m(\u001b[0m\u001b[0;32mlambda\u001b[0m \u001b[0mt\u001b[0m\u001b[0;34m:\u001b[0m \u001b[0mt\u001b[0m\u001b[0;34m.\u001b[0m\u001b[0mcuda\u001b[0m\u001b[0;34m(\u001b[0m\u001b[0mdevice\u001b[0m\u001b[0;34m)\u001b[0m\u001b[0;34m)\u001b[0m\u001b[0;34m\u001b[0m\u001b[0;34m\u001b[0m\u001b[0m\n\u001b[0m\u001b[1;32m    919\u001b[0m \u001b[0;34m\u001b[0m\u001b[0m\n\u001b[1;32m    920\u001b[0m     \u001b[0;32mdef\u001b[0m \u001b[0mipu\u001b[0m\u001b[0;34m(\u001b[0m\u001b[0mself\u001b[0m\u001b[0;34m:\u001b[0m \u001b[0mT\u001b[0m\u001b[0;34m,\u001b[0m \u001b[0mdevice\u001b[0m\u001b[0;34m:\u001b[0m \u001b[0mOptional\u001b[0m\u001b[0;34m[\u001b[0m\u001b[0mUnion\u001b[0m\u001b[0;34m[\u001b[0m\u001b[0mint\u001b[0m\u001b[0;34m,\u001b[0m \u001b[0mdevice\u001b[0m\u001b[0;34m]\u001b[0m\u001b[0;34m]\u001b[0m \u001b[0;34m=\u001b[0m \u001b[0;32mNone\u001b[0m\u001b[0;34m)\u001b[0m \u001b[0;34m->\u001b[0m \u001b[0mT\u001b[0m\u001b[0;34m:\u001b[0m\u001b[0;34m\u001b[0m\u001b[0;34m\u001b[0m\u001b[0m\n",
            "\u001b[0;32m/usr/local/lib/python3.10/dist-packages/torch/cuda/__init__.py\u001b[0m in \u001b[0;36m_lazy_init\u001b[0;34m()\u001b[0m\n\u001b[1;32m    296\u001b[0m         \u001b[0;32mif\u001b[0m \u001b[0;34m\"CUDA_MODULE_LOADING\"\u001b[0m \u001b[0;32mnot\u001b[0m \u001b[0;32min\u001b[0m \u001b[0mos\u001b[0m\u001b[0;34m.\u001b[0m\u001b[0menviron\u001b[0m\u001b[0;34m:\u001b[0m\u001b[0;34m\u001b[0m\u001b[0;34m\u001b[0m\u001b[0m\n\u001b[1;32m    297\u001b[0m             \u001b[0mos\u001b[0m\u001b[0;34m.\u001b[0m\u001b[0menviron\u001b[0m\u001b[0;34m[\u001b[0m\u001b[0;34m\"CUDA_MODULE_LOADING\"\u001b[0m\u001b[0;34m]\u001b[0m \u001b[0;34m=\u001b[0m \u001b[0;34m\"LAZY\"\u001b[0m\u001b[0;34m\u001b[0m\u001b[0;34m\u001b[0m\u001b[0m\n\u001b[0;32m--> 298\u001b[0;31m         \u001b[0mtorch\u001b[0m\u001b[0;34m.\u001b[0m\u001b[0m_C\u001b[0m\u001b[0;34m.\u001b[0m\u001b[0m_cuda_init\u001b[0m\u001b[0;34m(\u001b[0m\u001b[0;34m)\u001b[0m\u001b[0;34m\u001b[0m\u001b[0;34m\u001b[0m\u001b[0m\n\u001b[0m\u001b[1;32m    299\u001b[0m         \u001b[0;31m# Some of the queued calls may reentrantly call _lazy_init();\u001b[0m\u001b[0;34m\u001b[0m\u001b[0;34m\u001b[0m\u001b[0m\n\u001b[1;32m    300\u001b[0m         \u001b[0;31m# we need to just return without initializing in that case.\u001b[0m\u001b[0;34m\u001b[0m\u001b[0;34m\u001b[0m\u001b[0m\n",
            "\u001b[0;31mRuntimeError\u001b[0m: Found no NVIDIA driver on your system. Please check that you have an NVIDIA GPU and installed a driver from http://www.nvidia.com/Download/index.aspx"
          ]
        }
      ]
    },
    {
      "cell_type": "code",
      "source": [
        "# you need the trained AudioLM (audio_lm) from above\n",
        "# with the MulanEmbedQuantizer (mulan_embed_quantizer)\n",
        "\n",
        "from musiclm_pytorch import MusicLM\n",
        "\n",
        "musiclm = MusicLM(\n",
        "    audio_lm = audio_lm,                 # `AudioLM` from https://github.com/lucidrains/audiolm-pytorch\n",
        "    mulan_embed_quantizer = quantizer    # the `MuLaNEmbedQuantizer` from above\n",
        ")\n",
        "\n",
        "music = musiclm('the crystalline sounds of the piano in a ballroom', num_samples = 4) # sample 4 and pick the top match with mulan"
      ],
      "metadata": {
        "id": "yvofl3r6vJ3f"
      },
      "execution_count": null,
      "outputs": []
    }
  ]
}